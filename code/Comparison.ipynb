{
 "cells": [
  {
   "cell_type": "markdown",
   "id": "ada2b809-adc6-49b1-adc4-9996800b3356",
   "metadata": {},
   "source": [
    "# Classification Problem on Urban Tree Dataset"
   ]
  },
  {
   "cell_type": "markdown",
   "id": "124f50ae-190c-46b4-a5c2-7c54d9419047",
   "metadata": {},
   "source": [
    "## PreProcessing"
   ]
  },
  {
   "cell_type": "markdown",
   "id": "e962ffc0-2f5b-4575-b18f-5356b27dcf82",
   "metadata": {},
   "source": [
    "### Importing the libraries"
   ]
  },
  {
   "cell_type": "code",
   "execution_count": 1,
   "id": "7cae2a6a-9213-4cb3-ac1c-8a70cce0230f",
   "metadata": {},
   "outputs": [],
   "source": [
    "import numpy as np\n",
    "import pandas as pd\n",
    "import matplotlib.pyplot as plt\n",
    "%matplotlib inline\n",
    "import time\n",
    "from sklearn.compose import ColumnTransformer\n",
    "from sklearn.impute import SimpleImputer, KNNImputer\n",
    "from sklearn.pipeline import Pipeline\n",
    "from sklearn.preprocessing import StandardScaler, OneHotEncoder, LabelEncoder\n",
    "from sklearn.feature_selection import SelectFromModel\n",
    "from sklearn.model_selection import train_test_split, GridSearchCV, RepeatedStratifiedKFold\n",
    "from sklearn.multiclass import OneVsRestClassifier\n",
    "from sklearn.linear_model import LogisticRegression\n",
    "from sklearn.svm import SVC\n",
    "from sklearn.metrics import f1_score, roc_curve, auc,confusion_matrix, RocCurveDisplay\n",
    "from sklearn.metrics import confusion_matrix, accuracy_score, ConfusionMatrixDisplay"
   ]
  },
  {
   "cell_type": "markdown",
   "id": "a75ef9d8-40e1-4327-afa5-2384cee43188",
   "metadata": {},
   "source": [
    "### Importing the Data set, Cleaning Data and Handling Missing Values"
   ]
  },
  {
   "cell_type": "code",
   "execution_count": 2,
   "id": "af1caba9-bcda-4d58-98f0-0e697407c7be",
   "metadata": {},
   "outputs": [],
   "source": [
    "df = pd.read_csv('sgl-arbres-urbains-wgs84.csv')"
   ]
  },
  {
   "cell_type": "code",
   "execution_count": 3,
   "id": "1c77eb32-4ab7-455d-82ac-716ec060a084",
   "metadata": {},
   "outputs": [],
   "source": [
    "df= df.drop([\"ID_ARBRE\", \"commune\", \"controle\", \"insecte_collet\", \"insecte_tronc\", \"insecte_houppier\",\"circonference (en cm)\", \"observation_collet\", \"observation_tronc\", \"observation_houppier\"], axis=1 )\n",
    "#Handling Missing Values\n",
    "mode_cote_voirie=df.cote_voirie.mode()[0]\n",
    "mode_espece_arbre=df.espece_arbre.mode()[0]\n",
    "mode_situation=df.situation.mode()[0]\n",
    "mode_plaie_collet=df.plaie_collet.mode()[0]\n",
    "mode_champignon_tronc=df.champignon_tronc.mode()[0]\n",
    "mode_fissure_tronc=df.fissure_tronc.mode()[0]\n",
    "mode_rejet_tronc=df.rejet_tronc.mode()[0]\n",
    "mode_plaie_tronc=df.plaie_tronc.mode()[0]\n",
    "mode_champignon_houppier=df.champignon_houppier.mode()[0]\n",
    "mode_fissure_houppier=df.fissure_houppier.mode()[0]\n",
    "mode_ecorce_incluse_houppier=df.ecorce_incluse_houppier.mode()[0]\n",
    "mode_bois_mort_houppier=df.bois_mort_houppier.mode()[0]\n",
    "mode_plaie_houppier=df.plaie_houppier.mode()[0]\n",
    "mode_contrainte=df.contrainte.mode()[0]\n",
    "mode_classification_diagnostic=df.classification_diagnostic.mode()[0]\n",
    "median_esperance_maintien=df.esperance_maintien.median()\n",
    "\n",
    "df=df.fillna({\"cote_voirie\": mode_cote_voirie, \"espece_arbre\": mode_espece_arbre, \"situation\": mode_situation,\n",
    "            \"plaie_collet\": mode_plaie_collet, \"champignon_tronc\": mode_champignon_tronc,\n",
    "            \"fissure_tronc\": mode_fissure_tronc, \"rejet_tronc\": mode_rejet_tronc, \"plaie_tronc\": mode_plaie_tronc, \n",
    "              \"champignon_houppier\": mode_champignon_houppier, \"fissure_houppier\":mode_fissure_houppier, \"ecorce_incluse_houppier\": mode_ecorce_incluse_houppier,\n",
    "            \"bois_mort_houppier\": mode_bois_mort_houppier, \"plaie_houppier\": mode_plaie_houppier, \"contrainte\": mode_contrainte,\n",
    "            \"classification_diagnostic\": mode_classification_diagnostic, \"esperance_maintien\": median_esperance_maintien})"
   ]
  },
  {
   "cell_type": "code",
   "execution_count": 4,
   "id": "075e801c-0894-477e-b71b-36c356f8930e",
   "metadata": {},
   "outputs": [
    {
     "data": {
      "text/html": [
       "<div>\n",
       "<style scoped>\n",
       "    .dataframe tbody tr th:only-of-type {\n",
       "        vertical-align: middle;\n",
       "    }\n",
       "\n",
       "    .dataframe tbody tr th {\n",
       "        vertical-align: top;\n",
       "    }\n",
       "\n",
       "    .dataframe thead th {\n",
       "        text-align: right;\n",
       "    }\n",
       "</style>\n",
       "<table border=\"1\" class=\"dataframe\">\n",
       "  <thead>\n",
       "    <tr style=\"text-align: right;\">\n",
       "      <th></th>\n",
       "      <th>quartier</th>\n",
       "      <th>site</th>\n",
       "      <th>cote_voirie</th>\n",
       "      <th>matricule_arbre</th>\n",
       "      <th>genre_arbre</th>\n",
       "      <th>espece_arbre</th>\n",
       "      <th>situation</th>\n",
       "      <th>type_sol</th>\n",
       "      <th>surf_permeable</th>\n",
       "      <th>date_plantation</th>\n",
       "      <th>...</th>\n",
       "      <th>canisse_arbre</th>\n",
       "      <th>plaie_tronc</th>\n",
       "      <th>champignon_houppier</th>\n",
       "      <th>fissure_houppier</th>\n",
       "      <th>ecorce_incluse_houppier</th>\n",
       "      <th>bois_mort_houppier</th>\n",
       "      <th>plaie_houppier</th>\n",
       "      <th>esperance_maintien</th>\n",
       "      <th>contrainte</th>\n",
       "      <th>classification_diagnostic</th>\n",
       "    </tr>\n",
       "  </thead>\n",
       "  <tbody>\n",
       "    <tr>\n",
       "      <th>0</th>\n",
       "      <td>Quartier 2 - Alsace - Pereire</td>\n",
       "      <td>Carrefour RN13</td>\n",
       "      <td>Impair</td>\n",
       "      <td>7</td>\n",
       "      <td>Betula</td>\n",
       "      <td>Alba</td>\n",
       "      <td>Groupe</td>\n",
       "      <td>P</td>\n",
       "      <td>5.0</td>\n",
       "      <td>2000</td>\n",
       "      <td>...</td>\n",
       "      <td>Non</td>\n",
       "      <td>TPLNC</td>\n",
       "      <td>Non</td>\n",
       "      <td>HPF</td>\n",
       "      <td>Non</td>\n",
       "      <td>HBMI</td>\n",
       "      <td>HPLC</td>\n",
       "      <td>1.0</td>\n",
       "      <td>Non</td>\n",
       "      <td>C2</td>\n",
       "    </tr>\n",
       "    <tr>\n",
       "      <th>1</th>\n",
       "      <td>Quartier 2 - Alsace - Pereire</td>\n",
       "      <td>Carrefour RN13</td>\n",
       "      <td>Impair</td>\n",
       "      <td>8</td>\n",
       "      <td>Betula</td>\n",
       "      <td>Alba</td>\n",
       "      <td>Groupe</td>\n",
       "      <td>P</td>\n",
       "      <td>5.0</td>\n",
       "      <td>2000</td>\n",
       "      <td>...</td>\n",
       "      <td>Non</td>\n",
       "      <td>TPLC</td>\n",
       "      <td>Non</td>\n",
       "      <td>HPF</td>\n",
       "      <td>Non</td>\n",
       "      <td>HBMI</td>\n",
       "      <td>HPLC</td>\n",
       "      <td>1.0</td>\n",
       "      <td>Non</td>\n",
       "      <td>C2</td>\n",
       "    </tr>\n",
       "    <tr>\n",
       "      <th>2</th>\n",
       "      <td>Quartier 2 - Alsace - Pereire</td>\n",
       "      <td>Carrefour RN13</td>\n",
       "      <td>Impair</td>\n",
       "      <td>9</td>\n",
       "      <td>Betula</td>\n",
       "      <td>Alba</td>\n",
       "      <td>Groupe</td>\n",
       "      <td>P</td>\n",
       "      <td>5.0</td>\n",
       "      <td>2000</td>\n",
       "      <td>...</td>\n",
       "      <td>Non</td>\n",
       "      <td>TPLCF</td>\n",
       "      <td>Non</td>\n",
       "      <td>HPF</td>\n",
       "      <td>Non</td>\n",
       "      <td>HBMI</td>\n",
       "      <td>HPLC</td>\n",
       "      <td>1.0</td>\n",
       "      <td>Non</td>\n",
       "      <td>C2</td>\n",
       "    </tr>\n",
       "    <tr>\n",
       "      <th>3</th>\n",
       "      <td>Quartier 2 - Alsace - Pereire</td>\n",
       "      <td>Carrefour RN13</td>\n",
       "      <td>Impair</td>\n",
       "      <td>1</td>\n",
       "      <td>Carpinus</td>\n",
       "      <td>Betulus - L. - Fastigiata</td>\n",
       "      <td>Bosquet</td>\n",
       "      <td>G</td>\n",
       "      <td>100.0</td>\n",
       "      <td>1980</td>\n",
       "      <td>...</td>\n",
       "      <td>Non</td>\n",
       "      <td>TPLS</td>\n",
       "      <td>Non</td>\n",
       "      <td>HPF</td>\n",
       "      <td>Non</td>\n",
       "      <td>HBMI</td>\n",
       "      <td>HPLS</td>\n",
       "      <td>1.0</td>\n",
       "      <td>Non</td>\n",
       "      <td>C2</td>\n",
       "    </tr>\n",
       "    <tr>\n",
       "      <th>4</th>\n",
       "      <td>Quartier 2 - Alsace - Pereire</td>\n",
       "      <td>Carrefour RN13</td>\n",
       "      <td>Impair</td>\n",
       "      <td>2</td>\n",
       "      <td>Carpinus</td>\n",
       "      <td>Betulus - L. - Fastigiata</td>\n",
       "      <td>Bosquet</td>\n",
       "      <td>G</td>\n",
       "      <td>100.0</td>\n",
       "      <td>1980</td>\n",
       "      <td>...</td>\n",
       "      <td>Non</td>\n",
       "      <td>TPLS</td>\n",
       "      <td>Non</td>\n",
       "      <td>HPF</td>\n",
       "      <td>Non</td>\n",
       "      <td>HBMI</td>\n",
       "      <td>HPLS</td>\n",
       "      <td>1.0</td>\n",
       "      <td>Non</td>\n",
       "      <td>C2</td>\n",
       "    </tr>\n",
       "  </tbody>\n",
       "</table>\n",
       "<p>5 rows × 33 columns</p>\n",
       "</div>"
      ],
      "text/plain": [
       "                        quartier            site cote_voirie  matricule_arbre  \\\n",
       "0  Quartier 2 - Alsace - Pereire  Carrefour RN13      Impair                7   \n",
       "1  Quartier 2 - Alsace - Pereire  Carrefour RN13      Impair                8   \n",
       "2  Quartier 2 - Alsace - Pereire  Carrefour RN13      Impair                9   \n",
       "3  Quartier 2 - Alsace - Pereire  Carrefour RN13      Impair                1   \n",
       "4  Quartier 2 - Alsace - Pereire  Carrefour RN13      Impair                2   \n",
       "\n",
       "  genre_arbre                espece_arbre situation type_sol  surf_permeable  \\\n",
       "0      Betula                        Alba    Groupe        P             5.0   \n",
       "1      Betula                        Alba    Groupe        P             5.0   \n",
       "2      Betula                        Alba    Groupe        P             5.0   \n",
       "3    Carpinus   Betulus - L. - Fastigiata   Bosquet        G           100.0   \n",
       "4    Carpinus   Betulus - L. - Fastigiata   Bosquet        G           100.0   \n",
       "\n",
       "   date_plantation  ... canisse_arbre  plaie_tronc champignon_houppier  \\\n",
       "0             2000  ...           Non        TPLNC                 Non   \n",
       "1             2000  ...           Non         TPLC                 Non   \n",
       "2             2000  ...           Non        TPLCF                 Non   \n",
       "3             1980  ...           Non         TPLS                 Non   \n",
       "4             1980  ...           Non         TPLS                 Non   \n",
       "\n",
       "   fissure_houppier ecorce_incluse_houppier bois_mort_houppier plaie_houppier  \\\n",
       "0              HPF                      Non              HBMI            HPLC   \n",
       "1              HPF                      Non              HBMI            HPLC   \n",
       "2              HPF                      Non              HBMI            HPLC   \n",
       "3              HPF                      Non              HBMI            HPLS   \n",
       "4              HPF                      Non              HBMI            HPLS   \n",
       "\n",
       "  esperance_maintien contrainte classification_diagnostic  \n",
       "0                1.0        Non                        C2  \n",
       "1                1.0        Non                        C2  \n",
       "2                1.0        Non                        C2  \n",
       "3                1.0        Non                        C2  \n",
       "4                1.0        Non                        C2  \n",
       "\n",
       "[5 rows x 33 columns]"
      ]
     },
     "execution_count": 4,
     "metadata": {},
     "output_type": "execute_result"
    }
   ],
   "source": [
    "df.head()"
   ]
  },
  {
   "cell_type": "code",
   "execution_count": 5,
   "id": "9e30976a-0a79-4392-85d7-c6a53643a7b8",
   "metadata": {},
   "outputs": [
    {
     "name": "stdout",
     "output_type": "stream",
     "text": [
      "<class 'pandas.core.frame.DataFrame'>\n",
      "RangeIndex: 709 entries, 0 to 708\n",
      "Data columns (total 33 columns):\n",
      " #   Column                     Non-Null Count  Dtype  \n",
      "---  ------                     --------------  -----  \n",
      " 0   quartier                   709 non-null    object \n",
      " 1   site                       709 non-null    object \n",
      " 2   cote_voirie                709 non-null    object \n",
      " 3   contrainte                 709 non-null    object \n",
      " 4   genre_arbre                709 non-null    object \n",
      " 5   espece_arbre               709 non-null    object \n",
      " 6   situation                  709 non-null    object \n",
      " 7   type_sol                   709 non-null    object \n",
      " 8   plaie_houppier             709 non-null    object \n",
      " 9   bois_mort_houppier         709 non-null    object \n",
      " 10  classe_age                 709 non-null    object \n",
      " 11  ecorce_incluse_houppier    709 non-null    object \n",
      " 12  classe_hauteur             709 non-null    object \n",
      " 13  fissure_houppier           709 non-null    object \n",
      " 14  classe_circonference       709 non-null    object \n",
      " 15  port_arbre                 709 non-null    object \n",
      " 16  vigueur_pousse             709 non-null    object \n",
      " 17  champignon_collet          709 non-null    object \n",
      " 18  plaie_collet               709 non-null    object \n",
      " 19  champignon_tronc           709 non-null    object \n",
      " 20  fissure_tronc              709 non-null    object \n",
      " 21  rejet_tronc                709 non-null    object \n",
      " 22  tuteurage_arbre            709 non-null    object \n",
      " 23  canisse_arbre              709 non-null    object \n",
      " 24  plaie_tronc                709 non-null    object \n",
      " 25  champignon_houppier        709 non-null    object \n",
      " 26  diametre                   709 non-null    float64\n",
      " 27  hauteur                    709 non-null    int64  \n",
      " 28  date_plantation            709 non-null    int64  \n",
      " 29  surf_permeable             709 non-null    float64\n",
      " 30  esperance_maintien         709 non-null    float64\n",
      " 31  matricule_arbre            709 non-null    int64  \n",
      " 32  classification_diagnostic  709 non-null    object \n",
      "dtypes: float64(3), int64(3), object(27)\n",
      "memory usage: 182.9+ KB\n"
     ]
    }
   ],
   "source": [
    "#define function to swap columns so that all numerical data will be in the end columns\n",
    "def swap_columns(df, col1, col2):\n",
    "    col_list = list(df.columns)\n",
    "    a, b = col_list.index(col1), col_list.index(col2)\n",
    "    col_list[b], col_list[a] = col_list[a], col_list[b]\n",
    "    df = df[col_list]\n",
    "    return df\n",
    "\n",
    "#swaping columns\n",
    "df = swap_columns(df, 'matricule_arbre', 'contrainte')\n",
    "df = swap_columns(df, 'surf_permeable', 'plaie_houppier')\n",
    "df = swap_columns(df, 'date_plantation', 'bois_mort_houppier')\n",
    "df = swap_columns(df, 'hauteur', 'ecorce_incluse_houppier')\n",
    "df = swap_columns(df, 'diametre', 'fissure_houppier')\n",
    "\n",
    "df.info()"
   ]
  },
  {
   "cell_type": "code",
   "execution_count": 6,
   "id": "166dc29c-de2c-421d-aee7-1aff088fcc80",
   "metadata": {},
   "outputs": [
    {
     "data": {
      "image/png": "[encoded data removed]",
      "text/plain": [
       "<Figure size 1440x1008 with 6 Axes>"
      ]
     },
     "metadata": {
      "needs_background": "light"
     },
     "output_type": "display_data"
    }
   ],
   "source": [
    "_ = df.hist(figsize=(20, 14))"
   ]
  },
  {
   "cell_type": "code",
   "execution_count": 7,
   "id": "5fcc0d37-6efe-427c-b33f-edc8a48954fc",
   "metadata": {},
   "outputs": [
    {
     "data": {
      "text/html": [
       "<div>\n",
       "<style scoped>\n",
       "    .dataframe tbody tr th:only-of-type {\n",
       "        vertical-align: middle;\n",
       "    }\n",
       "\n",
       "    .dataframe tbody tr th {\n",
       "        vertical-align: top;\n",
       "    }\n",
       "\n",
       "    .dataframe thead th {\n",
       "        text-align: right;\n",
       "    }\n",
       "</style>\n",
       "<table border=\"1\" class=\"dataframe\">\n",
       "  <thead>\n",
       "    <tr style=\"text-align: right;\">\n",
       "      <th></th>\n",
       "      <th>diametre</th>\n",
       "      <th>hauteur</th>\n",
       "      <th>date_plantation</th>\n",
       "      <th>surf_permeable</th>\n",
       "      <th>esperance_maintien</th>\n",
       "      <th>matricule_arbre</th>\n",
       "    </tr>\n",
       "  </thead>\n",
       "  <tbody>\n",
       "    <tr>\n",
       "      <th>diametre</th>\n",
       "      <td>1.000000</td>\n",
       "      <td>0.759239</td>\n",
       "      <td>-0.155416</td>\n",
       "      <td>0.408231</td>\n",
       "      <td>0.329892</td>\n",
       "      <td>-0.109965</td>\n",
       "    </tr>\n",
       "    <tr>\n",
       "      <th>hauteur</th>\n",
       "      <td>0.759239</td>\n",
       "      <td>1.000000</td>\n",
       "      <td>-0.090306</td>\n",
       "      <td>0.604309</td>\n",
       "      <td>0.225723</td>\n",
       "      <td>-0.164903</td>\n",
       "    </tr>\n",
       "    <tr>\n",
       "      <th>date_plantation</th>\n",
       "      <td>-0.155416</td>\n",
       "      <td>-0.090306</td>\n",
       "      <td>1.000000</td>\n",
       "      <td>-0.071507</td>\n",
       "      <td>-0.033480</td>\n",
       "      <td>-0.007850</td>\n",
       "    </tr>\n",
       "    <tr>\n",
       "      <th>surf_permeable</th>\n",
       "      <td>0.408231</td>\n",
       "      <td>0.604309</td>\n",
       "      <td>-0.071507</td>\n",
       "      <td>1.000000</td>\n",
       "      <td>0.224826</td>\n",
       "      <td>-0.217633</td>\n",
       "    </tr>\n",
       "    <tr>\n",
       "      <th>esperance_maintien</th>\n",
       "      <td>0.329892</td>\n",
       "      <td>0.225723</td>\n",
       "      <td>-0.033480</td>\n",
       "      <td>0.224826</td>\n",
       "      <td>1.000000</td>\n",
       "      <td>-0.023423</td>\n",
       "    </tr>\n",
       "    <tr>\n",
       "      <th>matricule_arbre</th>\n",
       "      <td>-0.109965</td>\n",
       "      <td>-0.164903</td>\n",
       "      <td>-0.007850</td>\n",
       "      <td>-0.217633</td>\n",
       "      <td>-0.023423</td>\n",
       "      <td>1.000000</td>\n",
       "    </tr>\n",
       "  </tbody>\n",
       "</table>\n",
       "</div>"
      ],
      "text/plain": [
       "                    diametre   hauteur  date_plantation  surf_permeable  \\\n",
       "diametre            1.000000  0.759239        -0.155416        0.408231   \n",
       "hauteur             0.759239  1.000000        -0.090306        0.604309   \n",
       "date_plantation    -0.155416 -0.090306         1.000000       -0.071507   \n",
       "surf_permeable      0.408231  0.604309        -0.071507        1.000000   \n",
       "esperance_maintien  0.329892  0.225723        -0.033480        0.224826   \n",
       "matricule_arbre    -0.109965 -0.164903        -0.007850       -0.217633   \n",
       "\n",
       "                    esperance_maintien  matricule_arbre  \n",
       "diametre                      0.329892        -0.109965  \n",
       "hauteur                       0.225723        -0.164903  \n",
       "date_plantation              -0.033480        -0.007850  \n",
       "surf_permeable                0.224826        -0.217633  \n",
       "esperance_maintien            1.000000        -0.023423  \n",
       "matricule_arbre              -0.023423         1.000000  "
      ]
     },
     "execution_count": 7,
     "metadata": {},
     "output_type": "execute_result"
    }
   ],
   "source": [
    "cor_matrix = df.corr()\n",
    "cor_matrix"
   ]
  },
  {
   "cell_type": "code",
   "execution_count": 8,
   "id": "3f69a91b-25ef-4d99-918c-bd718b7f2cdd",
   "metadata": {},
   "outputs": [
    {
     "data": {
      "text/plain": [
       "quartier                      6\n",
       "site                         30\n",
       "cote_voirie                   2\n",
       "contrainte                    2\n",
       "genre_arbre                  26\n",
       "espece_arbre                 37\n",
       "situation                     4\n",
       "type_sol                      9\n",
       "plaie_houppier                5\n",
       "bois_mort_houppier            3\n",
       "classe_age                    4\n",
       "ecorce_incluse_houppier       2\n",
       "classe_hauteur                5\n",
       "fissure_houppier              3\n",
       "classe_circonference          7\n",
       "port_arbre                    5\n",
       "vigueur_pousse                4\n",
       "champignon_collet             2\n",
       "plaie_collet                  7\n",
       "champignon_tronc              2\n",
       "fissure_tronc                 3\n",
       "rejet_tronc                   2\n",
       "tuteurage_arbre               4\n",
       "canisse_arbre                 2\n",
       "plaie_tronc                   6\n",
       "champignon_houppier           2\n",
       "diametre                     42\n",
       "hauteur                      17\n",
       "date_plantation              13\n",
       "surf_permeable                9\n",
       "esperance_maintien            4\n",
       "matricule_arbre              74\n",
       "classification_diagnostic     5\n",
       "dtype: int64"
      ]
     },
     "execution_count": 8,
     "metadata": {},
     "output_type": "execute_result"
    }
   ],
   "source": [
    "df.nunique()"
   ]
  },
  {
   "cell_type": "code",
   "execution_count": 9,
   "id": "c99fd816-ab0e-481f-9daa-d51edbf09f17",
   "metadata": {},
   "outputs": [
    {
     "data": {
      "text/plain": [
       "C2    408\n",
       "C1    237\n",
       "C3     43\n",
       "C4     11\n",
       "C5     10\n",
       "Name: classification_diagnostic, dtype: int64"
      ]
     },
     "execution_count": 9,
     "metadata": {},
     "output_type": "execute_result"
    }
   ],
   "source": [
    "df['classification_diagnostic'].value_counts()"
   ]
  },
  {
   "cell_type": "code",
   "execution_count": 10,
   "id": "ef18e402-2d75-4151-8a48-028c91d01e85",
   "metadata": {},
   "outputs": [],
   "source": [
    "target_name = \"classification_diagnostic\"\n",
    "target = df[target_name]\n",
    "data = df.drop(columns=[target_name])"
   ]
  },
  {
   "cell_type": "markdown",
   "id": "08a29462-28ee-405c-9207-e895b4f78aa3",
   "metadata": {
    "tags": []
   },
   "source": [
    "### Ordinal Encoding"
   ]
  },
  {
   "cell_type": "code",
   "execution_count": 11,
   "id": "b68674c6-b10a-45a5-a68b-93d0823a5061",
   "metadata": {},
   "outputs": [
    {
     "data": {
      "text/html": [
       "<div>\n",
       "<style scoped>\n",
       "    .dataframe tbody tr th:only-of-type {\n",
       "        vertical-align: middle;\n",
       "    }\n",
       "\n",
       "    .dataframe tbody tr th {\n",
       "        vertical-align: top;\n",
       "    }\n",
       "\n",
       "    .dataframe thead th {\n",
       "        text-align: right;\n",
       "    }\n",
       "</style>\n",
       "<table border=\"1\" class=\"dataframe\">\n",
       "  <thead>\n",
       "    <tr style=\"text-align: right;\">\n",
       "      <th></th>\n",
       "      <th>quartier</th>\n",
       "      <th>site</th>\n",
       "      <th>cote_voirie</th>\n",
       "      <th>contrainte</th>\n",
       "      <th>genre_arbre</th>\n",
       "      <th>espece_arbre</th>\n",
       "      <th>situation</th>\n",
       "      <th>type_sol</th>\n",
       "      <th>plaie_houppier</th>\n",
       "      <th>bois_mort_houppier</th>\n",
       "      <th>...</th>\n",
       "      <th>vigueur_pousse</th>\n",
       "      <th>champignon_collet</th>\n",
       "      <th>plaie_collet</th>\n",
       "      <th>champignon_tronc</th>\n",
       "      <th>fissure_tronc</th>\n",
       "      <th>rejet_tronc</th>\n",
       "      <th>tuteurage_arbre</th>\n",
       "      <th>canisse_arbre</th>\n",
       "      <th>plaie_tronc</th>\n",
       "      <th>champignon_houppier</th>\n",
       "    </tr>\n",
       "  </thead>\n",
       "  <tbody>\n",
       "    <tr>\n",
       "      <th>0</th>\n",
       "      <td>Quartier 2 - Alsace - Pereire</td>\n",
       "      <td>Carrefour RN13</td>\n",
       "      <td>Impair</td>\n",
       "      <td>Non</td>\n",
       "      <td>Betula</td>\n",
       "      <td>Alba</td>\n",
       "      <td>Groupe</td>\n",
       "      <td>P</td>\n",
       "      <td>HPLC</td>\n",
       "      <td>HBMI</td>\n",
       "      <td>...</td>\n",
       "      <td>P</td>\n",
       "      <td>Non</td>\n",
       "      <td>RCPLNS</td>\n",
       "      <td>Non</td>\n",
       "      <td>TPF</td>\n",
       "      <td>Non</td>\n",
       "      <td>Non</td>\n",
       "      <td>Non</td>\n",
       "      <td>TPLNC</td>\n",
       "      <td>Non</td>\n",
       "    </tr>\n",
       "    <tr>\n",
       "      <th>1</th>\n",
       "      <td>Quartier 2 - Alsace - Pereire</td>\n",
       "      <td>Carrefour RN13</td>\n",
       "      <td>Impair</td>\n",
       "      <td>Non</td>\n",
       "      <td>Betula</td>\n",
       "      <td>Alba</td>\n",
       "      <td>Groupe</td>\n",
       "      <td>P</td>\n",
       "      <td>HPLC</td>\n",
       "      <td>HBMI</td>\n",
       "      <td>...</td>\n",
       "      <td>P</td>\n",
       "      <td>Non</td>\n",
       "      <td>RCPPL</td>\n",
       "      <td>Non</td>\n",
       "      <td>TPF</td>\n",
       "      <td>Non</td>\n",
       "      <td>Non</td>\n",
       "      <td>Non</td>\n",
       "      <td>TPLC</td>\n",
       "      <td>Non</td>\n",
       "    </tr>\n",
       "    <tr>\n",
       "      <th>2</th>\n",
       "      <td>Quartier 2 - Alsace - Pereire</td>\n",
       "      <td>Carrefour RN13</td>\n",
       "      <td>Impair</td>\n",
       "      <td>Non</td>\n",
       "      <td>Betula</td>\n",
       "      <td>Alba</td>\n",
       "      <td>Groupe</td>\n",
       "      <td>P</td>\n",
       "      <td>HPLC</td>\n",
       "      <td>HBMI</td>\n",
       "      <td>...</td>\n",
       "      <td>P</td>\n",
       "      <td>Non</td>\n",
       "      <td>RCPPL</td>\n",
       "      <td>Non</td>\n",
       "      <td>TPF</td>\n",
       "      <td>Non</td>\n",
       "      <td>Non</td>\n",
       "      <td>Non</td>\n",
       "      <td>TPLCF</td>\n",
       "      <td>Non</td>\n",
       "    </tr>\n",
       "    <tr>\n",
       "      <th>3</th>\n",
       "      <td>Quartier 2 - Alsace - Pereire</td>\n",
       "      <td>Carrefour RN13</td>\n",
       "      <td>Impair</td>\n",
       "      <td>Non</td>\n",
       "      <td>Carpinus</td>\n",
       "      <td>Betulus - L. - Fastigiata</td>\n",
       "      <td>Bosquet</td>\n",
       "      <td>G</td>\n",
       "      <td>HPLS</td>\n",
       "      <td>HBMI</td>\n",
       "      <td>...</td>\n",
       "      <td>P</td>\n",
       "      <td>Non</td>\n",
       "      <td>RCPPL</td>\n",
       "      <td>Non</td>\n",
       "      <td>TPF</td>\n",
       "      <td>Non</td>\n",
       "      <td>Non</td>\n",
       "      <td>Non</td>\n",
       "      <td>TPLS</td>\n",
       "      <td>Non</td>\n",
       "    </tr>\n",
       "    <tr>\n",
       "      <th>4</th>\n",
       "      <td>Quartier 2 - Alsace - Pereire</td>\n",
       "      <td>Carrefour RN13</td>\n",
       "      <td>Impair</td>\n",
       "      <td>Non</td>\n",
       "      <td>Carpinus</td>\n",
       "      <td>Betulus - L. - Fastigiata</td>\n",
       "      <td>Bosquet</td>\n",
       "      <td>G</td>\n",
       "      <td>HPLS</td>\n",
       "      <td>HBMI</td>\n",
       "      <td>...</td>\n",
       "      <td>P</td>\n",
       "      <td>Non</td>\n",
       "      <td>RCPPL</td>\n",
       "      <td>Non</td>\n",
       "      <td>TPF</td>\n",
       "      <td>Non</td>\n",
       "      <td>Non</td>\n",
       "      <td>Non</td>\n",
       "      <td>TPLS</td>\n",
       "      <td>Non</td>\n",
       "    </tr>\n",
       "  </tbody>\n",
       "</table>\n",
       "<p>5 rows × 26 columns</p>\n",
       "</div>"
      ],
      "text/plain": [
       "                        quartier            site cote_voirie contrainte  \\\n",
       "0  Quartier 2 - Alsace - Pereire  Carrefour RN13      Impair        Non   \n",
       "1  Quartier 2 - Alsace - Pereire  Carrefour RN13      Impair        Non   \n",
       "2  Quartier 2 - Alsace - Pereire  Carrefour RN13      Impair        Non   \n",
       "3  Quartier 2 - Alsace - Pereire  Carrefour RN13      Impair        Non   \n",
       "4  Quartier 2 - Alsace - Pereire  Carrefour RN13      Impair        Non   \n",
       "\n",
       "  genre_arbre                espece_arbre situation type_sol plaie_houppier  \\\n",
       "0      Betula                        Alba    Groupe        P           HPLC   \n",
       "1      Betula                        Alba    Groupe        P           HPLC   \n",
       "2      Betula                        Alba    Groupe        P           HPLC   \n",
       "3    Carpinus   Betulus - L. - Fastigiata   Bosquet        G           HPLS   \n",
       "4    Carpinus   Betulus - L. - Fastigiata   Bosquet        G           HPLS   \n",
       "\n",
       "  bois_mort_houppier  ... vigueur_pousse champignon_collet plaie_collet  \\\n",
       "0              HBMI   ...              P               Non       RCPLNS   \n",
       "1              HBMI   ...              P               Non        RCPPL   \n",
       "2              HBMI   ...              P               Non        RCPPL   \n",
       "3              HBMI   ...              P               Non        RCPPL   \n",
       "4              HBMI   ...              P               Non        RCPPL   \n",
       "\n",
       "  champignon_tronc fissure_tronc rejet_tronc tuteurage_arbre canisse_arbre  \\\n",
       "0              Non           TPF         Non             Non           Non   \n",
       "1              Non           TPF         Non             Non           Non   \n",
       "2              Non           TPF         Non             Non           Non   \n",
       "3              Non           TPF         Non             Non           Non   \n",
       "4              Non           TPF         Non             Non           Non   \n",
       "\n",
       "  plaie_tronc champignon_houppier  \n",
       "0       TPLNC                 Non  \n",
       "1        TPLC                 Non  \n",
       "2       TPLCF                 Non  \n",
       "3        TPLS                 Non  \n",
       "4        TPLS                 Non  \n",
       "\n",
       "[5 rows x 26 columns]"
      ]
     },
     "execution_count": 11,
     "metadata": {},
     "output_type": "execute_result"
    }
   ],
   "source": [
    "from sklearn.compose import make_column_selector as selector\n",
    "#Separating Numerical and Categorical columns\n",
    "numerical_columns_selector = selector(dtype_exclude=object)\n",
    "categorical_columns_selector = selector(dtype_include=object)\n",
    "\n",
    "categorical_columns = categorical_columns_selector(data)\n",
    "data_categorical = data[categorical_columns]\n",
    "data_categorical.head()"
   ]
  },
  {
   "cell_type": "code",
   "execution_count": 12,
   "id": "6b0fe13a-05b3-4e21-9fc8-578b1fa48eb1",
   "metadata": {},
   "outputs": [
    {
     "name": "stdout",
     "output_type": "stream",
     "text": [
      "The dataset is composed of 26 Categorical features\n"
     ]
    }
   ],
   "source": [
    "print(f\"The dataset is composed of {data_categorical.shape[1]} Categorical features\")"
   ]
  },
  {
   "cell_type": "code",
   "execution_count": 13,
   "id": "ddb155f5-7eb1-42a7-8a4c-ba106ed36b1f",
   "metadata": {},
   "outputs": [
    {
     "data": {
      "text/plain": [
       "(709, 26)"
      ]
     },
     "execution_count": 13,
     "metadata": {},
     "output_type": "execute_result"
    }
   ],
   "source": [
    "from sklearn.preprocessing import OrdinalEncoder, StandardScaler\n",
    "\n",
    "categorical_encoder = OrdinalEncoder()\n",
    "data_encoded = categorical_encoder.fit_transform(data_categorical)\n",
    "data_encoded.shape"
   ]
  },
  {
   "cell_type": "code",
   "execution_count": 14,
   "id": "959defee-90a8-403d-b6e3-5bec22e7ce6b",
   "metadata": {},
   "outputs": [
    {
     "data": {
      "text/plain": [
       "array([[1., 5., 0., 0., 4., 0., 2., 6., 0., 0., 0., 0., 1., 2., 1., 4.,\n",
       "        2., 0., 4., 0., 2., 0., 0., 0., 2., 0.],\n",
       "       [1., 5., 0., 0., 4., 0., 2., 6., 0., 0., 0., 0., 1., 2., 1., 4.,\n",
       "        2., 0., 6., 0., 2., 0., 0., 0., 0., 0.],\n",
       "       [1., 5., 0., 0., 4., 0., 2., 6., 0., 0., 0., 0., 1., 2., 1., 4.,\n",
       "        2., 0., 6., 0., 2., 0., 0., 0., 1., 0.],\n",
       "       [1., 5., 0., 0., 5., 8., 1., 2., 2., 0., 0., 0., 3., 2., 1., 1.,\n",
       "        2., 0., 6., 0., 2., 0., 0., 0., 3., 0.],\n",
       "       [1., 5., 0., 0., 5., 8., 1., 2., 2., 0., 0., 0., 3., 2., 5., 1.,\n",
       "        2., 0., 6., 0., 2., 0., 0., 0., 3., 0.]])"
      ]
     },
     "execution_count": 14,
     "metadata": {},
     "output_type": "execute_result"
    }
   ],
   "source": [
    "data_encoded[:5]"
   ]
  },
  {
   "cell_type": "code",
   "execution_count": 15,
   "id": "491ff53d-1985-425b-a1ff-4d325ec535cc",
   "metadata": {},
   "outputs": [
    {
     "name": "stdout",
     "output_type": "stream",
     "text": [
      "The dataset encoded contains 26 features\n"
     ]
    }
   ],
   "source": [
    "print(\n",
    "    f\"The dataset encoded contains {data_encoded.shape[1]} features\")"
   ]
  },
  {
   "cell_type": "code",
   "execution_count": 16,
   "id": "4e9b4bc9-add7-4dba-852a-7ef35661f560",
   "metadata": {
    "tags": []
   },
   "outputs": [
    {
     "data": {
      "text/plain": [
       "26"
      ]
     },
     "execution_count": 16,
     "metadata": {},
     "output_type": "execute_result"
    }
   ],
   "source": [
    "len(categorical_columns)"
   ]
  },
  {
   "cell_type": "code",
   "execution_count": 17,
   "id": "f7f99152-7c9a-4b55-a463-27c33854a604",
   "metadata": {},
   "outputs": [
    {
     "data": {
      "text/plain": [
       "['quartier',\n",
       " 'site',\n",
       " 'cote_voirie',\n",
       " 'contrainte',\n",
       " 'genre_arbre',\n",
       " 'espece_arbre',\n",
       " 'situation',\n",
       " 'type_sol',\n",
       " 'plaie_houppier',\n",
       " 'bois_mort_houppier',\n",
       " 'classe_age',\n",
       " 'ecorce_incluse_houppier',\n",
       " 'classe_hauteur',\n",
       " 'fissure_houppier',\n",
       " 'classe_circonference',\n",
       " 'port_arbre',\n",
       " 'vigueur_pousse',\n",
       " 'champignon_collet',\n",
       " 'plaie_collet',\n",
       " 'champignon_tronc',\n",
       " 'fissure_tronc',\n",
       " 'rejet_tronc',\n",
       " 'tuteurage_arbre',\n",
       " 'canisse_arbre',\n",
       " 'plaie_tronc',\n",
       " 'champignon_houppier']"
      ]
     },
     "execution_count": 17,
     "metadata": {},
     "output_type": "execute_result"
    }
   ],
   "source": [
    "categorical_columns"
   ]
  },
  {
   "cell_type": "code",
   "execution_count": 18,
   "id": "9db32625-5b44-4f90-854d-f55a947726c7",
   "metadata": {},
   "outputs": [],
   "source": [
    "#Adding Numpy array into pandas data frame (Numerical columns)\n",
    "data_cat_encoded_to_num = pd.DataFrame(data_encoded, columns=['quartier',\n",
    " 'site',\n",
    " 'cote_voirie',\n",
    " 'contrainte',\n",
    " 'genre_arbre',\n",
    " 'espece_arbre',\n",
    " 'situation',\n",
    " 'type_sol',\n",
    " 'plaie_houppier',\n",
    " 'bois_mort_houppier',\n",
    " 'classe_age',\n",
    " 'ecorce_incluse_houppier',\n",
    " 'classe_hauteur',\n",
    " 'fissure_houppier',\n",
    " 'classe_circonference',\n",
    " 'port_arbre',\n",
    " 'vigueur_pousse',\n",
    " 'champignon_collet',\n",
    " 'plaie_collet',\n",
    " 'champignon_tronc',\n",
    " 'fissure_tronc',\n",
    " 'rejet_tronc',\n",
    " 'tuteurage_arbre',\n",
    " 'canisse_arbre',\n",
    " 'plaie_tronc',\n",
    " 'champignon_houppier'])"
   ]
  },
  {
   "cell_type": "code",
   "execution_count": 19,
   "id": "3cb674f5-c9e1-40ec-a6ce-288f75550b69",
   "metadata": {},
   "outputs": [
    {
     "data": {
      "text/html": [
       "<div>\n",
       "<style scoped>\n",
       "    .dataframe tbody tr th:only-of-type {\n",
       "        vertical-align: middle;\n",
       "    }\n",
       "\n",
       "    .dataframe tbody tr th {\n",
       "        vertical-align: top;\n",
       "    }\n",
       "\n",
       "    .dataframe thead th {\n",
       "        text-align: right;\n",
       "    }\n",
       "</style>\n",
       "<table border=\"1\" class=\"dataframe\">\n",
       "  <thead>\n",
       "    <tr style=\"text-align: right;\">\n",
       "      <th></th>\n",
       "      <th>quartier</th>\n",
       "      <th>site</th>\n",
       "      <th>cote_voirie</th>\n",
       "      <th>contrainte</th>\n",
       "      <th>genre_arbre</th>\n",
       "      <th>espece_arbre</th>\n",
       "      <th>situation</th>\n",
       "      <th>type_sol</th>\n",
       "      <th>plaie_houppier</th>\n",
       "      <th>bois_mort_houppier</th>\n",
       "      <th>...</th>\n",
       "      <th>vigueur_pousse</th>\n",
       "      <th>champignon_collet</th>\n",
       "      <th>plaie_collet</th>\n",
       "      <th>champignon_tronc</th>\n",
       "      <th>fissure_tronc</th>\n",
       "      <th>rejet_tronc</th>\n",
       "      <th>tuteurage_arbre</th>\n",
       "      <th>canisse_arbre</th>\n",
       "      <th>plaie_tronc</th>\n",
       "      <th>champignon_houppier</th>\n",
       "    </tr>\n",
       "  </thead>\n",
       "  <tbody>\n",
       "    <tr>\n",
       "      <th>0</th>\n",
       "      <td>1.0</td>\n",
       "      <td>5.0</td>\n",
       "      <td>0.0</td>\n",
       "      <td>0.0</td>\n",
       "      <td>4.0</td>\n",
       "      <td>0.0</td>\n",
       "      <td>2.0</td>\n",
       "      <td>6.0</td>\n",
       "      <td>0.0</td>\n",
       "      <td>0.0</td>\n",
       "      <td>...</td>\n",
       "      <td>2.0</td>\n",
       "      <td>0.0</td>\n",
       "      <td>4.0</td>\n",
       "      <td>0.0</td>\n",
       "      <td>2.0</td>\n",
       "      <td>0.0</td>\n",
       "      <td>0.0</td>\n",
       "      <td>0.0</td>\n",
       "      <td>2.0</td>\n",
       "      <td>0.0</td>\n",
       "    </tr>\n",
       "    <tr>\n",
       "      <th>1</th>\n",
       "      <td>1.0</td>\n",
       "      <td>5.0</td>\n",
       "      <td>0.0</td>\n",
       "      <td>0.0</td>\n",
       "      <td>4.0</td>\n",
       "      <td>0.0</td>\n",
       "      <td>2.0</td>\n",
       "      <td>6.0</td>\n",
       "      <td>0.0</td>\n",
       "      <td>0.0</td>\n",
       "      <td>...</td>\n",
       "      <td>2.0</td>\n",
       "      <td>0.0</td>\n",
       "      <td>6.0</td>\n",
       "      <td>0.0</td>\n",
       "      <td>2.0</td>\n",
       "      <td>0.0</td>\n",
       "      <td>0.0</td>\n",
       "      <td>0.0</td>\n",
       "      <td>0.0</td>\n",
       "      <td>0.0</td>\n",
       "    </tr>\n",
       "    <tr>\n",
       "      <th>2</th>\n",
       "      <td>1.0</td>\n",
       "      <td>5.0</td>\n",
       "      <td>0.0</td>\n",
       "      <td>0.0</td>\n",
       "      <td>4.0</td>\n",
       "      <td>0.0</td>\n",
       "      <td>2.0</td>\n",
       "      <td>6.0</td>\n",
       "      <td>0.0</td>\n",
       "      <td>0.0</td>\n",
       "      <td>...</td>\n",
       "      <td>2.0</td>\n",
       "      <td>0.0</td>\n",
       "      <td>6.0</td>\n",
       "      <td>0.0</td>\n",
       "      <td>2.0</td>\n",
       "      <td>0.0</td>\n",
       "      <td>0.0</td>\n",
       "      <td>0.0</td>\n",
       "      <td>1.0</td>\n",
       "      <td>0.0</td>\n",
       "    </tr>\n",
       "    <tr>\n",
       "      <th>3</th>\n",
       "      <td>1.0</td>\n",
       "      <td>5.0</td>\n",
       "      <td>0.0</td>\n",
       "      <td>0.0</td>\n",
       "      <td>5.0</td>\n",
       "      <td>8.0</td>\n",
       "      <td>1.0</td>\n",
       "      <td>2.0</td>\n",
       "      <td>2.0</td>\n",
       "      <td>0.0</td>\n",
       "      <td>...</td>\n",
       "      <td>2.0</td>\n",
       "      <td>0.0</td>\n",
       "      <td>6.0</td>\n",
       "      <td>0.0</td>\n",
       "      <td>2.0</td>\n",
       "      <td>0.0</td>\n",
       "      <td>0.0</td>\n",
       "      <td>0.0</td>\n",
       "      <td>3.0</td>\n",
       "      <td>0.0</td>\n",
       "    </tr>\n",
       "    <tr>\n",
       "      <th>4</th>\n",
       "      <td>1.0</td>\n",
       "      <td>5.0</td>\n",
       "      <td>0.0</td>\n",
       "      <td>0.0</td>\n",
       "      <td>5.0</td>\n",
       "      <td>8.0</td>\n",
       "      <td>1.0</td>\n",
       "      <td>2.0</td>\n",
       "      <td>2.0</td>\n",
       "      <td>0.0</td>\n",
       "      <td>...</td>\n",
       "      <td>2.0</td>\n",
       "      <td>0.0</td>\n",
       "      <td>6.0</td>\n",
       "      <td>0.0</td>\n",
       "      <td>2.0</td>\n",
       "      <td>0.0</td>\n",
       "      <td>0.0</td>\n",
       "      <td>0.0</td>\n",
       "      <td>3.0</td>\n",
       "      <td>0.0</td>\n",
       "    </tr>\n",
       "  </tbody>\n",
       "</table>\n",
       "<p>5 rows × 26 columns</p>\n",
       "</div>"
      ],
      "text/plain": [
       "   quartier  site  cote_voirie  contrainte  genre_arbre  espece_arbre  \\\n",
       "0       1.0   5.0          0.0         0.0          4.0           0.0   \n",
       "1       1.0   5.0          0.0         0.0          4.0           0.0   \n",
       "2       1.0   5.0          0.0         0.0          4.0           0.0   \n",
       "3       1.0   5.0          0.0         0.0          5.0           8.0   \n",
       "4       1.0   5.0          0.0         0.0          5.0           8.0   \n",
       "\n",
       "   situation  type_sol  plaie_houppier  bois_mort_houppier  ...  \\\n",
       "0        2.0       6.0             0.0                 0.0  ...   \n",
       "1        2.0       6.0             0.0                 0.0  ...   \n",
       "2        2.0       6.0             0.0                 0.0  ...   \n",
       "3        1.0       2.0             2.0                 0.0  ...   \n",
       "4        1.0       2.0             2.0                 0.0  ...   \n",
       "\n",
       "   vigueur_pousse  champignon_collet  plaie_collet  champignon_tronc  \\\n",
       "0             2.0                0.0           4.0               0.0   \n",
       "1             2.0                0.0           6.0               0.0   \n",
       "2             2.0                0.0           6.0               0.0   \n",
       "3             2.0                0.0           6.0               0.0   \n",
       "4             2.0                0.0           6.0               0.0   \n",
       "\n",
       "   fissure_tronc  rejet_tronc  tuteurage_arbre  canisse_arbre  plaie_tronc  \\\n",
       "0            2.0          0.0              0.0            0.0          2.0   \n",
       "1            2.0          0.0              0.0            0.0          0.0   \n",
       "2            2.0          0.0              0.0            0.0          1.0   \n",
       "3            2.0          0.0              0.0            0.0          3.0   \n",
       "4            2.0          0.0              0.0            0.0          3.0   \n",
       "\n",
       "   champignon_houppier  \n",
       "0                  0.0  \n",
       "1                  0.0  \n",
       "2                  0.0  \n",
       "3                  0.0  \n",
       "4                  0.0  \n",
       "\n",
       "[5 rows x 26 columns]"
      ]
     },
     "execution_count": 19,
     "metadata": {},
     "output_type": "execute_result"
    }
   ],
   "source": [
    "data_cat_encoded_to_num.head()"
   ]
  },
  {
   "cell_type": "code",
   "execution_count": 20,
   "id": "a69c7cb0-5ea1-402b-baae-89ab5cbd3119",
   "metadata": {},
   "outputs": [],
   "source": [
    "from sklearn.compose import make_column_selector as selector\n",
    "#Separating Numerical and Categorical columns\n",
    "numerical_columns_selector = selector(dtype_exclude=object)\n",
    "categorical_columns_selector = selector(dtype_include=object)\n",
    "\n",
    "numerical_columns = numerical_columns_selector(data)\n",
    "categorical_columns = categorical_columns_selector(data)"
   ]
  },
  {
   "cell_type": "code",
   "execution_count": 21,
   "id": "3f3e79a6-3b9e-441b-90f4-5833ca94b4ad",
   "metadata": {},
   "outputs": [],
   "source": [
    "data_numerical = data[numerical_columns]\n",
    "data_numerical_all_features= pd.concat([data_cat_encoded_to_num, data_numerical], axis=1)"
   ]
  },
  {
   "cell_type": "code",
   "execution_count": 22,
   "id": "e2388835-d817-451a-8d48-f8964e903c2a",
   "metadata": {},
   "outputs": [
    {
     "name": "stdout",
     "output_type": "stream",
     "text": [
      "<class 'pandas.core.frame.DataFrame'>\n",
      "RangeIndex: 709 entries, 0 to 708\n",
      "Data columns (total 32 columns):\n",
      " #   Column                   Non-Null Count  Dtype  \n",
      "---  ------                   --------------  -----  \n",
      " 0   quartier                 709 non-null    float64\n",
      " 1   site                     709 non-null    float64\n",
      " 2   cote_voirie              709 non-null    float64\n",
      " 3   contrainte               709 non-null    float64\n",
      " 4   genre_arbre              709 non-null    float64\n",
      " 5   espece_arbre             709 non-null    float64\n",
      " 6   situation                709 non-null    float64\n",
      " 7   type_sol                 709 non-null    float64\n",
      " 8   plaie_houppier           709 non-null    float64\n",
      " 9   bois_mort_houppier       709 non-null    float64\n",
      " 10  classe_age               709 non-null    float64\n",
      " 11  ecorce_incluse_houppier  709 non-null    float64\n",
      " 12  classe_hauteur           709 non-null    float64\n",
      " 13  fissure_houppier         709 non-null    float64\n",
      " 14  classe_circonference     709 non-null    float64\n",
      " 15  port_arbre               709 non-null    float64\n",
      " 16  vigueur_pousse           709 non-null    float64\n",
      " 17  champignon_collet        709 non-null    float64\n",
      " 18  plaie_collet             709 non-null    float64\n",
      " 19  champignon_tronc         709 non-null    float64\n",
      " 20  fissure_tronc            709 non-null    float64\n",
      " 21  rejet_tronc              709 non-null    float64\n",
      " 22  tuteurage_arbre          709 non-null    float64\n",
      " 23  canisse_arbre            709 non-null    float64\n",
      " 24  plaie_tronc              709 non-null    float64\n",
      " 25  champignon_houppier      709 non-null    float64\n",
      " 26  diametre                 709 non-null    float64\n",
      " 27  hauteur                  709 non-null    int64  \n",
      " 28  date_plantation          709 non-null    int64  \n",
      " 29  surf_permeable           709 non-null    float64\n",
      " 30  esperance_maintien       709 non-null    float64\n",
      " 31  matricule_arbre          709 non-null    int64  \n",
      "dtypes: float64(29), int64(3)\n",
      "memory usage: 177.4 KB\n"
     ]
    }
   ],
   "source": [
    "data_numerical_all_features.info()"
   ]
  },
  {
   "cell_type": "code",
   "execution_count": 23,
   "id": "ab291722-8d5d-4126-9846-943238904358",
   "metadata": {},
   "outputs": [
    {
     "data": {
      "text/html": [
       "<div>\n",
       "<style scoped>\n",
       "    .dataframe tbody tr th:only-of-type {\n",
       "        vertical-align: middle;\n",
       "    }\n",
       "\n",
       "    .dataframe tbody tr th {\n",
       "        vertical-align: top;\n",
       "    }\n",
       "\n",
       "    .dataframe thead th {\n",
       "        text-align: right;\n",
       "    }\n",
       "</style>\n",
       "<table border=\"1\" class=\"dataframe\">\n",
       "  <thead>\n",
       "    <tr style=\"text-align: right;\">\n",
       "      <th></th>\n",
       "      <th>quartier</th>\n",
       "      <th>site</th>\n",
       "      <th>cote_voirie</th>\n",
       "      <th>contrainte</th>\n",
       "      <th>genre_arbre</th>\n",
       "      <th>espece_arbre</th>\n",
       "      <th>situation</th>\n",
       "      <th>type_sol</th>\n",
       "      <th>plaie_houppier</th>\n",
       "      <th>bois_mort_houppier</th>\n",
       "      <th>...</th>\n",
       "      <th>tuteurage_arbre</th>\n",
       "      <th>canisse_arbre</th>\n",
       "      <th>plaie_tronc</th>\n",
       "      <th>champignon_houppier</th>\n",
       "      <th>diametre</th>\n",
       "      <th>hauteur</th>\n",
       "      <th>date_plantation</th>\n",
       "      <th>surf_permeable</th>\n",
       "      <th>esperance_maintien</th>\n",
       "      <th>matricule_arbre</th>\n",
       "    </tr>\n",
       "  </thead>\n",
       "  <tbody>\n",
       "    <tr>\n",
       "      <th>0</th>\n",
       "      <td>1.0</td>\n",
       "      <td>5.0</td>\n",
       "      <td>0.0</td>\n",
       "      <td>0.0</td>\n",
       "      <td>4.0</td>\n",
       "      <td>0.0</td>\n",
       "      <td>2.0</td>\n",
       "      <td>6.0</td>\n",
       "      <td>0.0</td>\n",
       "      <td>0.0</td>\n",
       "      <td>...</td>\n",
       "      <td>0.0</td>\n",
       "      <td>0.0</td>\n",
       "      <td>2.0</td>\n",
       "      <td>0.0</td>\n",
       "      <td>63.661977</td>\n",
       "      <td>1000</td>\n",
       "      <td>2000</td>\n",
       "      <td>5.0</td>\n",
       "      <td>1.0</td>\n",
       "      <td>7</td>\n",
       "    </tr>\n",
       "    <tr>\n",
       "      <th>1</th>\n",
       "      <td>1.0</td>\n",
       "      <td>5.0</td>\n",
       "      <td>0.0</td>\n",
       "      <td>0.0</td>\n",
       "      <td>4.0</td>\n",
       "      <td>0.0</td>\n",
       "      <td>2.0</td>\n",
       "      <td>6.0</td>\n",
       "      <td>0.0</td>\n",
       "      <td>0.0</td>\n",
       "      <td>...</td>\n",
       "      <td>0.0</td>\n",
       "      <td>0.0</td>\n",
       "      <td>0.0</td>\n",
       "      <td>0.0</td>\n",
       "      <td>60.478878</td>\n",
       "      <td>1000</td>\n",
       "      <td>2000</td>\n",
       "      <td>5.0</td>\n",
       "      <td>1.0</td>\n",
       "      <td>8</td>\n",
       "    </tr>\n",
       "    <tr>\n",
       "      <th>2</th>\n",
       "      <td>1.0</td>\n",
       "      <td>5.0</td>\n",
       "      <td>0.0</td>\n",
       "      <td>0.0</td>\n",
       "      <td>4.0</td>\n",
       "      <td>0.0</td>\n",
       "      <td>2.0</td>\n",
       "      <td>6.0</td>\n",
       "      <td>0.0</td>\n",
       "      <td>0.0</td>\n",
       "      <td>...</td>\n",
       "      <td>0.0</td>\n",
       "      <td>0.0</td>\n",
       "      <td>1.0</td>\n",
       "      <td>0.0</td>\n",
       "      <td>54.112681</td>\n",
       "      <td>1000</td>\n",
       "      <td>2000</td>\n",
       "      <td>5.0</td>\n",
       "      <td>1.0</td>\n",
       "      <td>9</td>\n",
       "    </tr>\n",
       "    <tr>\n",
       "      <th>3</th>\n",
       "      <td>1.0</td>\n",
       "      <td>5.0</td>\n",
       "      <td>0.0</td>\n",
       "      <td>0.0</td>\n",
       "      <td>5.0</td>\n",
       "      <td>8.0</td>\n",
       "      <td>1.0</td>\n",
       "      <td>2.0</td>\n",
       "      <td>2.0</td>\n",
       "      <td>0.0</td>\n",
       "      <td>...</td>\n",
       "      <td>0.0</td>\n",
       "      <td>0.0</td>\n",
       "      <td>3.0</td>\n",
       "      <td>0.0</td>\n",
       "      <td>63.661977</td>\n",
       "      <td>1600</td>\n",
       "      <td>1980</td>\n",
       "      <td>100.0</td>\n",
       "      <td>1.0</td>\n",
       "      <td>1</td>\n",
       "    </tr>\n",
       "    <tr>\n",
       "      <th>4</th>\n",
       "      <td>1.0</td>\n",
       "      <td>5.0</td>\n",
       "      <td>0.0</td>\n",
       "      <td>0.0</td>\n",
       "      <td>5.0</td>\n",
       "      <td>8.0</td>\n",
       "      <td>1.0</td>\n",
       "      <td>2.0</td>\n",
       "      <td>2.0</td>\n",
       "      <td>0.0</td>\n",
       "      <td>...</td>\n",
       "      <td>0.0</td>\n",
       "      <td>0.0</td>\n",
       "      <td>3.0</td>\n",
       "      <td>0.0</td>\n",
       "      <td>190.985932</td>\n",
       "      <td>1600</td>\n",
       "      <td>1980</td>\n",
       "      <td>100.0</td>\n",
       "      <td>1.0</td>\n",
       "      <td>2</td>\n",
       "    </tr>\n",
       "  </tbody>\n",
       "</table>\n",
       "<p>5 rows × 32 columns</p>\n",
       "</div>"
      ],
      "text/plain": [
       "   quartier  site  cote_voirie  contrainte  genre_arbre  espece_arbre  \\\n",
       "0       1.0   5.0          0.0         0.0          4.0           0.0   \n",
       "1       1.0   5.0          0.0         0.0          4.0           0.0   \n",
       "2       1.0   5.0          0.0         0.0          4.0           0.0   \n",
       "3       1.0   5.0          0.0         0.0          5.0           8.0   \n",
       "4       1.0   5.0          0.0         0.0          5.0           8.0   \n",
       "\n",
       "   situation  type_sol  plaie_houppier  bois_mort_houppier  ...  \\\n",
       "0        2.0       6.0             0.0                 0.0  ...   \n",
       "1        2.0       6.0             0.0                 0.0  ...   \n",
       "2        2.0       6.0             0.0                 0.0  ...   \n",
       "3        1.0       2.0             2.0                 0.0  ...   \n",
       "4        1.0       2.0             2.0                 0.0  ...   \n",
       "\n",
       "   tuteurage_arbre  canisse_arbre  plaie_tronc  champignon_houppier  \\\n",
       "0              0.0            0.0          2.0                  0.0   \n",
       "1              0.0            0.0          0.0                  0.0   \n",
       "2              0.0            0.0          1.0                  0.0   \n",
       "3              0.0            0.0          3.0                  0.0   \n",
       "4              0.0            0.0          3.0                  0.0   \n",
       "\n",
       "     diametre  hauteur  date_plantation  surf_permeable  esperance_maintien  \\\n",
       "0   63.661977     1000             2000             5.0                 1.0   \n",
       "1   60.478878     1000             2000             5.0                 1.0   \n",
       "2   54.112681     1000             2000             5.0                 1.0   \n",
       "3   63.661977     1600             1980           100.0                 1.0   \n",
       "4  190.985932     1600             1980           100.0                 1.0   \n",
       "\n",
       "   matricule_arbre  \n",
       "0                7  \n",
       "1                8  \n",
       "2                9  \n",
       "3                1  \n",
       "4                2  \n",
       "\n",
       "[5 rows x 32 columns]"
      ]
     },
     "execution_count": 23,
     "metadata": {},
     "output_type": "execute_result"
    }
   ],
   "source": [
    "data_numerical_all_features.head()"
   ]
  },
  {
   "cell_type": "code",
   "execution_count": 24,
   "id": "ca7b3ee7-f966-4cf9-a7b9-90b9a25e010b",
   "metadata": {
    "tags": []
   },
   "outputs": [],
   "source": [
    "X = data_numerical_all_features.iloc[:].values\n",
    "y = target.iloc[:].values"
   ]
  },
  {
   "cell_type": "code",
   "execution_count": 25,
   "id": "6d8f2bd8-3303-49ad-bd9a-85ae60422961",
   "metadata": {},
   "outputs": [
    {
     "name": "stdout",
     "output_type": "stream",
     "text": [
      "(709, 32)\n",
      "(709,)\n"
     ]
    }
   ],
   "source": [
    "print(X.shape)\n",
    "print(y.shape)"
   ]
  },
  {
   "cell_type": "code",
   "execution_count": 26,
   "id": "45894111-72e6-4334-b4e0-c3d6e46df883",
   "metadata": {},
   "outputs": [
    {
     "data": {
      "text/plain": [
       "array([[ 1.,  5.,  0., ...,  5.,  1.,  7.],\n",
       "       [ 1.,  5.,  0., ...,  5.,  1.,  8.],\n",
       "       [ 1.,  5.,  0., ...,  5.,  1.,  9.],\n",
       "       ...,\n",
       "       [ 0., 11.,  0., ...,  1.,  1.,  6.],\n",
       "       [ 0., 11.,  0., ...,  1.,  2.,  7.],\n",
       "       [ 0., 11.,  0., ...,  1.,  1.,  8.]])"
      ]
     },
     "execution_count": 26,
     "metadata": {},
     "output_type": "execute_result"
    }
   ],
   "source": [
    "X"
   ]
  },
  {
   "cell_type": "code",
   "execution_count": 27,
   "id": "57232e5c-4c86-443b-a6f1-35f5f5346641",
   "metadata": {},
   "outputs": [],
   "source": [
    "le = LabelEncoder()\n",
    "y = le.fit_transform(y)"
   ]
  },
  {
   "cell_type": "code",
   "execution_count": 28,
   "id": "84e3bb3a-4034-470c-acc1-d313e54d5fe9",
   "metadata": {},
   "outputs": [
    {
     "data": {
      "text/plain": [
       "array([1, 1, 1, 1, 1, 1, 1, 1, 1, 0, 0, 0, 0, 0, 1, 0, 0, 0, 0, 0, 0, 0,\n",
       "       0, 0, 0, 0, 0, 0, 0, 0, 0, 0, 0, 0, 0, 0, 0, 0, 0, 0, 0, 0, 0, 0,\n",
       "       0, 0, 1, 1, 0, 1, 1, 1, 0, 1, 0, 0, 0, 1, 0, 0, 0, 0, 0, 0, 0, 0,\n",
       "       0, 0, 0, 0, 0, 0, 0, 0, 1, 0, 0, 1, 0, 2, 1, 0, 1, 0, 0, 0, 1, 0,\n",
       "       1, 0, 1, 1, 0, 0, 0, 1, 1, 1, 1, 1, 1, 1, 1, 1, 1, 1, 1, 1, 1, 2,\n",
       "       0, 1, 1, 1, 1, 0, 1, 1, 1, 0, 1, 0, 1, 0, 1, 0, 1, 1, 1, 1, 0, 0,\n",
       "       0, 0, 0, 0, 1, 0, 1, 0, 0, 1, 0, 1, 0, 0, 0, 0, 1, 0, 1, 0, 0, 0,\n",
       "       0, 0, 0, 0, 0, 0, 0, 2, 0, 0, 0, 0, 0, 0, 0, 0, 0, 0, 0, 0, 0, 0,\n",
       "       0, 0, 0, 0, 0, 0, 0, 0, 0, 0, 0, 0, 0, 0, 0, 0, 0, 0, 0, 0, 0, 0,\n",
       "       0, 0, 0, 0, 0, 0, 0, 0, 0, 0, 1, 1, 1, 1, 1, 1, 1, 0, 1, 0, 0, 0,\n",
       "       1, 1, 1, 1, 1, 1, 1, 2, 1, 2, 1, 2, 2, 1, 0, 3, 1, 2, 1, 2, 3, 0,\n",
       "       0, 0, 0, 0, 0, 1, 0, 0, 3, 3, 3, 2, 2, 3, 2, 1, 1, 1, 1, 1, 1, 1,\n",
       "       1, 1, 0, 1, 0, 1, 1, 0, 1, 1, 2, 1, 1, 1, 1, 1, 1, 1, 0, 1, 1, 1,\n",
       "       1, 1, 1, 1, 1, 1, 0, 1, 0, 1, 0, 0, 0, 0, 0, 0, 0, 0, 0, 0, 1, 0,\n",
       "       1, 0, 1, 0, 0, 0, 0, 0, 1, 0, 1, 0, 0, 1, 0, 0, 0, 0, 0, 0, 0, 0,\n",
       "       0, 0, 0, 0, 0, 0, 0, 0, 0, 0, 0, 0, 0, 0, 0, 0, 0, 0, 0, 1, 0, 0,\n",
       "       0, 0, 0, 0, 0, 0, 0, 0, 0, 0, 1, 2, 0, 0, 1, 1, 1, 1, 1, 1, 1, 1,\n",
       "       1, 2, 1, 2, 1, 1, 1, 1, 1, 1, 1, 1, 1, 1, 1, 1, 1, 1, 1, 1, 1, 1,\n",
       "       1, 1, 1, 1, 1, 1, 0, 1, 4, 1, 1, 1, 1, 1, 1, 1, 1, 1, 1, 1, 1, 1,\n",
       "       1, 1, 1, 1, 0, 1, 0, 2, 2, 0, 2, 1, 1, 1, 1, 1, 1, 1, 2, 1, 2, 1,\n",
       "       1, 2, 1, 1, 4, 1, 1, 2, 1, 3, 1, 1, 1, 1, 1, 4, 1, 1, 1, 1, 1, 1,\n",
       "       1, 1, 1, 1, 1, 1, 1, 1, 1, 1, 1, 1, 1, 1, 1, 1, 1, 1, 1, 1, 1, 1,\n",
       "       1, 1, 1, 1, 1, 1, 1, 1, 1, 1, 1, 1, 1, 1, 1, 1, 1, 1, 1, 1, 1, 1,\n",
       "       1, 1, 1, 1, 1, 1, 1, 1, 1, 2, 1, 1, 1, 1, 1, 1, 1, 1, 1, 1, 1, 1,\n",
       "       1, 1, 1, 1, 1, 1, 1, 1, 1, 1, 1, 1, 1, 1, 1, 1, 1, 1, 1, 1, 1, 1,\n",
       "       1, 1, 1, 1, 1, 1, 1, 1, 1, 1, 1, 1, 1, 1, 1, 1, 1, 1, 2, 1, 3, 0,\n",
       "       1, 1, 0, 1, 0, 1, 1, 1, 1, 1, 1, 1, 1, 1, 1, 1, 1, 1, 1, 1, 1, 1,\n",
       "       1, 1, 1, 1, 1, 1, 1, 1, 1, 1, 1, 1, 1, 1, 1, 1, 1, 1, 1, 1, 1, 1,\n",
       "       1, 1, 1, 1, 1, 1, 1, 1, 1, 1, 1, 1, 1, 1, 1, 1, 1, 1, 1, 1, 1, 1,\n",
       "       1, 1, 1, 1, 1, 1, 1, 1, 1, 1, 1, 1, 1, 1, 2, 1, 2, 1, 1, 2, 2, 1,\n",
       "       1, 2, 4, 3, 2, 2, 1, 2, 1, 1, 1, 1, 2, 0, 0, 0, 3, 1, 0, 1, 2, 2,\n",
       "       2, 2, 2, 2, 2, 1, 1, 4, 1, 4, 1, 4, 4, 2, 4, 4, 1, 3, 2, 1, 1, 1,\n",
       "       1, 1, 1, 1, 1])"
      ]
     },
     "execution_count": 28,
     "metadata": {},
     "output_type": "execute_result"
    }
   ],
   "source": [
    "y"
   ]
  },
  {
   "cell_type": "code",
   "execution_count": 29,
   "id": "3b48cb76-e166-4e3d-853c-a6665f2ee0e8",
   "metadata": {},
   "outputs": [
    {
     "name": "stdout",
     "output_type": "stream",
     "text": [
      "(709, 32)\n",
      "(709,)\n"
     ]
    }
   ],
   "source": [
    "print(X.shape)\n",
    "print(y.shape)"
   ]
  },
  {
   "cell_type": "code",
   "execution_count": 30,
   "id": "f2201c98-1d69-454c-acb1-c64cd840e7b6",
   "metadata": {},
   "outputs": [
    {
     "name": "stdout",
     "output_type": "stream",
     "text": [
      "[[  0 237]\n",
      " [  1 408]\n",
      " [  2  43]\n",
      " [  3  11]\n",
      " [  4  10]]\n"
     ]
    }
   ],
   "source": [
    "(unique, counts) = np.unique(y, return_counts=True)\n",
    "frequencies = np.asarray((unique, counts)).T\n",
    "print(frequencies)"
   ]
  },
  {
   "cell_type": "code",
   "execution_count": 31,
   "id": "bb6dd594-6792-4866-a90b-ba5578ec1724",
   "metadata": {},
   "outputs": [
    {
     "data": {
      "text/plain": [
       "numpy.ndarray"
      ]
     },
     "execution_count": 31,
     "metadata": {},
     "output_type": "execute_result"
    }
   ],
   "source": [
    "type(X)"
   ]
  },
  {
   "cell_type": "code",
   "execution_count": 32,
   "id": "b8d71db1-2502-4933-ab8a-6e4539d307ef",
   "metadata": {},
   "outputs": [
    {
     "data": {
      "text/plain": [
       "numpy.ndarray"
      ]
     },
     "execution_count": 32,
     "metadata": {},
     "output_type": "execute_result"
    }
   ],
   "source": [
    "type(y)"
   ]
  },
  {
   "cell_type": "markdown",
   "id": "e05e3a52-3fb3-4eac-98ef-57019ff89327",
   "metadata": {
    "colab_type": "text",
    "id": "YvxIPVyMhmKp",
    "tags": []
   },
   "source": [
    "## Splitting the dataset into the Training set and Test set"
   ]
  },
  {
   "cell_type": "code",
   "execution_count": 33,
   "id": "8227c6ec-9769-40dc-a067-424cb5ccec58",
   "metadata": {
    "colab": {},
    "colab_type": "code",
    "id": "AVzJWAXIhxoC"
   },
   "outputs": [],
   "source": [
    "X_train, X_test, y_train, y_test = train_test_split(X, y, test_size = 0.1, random_state = 0)"
   ]
  },
  {
   "cell_type": "markdown",
   "id": "7aadc2bd-bc95-46d5-b9b0-644d12df513d",
   "metadata": {},
   "source": [
    "## Decision Tree Model without pruning"
   ]
  },
  {
   "cell_type": "markdown",
   "id": "fad1f15f-01a1-4dfc-bde2-67c9ecf6f8e4",
   "metadata": {
    "colab_type": "text",
    "id": "bb6jCOCQiAmP"
   },
   "source": [
    "## Training the Decision Tree Classification model on the Training set"
   ]
  },
  {
   "cell_type": "code",
   "execution_count": 34,
   "id": "d1c7750d-2ab6-47a1-825e-5214b2e0ab74",
   "metadata": {
    "colab": {
     "base_uri": "https://localhost:8080/",
     "height": 120
    },
    "colab_type": "code",
    "executionInfo": {
     "elapsed": 2037,
     "status": "ok",
     "timestamp": 1588269312370,
     "user": {
      "displayName": "Hadelin de Ponteves",
      "photoUrl": "https://lh3.googleusercontent.com/a-/AOh14GhEuXdT7eQweUmRPW8_laJuPggSK6hfvpl5a6WBaA=s64",
      "userId": "15047218817161520419"
     },
     "user_tz": -240
    },
    "id": "e0pFVAmciHQs",
    "outputId": "1a9b0904-ea86-40d9-bca2-a28fdf00d56d"
   },
   "outputs": [
    {
     "name": "stdout",
     "output_type": "stream",
     "text": [
      "Wall time: 19 ms\n"
     ]
    },
    {
     "data": {
      "text/plain": [
       "DecisionTreeClassifier(criterion='entropy', random_state=0)"
      ]
     },
     "execution_count": 34,
     "metadata": {},
     "output_type": "execute_result"
    }
   ],
   "source": [
    "%%time\n",
    "from sklearn.tree import DecisionTreeClassifier\n",
    "DT = DecisionTreeClassifier(criterion='entropy', random_state=0)\n",
    "DT.fit(X_train, y_train)"
   ]
  },
  {
   "cell_type": "markdown",
   "id": "827e5db9-b2b8-4023-a408-89a0ab4f4fad",
   "metadata": {
    "colab_type": "text",
    "id": "vKYVQH-l5NpE",
    "tags": []
   },
   "source": [
    "## Predicting the Test set results"
   ]
  },
  {
   "cell_type": "code",
   "execution_count": 35,
   "id": "15310c86-d4ed-4ea0-a005-8daf84fb61ea",
   "metadata": {},
   "outputs": [
    {
     "data": {
      "text/plain": [
       "191"
      ]
     },
     "execution_count": 35,
     "metadata": {},
     "output_type": "execute_result"
    }
   ],
   "source": [
    "DT.tree_.node_count"
   ]
  },
  {
   "cell_type": "code",
   "execution_count": 36,
   "id": "080f5df1-9324-49b6-99de-09986e7f44a1",
   "metadata": {},
   "outputs": [
    {
     "data": {
      "text/plain": [
       "13"
      ]
     },
     "execution_count": 36,
     "metadata": {},
     "output_type": "execute_result"
    }
   ],
   "source": [
    "DT.tree_.max_depth"
   ]
  },
  {
   "cell_type": "code",
   "execution_count": 37,
   "id": "a5efc3a4-27c2-4463-a137-abbe3d4160a1",
   "metadata": {
    "colab": {
     "base_uri": "https://localhost:8080/",
     "height": 1000
    },
    "colab_type": "code",
    "executionInfo": {
     "elapsed": 2029,
     "status": "ok",
     "timestamp": 1588269312371,
     "user": {
      "displayName": "Hadelin de Ponteves",
      "photoUrl": "https://lh3.googleusercontent.com/a-/AOh14GhEuXdT7eQweUmRPW8_laJuPggSK6hfvpl5a6WBaA=s64",
      "userId": "15047218817161520419"
     },
     "user_tz": -240
    },
    "id": "p6VMTb2O4hwM",
    "outputId": "05404102-6c3b-4c34-a180-e2a1d5a85e57",
    "tags": []
   },
   "outputs": [],
   "source": [
    "y_pred = DT.predict(X_test)\n",
    "#print(np.concatenate((y_pred.reshape(len(y_pred),1), y_test.reshape(len(y_test),1)),1))"
   ]
  },
  {
   "cell_type": "markdown",
   "id": "6719ab20-067e-4f33-be60-45d503e3d94c",
   "metadata": {
    "colab_type": "text",
    "id": "h4Hwj34ziWQW"
   },
   "source": [
    "## Making the Confusion Matrix"
   ]
  },
  {
   "cell_type": "code",
   "execution_count": 38,
   "id": "72d9ca0e-dcae-4a01-8286-c7a44e3c2298",
   "metadata": {
    "colab": {
     "base_uri": "https://localhost:8080/",
     "height": 68
    },
    "colab_type": "code",
    "executionInfo": {
     "elapsed": 2026,
     "status": "ok",
     "timestamp": 1588269312371,
     "user": {
      "displayName": "Hadelin de Ponteves",
      "photoUrl": "https://lh3.googleusercontent.com/a-/AOh14GhEuXdT7eQweUmRPW8_laJuPggSK6hfvpl5a6WBaA=s64",
      "userId": "15047218817161520419"
     },
     "user_tz": -240
    },
    "id": "D6bpZwUiiXic",
    "outputId": "031d8132-ae7a-4a4c-b2dd-26b88da40ed6",
    "tags": []
   },
   "outputs": [
    {
     "data": {
      "image/png": "[encoded data removed]",
      "text/plain": [
       "<Figure size 432x288 with 2 Axes>"
      ]
     },
     "metadata": {
      "needs_background": "light"
     },
     "output_type": "display_data"
    },
    {
     "name": "stdout",
     "output_type": "stream",
     "text": [
      "model accuracy: 0.831\n"
     ]
    }
   ],
   "source": [
    "cm = confusion_matrix(y_test, y_pred)\n",
    "#print(cm)\n",
    "disp = ConfusionMatrixDisplay(confusion_matrix=cm)\n",
    "disp.plot()\n",
    "plt.show()\n",
    "print(\"model accuracy: %.3f\" % accuracy_score(y_test, y_pred))"
   ]
  },
  {
   "cell_type": "markdown",
   "id": "a8f7b2a2-b0df-477d-bcca-f512869234b5",
   "metadata": {
    "tags": []
   },
   "source": [
    "## Cross Validation "
   ]
  },
  {
   "cell_type": "code",
   "execution_count": 39,
   "id": "8b5d2325-aad9-4657-bded-ac27d5d55d21",
   "metadata": {},
   "outputs": [
    {
     "name": "stdout",
     "output_type": "stream",
     "text": [
      "[0.8359375  0.796875   0.890625   0.82677165 0.8503937 ]\n",
      "Mean Accuracy: 84.01 %\n",
      "Standard Deviation: 3.07 %\n",
      "Wall time: 17 ms\n"
     ]
    }
   ],
   "source": [
    "%%time\n",
    "from sklearn.model_selection import cross_val_score\n",
    "DT = DecisionTreeClassifier(criterion = 'entropy')\n",
    "accuracies = cross_val_score(estimator = DT, X=X_train, y=y_train, cv = 5)\n",
    "print(accuracies)\n",
    "print(\"Mean Accuracy: {:.2f} %\".format(accuracies.mean()*100))\n",
    "print(\"Standard Deviation: {:.2f} %\".format(accuracies.std()*100))"
   ]
  },
  {
   "cell_type": "markdown",
   "id": "89a48337-480f-4ff0-9fd3-668ecfb3530f",
   "metadata": {},
   "source": [
    "## Decision Tree Model with pruning"
   ]
  },
  {
   "cell_type": "markdown",
   "id": "92e9b099-356a-4688-833f-0722df96a8bc",
   "metadata": {
    "colab_type": "text",
    "id": "bb6jCOCQiAmP"
   },
   "source": [
    "## Training the Decision Tree Classification model on the Training set"
   ]
  },
  {
   "cell_type": "code",
   "execution_count": 40,
   "id": "6580d5a9-c0b7-4e83-8cdd-8c9a7b71a341",
   "metadata": {
    "colab": {
     "base_uri": "https://localhost:8080/",
     "height": 120
    },
    "colab_type": "code",
    "executionInfo": {
     "elapsed": 2037,
     "status": "ok",
     "timestamp": 1588269312370,
     "user": {
      "displayName": "Hadelin de Ponteves",
      "photoUrl": "https://lh3.googleusercontent.com/a-/AOh14GhEuXdT7eQweUmRPW8_laJuPggSK6hfvpl5a6WBaA=s64",
      "userId": "15047218817161520419"
     },
     "user_tz": -240
    },
    "id": "e0pFVAmciHQs",
    "outputId": "1a9b0904-ea86-40d9-bca2-a28fdf00d56d"
   },
   "outputs": [
    {
     "name": "stdout",
     "output_type": "stream",
     "text": [
      "Wall time: 3 ms\n"
     ]
    },
    {
     "data": {
      "text/plain": [
       "DecisionTreeClassifier(ccp_alpha=0.00625, criterion='entropy', max_depth=8,\n",
       "                       max_leaf_nodes=50, random_state=0)"
      ]
     },
     "execution_count": 40,
     "metadata": {},
     "output_type": "execute_result"
    }
   ],
   "source": [
    "%%time\n",
    "from sklearn.tree import DecisionTreeClassifier\n",
    "DTWP = DecisionTreeClassifier(criterion='entropy', random_state=0, max_depth=8, max_leaf_nodes= 50, ccp_alpha=0.00625)\n",
    "DTWP.fit(X_train, y_train)"
   ]
  },
  {
   "cell_type": "markdown",
   "id": "c72ea19d-6c52-4d7a-b8c1-fad17af68a8d",
   "metadata": {
    "colab_type": "text",
    "id": "vKYVQH-l5NpE",
    "tags": []
   },
   "source": [
    "## Predicting the Test set results"
   ]
  },
  {
   "cell_type": "code",
   "execution_count": 41,
   "id": "cca57820-b6ea-43c8-af6a-b5b3389874dc",
   "metadata": {},
   "outputs": [
    {
     "data": {
      "text/plain": [
       "77"
      ]
     },
     "execution_count": 41,
     "metadata": {},
     "output_type": "execute_result"
    }
   ],
   "source": [
    "DTWP.tree_.node_count"
   ]
  },
  {
   "cell_type": "code",
   "execution_count": 42,
   "id": "7d383eb5-5885-4985-ab2c-21496a6024d6",
   "metadata": {},
   "outputs": [
    {
     "data": {
      "text/plain": [
       "8"
      ]
     },
     "execution_count": 42,
     "metadata": {},
     "output_type": "execute_result"
    }
   ],
   "source": [
    "DTWP.tree_.max_depth"
   ]
  },
  {
   "cell_type": "code",
   "execution_count": 43,
   "id": "1696f786-4a6a-4834-88d3-3aeff9a393cb",
   "metadata": {
    "colab": {
     "base_uri": "https://localhost:8080/",
     "height": 1000
    },
    "colab_type": "code",
    "executionInfo": {
     "elapsed": 2029,
     "status": "ok",
     "timestamp": 1588269312371,
     "user": {
      "displayName": "Hadelin de Ponteves",
      "photoUrl": "https://lh3.googleusercontent.com/a-/AOh14GhEuXdT7eQweUmRPW8_laJuPggSK6hfvpl5a6WBaA=s64",
      "userId": "15047218817161520419"
     },
     "user_tz": -240
    },
    "id": "p6VMTb2O4hwM",
    "outputId": "05404102-6c3b-4c34-a180-e2a1d5a85e57",
    "tags": []
   },
   "outputs": [],
   "source": [
    "y_pred = DTWP.predict(X_test)\n",
    "#print(np.concatenate((y_pred.reshape(len(y_pred),1), y_test.reshape(len(y_test),1)),1))"
   ]
  },
  {
   "cell_type": "markdown",
   "id": "248e05d1-52ea-49c6-9a3f-1ffbaf6f38bc",
   "metadata": {
    "colab_type": "text",
    "id": "h4Hwj34ziWQW"
   },
   "source": [
    "## Making the Confusion Matrix"
   ]
  },
  {
   "cell_type": "code",
   "execution_count": 44,
   "id": "5bb07d5c-c374-42b2-9709-bdd3ed9c9e3f",
   "metadata": {
    "colab": {
     "base_uri": "https://localhost:8080/",
     "height": 68
    },
    "colab_type": "code",
    "executionInfo": {
     "elapsed": 2026,
     "status": "ok",
     "timestamp": 1588269312371,
     "user": {
      "displayName": "Hadelin de Ponteves",
      "photoUrl": "https://lh3.googleusercontent.com/a-/AOh14GhEuXdT7eQweUmRPW8_laJuPggSK6hfvpl5a6WBaA=s64",
      "userId": "15047218817161520419"
     },
     "user_tz": -240
    },
    "id": "D6bpZwUiiXic",
    "outputId": "031d8132-ae7a-4a4c-b2dd-26b88da40ed6",
    "tags": []
   },
   "outputs": [
    {
     "data": {
      "image/png": "[encoded data removed]",
      "text/plain": [
       "<Figure size 432x288 with 2 Axes>"
      ]
     },
     "metadata": {
      "needs_background": "light"
     },
     "output_type": "display_data"
    },
    {
     "name": "stdout",
     "output_type": "stream",
     "text": [
      "model accuracy: 0.859\n"
     ]
    }
   ],
   "source": [
    "cm = confusion_matrix(y_test, y_pred)\n",
    "#print(cm)\n",
    "disp = ConfusionMatrixDisplay(confusion_matrix=cm)\n",
    "disp.plot()\n",
    "plt.show()\n",
    "print(\"model accuracy: %.3f\" % accuracy_score(y_test, y_pred))"
   ]
  },
  {
   "cell_type": "markdown",
   "id": "64728145-13b8-4a57-b184-0fcb08d4ff4e",
   "metadata": {
    "tags": []
   },
   "source": [
    "## Cross Validation "
   ]
  },
  {
   "cell_type": "code",
   "execution_count": 45,
   "id": "415efb91-4e99-4bdb-8d3e-21bbd5305dcb",
   "metadata": {},
   "outputs": [
    {
     "name": "stdout",
     "output_type": "stream",
     "text": [
      "[0.8671875 0.796875  0.8828125 0.8503937 0.8503937]\n",
      "Mean Accuracy: 84.95 %\n",
      "Standard Deviation: 2.90 %\n",
      "Wall time: 16.1 ms\n"
     ]
    }
   ],
   "source": [
    "%%time\n",
    "from sklearn.model_selection import cross_val_score\n",
    "DTWP = DecisionTreeClassifier(criterion='entropy', random_state=0, max_depth=8, max_leaf_nodes= 50, ccp_alpha=0.00625)\n",
    "accuracies = cross_val_score(estimator = DTWP, X=X_train, y=y_train, cv = 5)\n",
    "print(accuracies)\n",
    "print(\"Mean Accuracy: {:.2f} %\".format(accuracies.mean()*100))\n",
    "print(\"Standard Deviation: {:.2f} %\".format(accuracies.std()*100))"
   ]
  },
  {
   "cell_type": "markdown",
   "id": "eb203d9b-7df2-460f-ae4f-035521443a67",
   "metadata": {},
   "source": [
    "## Random Forest Model"
   ]
  },
  {
   "cell_type": "code",
   "execution_count": 46,
   "id": "84a09455-f1aa-47d3-acca-9131f72bc794",
   "metadata": {},
   "outputs": [
    {
     "name": "stdout",
     "output_type": "stream",
     "text": [
      "Wall time: 135 ms\n"
     ]
    },
    {
     "data": {
      "text/plain": [
       "RandomForestClassifier(criterion='entropy', random_state=0)"
      ]
     },
     "execution_count": 46,
     "metadata": {},
     "output_type": "execute_result"
    }
   ],
   "source": [
    "%%time\n",
    "from sklearn.ensemble import RandomForestClassifier\n",
    "RF = RandomForestClassifier(n_estimators = 100, criterion = 'entropy', random_state = 0)\n",
    "RF.fit(X_train, y_train)"
   ]
  },
  {
   "cell_type": "code",
   "execution_count": 47,
   "id": "dcd56285-31a7-430f-87ca-459827dee855",
   "metadata": {},
   "outputs": [
    {
     "data": {
      "image/png": "[encoded data removed]",
      "text/plain": [
       "<Figure size 432x288 with 2 Axes>"
      ]
     },
     "metadata": {
      "needs_background": "light"
     },
     "output_type": "display_data"
    },
    {
     "name": "stdout",
     "output_type": "stream",
     "text": [
      "model accuracy: 0.831\n"
     ]
    }
   ],
   "source": [
    "y_pred = RF.predict(X_test)\n",
    "cm = confusion_matrix(y_test, y_pred)\n",
    "disp = ConfusionMatrixDisplay(confusion_matrix=cm)\n",
    "disp.plot()\n",
    "plt.show()\n",
    "print(\"model accuracy: %.3f\" % accuracy_score(y_test, y_pred))"
   ]
  },
  {
   "cell_type": "markdown",
   "id": "55f36bf5-0a2f-4f69-9d83-b4c47494815d",
   "metadata": {
    "tags": []
   },
   "source": [
    "## Cross Validation "
   ]
  },
  {
   "cell_type": "code",
   "execution_count": 48,
   "id": "815bcb5d-1009-4e62-b94d-29eecfd7f0ef",
   "metadata": {
    "tags": []
   },
   "outputs": [
    {
     "name": "stdout",
     "output_type": "stream",
     "text": [
      "[0.8515625  0.8203125  0.84375    0.85826772 0.85826772]\n",
      "Accuracy: 84.64 %\n",
      "Standard Deviation: 1.41 %\n",
      "Wall time: 562 ms\n"
     ]
    }
   ],
   "source": [
    "%%time\n",
    "from sklearn.model_selection import cross_val_score\n",
    "RF = RandomForestClassifier(n_estimators = 100, criterion = 'entropy', random_state = 0)\n",
    "accuracies = cross_val_score(estimator = RF, X=X_train, y=y_train, cv = 5)\n",
    "print(accuracies)\n",
    "print(\"Accuracy: {:.2f} %\".format(accuracies.mean()*100))\n",
    "print(\"Standard Deviation: {:.2f} %\".format(accuracies.std()*100))"
   ]
  },
  {
   "cell_type": "markdown",
   "id": "cf3ecd55-9060-42d1-9444-d7615ea898e8",
   "metadata": {},
   "source": [
    "## Bagging Model"
   ]
  },
  {
   "cell_type": "code",
   "execution_count": 49,
   "id": "99fc1e6c-9870-4cea-8c17-6ee5d8c62fb3",
   "metadata": {},
   "outputs": [
    {
     "name": "stdout",
     "output_type": "stream",
     "text": [
      "Wall time: 213 ms\n"
     ]
    },
    {
     "data": {
      "text/plain": [
       "BaggingClassifier(n_estimators=100, random_state=0)"
      ]
     },
     "execution_count": 49,
     "metadata": {},
     "output_type": "execute_result"
    }
   ],
   "source": [
    "%%time\n",
    "from sklearn.ensemble import BaggingClassifier\n",
    "BGG = BaggingClassifier(n_estimators = 100, random_state = 0)\n",
    "BGG.fit(X_train, y_train)"
   ]
  },
  {
   "cell_type": "code",
   "execution_count": 50,
   "id": "8c585129-735d-47e6-8e52-74bc6243f0ca",
   "metadata": {},
   "outputs": [
    {
     "data": {
      "image/png": "[encoded data removed]",
      "text/plain": [
       "<Figure size 432x288 with 2 Axes>"
      ]
     },
     "metadata": {
      "needs_background": "light"
     },
     "output_type": "display_data"
    },
    {
     "name": "stdout",
     "output_type": "stream",
     "text": [
      "model accuracy: 0.873\n"
     ]
    }
   ],
   "source": [
    "y_pred = BGG.predict(X_test)\n",
    "cm = confusion_matrix(y_test, y_pred)\n",
    "disp = ConfusionMatrixDisplay(confusion_matrix=cm)\n",
    "disp.plot()\n",
    "plt.show()\n",
    "print(\"model accuracy: %.3f\" % accuracy_score(y_test, y_pred))"
   ]
  },
  {
   "cell_type": "markdown",
   "id": "80d8372e-617a-419a-ba41-7afdccc53e98",
   "metadata": {
    "tags": []
   },
   "source": [
    "## Cross Validation "
   ]
  },
  {
   "cell_type": "code",
   "execution_count": 51,
   "id": "099711cf-9148-4097-b03a-3c7e041e7fec",
   "metadata": {},
   "outputs": [
    {
     "name": "stdout",
     "output_type": "stream",
     "text": [
      "[0.84375    0.8359375  0.859375   0.86614173 0.84251969]\n",
      "Accuracy: 84.95 %\n",
      "Standard Deviation: 1.13 %\n",
      "Wall time: 952 ms\n"
     ]
    }
   ],
   "source": [
    "%%time\n",
    "from sklearn.model_selection import cross_val_score\n",
    "BGG = BaggingClassifier(n_estimators = 100, random_state = 0)\n",
    "accuracies = cross_val_score(estimator = BGG, X=X_train, y=y_train, cv = 5)\n",
    "print(accuracies)\n",
    "print(\"Accuracy: {:.2f} %\".format(accuracies.mean()*100))\n",
    "print(\"Standard Deviation: {:.2f} %\".format(accuracies.std()*100))"
   ]
  },
  {
   "cell_type": "markdown",
   "id": "b1d9378d-cc0f-494b-9b51-d1560582739d",
   "metadata": {},
   "source": [
    "## Adaptive Boosting"
   ]
  },
  {
   "cell_type": "code",
   "execution_count": 52,
   "id": "0a631a2f-ecfe-4313-8b34-8f365c734583",
   "metadata": {},
   "outputs": [
    {
     "name": "stdout",
     "output_type": "stream",
     "text": [
      "Wall time: 357 ms\n"
     ]
    },
    {
     "data": {
      "text/plain": [
       "AdaBoostClassifier(algorithm='SAMME',\n",
       "                   base_estimator=DecisionTreeClassifier(criterion='entropy',\n",
       "                                                         max_depth=4,\n",
       "                                                         max_leaf_nodes=11,\n",
       "                                                         random_state=0),\n",
       "                   learning_rate=0.4, n_estimators=200, random_state=0)"
      ]
     },
     "execution_count": 52,
     "metadata": {},
     "output_type": "execute_result"
    }
   ],
   "source": [
    "%%time\n",
    "from sklearn.ensemble import AdaBoostClassifier\n",
    "base_estimator= DecisionTreeClassifier(criterion = 'entropy',max_depth= 4, max_leaf_nodes= 11, random_state = 0)\n",
    "AB = AdaBoostClassifier(base_estimator= base_estimator, n_estimators=200, learning_rate=0.4, algorithm='SAMME', random_state= 0)\n",
    "AB.fit(X_train, y_train)"
   ]
  },
  {
   "cell_type": "code",
   "execution_count": 53,
   "id": "f0a930bf-a3f4-4dbb-95d1-bcb99295e981",
   "metadata": {},
   "outputs": [
    {
     "data": {
      "image/png": "[encoded data removed]",
      "text/plain": [
       "<Figure size 432x288 with 2 Axes>"
      ]
     },
     "metadata": {
      "needs_background": "light"
     },
     "output_type": "display_data"
    },
    {
     "name": "stdout",
     "output_type": "stream",
     "text": [
      "model accuracy: 0.873\n"
     ]
    }
   ],
   "source": [
    "y_pred = AB.predict(X_test)\n",
    "cm = confusion_matrix(y_test, y_pred)\n",
    "disp = ConfusionMatrixDisplay(confusion_matrix=cm)\n",
    "disp.plot()\n",
    "plt.show()\n",
    "print(\"model accuracy: %.3f\" % accuracy_score(y_test, y_pred))"
   ]
  },
  {
   "cell_type": "code",
   "execution_count": 54,
   "id": "b22cc3cb-dfc2-4fe4-aef7-6b9ca65ccdbe",
   "metadata": {},
   "outputs": [
    {
     "data": {
      "image/png": "[encoded data removed]",
      "text/plain": [
       "<Figure size 432x288 with 1 Axes>"
      ]
     },
     "metadata": {
      "needs_background": "light"
     },
     "output_type": "display_data"
    }
   ],
   "source": [
    "# plot\n",
    "plt.bar(range(len(AB.feature_importances_)), AB.feature_importances_)\n",
    "plt.show()"
   ]
  },
  {
   "cell_type": "markdown",
   "id": "e8044bb3-07b9-4c7e-9d0c-5e15e13473dc",
   "metadata": {
    "tags": []
   },
   "source": [
    "## Cross Validation "
   ]
  },
  {
   "cell_type": "code",
   "execution_count": 55,
   "id": "64d8797f-c626-4f53-b3fc-c2311940c322",
   "metadata": {},
   "outputs": [
    {
     "name": "stdout",
     "output_type": "stream",
     "text": [
      "[0.8515625  0.84375    0.859375   0.87401575 0.86614173]\n",
      "Accuracy: 85.90 %\n",
      "Standard Deviation: 1.06 %\n",
      "Wall time: 1.62 s\n"
     ]
    }
   ],
   "source": [
    "%%time\n",
    "from sklearn.model_selection import cross_val_score\n",
    "AB = AB\n",
    "accuracies = cross_val_score(estimator = AB, X=X_train, y=y_train, cv = 5)\n",
    "print(accuracies)\n",
    "print(\"Accuracy: {:.2f} %\".format(accuracies.mean()*100))\n",
    "print(\"Standard Deviation: {:.2f} %\".format(accuracies.std()*100))"
   ]
  },
  {
   "cell_type": "markdown",
   "id": "2d72b191-f39f-4a74-9404-32473f8683d6",
   "metadata": {},
   "source": [
    "## Gradient Boosting"
   ]
  },
  {
   "cell_type": "code",
   "execution_count": 56,
   "id": "1466996c-96e7-4596-a8a0-3cdef1488937",
   "metadata": {},
   "outputs": [
    {
     "name": "stdout",
     "output_type": "stream",
     "text": [
      "Wall time: 2.45 s\n"
     ]
    },
    {
     "data": {
      "text/plain": [
       "GradientBoostingClassifier(learning_rate=0.01, max_depth=6, max_leaf_nodes=16,\n",
       "                           n_estimators=350, random_state=0, subsample=0.7)"
      ]
     },
     "execution_count": 56,
     "metadata": {},
     "output_type": "execute_result"
    }
   ],
   "source": [
    "%%time\n",
    "from sklearn.ensemble import GradientBoostingClassifier\n",
    "GB = GradientBoostingClassifier(n_estimators=350, learning_rate=0.01, max_depth=6, max_leaf_nodes=16, subsample= 0.7, random_state= 0)\n",
    "GB.fit(X_train, y_train)"
   ]
  },
  {
   "cell_type": "code",
   "execution_count": 57,
   "id": "97030030-6a05-4150-a01e-c47914d8534d",
   "metadata": {},
   "outputs": [
    {
     "name": "stdout",
     "output_type": "stream",
     "text": [
      "[0.02495282 0.05302125 0.03442903 0.01018163 0.03508668 0.03310694\n",
      " 0.00742219 0.02702099 0.0203945  0.00565021 0.00357471 0.01429824\n",
      " 0.00789209 0.00632973 0.00408379 0.00929877 0.01260661 0.00698752\n",
      " 0.06619315 0.00529614 0.00826294 0.00386462 0.00392613 0.20677318\n",
      " 0.05356174 0.00169613 0.04490544 0.01557861 0.08793544 0.04151985\n",
      " 0.0582483  0.08590063]\n"
     ]
    }
   ],
   "source": [
    "print(GB.feature_importances_)"
   ]
  },
  {
   "cell_type": "code",
   "execution_count": 58,
   "id": "cad7ec84-107f-4541-ae2b-dbcbdf584920",
   "metadata": {},
   "outputs": [
    {
     "data": {
      "image/png": "[encoded data removed]",
      "text/plain": [
       "<Figure size 432x288 with 1 Axes>"
      ]
     },
     "metadata": {
      "needs_background": "light"
     },
     "output_type": "display_data"
    }
   ],
   "source": [
    "# plot\n",
    "plt.bar(range(len(GB.feature_importances_)), GB.feature_importances_)\n",
    "plt.show()"
   ]
  },
  {
   "cell_type": "code",
   "execution_count": 59,
   "id": "35aa5794-d87f-458f-a2b8-955d35f9532c",
   "metadata": {},
   "outputs": [
    {
     "data": {
      "image/png": "[encoded data removed]",
      "text/plain": [
       "<Figure size 432x288 with 2 Axes>"
      ]
     },
     "metadata": {
      "needs_background": "light"
     },
     "output_type": "display_data"
    },
    {
     "name": "stdout",
     "output_type": "stream",
     "text": [
      "model accuracy: 0.845\n"
     ]
    }
   ],
   "source": [
    "y_pred = GB.predict(X_test)\n",
    "cm = confusion_matrix(y_test, y_pred)\n",
    "disp = ConfusionMatrixDisplay(confusion_matrix=cm)\n",
    "disp.plot()\n",
    "plt.show()\n",
    "print(\"model accuracy: %.3f\" % accuracy_score(y_test, y_pred))"
   ]
  },
  {
   "cell_type": "markdown",
   "id": "6be8bef6-bbd6-423b-b337-f9483e9e2500",
   "metadata": {},
   "source": [
    "## Applying K-Fold Cross Validation to Gradient Boosting"
   ]
  },
  {
   "cell_type": "code",
   "execution_count": 60,
   "id": "7564863a-200a-4cad-99c9-dad2b8c98e98",
   "metadata": {},
   "outputs": [
    {
     "name": "stdout",
     "output_type": "stream",
     "text": [
      "[0.859375   0.8515625  0.875      0.86614173 0.86614173]\n",
      "Accuracy: 86.36 %\n",
      "Standard Deviation: 0.78 %\n",
      "Wall time: 10.8 s\n"
     ]
    }
   ],
   "source": [
    "%%time\n",
    "from sklearn.model_selection import cross_val_score\n",
    "GB = GB\n",
    "accuracies = cross_val_score(estimator = GB, X=X_train, y=y_train, cv = 5)\n",
    "print(accuracies)\n",
    "print(\"Accuracy: {:.2f} %\".format(accuracies.mean()*100))\n",
    "print(\"Standard Deviation: {:.2f} %\".format(accuracies.std()*100))"
   ]
  },
  {
   "cell_type": "code",
   "execution_count": 62,
   "id": "8297101d-cf5e-40e3-ac5f-4bfdf7c24bdb",
   "metadata": {},
   "outputs": [
    {
     "name": "stdout",
     "output_type": "stream",
     "text": [
      "DT: 0.838533 (0.029214)\n",
      "DTWP: 0.849532 (0.028961)\n",
      "RF: 0.846432 (0.014113)\n",
      "BGG: 0.849545 (0.011315)\n",
      "AB: 0.858969 (0.010625)\n",
      "GB: 0.863644 (0.007818)\n"
     ]
    },
    {
     "data": {
      "image/png": "[encoded data removed]",
      "text/plain": [
       "<Figure size 432x288 with 1 Axes>"
      ]
     },
     "metadata": {
      "needs_background": "light"
     },
     "output_type": "display_data"
    }
   ],
   "source": [
    "# Compare Algorithms\n",
    "import pandas\n",
    "import matplotlib.pyplot as plt\n",
    "from sklearn import model_selection\n",
    "from sklearn.pipeline import make_pipeline\n",
    "# load dataset\n",
    "# prepare configuration for cross validation test harness\n",
    "# prepare models\n",
    "models = []\n",
    "#models.append(('LR',LogisticRegression(random_state = 0, max_iter=1000)))\n",
    "models.append(('DT',DT))\n",
    "models.append(('DTWP',DTWP))\n",
    "models.append(('RF',RF))\n",
    "models.append(('BGG',BGG))\n",
    "models.append(('AB',AB)) \n",
    "models.append(('GB',GB))\n",
    "# evaluate each model in turn\n",
    "results = []\n",
    "names = []\n",
    "scoring = 'accuracy'\n",
    "for name, model in models:\n",
    "    cv_results = model_selection.cross_val_score(model, X_train, y_train, cv=5, scoring=scoring)\n",
    "    results.append(cv_results)\n",
    "    names.append(name)\n",
    "    msg = \"%s: %f (%f)\" % (name, cv_results.mean(), cv_results.std())\n",
    "    print(msg)\n",
    "# boxplot algorithm comparison\n",
    "fig = plt.figure()\n",
    "fig.suptitle('Model Comparison w.r.t Accuracy')\n",
    "ax = fig.add_subplot(111)\n",
    "plt.boxplot(results)\n",
    "ax.set_xticklabels(names)\n",
    "plt.show()"
   ]
  },
  {
   "cell_type": "code",
   "execution_count": null,
   "id": "d41ed7ae-cbf4-4c7c-a8bc-d84c2fe15172",
   "metadata": {},
   "outputs": [],
   "source": []
  }
 ],
 "metadata": {
  "kernelspec": {
   "display_name": "Python 3 (ipykernel)",
   "language": "python",
   "name": "python3"
  },
  "language_info": {
   "codemirror_mode": {
    "name": "ipython",
    "version": 3
   },
   "file_extension": ".py",
   "mimetype": "text/x-python",
   "name": "python",
   "nbconvert_exporter": "python",
   "pygments_lexer": "ipython3",
   "version": "3.9.7"
  }
 },
 "nbformat": 4,
 "nbformat_minor": 5
}
