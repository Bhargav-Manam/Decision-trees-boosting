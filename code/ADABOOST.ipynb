{
 "cells": [
  {
   "cell_type": "markdown",
   "id": "ada2b809-adc6-49b1-adc4-9996800b3356",
   "metadata": {},
   "source": [
    "# Classification Problem on Urban Tree Dataset"
   ]
  },
  {
   "cell_type": "markdown",
   "id": "124f50ae-190c-46b4-a5c2-7c54d9419047",
   "metadata": {},
   "source": [
    "## PreProcessing"
   ]
  },
  {
   "cell_type": "markdown",
   "id": "e962ffc0-2f5b-4575-b18f-5356b27dcf82",
   "metadata": {},
   "source": [
    "### Importing the libraries"
   ]
  },
  {
   "cell_type": "code",
   "execution_count": 1,
   "id": "7cae2a6a-9213-4cb3-ac1c-8a70cce0230f",
   "metadata": {},
   "outputs": [],
   "source": [
    "import numpy as np\n",
    "import pandas as pd\n",
    "import matplotlib.pyplot as plt\n",
    "%matplotlib inline\n",
    "import time\n",
    "from sklearn.compose import ColumnTransformer\n",
    "from sklearn.pipeline import Pipeline\n",
    "from sklearn.preprocessing import OrdinalEncoder\n",
    "from sklearn.model_selection import train_test_split, GridSearchCV, RepeatedStratifiedKFold\n",
    "from sklearn.metrics import f1_score, roc_curve, auc,confusion_matrix, RocCurveDisplay"
   ]
  },
  {
   "cell_type": "markdown",
   "id": "a75ef9d8-40e1-4327-afa5-2384cee43188",
   "metadata": {},
   "source": [
    "### Importing the Data set, Cleaning Data and Handling Missing Values"
   ]
  },
  {
   "cell_type": "code",
   "execution_count": 2,
   "id": "af1caba9-bcda-4d58-98f0-0e697407c7be",
   "metadata": {},
   "outputs": [],
   "source": [
    "df = pd.read_csv('sgl-arbres-urbains-wgs84.csv')"
   ]
  },
  {
   "cell_type": "code",
   "execution_count": 3,
   "id": "1c77eb32-4ab7-455d-82ac-716ec060a084",
   "metadata": {},
   "outputs": [],
   "source": [
    "df= df.drop([\"ID_ARBRE\", \"commune\", \"controle\", \"insecte_collet\", \"insecte_tronc\", \"insecte_houppier\",\"circonference (en cm)\", \"observation_collet\", \"observation_tronc\", \"observation_houppier\"], axis=1 )\n",
    "#Handling Missing Values\n",
    "mode_cote_voirie=df.cote_voirie.mode()[0]\n",
    "mode_espece_arbre=df.espece_arbre.mode()[0]\n",
    "mode_situation=df.situation.mode()[0]\n",
    "mode_plaie_collet=df.plaie_collet.mode()[0]\n",
    "mode_champignon_tronc=df.champignon_tronc.mode()[0]\n",
    "mode_fissure_tronc=df.fissure_tronc.mode()[0]\n",
    "mode_rejet_tronc=df.rejet_tronc.mode()[0]\n",
    "mode_plaie_tronc=df.plaie_tronc.mode()[0]\n",
    "mode_champignon_houppier=df.champignon_houppier.mode()[0]\n",
    "mode_fissure_houppier=df.fissure_houppier.mode()[0]\n",
    "mode_ecorce_incluse_houppier=df.ecorce_incluse_houppier.mode()[0]\n",
    "mode_bois_mort_houppier=df.bois_mort_houppier.mode()[0]\n",
    "mode_plaie_houppier=df.plaie_houppier.mode()[0]\n",
    "mode_contrainte=df.contrainte.mode()[0]\n",
    "mode_classification_diagnostic=df.classification_diagnostic.mode()[0]\n",
    "median_esperance_maintien=df.esperance_maintien.median()\n",
    "\n",
    "df=df.fillna({\"cote_voirie\": mode_cote_voirie, \"espece_arbre\": mode_espece_arbre, \"situation\": mode_situation,\n",
    "            \"plaie_collet\": mode_plaie_collet, \"champignon_tronc\": mode_champignon_tronc,\n",
    "            \"fissure_tronc\": mode_fissure_tronc, \"rejet_tronc\": mode_rejet_tronc, \"plaie_tronc\": mode_plaie_tronc, \n",
    "              \"champignon_houppier\": mode_champignon_houppier, \"fissure_houppier\":mode_fissure_houppier, \"ecorce_incluse_houppier\": mode_ecorce_incluse_houppier,\n",
    "            \"bois_mort_houppier\": mode_bois_mort_houppier, \"plaie_houppier\": mode_plaie_houppier, \"contrainte\": mode_contrainte,\n",
    "            \"classification_diagnostic\": mode_classification_diagnostic, \"esperance_maintien\": median_esperance_maintien})"
   ]
  },
  {
   "cell_type": "code",
   "execution_count": 4,
   "id": "075e801c-0894-477e-b71b-36c356f8930e",
   "metadata": {},
   "outputs": [
    {
     "data": {
      "text/html": [
       "<div>\n",
       "<style scoped>\n",
       "    .dataframe tbody tr th:only-of-type {\n",
       "        vertical-align: middle;\n",
       "    }\n",
       "\n",
       "    .dataframe tbody tr th {\n",
       "        vertical-align: top;\n",
       "    }\n",
       "\n",
       "    .dataframe thead th {\n",
       "        text-align: right;\n",
       "    }\n",
       "</style>\n",
       "<table border=\"1\" class=\"dataframe\">\n",
       "  <thead>\n",
       "    <tr style=\"text-align: right;\">\n",
       "      <th></th>\n",
       "      <th>quartier</th>\n",
       "      <th>site</th>\n",
       "      <th>cote_voirie</th>\n",
       "      <th>matricule_arbre</th>\n",
       "      <th>genre_arbre</th>\n",
       "      <th>espece_arbre</th>\n",
       "      <th>situation</th>\n",
       "      <th>type_sol</th>\n",
       "      <th>surf_permeable</th>\n",
       "      <th>date_plantation</th>\n",
       "      <th>...</th>\n",
       "      <th>canisse_arbre</th>\n",
       "      <th>plaie_tronc</th>\n",
       "      <th>champignon_houppier</th>\n",
       "      <th>fissure_houppier</th>\n",
       "      <th>ecorce_incluse_houppier</th>\n",
       "      <th>bois_mort_houppier</th>\n",
       "      <th>plaie_houppier</th>\n",
       "      <th>esperance_maintien</th>\n",
       "      <th>contrainte</th>\n",
       "      <th>classification_diagnostic</th>\n",
       "    </tr>\n",
       "  </thead>\n",
       "  <tbody>\n",
       "    <tr>\n",
       "      <th>0</th>\n",
       "      <td>Quartier 2 - Alsace - Pereire</td>\n",
       "      <td>Carrefour RN13</td>\n",
       "      <td>Impair</td>\n",
       "      <td>7</td>\n",
       "      <td>Betula</td>\n",
       "      <td>Alba</td>\n",
       "      <td>Groupe</td>\n",
       "      <td>P</td>\n",
       "      <td>5.0</td>\n",
       "      <td>2000</td>\n",
       "      <td>...</td>\n",
       "      <td>Non</td>\n",
       "      <td>TPLNC</td>\n",
       "      <td>Non</td>\n",
       "      <td>HPF</td>\n",
       "      <td>Non</td>\n",
       "      <td>HBMI</td>\n",
       "      <td>HPLC</td>\n",
       "      <td>1.0</td>\n",
       "      <td>Non</td>\n",
       "      <td>C2</td>\n",
       "    </tr>\n",
       "    <tr>\n",
       "      <th>1</th>\n",
       "      <td>Quartier 2 - Alsace - Pereire</td>\n",
       "      <td>Carrefour RN13</td>\n",
       "      <td>Impair</td>\n",
       "      <td>8</td>\n",
       "      <td>Betula</td>\n",
       "      <td>Alba</td>\n",
       "      <td>Groupe</td>\n",
       "      <td>P</td>\n",
       "      <td>5.0</td>\n",
       "      <td>2000</td>\n",
       "      <td>...</td>\n",
       "      <td>Non</td>\n",
       "      <td>TPLC</td>\n",
       "      <td>Non</td>\n",
       "      <td>HPF</td>\n",
       "      <td>Non</td>\n",
       "      <td>HBMI</td>\n",
       "      <td>HPLC</td>\n",
       "      <td>1.0</td>\n",
       "      <td>Non</td>\n",
       "      <td>C2</td>\n",
       "    </tr>\n",
       "    <tr>\n",
       "      <th>2</th>\n",
       "      <td>Quartier 2 - Alsace - Pereire</td>\n",
       "      <td>Carrefour RN13</td>\n",
       "      <td>Impair</td>\n",
       "      <td>9</td>\n",
       "      <td>Betula</td>\n",
       "      <td>Alba</td>\n",
       "      <td>Groupe</td>\n",
       "      <td>P</td>\n",
       "      <td>5.0</td>\n",
       "      <td>2000</td>\n",
       "      <td>...</td>\n",
       "      <td>Non</td>\n",
       "      <td>TPLCF</td>\n",
       "      <td>Non</td>\n",
       "      <td>HPF</td>\n",
       "      <td>Non</td>\n",
       "      <td>HBMI</td>\n",
       "      <td>HPLC</td>\n",
       "      <td>1.0</td>\n",
       "      <td>Non</td>\n",
       "      <td>C2</td>\n",
       "    </tr>\n",
       "    <tr>\n",
       "      <th>3</th>\n",
       "      <td>Quartier 2 - Alsace - Pereire</td>\n",
       "      <td>Carrefour RN13</td>\n",
       "      <td>Impair</td>\n",
       "      <td>1</td>\n",
       "      <td>Carpinus</td>\n",
       "      <td>Betulus - L. - Fastigiata</td>\n",
       "      <td>Bosquet</td>\n",
       "      <td>G</td>\n",
       "      <td>100.0</td>\n",
       "      <td>1980</td>\n",
       "      <td>...</td>\n",
       "      <td>Non</td>\n",
       "      <td>TPLS</td>\n",
       "      <td>Non</td>\n",
       "      <td>HPF</td>\n",
       "      <td>Non</td>\n",
       "      <td>HBMI</td>\n",
       "      <td>HPLS</td>\n",
       "      <td>1.0</td>\n",
       "      <td>Non</td>\n",
       "      <td>C2</td>\n",
       "    </tr>\n",
       "    <tr>\n",
       "      <th>4</th>\n",
       "      <td>Quartier 2 - Alsace - Pereire</td>\n",
       "      <td>Carrefour RN13</td>\n",
       "      <td>Impair</td>\n",
       "      <td>2</td>\n",
       "      <td>Carpinus</td>\n",
       "      <td>Betulus - L. - Fastigiata</td>\n",
       "      <td>Bosquet</td>\n",
       "      <td>G</td>\n",
       "      <td>100.0</td>\n",
       "      <td>1980</td>\n",
       "      <td>...</td>\n",
       "      <td>Non</td>\n",
       "      <td>TPLS</td>\n",
       "      <td>Non</td>\n",
       "      <td>HPF</td>\n",
       "      <td>Non</td>\n",
       "      <td>HBMI</td>\n",
       "      <td>HPLS</td>\n",
       "      <td>1.0</td>\n",
       "      <td>Non</td>\n",
       "      <td>C2</td>\n",
       "    </tr>\n",
       "  </tbody>\n",
       "</table>\n",
       "<p>5 rows × 33 columns</p>\n",
       "</div>"
      ],
      "text/plain": [
       "                        quartier            site cote_voirie  matricule_arbre  \\\n",
       "0  Quartier 2 - Alsace - Pereire  Carrefour RN13      Impair                7   \n",
       "1  Quartier 2 - Alsace - Pereire  Carrefour RN13      Impair                8   \n",
       "2  Quartier 2 - Alsace - Pereire  Carrefour RN13      Impair                9   \n",
       "3  Quartier 2 - Alsace - Pereire  Carrefour RN13      Impair                1   \n",
       "4  Quartier 2 - Alsace - Pereire  Carrefour RN13      Impair                2   \n",
       "\n",
       "  genre_arbre                espece_arbre situation type_sol  surf_permeable  \\\n",
       "0      Betula                        Alba    Groupe        P             5.0   \n",
       "1      Betula                        Alba    Groupe        P             5.0   \n",
       "2      Betula                        Alba    Groupe        P             5.0   \n",
       "3    Carpinus   Betulus - L. - Fastigiata   Bosquet        G           100.0   \n",
       "4    Carpinus   Betulus - L. - Fastigiata   Bosquet        G           100.0   \n",
       "\n",
       "   date_plantation  ... canisse_arbre  plaie_tronc champignon_houppier  \\\n",
       "0             2000  ...           Non        TPLNC                 Non   \n",
       "1             2000  ...           Non         TPLC                 Non   \n",
       "2             2000  ...           Non        TPLCF                 Non   \n",
       "3             1980  ...           Non         TPLS                 Non   \n",
       "4             1980  ...           Non         TPLS                 Non   \n",
       "\n",
       "   fissure_houppier ecorce_incluse_houppier bois_mort_houppier plaie_houppier  \\\n",
       "0              HPF                      Non              HBMI            HPLC   \n",
       "1              HPF                      Non              HBMI            HPLC   \n",
       "2              HPF                      Non              HBMI            HPLC   \n",
       "3              HPF                      Non              HBMI            HPLS   \n",
       "4              HPF                      Non              HBMI            HPLS   \n",
       "\n",
       "  esperance_maintien contrainte classification_diagnostic  \n",
       "0                1.0        Non                        C2  \n",
       "1                1.0        Non                        C2  \n",
       "2                1.0        Non                        C2  \n",
       "3                1.0        Non                        C2  \n",
       "4                1.0        Non                        C2  \n",
       "\n",
       "[5 rows x 33 columns]"
      ]
     },
     "execution_count": 4,
     "metadata": {},
     "output_type": "execute_result"
    }
   ],
   "source": [
    "df.head()"
   ]
  },
  {
   "cell_type": "code",
   "execution_count": 5,
   "id": "9e30976a-0a79-4392-85d7-c6a53643a7b8",
   "metadata": {},
   "outputs": [
    {
     "name": "stdout",
     "output_type": "stream",
     "text": [
      "<class 'pandas.core.frame.DataFrame'>\n",
      "RangeIndex: 709 entries, 0 to 708\n",
      "Data columns (total 33 columns):\n",
      " #   Column                     Non-Null Count  Dtype  \n",
      "---  ------                     --------------  -----  \n",
      " 0   quartier                   709 non-null    object \n",
      " 1   site                       709 non-null    object \n",
      " 2   cote_voirie                709 non-null    object \n",
      " 3   contrainte                 709 non-null    object \n",
      " 4   genre_arbre                709 non-null    object \n",
      " 5   espece_arbre               709 non-null    object \n",
      " 6   situation                  709 non-null    object \n",
      " 7   type_sol                   709 non-null    object \n",
      " 8   plaie_houppier             709 non-null    object \n",
      " 9   bois_mort_houppier         709 non-null    object \n",
      " 10  classe_age                 709 non-null    object \n",
      " 11  ecorce_incluse_houppier    709 non-null    object \n",
      " 12  classe_hauteur             709 non-null    object \n",
      " 13  fissure_houppier           709 non-null    object \n",
      " 14  classe_circonference       709 non-null    object \n",
      " 15  port_arbre                 709 non-null    object \n",
      " 16  vigueur_pousse             709 non-null    object \n",
      " 17  champignon_collet          709 non-null    object \n",
      " 18  plaie_collet               709 non-null    object \n",
      " 19  champignon_tronc           709 non-null    object \n",
      " 20  fissure_tronc              709 non-null    object \n",
      " 21  rejet_tronc                709 non-null    object \n",
      " 22  tuteurage_arbre            709 non-null    object \n",
      " 23  canisse_arbre              709 non-null    object \n",
      " 24  plaie_tronc                709 non-null    object \n",
      " 25  champignon_houppier        709 non-null    object \n",
      " 26  diametre                   709 non-null    float64\n",
      " 27  hauteur                    709 non-null    int64  \n",
      " 28  date_plantation            709 non-null    int64  \n",
      " 29  surf_permeable             709 non-null    float64\n",
      " 30  esperance_maintien         709 non-null    float64\n",
      " 31  matricule_arbre            709 non-null    int64  \n",
      " 32  classification_diagnostic  709 non-null    object \n",
      "dtypes: float64(3), int64(3), object(27)\n",
      "memory usage: 182.9+ KB\n"
     ]
    }
   ],
   "source": [
    "#define function to swap columns so that all numerical data will be in the end columns\n",
    "def swap_columns(df, col1, col2):\n",
    "    col_list = list(df.columns)\n",
    "    a, b = col_list.index(col1), col_list.index(col2)\n",
    "    col_list[b], col_list[a] = col_list[a], col_list[b]\n",
    "    df = df[col_list]\n",
    "    return df\n",
    "\n",
    "#swaping columns\n",
    "df = swap_columns(df, 'matricule_arbre', 'contrainte')\n",
    "df = swap_columns(df, 'surf_permeable', 'plaie_houppier')\n",
    "df = swap_columns(df, 'date_plantation', 'bois_mort_houppier')\n",
    "df = swap_columns(df, 'hauteur', 'ecorce_incluse_houppier')\n",
    "df = swap_columns(df, 'diametre', 'fissure_houppier')\n",
    "\n",
    "df.info()"
   ]
  },
  {
   "cell_type": "code",
   "execution_count": 6,
   "id": "166dc29c-de2c-421d-aee7-1aff088fcc80",
   "metadata": {},
   "outputs": [
    {
     "data": {
      "image/png": "[encoded data removed]",
      "text/plain": [
       "<Figure size 1440x1008 with 6 Axes>"
      ]
     },
     "metadata": {
      "needs_background": "light"
     },
     "output_type": "display_data"
    }
   ],
   "source": [
    "_ = df.hist(figsize=(20, 14))"
   ]
  },
  {
   "cell_type": "code",
   "execution_count": 7,
   "id": "5fcc0d37-6efe-427c-b33f-edc8a48954fc",
   "metadata": {},
   "outputs": [
    {
     "data": {
      "text/html": [
       "<div>\n",
       "<style scoped>\n",
       "    .dataframe tbody tr th:only-of-type {\n",
       "        vertical-align: middle;\n",
       "    }\n",
       "\n",
       "    .dataframe tbody tr th {\n",
       "        vertical-align: top;\n",
       "    }\n",
       "\n",
       "    .dataframe thead th {\n",
       "        text-align: right;\n",
       "    }\n",
       "</style>\n",
       "<table border=\"1\" class=\"dataframe\">\n",
       "  <thead>\n",
       "    <tr style=\"text-align: right;\">\n",
       "      <th></th>\n",
       "      <th>diametre</th>\n",
       "      <th>hauteur</th>\n",
       "      <th>date_plantation</th>\n",
       "      <th>surf_permeable</th>\n",
       "      <th>esperance_maintien</th>\n",
       "      <th>matricule_arbre</th>\n",
       "    </tr>\n",
       "  </thead>\n",
       "  <tbody>\n",
       "    <tr>\n",
       "      <th>diametre</th>\n",
       "      <td>1.000000</td>\n",
       "      <td>0.759239</td>\n",
       "      <td>-0.155416</td>\n",
       "      <td>0.408231</td>\n",
       "      <td>0.329892</td>\n",
       "      <td>-0.109965</td>\n",
       "    </tr>\n",
       "    <tr>\n",
       "      <th>hauteur</th>\n",
       "      <td>0.759239</td>\n",
       "      <td>1.000000</td>\n",
       "      <td>-0.090306</td>\n",
       "      <td>0.604309</td>\n",
       "      <td>0.225723</td>\n",
       "      <td>-0.164903</td>\n",
       "    </tr>\n",
       "    <tr>\n",
       "      <th>date_plantation</th>\n",
       "      <td>-0.155416</td>\n",
       "      <td>-0.090306</td>\n",
       "      <td>1.000000</td>\n",
       "      <td>-0.071507</td>\n",
       "      <td>-0.033480</td>\n",
       "      <td>-0.007850</td>\n",
       "    </tr>\n",
       "    <tr>\n",
       "      <th>surf_permeable</th>\n",
       "      <td>0.408231</td>\n",
       "      <td>0.604309</td>\n",
       "      <td>-0.071507</td>\n",
       "      <td>1.000000</td>\n",
       "      <td>0.224826</td>\n",
       "      <td>-0.217633</td>\n",
       "    </tr>\n",
       "    <tr>\n",
       "      <th>esperance_maintien</th>\n",
       "      <td>0.329892</td>\n",
       "      <td>0.225723</td>\n",
       "      <td>-0.033480</td>\n",
       "      <td>0.224826</td>\n",
       "      <td>1.000000</td>\n",
       "      <td>-0.023423</td>\n",
       "    </tr>\n",
       "    <tr>\n",
       "      <th>matricule_arbre</th>\n",
       "      <td>-0.109965</td>\n",
       "      <td>-0.164903</td>\n",
       "      <td>-0.007850</td>\n",
       "      <td>-0.217633</td>\n",
       "      <td>-0.023423</td>\n",
       "      <td>1.000000</td>\n",
       "    </tr>\n",
       "  </tbody>\n",
       "</table>\n",
       "</div>"
      ],
      "text/plain": [
       "                    diametre   hauteur  date_plantation  surf_permeable  \\\n",
       "diametre            1.000000  0.759239        -0.155416        0.408231   \n",
       "hauteur             0.759239  1.000000        -0.090306        0.604309   \n",
       "date_plantation    -0.155416 -0.090306         1.000000       -0.071507   \n",
       "surf_permeable      0.408231  0.604309        -0.071507        1.000000   \n",
       "esperance_maintien  0.329892  0.225723        -0.033480        0.224826   \n",
       "matricule_arbre    -0.109965 -0.164903        -0.007850       -0.217633   \n",
       "\n",
       "                    esperance_maintien  matricule_arbre  \n",
       "diametre                      0.329892        -0.109965  \n",
       "hauteur                       0.225723        -0.164903  \n",
       "date_plantation              -0.033480        -0.007850  \n",
       "surf_permeable                0.224826        -0.217633  \n",
       "esperance_maintien            1.000000        -0.023423  \n",
       "matricule_arbre              -0.023423         1.000000  "
      ]
     },
     "execution_count": 7,
     "metadata": {},
     "output_type": "execute_result"
    }
   ],
   "source": [
    "cor_matrix = df.corr()\n",
    "cor_matrix"
   ]
  },
  {
   "cell_type": "code",
   "execution_count": 8,
   "id": "3f69a91b-25ef-4d99-918c-bd718b7f2cdd",
   "metadata": {},
   "outputs": [
    {
     "data": {
      "text/plain": [
       "quartier                      6\n",
       "site                         30\n",
       "cote_voirie                   2\n",
       "contrainte                    2\n",
       "genre_arbre                  26\n",
       "espece_arbre                 37\n",
       "situation                     4\n",
       "type_sol                      9\n",
       "plaie_houppier                5\n",
       "bois_mort_houppier            3\n",
       "classe_age                    4\n",
       "ecorce_incluse_houppier       2\n",
       "classe_hauteur                5\n",
       "fissure_houppier              3\n",
       "classe_circonference          7\n",
       "port_arbre                    5\n",
       "vigueur_pousse                4\n",
       "champignon_collet             2\n",
       "plaie_collet                  7\n",
       "champignon_tronc              2\n",
       "fissure_tronc                 3\n",
       "rejet_tronc                   2\n",
       "tuteurage_arbre               4\n",
       "canisse_arbre                 2\n",
       "plaie_tronc                   6\n",
       "champignon_houppier           2\n",
       "diametre                     42\n",
       "hauteur                      17\n",
       "date_plantation              13\n",
       "surf_permeable                9\n",
       "esperance_maintien            4\n",
       "matricule_arbre              74\n",
       "classification_diagnostic     5\n",
       "dtype: int64"
      ]
     },
     "execution_count": 8,
     "metadata": {},
     "output_type": "execute_result"
    }
   ],
   "source": [
    "df.nunique()"
   ]
  },
  {
   "cell_type": "code",
   "execution_count": 9,
   "id": "c99fd816-ab0e-481f-9daa-d51edbf09f17",
   "metadata": {},
   "outputs": [
    {
     "data": {
      "text/plain": [
       "C2    408\n",
       "C1    237\n",
       "C3     43\n",
       "C4     11\n",
       "C5     10\n",
       "Name: classification_diagnostic, dtype: int64"
      ]
     },
     "execution_count": 9,
     "metadata": {},
     "output_type": "execute_result"
    }
   ],
   "source": [
    "df['classification_diagnostic'].value_counts()"
   ]
  },
  {
   "cell_type": "code",
   "execution_count": 10,
   "id": "ef18e402-2d75-4151-8a48-028c91d01e85",
   "metadata": {},
   "outputs": [],
   "source": [
    "target_name = \"classification_diagnostic\"\n",
    "target = df[target_name]\n",
    "data = df.drop(columns=[target_name])"
   ]
  },
  {
   "cell_type": "markdown",
   "id": "f43954a9-cf61-46a4-8b94-84f2911b595c",
   "metadata": {},
   "source": [
    "## AdaBoost"
   ]
  },
  {
   "cell_type": "code",
   "execution_count": 11,
   "id": "c94ac75a-049c-40bf-9288-6cc29abeb6d1",
   "metadata": {},
   "outputs": [],
   "source": [
    "X = data.iloc[:].values\n",
    "y = target.iloc[:].values"
   ]
  },
  {
   "cell_type": "code",
   "execution_count": 12,
   "id": "8fbaedbe-c165-491c-8b9a-2558ca34c7ff",
   "metadata": {},
   "outputs": [],
   "source": [
    "ct = ColumnTransformer(transformers=[('encoder', OrdinalEncoder(handle_unknown=\"use_encoded_value\",\n",
    "                                                                unknown_value=-1), [0,1,2,3,4,5,6,7,8,9,10,11,12,13,14,15,16,17,18,19,20,21,22,23,24,25])], remainder='passthrough')\n",
    "X = np.array(ct.fit_transform(X))"
   ]
  },
  {
   "cell_type": "code",
   "execution_count": 13,
   "id": "509db0c2-2633-42c2-a3d4-ec395c459dfc",
   "metadata": {},
   "outputs": [
    {
     "data": {
      "text/plain": [
       "array([[1.0, 5.0, 0.0, ..., 5.0, 1.0, 7],\n",
       "       [1.0, 5.0, 0.0, ..., 5.0, 1.0, 8],\n",
       "       [1.0, 5.0, 0.0, ..., 5.0, 1.0, 9],\n",
       "       ...,\n",
       "       [0.0, 11.0, 0.0, ..., 1.0, 1.0, 6],\n",
       "       [0.0, 11.0, 0.0, ..., 1.0, 2.0, 7],\n",
       "       [0.0, 11.0, 0.0, ..., 1.0, 1.0, 8]], dtype=object)"
      ]
     },
     "execution_count": 13,
     "metadata": {},
     "output_type": "execute_result"
    }
   ],
   "source": [
    "X"
   ]
  },
  {
   "cell_type": "code",
   "execution_count": 14,
   "id": "a5dd6c7d-dec5-4d7f-9b46-3a88767662e9",
   "metadata": {},
   "outputs": [],
   "source": [
    "from sklearn.preprocessing import LabelEncoder\n",
    "le = LabelEncoder()\n",
    "y = le.fit_transform(y)"
   ]
  },
  {
   "cell_type": "code",
   "execution_count": 15,
   "id": "c5f27530-eabc-4d1a-9252-3b020f951e4d",
   "metadata": {},
   "outputs": [
    {
     "data": {
      "text/plain": [
       "array([1, 1, 1, 1, 1, 1, 1, 1, 1, 0, 0, 0, 0, 0, 1, 0, 0, 0, 0, 0, 0, 0,\n",
       "       0, 0, 0, 0, 0, 0, 0, 0, 0, 0, 0, 0, 0, 0, 0, 0, 0, 0, 0, 0, 0, 0,\n",
       "       0, 0, 1, 1, 0, 1, 1, 1, 0, 1, 0, 0, 0, 1, 0, 0, 0, 0, 0, 0, 0, 0,\n",
       "       0, 0, 0, 0, 0, 0, 0, 0, 1, 0, 0, 1, 0, 2, 1, 0, 1, 0, 0, 0, 1, 0,\n",
       "       1, 0, 1, 1, 0, 0, 0, 1, 1, 1, 1, 1, 1, 1, 1, 1, 1, 1, 1, 1, 1, 2,\n",
       "       0, 1, 1, 1, 1, 0, 1, 1, 1, 0, 1, 0, 1, 0, 1, 0, 1, 1, 1, 1, 0, 0,\n",
       "       0, 0, 0, 0, 1, 0, 1, 0, 0, 1, 0, 1, 0, 0, 0, 0, 1, 0, 1, 0, 0, 0,\n",
       "       0, 0, 0, 0, 0, 0, 0, 2, 0, 0, 0, 0, 0, 0, 0, 0, 0, 0, 0, 0, 0, 0,\n",
       "       0, 0, 0, 0, 0, 0, 0, 0, 0, 0, 0, 0, 0, 0, 0, 0, 0, 0, 0, 0, 0, 0,\n",
       "       0, 0, 0, 0, 0, 0, 0, 0, 0, 0, 1, 1, 1, 1, 1, 1, 1, 0, 1, 0, 0, 0,\n",
       "       1, 1, 1, 1, 1, 1, 1, 2, 1, 2, 1, 2, 2, 1, 0, 3, 1, 2, 1, 2, 3, 0,\n",
       "       0, 0, 0, 0, 0, 1, 0, 0, 3, 3, 3, 2, 2, 3, 2, 1, 1, 1, 1, 1, 1, 1,\n",
       "       1, 1, 0, 1, 0, 1, 1, 0, 1, 1, 2, 1, 1, 1, 1, 1, 1, 1, 0, 1, 1, 1,\n",
       "       1, 1, 1, 1, 1, 1, 0, 1, 0, 1, 0, 0, 0, 0, 0, 0, 0, 0, 0, 0, 1, 0,\n",
       "       1, 0, 1, 0, 0, 0, 0, 0, 1, 0, 1, 0, 0, 1, 0, 0, 0, 0, 0, 0, 0, 0,\n",
       "       0, 0, 0, 0, 0, 0, 0, 0, 0, 0, 0, 0, 0, 0, 0, 0, 0, 0, 0, 1, 0, 0,\n",
       "       0, 0, 0, 0, 0, 0, 0, 0, 0, 0, 1, 2, 0, 0, 1, 1, 1, 1, 1, 1, 1, 1,\n",
       "       1, 2, 1, 2, 1, 1, 1, 1, 1, 1, 1, 1, 1, 1, 1, 1, 1, 1, 1, 1, 1, 1,\n",
       "       1, 1, 1, 1, 1, 1, 0, 1, 4, 1, 1, 1, 1, 1, 1, 1, 1, 1, 1, 1, 1, 1,\n",
       "       1, 1, 1, 1, 0, 1, 0, 2, 2, 0, 2, 1, 1, 1, 1, 1, 1, 1, 2, 1, 2, 1,\n",
       "       1, 2, 1, 1, 4, 1, 1, 2, 1, 3, 1, 1, 1, 1, 1, 4, 1, 1, 1, 1, 1, 1,\n",
       "       1, 1, 1, 1, 1, 1, 1, 1, 1, 1, 1, 1, 1, 1, 1, 1, 1, 1, 1, 1, 1, 1,\n",
       "       1, 1, 1, 1, 1, 1, 1, 1, 1, 1, 1, 1, 1, 1, 1, 1, 1, 1, 1, 1, 1, 1,\n",
       "       1, 1, 1, 1, 1, 1, 1, 1, 1, 2, 1, 1, 1, 1, 1, 1, 1, 1, 1, 1, 1, 1,\n",
       "       1, 1, 1, 1, 1, 1, 1, 1, 1, 1, 1, 1, 1, 1, 1, 1, 1, 1, 1, 1, 1, 1,\n",
       "       1, 1, 1, 1, 1, 1, 1, 1, 1, 1, 1, 1, 1, 1, 1, 1, 1, 1, 2, 1, 3, 0,\n",
       "       1, 1, 0, 1, 0, 1, 1, 1, 1, 1, 1, 1, 1, 1, 1, 1, 1, 1, 1, 1, 1, 1,\n",
       "       1, 1, 1, 1, 1, 1, 1, 1, 1, 1, 1, 1, 1, 1, 1, 1, 1, 1, 1, 1, 1, 1,\n",
       "       1, 1, 1, 1, 1, 1, 1, 1, 1, 1, 1, 1, 1, 1, 1, 1, 1, 1, 1, 1, 1, 1,\n",
       "       1, 1, 1, 1, 1, 1, 1, 1, 1, 1, 1, 1, 1, 1, 2, 1, 2, 1, 1, 2, 2, 1,\n",
       "       1, 2, 4, 3, 2, 2, 1, 2, 1, 1, 1, 1, 2, 0, 0, 0, 3, 1, 0, 1, 2, 2,\n",
       "       2, 2, 2, 2, 2, 1, 1, 4, 1, 4, 1, 4, 4, 2, 4, 4, 1, 3, 2, 1, 1, 1,\n",
       "       1, 1, 1, 1, 1])"
      ]
     },
     "execution_count": 15,
     "metadata": {},
     "output_type": "execute_result"
    }
   ],
   "source": [
    "y"
   ]
  },
  {
   "cell_type": "code",
   "execution_count": 16,
   "id": "6d26a0f3-ee51-47be-8814-7851eb94f17d",
   "metadata": {},
   "outputs": [
    {
     "name": "stdout",
     "output_type": "stream",
     "text": [
      "(709, 32)\n",
      "(709,)\n"
     ]
    }
   ],
   "source": [
    "print(X.shape)\n",
    "print(y.shape)"
   ]
  },
  {
   "cell_type": "code",
   "execution_count": 17,
   "id": "a58f8392-287b-439a-91f2-a91ab12df490",
   "metadata": {},
   "outputs": [
    {
     "name": "stdout",
     "output_type": "stream",
     "text": [
      "[[  0 237]\n",
      " [  1 408]\n",
      " [  2  43]\n",
      " [  3  11]\n",
      " [  4  10]]\n"
     ]
    }
   ],
   "source": [
    "(unique, counts) = np.unique(y, return_counts=True)\n",
    "frequencies = np.asarray((unique, counts)).T\n",
    "print(frequencies)"
   ]
  },
  {
   "cell_type": "code",
   "execution_count": 18,
   "id": "c0947278-061d-456c-8fcf-3183b0e95109",
   "metadata": {},
   "outputs": [
    {
     "data": {
      "text/plain": [
       "numpy.ndarray"
      ]
     },
     "execution_count": 18,
     "metadata": {},
     "output_type": "execute_result"
    }
   ],
   "source": [
    "type(X)"
   ]
  },
  {
   "cell_type": "code",
   "execution_count": 19,
   "id": "c515d213-516a-4622-a97e-013ac5c035db",
   "metadata": {},
   "outputs": [
    {
     "data": {
      "text/plain": [
       "numpy.ndarray"
      ]
     },
     "execution_count": 19,
     "metadata": {},
     "output_type": "execute_result"
    }
   ],
   "source": [
    "type(y)"
   ]
  },
  {
   "cell_type": "code",
   "execution_count": 20,
   "id": "10732c4f-e9f1-475c-a20a-4aef46a7b158",
   "metadata": {},
   "outputs": [],
   "source": [
    "X_train, X_test, y_train, y_test = train_test_split(X, y, test_size = 0.1, random_state = 0)"
   ]
  },
  {
   "cell_type": "code",
   "execution_count": 21,
   "id": "bc7ec2d0-7ebc-46c9-84b6-b0fc5c34316d",
   "metadata": {},
   "outputs": [],
   "source": [
    "from sklearn.tree import DecisionTreeClassifier\n",
    "from sklearn.ensemble import AdaBoostClassifier\n",
    "from sklearn.model_selection import cross_val_score, cross_validate, validation_curve\n",
    "from sklearn.metrics import confusion_matrix, accuracy_score, ConfusionMatrixDisplay"
   ]
  },
  {
   "cell_type": "markdown",
   "id": "0c35bde9-46c1-4cbd-9394-6eb7911c3aeb",
   "metadata": {},
   "source": [
    "%%time\n",
    "results_ab=[]\n",
    "for i in range (1, 16, 1):\n",
    "    base_estimator = DecisionTreeClassifier(max_depth=i, criterion='entropy', random_state=0)\n",
    "    classifier = AdaBoostClassifier(n_estimators=1000, base_estimator= base_estimator, algorithm= \"SAMME\", random_state=0)\n",
    "    classifier.fit(X_train, y_train)\n",
    "    #y_pred = classifier.predict(X_test)\n",
    "    #accuracy_score(y_test, y_pred)\n",
    "    accuracies = cross_val_score(estimator = classifier, X = X_train, y = y_train, \n",
    "                                 cv = 7, n_jobs=14)\n",
    "    results_ab.append(accuracies)\n",
    "    print(accuracies)"
   ]
  },
  {
   "cell_type": "markdown",
   "id": "8db32ba9-b55d-4ac4-b58a-ed227ded19bb",
   "metadata": {},
   "source": [
    "fig = plt.figure(figsize=(7,7))\n",
    "fig.suptitle('Tree Depth Estimation using Validation results for AdaBoost')\n",
    "plt.xlabel(\"Depth of the base estimator for Adaptive Boosting\")\n",
    "#ax = fig.add_subplot(1, 1, 1)\n",
    "plt.boxplot(results_ab)\n",
    "plt.ylabel(\"Test Accuracy Score\")\n",
    "#ax.set_xticklabels([])\n",
    "plt.show()"
   ]
  },
  {
   "cell_type": "code",
   "execution_count": 23,
   "id": "82c39073-70aa-41cc-ba00-a0c15cace86e",
   "metadata": {},
   "outputs": [
    {
     "name": "stderr",
     "output_type": "stream",
     "text": [
      "C:\\Users\\bharg\\anaconda3\\lib\\site-packages\\sklearn\\model_selection\\_split.py:666: UserWarning: The least populated class in y has only 7 members, which is less than n_splits=14.\n",
      "  warnings.warn((\"The least populated class in y has only %d\"\n"
     ]
    },
    {
     "name": "stdout",
     "output_type": "stream",
     "text": [
      "[0.69565217 0.65217391 0.82608696 0.63043478 0.65217391 0.69565217\n",
      " 0.82608696 0.65217391 0.73333333 0.86666667 0.64444444 0.73333333\n",
      " 0.75555556 0.6       ]\n"
     ]
    },
    {
     "name": "stderr",
     "output_type": "stream",
     "text": [
      "C:\\Users\\bharg\\anaconda3\\lib\\site-packages\\sklearn\\model_selection\\_split.py:666: UserWarning: The least populated class in y has only 7 members, which is less than n_splits=14.\n",
      "  warnings.warn((\"The least populated class in y has only %d\"\n"
     ]
    },
    {
     "name": "stdout",
     "output_type": "stream",
     "text": [
      "[0.76086957 0.73913043 0.80434783 0.76086957 0.7826087  0.73913043\n",
      " 0.82608696 0.69565217 0.68888889 0.88888889 0.68888889 0.73333333\n",
      " 0.73333333 0.71111111]\n"
     ]
    },
    {
     "name": "stderr",
     "output_type": "stream",
     "text": [
      "C:\\Users\\bharg\\anaconda3\\lib\\site-packages\\sklearn\\model_selection\\_split.py:666: UserWarning: The least populated class in y has only 7 members, which is less than n_splits=14.\n",
      "  warnings.warn((\"The least populated class in y has only %d\"\n"
     ]
    },
    {
     "name": "stdout",
     "output_type": "stream",
     "text": [
      "[0.84782609 0.80434783 0.86956522 0.67391304 0.67391304 0.84782609\n",
      " 0.7826087  0.67391304 0.82222222 0.82222222 0.66666667 0.68888889\n",
      " 0.75555556 0.71111111]\n"
     ]
    },
    {
     "name": "stderr",
     "output_type": "stream",
     "text": [
      "C:\\Users\\bharg\\anaconda3\\lib\\site-packages\\sklearn\\model_selection\\_split.py:666: UserWarning: The least populated class in y has only 7 members, which is less than n_splits=14.\n",
      "  warnings.warn((\"The least populated class in y has only %d\"\n"
     ]
    },
    {
     "name": "stdout",
     "output_type": "stream",
     "text": [
      "[0.89130435 0.82608696 0.91304348 0.82608696 0.7826087  0.84782609\n",
      " 0.84782609 0.67391304 0.82222222 0.84444444 0.73333333 0.64444444\n",
      " 0.75555556 0.75555556]\n"
     ]
    },
    {
     "name": "stderr",
     "output_type": "stream",
     "text": [
      "C:\\Users\\bharg\\anaconda3\\lib\\site-packages\\sklearn\\model_selection\\_split.py:666: UserWarning: The least populated class in y has only 7 members, which is less than n_splits=14.\n",
      "  warnings.warn((\"The least populated class in y has only %d\"\n"
     ]
    },
    {
     "name": "stdout",
     "output_type": "stream",
     "text": [
      "[0.86956522 0.84782609 0.91304348 0.86956522 0.80434783 0.84782609\n",
      " 0.86956522 0.69565217 0.82222222 0.91111111 0.73333333 0.71111111\n",
      " 0.75555556 0.77777778]\n"
     ]
    },
    {
     "name": "stderr",
     "output_type": "stream",
     "text": [
      "C:\\Users\\bharg\\anaconda3\\lib\\site-packages\\sklearn\\model_selection\\_split.py:666: UserWarning: The least populated class in y has only 7 members, which is less than n_splits=14.\n",
      "  warnings.warn((\"The least populated class in y has only %d\"\n"
     ]
    },
    {
     "name": "stdout",
     "output_type": "stream",
     "text": [
      "[0.84782609 0.84782609 0.89130435 0.89130435 0.7826087  0.86956522\n",
      " 0.86956522 0.7173913  0.88888889 0.88888889 0.75555556 0.8\n",
      " 0.82222222 0.8       ]\n"
     ]
    },
    {
     "name": "stderr",
     "output_type": "stream",
     "text": [
      "C:\\Users\\bharg\\anaconda3\\lib\\site-packages\\sklearn\\model_selection\\_split.py:666: UserWarning: The least populated class in y has only 7 members, which is less than n_splits=14.\n",
      "  warnings.warn((\"The least populated class in y has only %d\"\n"
     ]
    },
    {
     "name": "stdout",
     "output_type": "stream",
     "text": [
      "[0.89130435 0.84782609 0.89130435 0.86956522 0.84782609 0.86956522\n",
      " 0.89130435 0.7173913  0.84444444 0.91111111 0.8        0.8\n",
      " 0.84444444 0.82222222]\n"
     ]
    },
    {
     "name": "stderr",
     "output_type": "stream",
     "text": [
      "C:\\Users\\bharg\\anaconda3\\lib\\site-packages\\sklearn\\model_selection\\_split.py:666: UserWarning: The least populated class in y has only 7 members, which is less than n_splits=14.\n",
      "  warnings.warn((\"The least populated class in y has only %d\"\n"
     ]
    },
    {
     "name": "stdout",
     "output_type": "stream",
     "text": [
      "[0.84782609 0.86956522 0.89130435 0.89130435 0.7826087  0.84782609\n",
      " 0.86956522 0.7173913  0.88888889 0.88888889 0.77777778 0.77777778\n",
      " 0.88888889 0.77777778]\n"
     ]
    },
    {
     "name": "stderr",
     "output_type": "stream",
     "text": [
      "C:\\Users\\bharg\\anaconda3\\lib\\site-packages\\sklearn\\model_selection\\_split.py:666: UserWarning: The least populated class in y has only 7 members, which is less than n_splits=14.\n",
      "  warnings.warn((\"The least populated class in y has only %d\"\n"
     ]
    },
    {
     "name": "stdout",
     "output_type": "stream",
     "text": [
      "[0.84782609 0.89130435 0.93478261 0.89130435 0.7826087  0.86956522\n",
      " 0.89130435 0.7173913  0.88888889 0.88888889 0.77777778 0.84444444\n",
      " 0.91111111 0.82222222]\n"
     ]
    },
    {
     "name": "stderr",
     "output_type": "stream",
     "text": [
      "C:\\Users\\bharg\\anaconda3\\lib\\site-packages\\sklearn\\model_selection\\_split.py:666: UserWarning: The least populated class in y has only 7 members, which is less than n_splits=14.\n",
      "  warnings.warn((\"The least populated class in y has only %d\"\n"
     ]
    },
    {
     "name": "stdout",
     "output_type": "stream",
     "text": [
      "[0.84782609 0.91304348 0.93478261 0.89130435 0.86956522 0.89130435\n",
      " 0.89130435 0.69565217 0.84444444 0.93333333 0.82222222 0.82222222\n",
      " 0.88888889 0.84444444]\n"
     ]
    },
    {
     "name": "stderr",
     "output_type": "stream",
     "text": [
      "C:\\Users\\bharg\\anaconda3\\lib\\site-packages\\sklearn\\model_selection\\_split.py:666: UserWarning: The least populated class in y has only 7 members, which is less than n_splits=14.\n",
      "  warnings.warn((\"The least populated class in y has only %d\"\n"
     ]
    },
    {
     "name": "stdout",
     "output_type": "stream",
     "text": [
      "[0.84782609 0.93478261 0.89130435 0.91304348 0.84782609 0.91304348\n",
      " 0.89130435 0.73913043 0.84444444 0.91111111 0.82222222 0.82222222\n",
      " 0.91111111 0.84444444]\n"
     ]
    },
    {
     "name": "stderr",
     "output_type": "stream",
     "text": [
      "C:\\Users\\bharg\\anaconda3\\lib\\site-packages\\sklearn\\model_selection\\_split.py:666: UserWarning: The least populated class in y has only 7 members, which is less than n_splits=14.\n",
      "  warnings.warn((\"The least populated class in y has only %d\"\n"
     ]
    },
    {
     "name": "stdout",
     "output_type": "stream",
     "text": [
      "[0.82608696 0.93478261 0.91304348 0.89130435 0.89130435 0.91304348\n",
      " 0.84782609 0.73913043 0.84444444 0.88888889 0.82222222 0.82222222\n",
      " 0.88888889 0.82222222]\n"
     ]
    },
    {
     "name": "stderr",
     "output_type": "stream",
     "text": [
      "C:\\Users\\bharg\\anaconda3\\lib\\site-packages\\sklearn\\model_selection\\_split.py:666: UserWarning: The least populated class in y has only 7 members, which is less than n_splits=14.\n",
      "  warnings.warn((\"The least populated class in y has only %d\"\n"
     ]
    },
    {
     "name": "stdout",
     "output_type": "stream",
     "text": [
      "[0.84782609 0.91304348 0.86956522 0.91304348 0.89130435 0.91304348\n",
      " 0.91304348 0.76086957 0.84444444 0.88888889 0.82222222 0.82222222\n",
      " 0.91111111 0.82222222]\n"
     ]
    },
    {
     "name": "stderr",
     "output_type": "stream",
     "text": [
      "C:\\Users\\bharg\\anaconda3\\lib\\site-packages\\sklearn\\model_selection\\_split.py:666: UserWarning: The least populated class in y has only 7 members, which is less than n_splits=14.\n",
      "  warnings.warn((\"The least populated class in y has only %d\"\n"
     ]
    },
    {
     "name": "stdout",
     "output_type": "stream",
     "text": [
      "[0.84782609 0.93478261 0.86956522 0.89130435 0.91304348 0.91304348\n",
      " 0.91304348 0.7173913  0.86666667 0.88888889 0.77777778 0.82222222\n",
      " 0.91111111 0.8       ]\n"
     ]
    },
    {
     "name": "stderr",
     "output_type": "stream",
     "text": [
      "C:\\Users\\bharg\\anaconda3\\lib\\site-packages\\sklearn\\model_selection\\_split.py:666: UserWarning: The least populated class in y has only 7 members, which is less than n_splits=14.\n",
      "  warnings.warn((\"The least populated class in y has only %d\"\n"
     ]
    },
    {
     "name": "stdout",
     "output_type": "stream",
     "text": [
      "[0.84782609 0.93478261 0.89130435 0.89130435 0.84782609 0.91304348\n",
      " 0.86956522 0.76086957 0.84444444 0.88888889 0.8        0.82222222\n",
      " 0.91111111 0.82222222]\n",
      "Wall time: 2min 40s\n"
     ]
    }
   ],
   "source": [
    "%%time\n",
    "results_ab=[]\n",
    "for i in range (1, 16, 1):\n",
    "    base_estimator = DecisionTreeClassifier(max_depth=4, max_leaf_nodes=i+1, criterion='entropy', random_state=0)\n",
    "    classifier = AdaBoostClassifier(n_estimators=1000, base_estimator= base_estimator, algorithm= \"SAMME\", random_state=0)\n",
    "    classifier.fit(X_train, y_train)\n",
    "    #y_pred = classifier.predict(X_test)\n",
    "    #accuracy_score(y_test, y_pred)\n",
    "    accuracies = cross_val_score(estimator = classifier, X = X_train, y = y_train, \n",
    "                                 cv = 14, n_jobs=8)\n",
    "    results_ab.append(accuracies)\n",
    "    print(accuracies)"
   ]
  },
  {
   "cell_type": "code",
   "execution_count": 31,
   "id": "f54e9819-484f-4a5e-a05e-b219f58a18b4",
   "metadata": {},
   "outputs": [
    {
     "data": {
      "image/png": "[encoded data removed]",
      "text/plain": [
       "<Figure size 504x504 with 1 Axes>"
      ]
     },
     "metadata": {
      "needs_background": "light"
     },
     "output_type": "display_data"
    }
   ],
   "source": [
    "fig = plt.figure(figsize=(7,7))\n",
    "fig.suptitle('Node size estimation using Validation results for AdaBoost')\n",
    "plt.xlabel(\"Node Size of the base estimator for Adaptive Boosting\")\n",
    "plt.boxplot(results_ab)\n",
    "plt.ylabel(\"Test Accuracy Score\")\n",
    "plt.xticks(np.arange( 0, 16, 1.0))\n",
    "plt.show()"
   ]
  },
  {
   "cell_type": "code",
   "execution_count": 28,
   "id": "6d8b8d7b-50f4-497d-8aff-49df9743eaf5",
   "metadata": {},
   "outputs": [
    {
     "data": {
      "image/png": "[encoded data removed]",
      "text/plain": [
       "<Figure size 504x504 with 1 Axes>"
      ]
     },
     "metadata": {
      "needs_background": "light"
     },
     "output_type": "display_data"
    },
    {
     "name": "stdout",
     "output_type": "stream",
     "text": [
      "Wall time: 56 s\n"
     ]
    }
   ],
   "source": [
    "%%time\n",
    "# Create range of values for the hyperparameter\n",
    "param_range= np.arange(1, 500, 5)\n",
    "# Calculate accuracy on training and test data set through cross validation (on entire dataset, since sample size is small)\n",
    "base_estimator = DecisionTreeClassifier(max_depth=4, max_leaf_nodes=11, criterion= \"entropy\", random_state=0)\n",
    "classifier = AdaBoostClassifier(base_estimator= base_estimator, learning_rate= 0.4, algorithm= \"SAMME\", random_state=0)\n",
    "classifier.fit(X_train, y_train)\n",
    "#y_pred = classifier.predict(X_test)\n",
    "train_scores, test_scores = validation_curve(classifier, X_train, y_train, \n",
    "                                             param_name=\"n_estimators\", param_range=param_range, \n",
    "                                             cv=5, scoring=\"accuracy\", n_jobs=-1)\n",
    "train_mean = np.mean(train_scores, axis=1)\n",
    "train_std = np.std(train_scores, axis=1)\n",
    "test_mean = np.mean(test_scores, axis=1)\n",
    "test_std = np.std(test_scores, axis=1)\n",
    "plt.subplots(1, figsize=(7,7))\n",
    "plt.plot(param_range, train_mean, label=\"Training score\", color=\"green\")\n",
    "plt.plot(param_range, test_mean, label=\"Cross-validation score (5-Fold)\", color=\"red\")\n",
    "plt.fill_between(param_range, train_mean - train_std, train_mean + train_std, color=\"gray\")\n",
    "plt.fill_between(param_range, test_mean - test_std, test_mean + test_std, color=\"gainsboro\")\n",
    "plt.title(\"Validation Curve for Adaptive Boosting w.r.t no. of estimators\")\n",
    "plt.xlabel(\"No of estimators\")\n",
    "plt.ylabel(\"Accuracy Score\")\n",
    "plt.tight_layout()\n",
    "plt.legend(loc=\"best\")\n",
    "plt.show()"
   ]
  },
  {
   "cell_type": "code",
   "execution_count": 71,
   "id": "f98a353d-1975-4161-921b-3a7fb42f1a24",
   "metadata": {},
   "outputs": [
    {
     "name": "stdout",
     "output_type": "stream",
     "text": [
      "Wall time: 11min 41s\n"
     ]
    }
   ],
   "source": [
    "%%time\n",
    "# Create range of values for the hyperparameter\n",
    "param_range= np.arange(0.0001, 1, 0.005)\n",
    "# Calculate accuracy on training and test data set through cross validation (on entire dataset, since sample size is small)\n",
    "base_estimator = DecisionTreeClassifier(max_depth=4, max_leaf_nodes=11, criterion= \"entropy\", random_state=0)\n",
    "classifier = AdaBoostClassifier(base_estimator= base_estimator,n_estimators=1000, algorithm= \"SAMME\", random_state=0)\n",
    "classifier.fit(X_train, y_train)\n",
    "#y_pred = classifier.predict(X_test)\n",
    "train_scores, test_scores = validation_curve(classifier, X_train, y_train, \n",
    "                                             param_name=\"learning_rate\", param_range=param_range, \n",
    "                                             cv=5, scoring=\"accuracy\", n_jobs=8)\n",
    "train_mean = np.mean(train_scores, axis=1)\n",
    "train_std = np.std(train_scores, axis=1)\n",
    "test_mean = np.mean(test_scores, axis=1)\n",
    "test_std = np.std(test_scores, axis=1)"
   ]
  },
  {
   "cell_type": "code",
   "execution_count": 72,
   "id": "bb0c5e11-8f95-447d-8b70-f207c781922b",
   "metadata": {},
   "outputs": [
    {
     "data": {
      "image/png": "[encoded data removed]",
      "text/plain": [
       "<Figure size 504x504 with 1 Axes>"
      ]
     },
     "metadata": {
      "needs_background": "light"
     },
     "output_type": "display_data"
    }
   ],
   "source": [
    "plt.subplots(1, figsize=(7,7))\n",
    "plt.plot(param_range, train_mean, label=\"Training score\", color=\"green\")\n",
    "plt.plot(param_range, test_mean, label=\"Cross-validation score (5-Fold)\", color=\"red\")\n",
    "plt.fill_between(param_range, train_mean - train_std, train_mean + train_std, color=\"gray\")\n",
    "plt.fill_between(param_range, test_mean - test_std, test_mean + test_std, color=\"gainsboro\")\n",
    "plt.title(\"Validation Curve for Adaptive Boosting w.r.t Learning Rate\")\n",
    "plt.xlabel(\"Learning Rate\")\n",
    "plt.ylabel(\"Accuracy Score\")\n",
    "plt.tight_layout()\n",
    "plt.legend(loc=\"best\")\n",
    "plt.show()"
   ]
  },
  {
   "cell_type": "code",
   "execution_count": 73,
   "id": "a5fa7dfb-0bef-487f-bfbe-1220b4deb021",
   "metadata": {},
   "outputs": [],
   "source": [
    "from scipy.stats import loguniform\n",
    "\n",
    "\n",
    "class loguniform_int:\n",
    "    \"\"\"Integer valued version of the log-uniform distribution\"\"\"\n",
    "    def __init__(self, a, b):\n",
    "        self._distribution = loguniform(a, b)\n",
    "\n",
    "    def rvs(self, *args, **kwargs):\n",
    "        \"\"\"Random variable sample\"\"\"\n",
    "        return self._distribution.rvs(*args, **kwargs).astype(int)"
   ]
  },
  {
   "cell_type": "code",
   "execution_count": 74,
   "id": "a8f07ae7-8a78-4295-911c-b8f50d0cd333",
   "metadata": {},
   "outputs": [],
   "source": [
    "from sklearn.compose import make_column_selector as selector\n",
    "\n",
    "categorical_columns_selector = selector(dtype_include=object)\n",
    "categorical_columns = categorical_columns_selector(data)\n",
    "\n",
    "categorical_preprocessor = OrdinalEncoder(handle_unknown=\"use_encoded_value\",\n",
    "                                          unknown_value=-1)\n",
    "preprocessor = ColumnTransformer([\n",
    "    ('cat_preprocessor', categorical_preprocessor, categorical_columns)],\n",
    "    remainder='passthrough', sparse_threshold=0)\n",
    "X_train, X_test, y_train, y_test = train_test_split(\n",
    "    data, target, random_state=0, test_size=0.1)"
   ]
  },
  {
   "cell_type": "code",
   "execution_count": 141,
   "id": "7fd3001e-3506-4e50-bac2-8ec7017d6539",
   "metadata": {},
   "outputs": [],
   "source": [
    "from sklearn.pipeline import Pipeline\n",
    "base_estimator = DecisionTreeClassifier(max_depth=4, max_leaf_nodes=11, criterion= \"entropy\", random_state=0)\n",
    "classifier = AdaBoostClassifier(base_estimator= base_estimator, algorithm= \"SAMME\", random_state=0)\n",
    "\n",
    "model_adabst = Pipeline([\n",
    "    (\"preprocessor\", preprocessor),\n",
    "    (\"classifier\", classifier),\n",
    "])\n"
   ]
  },
  {
   "cell_type": "code",
   "execution_count": 76,
   "id": "92769bde-fa20-4e3e-ab65-03fc023fffde",
   "metadata": {},
   "outputs": [
    {
     "data": {
      "text/html": [
       "<style>#sk-1b26fcdf-1313-44d3-b15e-c60694d8f6ba {color: black;background-color: white;}#sk-1b26fcdf-1313-44d3-b15e-c60694d8f6ba pre{padding: 0;}#sk-1b26fcdf-1313-44d3-b15e-c60694d8f6ba div.sk-toggleable {background-color: white;}#sk-1b26fcdf-1313-44d3-b15e-c60694d8f6ba label.sk-toggleable__label {cursor: pointer;display: block;width: 100%;margin-bottom: 0;padding: 0.2em 0.3em;box-sizing: border-box;text-align: center;}#sk-1b26fcdf-1313-44d3-b15e-c60694d8f6ba div.sk-toggleable__content {max-height: 0;max-width: 0;overflow: hidden;text-align: left;background-color: #f0f8ff;}#sk-1b26fcdf-1313-44d3-b15e-c60694d8f6ba div.sk-toggleable__content pre {margin: 0.2em;color: black;border-radius: 0.25em;background-color: #f0f8ff;}#sk-1b26fcdf-1313-44d3-b15e-c60694d8f6ba input.sk-toggleable__control:checked~div.sk-toggleable__content {max-height: 200px;max-width: 100%;overflow: auto;}#sk-1b26fcdf-1313-44d3-b15e-c60694d8f6ba div.sk-estimator input.sk-toggleable__control:checked~label.sk-toggleable__label {background-color: #d4ebff;}#sk-1b26fcdf-1313-44d3-b15e-c60694d8f6ba div.sk-label input.sk-toggleable__control:checked~label.sk-toggleable__label {background-color: #d4ebff;}#sk-1b26fcdf-1313-44d3-b15e-c60694d8f6ba input.sk-hidden--visually {border: 0;clip: rect(1px 1px 1px 1px);clip: rect(1px, 1px, 1px, 1px);height: 1px;margin: -1px;overflow: hidden;padding: 0;position: absolute;width: 1px;}#sk-1b26fcdf-1313-44d3-b15e-c60694d8f6ba div.sk-estimator {font-family: monospace;background-color: #f0f8ff;margin: 0.25em 0.25em;border: 1px dotted black;border-radius: 0.25em;box-sizing: border-box;}#sk-1b26fcdf-1313-44d3-b15e-c60694d8f6ba div.sk-estimator:hover {background-color: #d4ebff;}#sk-1b26fcdf-1313-44d3-b15e-c60694d8f6ba div.sk-parallel-item::after {content: \"\";width: 100%;border-bottom: 1px solid gray;flex-grow: 1;}#sk-1b26fcdf-1313-44d3-b15e-c60694d8f6ba div.sk-label:hover label.sk-toggleable__label {background-color: #d4ebff;}#sk-1b26fcdf-1313-44d3-b15e-c60694d8f6ba div.sk-serial::before {content: \"\";position: absolute;border-left: 1px solid gray;box-sizing: border-box;top: 2em;bottom: 0;left: 50%;}#sk-1b26fcdf-1313-44d3-b15e-c60694d8f6ba div.sk-serial {display: flex;flex-direction: column;align-items: center;background-color: white;}#sk-1b26fcdf-1313-44d3-b15e-c60694d8f6ba div.sk-item {z-index: 1;}#sk-1b26fcdf-1313-44d3-b15e-c60694d8f6ba div.sk-parallel {display: flex;align-items: stretch;justify-content: center;background-color: white;}#sk-1b26fcdf-1313-44d3-b15e-c60694d8f6ba div.sk-parallel-item {display: flex;flex-direction: column;position: relative;background-color: white;}#sk-1b26fcdf-1313-44d3-b15e-c60694d8f6ba div.sk-parallel-item:first-child::after {align-self: flex-end;width: 50%;}#sk-1b26fcdf-1313-44d3-b15e-c60694d8f6ba div.sk-parallel-item:last-child::after {align-self: flex-start;width: 50%;}#sk-1b26fcdf-1313-44d3-b15e-c60694d8f6ba div.sk-parallel-item:only-child::after {width: 0;}#sk-1b26fcdf-1313-44d3-b15e-c60694d8f6ba div.sk-dashed-wrapped {border: 1px dashed gray;margin: 0.2em;box-sizing: border-box;padding-bottom: 0.1em;background-color: white;position: relative;}#sk-1b26fcdf-1313-44d3-b15e-c60694d8f6ba div.sk-label label {font-family: monospace;font-weight: bold;background-color: white;display: inline-block;line-height: 1.2em;}#sk-1b26fcdf-1313-44d3-b15e-c60694d8f6ba div.sk-label-container {position: relative;z-index: 2;text-align: center;}#sk-1b26fcdf-1313-44d3-b15e-c60694d8f6ba div.sk-container {display: inline-block;position: relative;}</style><div id=\"sk-1b26fcdf-1313-44d3-b15e-c60694d8f6ba\" class\"sk-top-container\"><div class=\"sk-container\"><div class=\"sk-item sk-dashed-wrapped\"><div class=\"sk-label-container\"><div class=\"sk-label sk-toggleable\"><input class=\"sk-toggleable__control sk-hidden--visually\" id=\"ff1c5a6f-a7e5-409d-bd24-8d2f8bce243f\" type=\"checkbox\" ><label class=\"sk-toggleable__label\" for=\"ff1c5a6f-a7e5-409d-bd24-8d2f8bce243f\">Pipeline</label><div class=\"sk-toggleable__content\"><pre>Pipeline(steps=[('preprocessor',\n",
       "                 ColumnTransformer(remainder='passthrough', sparse_threshold=0,\n",
       "                                   transformers=[('cat_preprocessor',\n",
       "                                                  OrdinalEncoder(handle_unknown='use_encoded_value',\n",
       "                                                                 unknown_value=-1),\n",
       "                                                  ['quartier', 'site',\n",
       "                                                   'cote_voirie', 'contrainte',\n",
       "                                                   'genre_arbre',\n",
       "                                                   'espece_arbre', 'situation',\n",
       "                                                   'type_sol', 'plaie_houppier',\n",
       "                                                   'bois_mort_houppier',\n",
       "                                                   'classe_age',\n",
       "                                                   'ecorc...\n",
       "                                                   'port_arbre',\n",
       "                                                   'vigueur_pousse',\n",
       "                                                   'champignon_collet',\n",
       "                                                   'plaie_collet',\n",
       "                                                   'champignon_tronc',\n",
       "                                                   'fissure_tronc',\n",
       "                                                   'rejet_tronc',\n",
       "                                                   'tuteurage_arbre',\n",
       "                                                   'canisse_arbre',\n",
       "                                                   'plaie_tronc',\n",
       "                                                   'champignon_houppier'])])),\n",
       "                ('classifier',\n",
       "                 AdaBoostClassifier(algorithm='SAMME',\n",
       "                                    base_estimator=DecisionTreeClassifier(criterion='entropy',\n",
       "                                                                          max_depth=4,\n",
       "                                                                          max_leaf_nodes=10,\n",
       "                                                                          random_state=0),\n",
       "                                    random_state=0))])</pre></div></div></div><div class=\"sk-serial\"><div class=\"sk-item sk-dashed-wrapped\"><div class=\"sk-label-container\"><div class=\"sk-label sk-toggleable\"><input class=\"sk-toggleable__control sk-hidden--visually\" id=\"f3803e9a-34b0-49bc-b34e-9299a3af3fad\" type=\"checkbox\" ><label class=\"sk-toggleable__label\" for=\"f3803e9a-34b0-49bc-b34e-9299a3af3fad\">preprocessor: ColumnTransformer</label><div class=\"sk-toggleable__content\"><pre>ColumnTransformer(remainder='passthrough', sparse_threshold=0,\n",
       "                  transformers=[('cat_preprocessor',\n",
       "                                 OrdinalEncoder(handle_unknown='use_encoded_value',\n",
       "                                                unknown_value=-1),\n",
       "                                 ['quartier', 'site', 'cote_voirie',\n",
       "                                  'contrainte', 'genre_arbre', 'espece_arbre',\n",
       "                                  'situation', 'type_sol', 'plaie_houppier',\n",
       "                                  'bois_mort_houppier', 'classe_age',\n",
       "                                  'ecorce_incluse_houppier', 'classe_hauteur',\n",
       "                                  'fissure_houppier', 'classe_circonference',\n",
       "                                  'port_arbre', 'vigueur_pousse',\n",
       "                                  'champignon_collet', 'plaie_collet',\n",
       "                                  'champignon_tronc', 'fissure_tronc',\n",
       "                                  'rejet_tronc', 'tuteurage_arbre',\n",
       "                                  'canisse_arbre', 'plaie_tronc',\n",
       "                                  'champignon_houppier'])])</pre></div></div></div><div class=\"sk-parallel\"><div class=\"sk-parallel-item\"><div class=\"sk-item\"><div class=\"sk-label-container\"><div class=\"sk-label sk-toggleable\"><input class=\"sk-toggleable__control sk-hidden--visually\" id=\"ddd3f076-b35d-4d93-874b-05060024c5dc\" type=\"checkbox\" ><label class=\"sk-toggleable__label\" for=\"ddd3f076-b35d-4d93-874b-05060024c5dc\">cat_preprocessor</label><div class=\"sk-toggleable__content\"><pre>['quartier', 'site', 'cote_voirie', 'contrainte', 'genre_arbre', 'espece_arbre', 'situation', 'type_sol', 'plaie_houppier', 'bois_mort_houppier', 'classe_age', 'ecorce_incluse_houppier', 'classe_hauteur', 'fissure_houppier', 'classe_circonference', 'port_arbre', 'vigueur_pousse', 'champignon_collet', 'plaie_collet', 'champignon_tronc', 'fissure_tronc', 'rejet_tronc', 'tuteurage_arbre', 'canisse_arbre', 'plaie_tronc', 'champignon_houppier']</pre></div></div></div><div class=\"sk-serial\"><div class=\"sk-item\"><div class=\"sk-estimator sk-toggleable\"><input class=\"sk-toggleable__control sk-hidden--visually\" id=\"a0b419f6-668d-4ecf-9b94-87fca6887d80\" type=\"checkbox\" ><label class=\"sk-toggleable__label\" for=\"a0b419f6-668d-4ecf-9b94-87fca6887d80\">OrdinalEncoder</label><div class=\"sk-toggleable__content\"><pre>OrdinalEncoder(handle_unknown='use_encoded_value', unknown_value=-1)</pre></div></div></div></div></div></div><div class=\"sk-parallel-item\"><div class=\"sk-item\"><div class=\"sk-label-container\"><div class=\"sk-label sk-toggleable\"><input class=\"sk-toggleable__control sk-hidden--visually\" id=\"ef44a922-0212-40e2-9c0e-70ad6f5f77ba\" type=\"checkbox\" ><label class=\"sk-toggleable__label\" for=\"ef44a922-0212-40e2-9c0e-70ad6f5f77ba\">remainder</label><div class=\"sk-toggleable__content\"><pre></pre></div></div></div><div class=\"sk-serial\"><div class=\"sk-item\"><div class=\"sk-estimator sk-toggleable\"><input class=\"sk-toggleable__control sk-hidden--visually\" id=\"6622dd8b-e4fd-47bb-a7cf-57bf4aba3dda\" type=\"checkbox\" ><label class=\"sk-toggleable__label\" for=\"6622dd8b-e4fd-47bb-a7cf-57bf4aba3dda\">passthrough</label><div class=\"sk-toggleable__content\"><pre>passthrough</pre></div></div></div></div></div></div></div></div><div class=\"sk-item sk-dashed-wrapped\"><div class=\"sk-label-container\"><div class=\"sk-label sk-toggleable\"><input class=\"sk-toggleable__control sk-hidden--visually\" id=\"fc80730e-171f-473f-9a9d-4783294978f5\" type=\"checkbox\" ><label class=\"sk-toggleable__label\" for=\"fc80730e-171f-473f-9a9d-4783294978f5\">classifier: AdaBoostClassifier</label><div class=\"sk-toggleable__content\"><pre>AdaBoostClassifier(algorithm='SAMME',\n",
       "                   base_estimator=DecisionTreeClassifier(criterion='entropy',\n",
       "                                                         max_depth=4,\n",
       "                                                         max_leaf_nodes=10,\n",
       "                                                         random_state=0),\n",
       "                   random_state=0)</pre></div></div></div><div class=\"sk-parallel\"><div class=\"sk-parallel-item\"><div class=\"sk-item\"><div class=\"sk-serial\"><div class=\"sk-item\"><div class=\"sk-estimator sk-toggleable\"><input class=\"sk-toggleable__control sk-hidden--visually\" id=\"56b50879-9ce5-4b75-b98f-0e9327e9abc7\" type=\"checkbox\" ><label class=\"sk-toggleable__label\" for=\"56b50879-9ce5-4b75-b98f-0e9327e9abc7\">DecisionTreeClassifier</label><div class=\"sk-toggleable__content\"><pre>DecisionTreeClassifier(criterion='entropy', max_depth=4, max_leaf_nodes=10,\n",
       "                       random_state=0)</pre></div></div></div></div></div></div></div></div></div></div></div></div>"
      ],
      "text/plain": [
       "Pipeline(steps=[('preprocessor',\n",
       "                 ColumnTransformer(remainder='passthrough', sparse_threshold=0,\n",
       "                                   transformers=[('cat_preprocessor',\n",
       "                                                  OrdinalEncoder(handle_unknown='use_encoded_value',\n",
       "                                                                 unknown_value=-1),\n",
       "                                                  ['quartier', 'site',\n",
       "                                                   'cote_voirie', 'contrainte',\n",
       "                                                   'genre_arbre',\n",
       "                                                   'espece_arbre', 'situation',\n",
       "                                                   'type_sol', 'plaie_houppier',\n",
       "                                                   'bois_mort_houppier',\n",
       "                                                   'classe_age',\n",
       "                                                   'ecorc...\n",
       "                                                   'port_arbre',\n",
       "                                                   'vigueur_pousse',\n",
       "                                                   'champignon_collet',\n",
       "                                                   'plaie_collet',\n",
       "                                                   'champignon_tronc',\n",
       "                                                   'fissure_tronc',\n",
       "                                                   'rejet_tronc',\n",
       "                                                   'tuteurage_arbre',\n",
       "                                                   'canisse_arbre',\n",
       "                                                   'plaie_tronc',\n",
       "                                                   'champignon_houppier'])])),\n",
       "                ('classifier',\n",
       "                 AdaBoostClassifier(algorithm='SAMME',\n",
       "                                    base_estimator=DecisionTreeClassifier(criterion='entropy',\n",
       "                                                                          max_depth=4,\n",
       "                                                                          max_leaf_nodes=10,\n",
       "                                                                          random_state=0),\n",
       "                                    random_state=0))])"
      ]
     },
     "execution_count": 76,
     "metadata": {},
     "output_type": "execute_result"
    }
   ],
   "source": [
    "from sklearn import set_config\n",
    "set_config(display='diagram')\n",
    "model_adabst"
   ]
  },
  {
   "cell_type": "code",
   "execution_count": 132,
   "id": "d96a2d84-7d14-4447-88de-399c6f6e5859",
   "metadata": {
    "tags": []
   },
   "outputs": [
    {
     "name": "stdout",
     "output_type": "stream",
     "text": [
      "Fitting 5 folds for each of 500 candidates, totalling 2500 fits\n",
      "Wall time: 17min 34s\n"
     ]
    },
    {
     "data": {
      "text/html": [
       "<style>#sk-686af3ab-5466-4a79-93f0-a0b7120356a7 {color: black;background-color: white;}#sk-686af3ab-5466-4a79-93f0-a0b7120356a7 pre{padding: 0;}#sk-686af3ab-5466-4a79-93f0-a0b7120356a7 div.sk-toggleable {background-color: white;}#sk-686af3ab-5466-4a79-93f0-a0b7120356a7 label.sk-toggleable__label {cursor: pointer;display: block;width: 100%;margin-bottom: 0;padding: 0.2em 0.3em;box-sizing: border-box;text-align: center;}#sk-686af3ab-5466-4a79-93f0-a0b7120356a7 div.sk-toggleable__content {max-height: 0;max-width: 0;overflow: hidden;text-align: left;background-color: #f0f8ff;}#sk-686af3ab-5466-4a79-93f0-a0b7120356a7 div.sk-toggleable__content pre {margin: 0.2em;color: black;border-radius: 0.25em;background-color: #f0f8ff;}#sk-686af3ab-5466-4a79-93f0-a0b7120356a7 input.sk-toggleable__control:checked~div.sk-toggleable__content {max-height: 200px;max-width: 100%;overflow: auto;}#sk-686af3ab-5466-4a79-93f0-a0b7120356a7 div.sk-estimator input.sk-toggleable__control:checked~label.sk-toggleable__label {background-color: #d4ebff;}#sk-686af3ab-5466-4a79-93f0-a0b7120356a7 div.sk-label input.sk-toggleable__control:checked~label.sk-toggleable__label {background-color: #d4ebff;}#sk-686af3ab-5466-4a79-93f0-a0b7120356a7 input.sk-hidden--visually {border: 0;clip: rect(1px 1px 1px 1px);clip: rect(1px, 1px, 1px, 1px);height: 1px;margin: -1px;overflow: hidden;padding: 0;position: absolute;width: 1px;}#sk-686af3ab-5466-4a79-93f0-a0b7120356a7 div.sk-estimator {font-family: monospace;background-color: #f0f8ff;margin: 0.25em 0.25em;border: 1px dotted black;border-radius: 0.25em;box-sizing: border-box;}#sk-686af3ab-5466-4a79-93f0-a0b7120356a7 div.sk-estimator:hover {background-color: #d4ebff;}#sk-686af3ab-5466-4a79-93f0-a0b7120356a7 div.sk-parallel-item::after {content: \"\";width: 100%;border-bottom: 1px solid gray;flex-grow: 1;}#sk-686af3ab-5466-4a79-93f0-a0b7120356a7 div.sk-label:hover label.sk-toggleable__label {background-color: #d4ebff;}#sk-686af3ab-5466-4a79-93f0-a0b7120356a7 div.sk-serial::before {content: \"\";position: absolute;border-left: 1px solid gray;box-sizing: border-box;top: 2em;bottom: 0;left: 50%;}#sk-686af3ab-5466-4a79-93f0-a0b7120356a7 div.sk-serial {display: flex;flex-direction: column;align-items: center;background-color: white;}#sk-686af3ab-5466-4a79-93f0-a0b7120356a7 div.sk-item {z-index: 1;}#sk-686af3ab-5466-4a79-93f0-a0b7120356a7 div.sk-parallel {display: flex;align-items: stretch;justify-content: center;background-color: white;}#sk-686af3ab-5466-4a79-93f0-a0b7120356a7 div.sk-parallel-item {display: flex;flex-direction: column;position: relative;background-color: white;}#sk-686af3ab-5466-4a79-93f0-a0b7120356a7 div.sk-parallel-item:first-child::after {align-self: flex-end;width: 50%;}#sk-686af3ab-5466-4a79-93f0-a0b7120356a7 div.sk-parallel-item:last-child::after {align-self: flex-start;width: 50%;}#sk-686af3ab-5466-4a79-93f0-a0b7120356a7 div.sk-parallel-item:only-child::after {width: 0;}#sk-686af3ab-5466-4a79-93f0-a0b7120356a7 div.sk-dashed-wrapped {border: 1px dashed gray;margin: 0.2em;box-sizing: border-box;padding-bottom: 0.1em;background-color: white;position: relative;}#sk-686af3ab-5466-4a79-93f0-a0b7120356a7 div.sk-label label {font-family: monospace;font-weight: bold;background-color: white;display: inline-block;line-height: 1.2em;}#sk-686af3ab-5466-4a79-93f0-a0b7120356a7 div.sk-label-container {position: relative;z-index: 2;text-align: center;}#sk-686af3ab-5466-4a79-93f0-a0b7120356a7 div.sk-container {display: inline-block;position: relative;}</style><div id=\"sk-686af3ab-5466-4a79-93f0-a0b7120356a7\" class\"sk-top-container\"><div class=\"sk-container\"><div class=\"sk-item sk-dashed-wrapped\"><div class=\"sk-label-container\"><div class=\"sk-label sk-toggleable\"><input class=\"sk-toggleable__control sk-hidden--visually\" id=\"0a026bcd-33f3-4ec1-b210-3de0a899d54f\" type=\"checkbox\" ><label class=\"sk-toggleable__label\" for=\"0a026bcd-33f3-4ec1-b210-3de0a899d54f\">RandomizedSearchCV</label><div class=\"sk-toggleable__content\"><pre>RandomizedSearchCV(cv=5,\n",
       "                   estimator=Pipeline(steps=[('preprocessor',\n",
       "                                              ColumnTransformer(remainder='passthrough',\n",
       "                                                                sparse_threshold=0,\n",
       "                                                                transformers=[('cat_preprocessor',\n",
       "                                                                               OrdinalEncoder(handle_unknown='use_encoded_value',\n",
       "                                                                                              unknown_value=-1),\n",
       "                                                                               ['quartier',\n",
       "                                                                                'site',\n",
       "                                                                                'cote_voirie',\n",
       "                                                                                'contrainte',\n",
       "                                                                                'genre_arbre',\n",
       "                                                                                'espece_arbre',\n",
       "                                                                                'situation',\n",
       "                                                                                'type_sol',\n",
       "                                                                                'plaie_houppier',\n",
       "                                                                                'bois_...\n",
       "                                                                 base_estimator=DecisionTreeClassifier(criterion='entropy',\n",
       "                                                                                                       max_depth=4,\n",
       "                                                                                                       max_leaf_nodes=10,\n",
       "                                                                                                       random_state=0),\n",
       "                                                                 random_state=0))]),\n",
       "                   n_iter=500, n_jobs=-1,\n",
       "                   param_distributions={'classifier__learning_rate': <scipy.stats._distn_infrastructure.rv_frozen object at 0x000001D6D33A2700>,\n",
       "                                        'classifier__n_estimators': <__main__.loguniform_int object at 0x000001D6D487E8B0>},\n",
       "                   random_state=0, verbose=1)</pre></div></div></div><div class=\"sk-parallel\"><div class=\"sk-parallel-item\"><div class=\"sk-item\"><div class=\"sk-serial\"><div class=\"sk-item\"><div class=\"sk-serial\"><div class=\"sk-item sk-dashed-wrapped\"><div class=\"sk-label-container\"><div class=\"sk-label sk-toggleable\"><input class=\"sk-toggleable__control sk-hidden--visually\" id=\"48b7b514-dcce-4d49-ac70-810168f615a3\" type=\"checkbox\" ><label class=\"sk-toggleable__label\" for=\"48b7b514-dcce-4d49-ac70-810168f615a3\">preprocessor: ColumnTransformer</label><div class=\"sk-toggleable__content\"><pre>ColumnTransformer(remainder='passthrough', sparse_threshold=0,\n",
       "                  transformers=[('cat_preprocessor',\n",
       "                                 OrdinalEncoder(handle_unknown='use_encoded_value',\n",
       "                                                unknown_value=-1),\n",
       "                                 ['quartier', 'site', 'cote_voirie',\n",
       "                                  'contrainte', 'genre_arbre', 'espece_arbre',\n",
       "                                  'situation', 'type_sol', 'plaie_houppier',\n",
       "                                  'bois_mort_houppier', 'classe_age',\n",
       "                                  'ecorce_incluse_houppier', 'classe_hauteur',\n",
       "                                  'fissure_houppier', 'classe_circonference',\n",
       "                                  'port_arbre', 'vigueur_pousse',\n",
       "                                  'champignon_collet', 'plaie_collet',\n",
       "                                  'champignon_tronc', 'fissure_tronc',\n",
       "                                  'rejet_tronc', 'tuteurage_arbre',\n",
       "                                  'canisse_arbre', 'plaie_tronc',\n",
       "                                  'champignon_houppier'])])</pre></div></div></div><div class=\"sk-parallel\"><div class=\"sk-parallel-item\"><div class=\"sk-item\"><div class=\"sk-label-container\"><div class=\"sk-label sk-toggleable\"><input class=\"sk-toggleable__control sk-hidden--visually\" id=\"dfd015fc-1493-41b1-ae0c-1d718c15f03b\" type=\"checkbox\" ><label class=\"sk-toggleable__label\" for=\"dfd015fc-1493-41b1-ae0c-1d718c15f03b\">cat_preprocessor</label><div class=\"sk-toggleable__content\"><pre>['quartier', 'site', 'cote_voirie', 'contrainte', 'genre_arbre', 'espece_arbre', 'situation', 'type_sol', 'plaie_houppier', 'bois_mort_houppier', 'classe_age', 'ecorce_incluse_houppier', 'classe_hauteur', 'fissure_houppier', 'classe_circonference', 'port_arbre', 'vigueur_pousse', 'champignon_collet', 'plaie_collet', 'champignon_tronc', 'fissure_tronc', 'rejet_tronc', 'tuteurage_arbre', 'canisse_arbre', 'plaie_tronc', 'champignon_houppier']</pre></div></div></div><div class=\"sk-serial\"><div class=\"sk-item\"><div class=\"sk-estimator sk-toggleable\"><input class=\"sk-toggleable__control sk-hidden--visually\" id=\"955c592d-3d52-4b14-9e25-f99d1ded8893\" type=\"checkbox\" ><label class=\"sk-toggleable__label\" for=\"955c592d-3d52-4b14-9e25-f99d1ded8893\">OrdinalEncoder</label><div class=\"sk-toggleable__content\"><pre>OrdinalEncoder(handle_unknown='use_encoded_value', unknown_value=-1)</pre></div></div></div></div></div></div><div class=\"sk-parallel-item\"><div class=\"sk-item\"><div class=\"sk-label-container\"><div class=\"sk-label sk-toggleable\"><input class=\"sk-toggleable__control sk-hidden--visually\" id=\"d585568e-e924-4e1e-9222-f265e9767dac\" type=\"checkbox\" ><label class=\"sk-toggleable__label\" for=\"d585568e-e924-4e1e-9222-f265e9767dac\">remainder</label><div class=\"sk-toggleable__content\"><pre></pre></div></div></div><div class=\"sk-serial\"><div class=\"sk-item\"><div class=\"sk-estimator sk-toggleable\"><input class=\"sk-toggleable__control sk-hidden--visually\" id=\"0793b702-476c-4ab1-87e6-5bb314bb2a51\" type=\"checkbox\" ><label class=\"sk-toggleable__label\" for=\"0793b702-476c-4ab1-87e6-5bb314bb2a51\">passthrough</label><div class=\"sk-toggleable__content\"><pre>passthrough</pre></div></div></div></div></div></div></div></div><div class=\"sk-item sk-dashed-wrapped\"><div class=\"sk-label-container\"><div class=\"sk-label sk-toggleable\"><input class=\"sk-toggleable__control sk-hidden--visually\" id=\"2f5b4455-75d6-430b-8336-67a9ce19fbdf\" type=\"checkbox\" ><label class=\"sk-toggleable__label\" for=\"2f5b4455-75d6-430b-8336-67a9ce19fbdf\">classifier: AdaBoostClassifier</label><div class=\"sk-toggleable__content\"><pre>AdaBoostClassifier(algorithm='SAMME',\n",
       "                   base_estimator=DecisionTreeClassifier(criterion='entropy',\n",
       "                                                         max_depth=4,\n",
       "                                                         max_leaf_nodes=10,\n",
       "                                                         random_state=0),\n",
       "                   random_state=0)</pre></div></div></div><div class=\"sk-parallel\"><div class=\"sk-parallel-item\"><div class=\"sk-item\"><div class=\"sk-serial\"><div class=\"sk-item\"><div class=\"sk-estimator sk-toggleable\"><input class=\"sk-toggleable__control sk-hidden--visually\" id=\"a5205792-3f44-42c9-85de-f1d21b8c851c\" type=\"checkbox\" ><label class=\"sk-toggleable__label\" for=\"a5205792-3f44-42c9-85de-f1d21b8c851c\">DecisionTreeClassifier</label><div class=\"sk-toggleable__content\"><pre>DecisionTreeClassifier(criterion='entropy', max_depth=4, max_leaf_nodes=10,\n",
       "                       random_state=0)</pre></div></div></div></div></div></div></div></div></div></div></div></div></div></div></div></div></div>"
      ],
      "text/plain": [
       "RandomizedSearchCV(cv=5,\n",
       "                   estimator=Pipeline(steps=[('preprocessor',\n",
       "                                              ColumnTransformer(remainder='passthrough',\n",
       "                                                                sparse_threshold=0,\n",
       "                                                                transformers=[('cat_preprocessor',\n",
       "                                                                               OrdinalEncoder(handle_unknown='use_encoded_value',\n",
       "                                                                                              unknown_value=-1),\n",
       "                                                                               ['quartier',\n",
       "                                                                                'site',\n",
       "                                                                                'cote_voirie',\n",
       "                                                                                'contrainte',\n",
       "                                                                                'genre_arbre',\n",
       "                                                                                'espece_arbre',\n",
       "                                                                                'situation',\n",
       "                                                                                'type_sol',\n",
       "                                                                                'plaie_houppier',\n",
       "                                                                                'bois_...\n",
       "                                                                 base_estimator=DecisionTreeClassifier(criterion='entropy',\n",
       "                                                                                                       max_depth=4,\n",
       "                                                                                                       max_leaf_nodes=10,\n",
       "                                                                                                       random_state=0),\n",
       "                                                                 random_state=0))]),\n",
       "                   n_iter=500, n_jobs=-1,\n",
       "                   param_distributions={'classifier__learning_rate': <scipy.stats._distn_infrastructure.rv_frozen object at 0x000001D6D33A2700>,\n",
       "                                        'classifier__n_estimators': <__main__.loguniform_int object at 0x000001D6D487E8B0>},\n",
       "                   random_state=0, verbose=1)"
      ]
     },
     "execution_count": 132,
     "metadata": {},
     "output_type": "execute_result"
    }
   ],
   "source": [
    "%%time\n",
    "from sklearn.model_selection import RandomizedSearchCV\n",
    "\n",
    "param_distributions = {\n",
    "    'classifier__n_estimators': loguniform_int(250, 1000),\n",
    "    'classifier__learning_rate': loguniform(0.1, 0.6),\n",
    "}\n",
    "\n",
    "model_random_search_adabst = RandomizedSearchCV(\n",
    "    model_adabst, param_distributions=param_distributions, n_iter=500,\n",
    "    cv=5, verbose=1, random_state =0, n_jobs=-1,\n",
    ")\n",
    "model_random_search_adabst.fit(X_train, y_train)"
   ]
  },
  {
   "cell_type": "code",
   "execution_count": 133,
   "id": "4d35c9c3-2cfe-46ef-95da-a54d03b7e14e",
   "metadata": {},
   "outputs": [
    {
     "name": "stdout",
     "output_type": "stream",
     "text": [
      "The test accuracy score of the best model is 0.86\n"
     ]
    }
   ],
   "source": [
    "accuracy = model_random_search_adabst.score(X_test, y_test)\n",
    "\n",
    "print(f\"The test accuracy score of the best model is \"\n",
    "      f\"{accuracy:.2f}\")"
   ]
  },
  {
   "cell_type": "code",
   "execution_count": 134,
   "id": "a03237c4-de0a-43b7-8bc0-11355200c270",
   "metadata": {},
   "outputs": [
    {
     "name": "stdout",
     "output_type": "stream",
     "text": [
      "The best parameters are:\n",
      "{'classifier__learning_rate': 0.5794816078118836,\n",
      " 'classifier__n_estimators': 837}\n"
     ]
    }
   ],
   "source": [
    "from pprint import pprint\n",
    "\n",
    "print(\"The best parameters are:\")\n",
    "pprint(model_random_search_adabst.best_params_)"
   ]
  },
  {
   "cell_type": "markdown",
   "id": "effeaa96-6efb-4808-b357-cbee31b138bc",
   "metadata": {
    "lines_to_next_cell": 2
   },
   "source": [
    "\n",
    "We can inspect the results using the attributes `cv_results` as we did\n",
    "previously."
   ]
  },
  {
   "cell_type": "code",
   "execution_count": 1,
   "id": "9b82ea48-3675-4c55-ad95-6245a06c3a92",
   "metadata": {
    "tags": []
   },
   "outputs": [
    {
     "ename": "NameError",
     "evalue": "name 'param_distributions' is not defined",
     "output_type": "error",
     "traceback": [
      "\u001b[1;31m---------------------------------------------------------------------------\u001b[0m",
      "\u001b[1;31mNameError\u001b[0m                                 Traceback (most recent call last)",
      "\u001b[1;32m~\\AppData\\Local\\Temp/ipykernel_32660/2501831624.py\u001b[0m in \u001b[0;36m<module>\u001b[1;34m\u001b[0m\n\u001b[0;32m      1\u001b[0m \u001b[1;31m# get the parameter names\u001b[0m\u001b[1;33m\u001b[0m\u001b[1;33m\u001b[0m\u001b[0m\n\u001b[0;32m      2\u001b[0m column_results = [\n\u001b[1;32m----> 3\u001b[1;33m     f\"param_{name}\" for name in param_distributions.keys()]\n\u001b[0m\u001b[0;32m      4\u001b[0m column_results += [\n\u001b[0;32m      5\u001b[0m     \"mean_test_score\", \"std_test_score\", \"rank_test_score\"]\n",
      "\u001b[1;31mNameError\u001b[0m: name 'param_distributions' is not defined"
     ]
    }
   ],
   "source": [
    "# get the parameter names\n",
    "column_results = [\n",
    "    f\"param_{name}\" for name in param_distributions.keys()]\n",
    "column_results += [\n",
    "    \"mean_test_score\", \"std_test_score\", \"rank_test_score\"]\n",
    "\n",
    "cv_results = pd.DataFrame(model_random_search_adabst.cv_results_)\n",
    "cv_results = cv_results[column_results].sort_values(\n",
    "    \"mean_test_score\", ascending=False)\n",
    "\n",
    "def shorten_param(param_name):\n",
    "    if \"__\" in param_name:\n",
    "        return param_name.rsplit(\"__\", 1)[1]\n",
    "    return param_name\n",
    "\n",
    "cv_results = cv_results.rename(shorten_param, axis=1)\n",
    "cv_results.head(100)"
   ]
  },
  {
   "cell_type": "code",
   "execution_count": 136,
   "id": "0c0d09f0-2305-43a1-bf4b-a18091733027",
   "metadata": {},
   "outputs": [
    {
     "data": {
      "text/html": [
       "<div>\n",
       "<style scoped>\n",
       "    .dataframe tbody tr th:only-of-type {\n",
       "        vertical-align: middle;\n",
       "    }\n",
       "\n",
       "    .dataframe tbody tr th {\n",
       "        vertical-align: top;\n",
       "    }\n",
       "\n",
       "    .dataframe thead th {\n",
       "        text-align: right;\n",
       "    }\n",
       "</style>\n",
       "<table border=\"1\" class=\"dataframe\">\n",
       "  <thead>\n",
       "    <tr style=\"text-align: right;\">\n",
       "      <th></th>\n",
       "      <th>n_estimators</th>\n",
       "      <th>learning_rate</th>\n",
       "      <th>mean_test_score</th>\n",
       "      <th>std_test_score</th>\n",
       "      <th>rank_test_score</th>\n",
       "    </tr>\n",
       "  </thead>\n",
       "  <tbody>\n",
       "    <tr>\n",
       "      <th>281</th>\n",
       "      <td>837</td>\n",
       "      <td>0.579482</td>\n",
       "      <td>0.873031</td>\n",
       "      <td>0.009233</td>\n",
       "      <td>1</td>\n",
       "    </tr>\n",
       "    <tr>\n",
       "      <th>443</th>\n",
       "      <td>693</td>\n",
       "      <td>0.397975</td>\n",
       "      <td>0.871481</td>\n",
       "      <td>0.009276</td>\n",
       "      <td>2</td>\n",
       "    </tr>\n",
       "    <tr>\n",
       "      <th>384</th>\n",
       "      <td>749</td>\n",
       "      <td>0.564688</td>\n",
       "      <td>0.869906</td>\n",
       "      <td>0.012713</td>\n",
       "      <td>3</td>\n",
       "    </tr>\n",
       "    <tr>\n",
       "      <th>473</th>\n",
       "      <td>398</td>\n",
       "      <td>0.36241</td>\n",
       "      <td>0.869894</td>\n",
       "      <td>0.015416</td>\n",
       "      <td>4</td>\n",
       "    </tr>\n",
       "    <tr>\n",
       "      <th>143</th>\n",
       "      <td>485</td>\n",
       "      <td>0.58078</td>\n",
       "      <td>0.869882</td>\n",
       "      <td>0.012974</td>\n",
       "      <td>5</td>\n",
       "    </tr>\n",
       "    <tr>\n",
       "      <th>...</th>\n",
       "      <td>...</td>\n",
       "      <td>...</td>\n",
       "      <td>...</td>\n",
       "      <td>...</td>\n",
       "      <td>...</td>\n",
       "    </tr>\n",
       "    <tr>\n",
       "      <th>351</th>\n",
       "      <td>281</td>\n",
       "      <td>0.115522</td>\n",
       "      <td>0.838558</td>\n",
       "      <td>0.014479</td>\n",
       "      <td>495</td>\n",
       "    </tr>\n",
       "    <tr>\n",
       "      <th>309</th>\n",
       "      <td>998</td>\n",
       "      <td>0.203763</td>\n",
       "      <td>0.837057</td>\n",
       "      <td>0.021329</td>\n",
       "      <td>497</td>\n",
       "    </tr>\n",
       "    <tr>\n",
       "      <th>276</th>\n",
       "      <td>514</td>\n",
       "      <td>0.220786</td>\n",
       "      <td>0.837008</td>\n",
       "      <td>0.023294</td>\n",
       "      <td>498</td>\n",
       "    </tr>\n",
       "    <tr>\n",
       "      <th>447</th>\n",
       "      <td>498</td>\n",
       "      <td>0.304343</td>\n",
       "      <td>0.837008</td>\n",
       "      <td>0.016555</td>\n",
       "      <td>499</td>\n",
       "    </tr>\n",
       "    <tr>\n",
       "      <th>85</th>\n",
       "      <td>269</td>\n",
       "      <td>0.254358</td>\n",
       "      <td>0.835482</td>\n",
       "      <td>0.017321</td>\n",
       "      <td>500</td>\n",
       "    </tr>\n",
       "  </tbody>\n",
       "</table>\n",
       "<p>500 rows × 5 columns</p>\n",
       "</div>"
      ],
      "text/plain": [
       "    n_estimators learning_rate  mean_test_score  std_test_score  \\\n",
       "281          837      0.579482         0.873031        0.009233   \n",
       "443          693      0.397975         0.871481        0.009276   \n",
       "384          749      0.564688         0.869906        0.012713   \n",
       "473          398       0.36241         0.869894        0.015416   \n",
       "143          485       0.58078         0.869882        0.012974   \n",
       "..           ...           ...              ...             ...   \n",
       "351          281      0.115522         0.838558        0.014479   \n",
       "309          998      0.203763         0.837057        0.021329   \n",
       "276          514      0.220786         0.837008        0.023294   \n",
       "447          498      0.304343         0.837008        0.016555   \n",
       "85           269      0.254358         0.835482        0.017321   \n",
       "\n",
       "     rank_test_score  \n",
       "281                1  \n",
       "443                2  \n",
       "384                3  \n",
       "473                4  \n",
       "143                5  \n",
       "..               ...  \n",
       "351              495  \n",
       "309              497  \n",
       "276              498  \n",
       "447              499  \n",
       "85               500  \n",
       "\n",
       "[500 rows x 5 columns]"
      ]
     },
     "execution_count": 136,
     "metadata": {},
     "output_type": "execute_result"
    }
   ],
   "source": [
    "def shorten_param(param_name):\n",
    "    if \"__\" in param_name:\n",
    "        return param_name.rsplit(\"__\", 1)[1]\n",
    "    return param_name\n",
    "\n",
    "cv_results = cv_results.rename(shorten_param, axis=1)\n",
    "cv_results"
   ]
  },
  {
   "cell_type": "code",
   "execution_count": 140,
   "id": "0dcfa312-30a2-469e-b3cb-2939535d1037",
   "metadata": {},
   "outputs": [
    {
     "data": {
      "image/png": "[encoded data removed]",
      "text/plain": [
       "<Figure size 432x288 with 1 Axes>"
      ]
     },
     "metadata": {
      "needs_background": "light"
     },
     "output_type": "display_data"
    }
   ],
   "source": [
    "import seaborn as sns\n",
    "\n",
    "df_tuning = pd.DataFrame(\n",
    "    {\n",
    "        \"n_estimators\": cv_results[\"n_estimators\"],\n",
    "        \"learning_rate\": cv_results[\"learning_rate\"],\n",
    "        \"score_bin\": pd.cut(\n",
    "            cv_results[\"mean_test_score\"], bins=np.linspace(0.863620, 0.874, 8)\n",
    "        ),\n",
    "    }\n",
    ")\n",
    "sns.set_palette(\"YlGnBu_r\")\n",
    "ax = sns.scatterplot(\n",
    "    data=df_tuning,\n",
    "    x=\"n_estimators\",\n",
    "    y=\"learning_rate\",\n",
    "    hue=\"score_bin\",\n",
    "    s=50,\n",
    "    color=\"k\",\n",
    "    edgecolor=None,\n",
    ")\n",
    "#ax.set_xscale(\"log\")\n",
    "#ax.set_yscale(\"log\")\n",
    "\n",
    "_ = ax.legend(title=\"mean_test_score\", loc=\"center left\", bbox_to_anchor=(1, 0.5))"
   ]
  },
  {
   "cell_type": "code",
   "execution_count": null,
   "id": "3c5bb62d-22e6-40de-abec-de7266763237",
   "metadata": {},
   "outputs": [],
   "source": []
  }
 ],
 "metadata": {
  "kernelspec": {
   "display_name": "Python 3 (ipykernel)",
   "language": "python",
   "name": "python3"
  },
  "language_info": {
   "codemirror_mode": {
    "name": "ipython",
    "version": 3
   },
   "file_extension": ".py",
   "mimetype": "text/x-python",
   "name": "python",
   "nbconvert_exporter": "python",
   "pygments_lexer": "ipython3",
   "version": "3.9.7"
  }
 },
 "nbformat": 4,
 "nbformat_minor": 5
}
