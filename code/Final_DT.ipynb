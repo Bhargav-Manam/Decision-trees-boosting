{
 "cells": [
  {
   "cell_type": "markdown",
   "id": "ada2b809-adc6-49b1-adc4-9996800b3356",
   "metadata": {},
   "source": [
    "# Classification Problem on Urban Tree Dataset"
   ]
  },
  {
   "cell_type": "markdown",
   "id": "124f50ae-190c-46b4-a5c2-7c54d9419047",
   "metadata": {},
   "source": [
    "## PreProcessing"
   ]
  },
  {
   "cell_type": "markdown",
   "id": "e962ffc0-2f5b-4575-b18f-5356b27dcf82",
   "metadata": {},
   "source": [
    "### Importing the libraries"
   ]
  },
  {
   "cell_type": "code",
   "execution_count": 1,
   "id": "7cae2a6a-9213-4cb3-ac1c-8a70cce0230f",
   "metadata": {},
   "outputs": [],
   "source": [
    "import numpy as np\n",
    "import pandas as pd\n",
    "import matplotlib.pyplot as plt\n",
    "%matplotlib inline\n",
    "import time\n",
    "from sklearn.compose import ColumnTransformer\n",
    "from sklearn.impute import SimpleImputer, KNNImputer\n",
    "from sklearn.pipeline import Pipeline\n",
    "from sklearn.preprocessing import StandardScaler, OneHotEncoder, LabelEncoder\n",
    "from sklearn.feature_selection import SelectFromModel\n",
    "from sklearn.model_selection import train_test_split, GridSearchCV, RepeatedStratifiedKFold\n",
    "from sklearn.multiclass import OneVsRestClassifier\n",
    "from sklearn.linear_model import LogisticRegression\n",
    "from sklearn.svm import SVC\n",
    "from sklearn.metrics import f1_score, roc_curve, auc,confusion_matrix, RocCurveDisplay"
   ]
  },
  {
   "cell_type": "markdown",
   "id": "a75ef9d8-40e1-4327-afa5-2384cee43188",
   "metadata": {},
   "source": [
    "### Importing the Data set, Cleaning Data and Handling Missing Values"
   ]
  },
  {
   "cell_type": "code",
   "execution_count": 2,
   "id": "af1caba9-bcda-4d58-98f0-0e697407c7be",
   "metadata": {},
   "outputs": [],
   "source": [
    "df = pd.read_csv('sgl-arbres-urbains-wgs84.csv')"
   ]
  },
  {
   "cell_type": "code",
   "execution_count": 3,
   "id": "1c77eb32-4ab7-455d-82ac-716ec060a084",
   "metadata": {},
   "outputs": [],
   "source": [
    "df= df.drop([\"ID_ARBRE\", \"commune\", \"controle\", \"insecte_collet\", \"insecte_tronc\", \"insecte_houppier\",\"circonference (en cm)\", \"observation_collet\", \"observation_tronc\", \"observation_houppier\"], axis=1 )\n",
    "#Handling Missing Values\n",
    "mode_cote_voirie=df.cote_voirie.mode()[0]\n",
    "mode_espece_arbre=df.espece_arbre.mode()[0]\n",
    "mode_situation=df.situation.mode()[0]\n",
    "mode_plaie_collet=df.plaie_collet.mode()[0]\n",
    "mode_champignon_tronc=df.champignon_tronc.mode()[0]\n",
    "mode_fissure_tronc=df.fissure_tronc.mode()[0]\n",
    "mode_rejet_tronc=df.rejet_tronc.mode()[0]\n",
    "mode_plaie_tronc=df.plaie_tronc.mode()[0]\n",
    "mode_champignon_houppier=df.champignon_houppier.mode()[0]\n",
    "mode_fissure_houppier=df.fissure_houppier.mode()[0]\n",
    "mode_ecorce_incluse_houppier=df.ecorce_incluse_houppier.mode()[0]\n",
    "mode_bois_mort_houppier=df.bois_mort_houppier.mode()[0]\n",
    "mode_plaie_houppier=df.plaie_houppier.mode()[0]\n",
    "mode_contrainte=df.contrainte.mode()[0]\n",
    "mode_classification_diagnostic=df.classification_diagnostic.mode()[0]\n",
    "median_esperance_maintien=df.esperance_maintien.median()\n",
    "\n",
    "df=df.fillna({\"cote_voirie\": mode_cote_voirie, \"espece_arbre\": mode_espece_arbre, \"situation\": mode_situation,\n",
    "            \"plaie_collet\": mode_plaie_collet, \"champignon_tronc\": mode_champignon_tronc,\n",
    "            \"fissure_tronc\": mode_fissure_tronc, \"rejet_tronc\": mode_rejet_tronc, \"plaie_tronc\": mode_plaie_tronc, \n",
    "              \"champignon_houppier\": mode_champignon_houppier, \"fissure_houppier\":mode_fissure_houppier, \"ecorce_incluse_houppier\": mode_ecorce_incluse_houppier,\n",
    "            \"bois_mort_houppier\": mode_bois_mort_houppier, \"plaie_houppier\": mode_plaie_houppier, \"contrainte\": mode_contrainte,\n",
    "            \"classification_diagnostic\": mode_classification_diagnostic, \"esperance_maintien\": median_esperance_maintien})"
   ]
  },
  {
   "cell_type": "code",
   "execution_count": 4,
   "id": "075e801c-0894-477e-b71b-36c356f8930e",
   "metadata": {},
   "outputs": [
    {
     "data": {
      "text/html": [
       "<div>\n",
       "<style scoped>\n",
       "    .dataframe tbody tr th:only-of-type {\n",
       "        vertical-align: middle;\n",
       "    }\n",
       "\n",
       "    .dataframe tbody tr th {\n",
       "        vertical-align: top;\n",
       "    }\n",
       "\n",
       "    .dataframe thead th {\n",
       "        text-align: right;\n",
       "    }\n",
       "</style>\n",
       "<table border=\"1\" class=\"dataframe\">\n",
       "  <thead>\n",
       "    <tr style=\"text-align: right;\">\n",
       "      <th></th>\n",
       "      <th>quartier</th>\n",
       "      <th>site</th>\n",
       "      <th>cote_voirie</th>\n",
       "      <th>matricule_arbre</th>\n",
       "      <th>genre_arbre</th>\n",
       "      <th>espece_arbre</th>\n",
       "      <th>situation</th>\n",
       "      <th>type_sol</th>\n",
       "      <th>surf_permeable</th>\n",
       "      <th>date_plantation</th>\n",
       "      <th>...</th>\n",
       "      <th>canisse_arbre</th>\n",
       "      <th>plaie_tronc</th>\n",
       "      <th>champignon_houppier</th>\n",
       "      <th>fissure_houppier</th>\n",
       "      <th>ecorce_incluse_houppier</th>\n",
       "      <th>bois_mort_houppier</th>\n",
       "      <th>plaie_houppier</th>\n",
       "      <th>esperance_maintien</th>\n",
       "      <th>contrainte</th>\n",
       "      <th>classification_diagnostic</th>\n",
       "    </tr>\n",
       "  </thead>\n",
       "  <tbody>\n",
       "    <tr>\n",
       "      <th>0</th>\n",
       "      <td>Quartier 2 - Alsace - Pereire</td>\n",
       "      <td>Carrefour RN13</td>\n",
       "      <td>Impair</td>\n",
       "      <td>7</td>\n",
       "      <td>Betula</td>\n",
       "      <td>Alba</td>\n",
       "      <td>Groupe</td>\n",
       "      <td>P</td>\n",
       "      <td>5.0</td>\n",
       "      <td>2000</td>\n",
       "      <td>...</td>\n",
       "      <td>Non</td>\n",
       "      <td>TPLNC</td>\n",
       "      <td>Non</td>\n",
       "      <td>HPF</td>\n",
       "      <td>Non</td>\n",
       "      <td>HBMI</td>\n",
       "      <td>HPLC</td>\n",
       "      <td>1.0</td>\n",
       "      <td>Non</td>\n",
       "      <td>C2</td>\n",
       "    </tr>\n",
       "    <tr>\n",
       "      <th>1</th>\n",
       "      <td>Quartier 2 - Alsace - Pereire</td>\n",
       "      <td>Carrefour RN13</td>\n",
       "      <td>Impair</td>\n",
       "      <td>8</td>\n",
       "      <td>Betula</td>\n",
       "      <td>Alba</td>\n",
       "      <td>Groupe</td>\n",
       "      <td>P</td>\n",
       "      <td>5.0</td>\n",
       "      <td>2000</td>\n",
       "      <td>...</td>\n",
       "      <td>Non</td>\n",
       "      <td>TPLC</td>\n",
       "      <td>Non</td>\n",
       "      <td>HPF</td>\n",
       "      <td>Non</td>\n",
       "      <td>HBMI</td>\n",
       "      <td>HPLC</td>\n",
       "      <td>1.0</td>\n",
       "      <td>Non</td>\n",
       "      <td>C2</td>\n",
       "    </tr>\n",
       "    <tr>\n",
       "      <th>2</th>\n",
       "      <td>Quartier 2 - Alsace - Pereire</td>\n",
       "      <td>Carrefour RN13</td>\n",
       "      <td>Impair</td>\n",
       "      <td>9</td>\n",
       "      <td>Betula</td>\n",
       "      <td>Alba</td>\n",
       "      <td>Groupe</td>\n",
       "      <td>P</td>\n",
       "      <td>5.0</td>\n",
       "      <td>2000</td>\n",
       "      <td>...</td>\n",
       "      <td>Non</td>\n",
       "      <td>TPLCF</td>\n",
       "      <td>Non</td>\n",
       "      <td>HPF</td>\n",
       "      <td>Non</td>\n",
       "      <td>HBMI</td>\n",
       "      <td>HPLC</td>\n",
       "      <td>1.0</td>\n",
       "      <td>Non</td>\n",
       "      <td>C2</td>\n",
       "    </tr>\n",
       "    <tr>\n",
       "      <th>3</th>\n",
       "      <td>Quartier 2 - Alsace - Pereire</td>\n",
       "      <td>Carrefour RN13</td>\n",
       "      <td>Impair</td>\n",
       "      <td>1</td>\n",
       "      <td>Carpinus</td>\n",
       "      <td>Betulus - L. - Fastigiata</td>\n",
       "      <td>Bosquet</td>\n",
       "      <td>G</td>\n",
       "      <td>100.0</td>\n",
       "      <td>1980</td>\n",
       "      <td>...</td>\n",
       "      <td>Non</td>\n",
       "      <td>TPLS</td>\n",
       "      <td>Non</td>\n",
       "      <td>HPF</td>\n",
       "      <td>Non</td>\n",
       "      <td>HBMI</td>\n",
       "      <td>HPLS</td>\n",
       "      <td>1.0</td>\n",
       "      <td>Non</td>\n",
       "      <td>C2</td>\n",
       "    </tr>\n",
       "    <tr>\n",
       "      <th>4</th>\n",
       "      <td>Quartier 2 - Alsace - Pereire</td>\n",
       "      <td>Carrefour RN13</td>\n",
       "      <td>Impair</td>\n",
       "      <td>2</td>\n",
       "      <td>Carpinus</td>\n",
       "      <td>Betulus - L. - Fastigiata</td>\n",
       "      <td>Bosquet</td>\n",
       "      <td>G</td>\n",
       "      <td>100.0</td>\n",
       "      <td>1980</td>\n",
       "      <td>...</td>\n",
       "      <td>Non</td>\n",
       "      <td>TPLS</td>\n",
       "      <td>Non</td>\n",
       "      <td>HPF</td>\n",
       "      <td>Non</td>\n",
       "      <td>HBMI</td>\n",
       "      <td>HPLS</td>\n",
       "      <td>1.0</td>\n",
       "      <td>Non</td>\n",
       "      <td>C2</td>\n",
       "    </tr>\n",
       "  </tbody>\n",
       "</table>\n",
       "<p>5 rows × 33 columns</p>\n",
       "</div>"
      ],
      "text/plain": [
       "                        quartier            site cote_voirie  matricule_arbre  \\\n",
       "0  Quartier 2 - Alsace - Pereire  Carrefour RN13      Impair                7   \n",
       "1  Quartier 2 - Alsace - Pereire  Carrefour RN13      Impair                8   \n",
       "2  Quartier 2 - Alsace - Pereire  Carrefour RN13      Impair                9   \n",
       "3  Quartier 2 - Alsace - Pereire  Carrefour RN13      Impair                1   \n",
       "4  Quartier 2 - Alsace - Pereire  Carrefour RN13      Impair                2   \n",
       "\n",
       "  genre_arbre                espece_arbre situation type_sol  surf_permeable  \\\n",
       "0      Betula                        Alba    Groupe        P             5.0   \n",
       "1      Betula                        Alba    Groupe        P             5.0   \n",
       "2      Betula                        Alba    Groupe        P             5.0   \n",
       "3    Carpinus   Betulus - L. - Fastigiata   Bosquet        G           100.0   \n",
       "4    Carpinus   Betulus - L. - Fastigiata   Bosquet        G           100.0   \n",
       "\n",
       "   date_plantation  ... canisse_arbre  plaie_tronc champignon_houppier  \\\n",
       "0             2000  ...           Non        TPLNC                 Non   \n",
       "1             2000  ...           Non         TPLC                 Non   \n",
       "2             2000  ...           Non        TPLCF                 Non   \n",
       "3             1980  ...           Non         TPLS                 Non   \n",
       "4             1980  ...           Non         TPLS                 Non   \n",
       "\n",
       "   fissure_houppier ecorce_incluse_houppier bois_mort_houppier plaie_houppier  \\\n",
       "0              HPF                      Non              HBMI            HPLC   \n",
       "1              HPF                      Non              HBMI            HPLC   \n",
       "2              HPF                      Non              HBMI            HPLC   \n",
       "3              HPF                      Non              HBMI            HPLS   \n",
       "4              HPF                      Non              HBMI            HPLS   \n",
       "\n",
       "  esperance_maintien contrainte classification_diagnostic  \n",
       "0                1.0        Non                        C2  \n",
       "1                1.0        Non                        C2  \n",
       "2                1.0        Non                        C2  \n",
       "3                1.0        Non                        C2  \n",
       "4                1.0        Non                        C2  \n",
       "\n",
       "[5 rows x 33 columns]"
      ]
     },
     "execution_count": 4,
     "metadata": {},
     "output_type": "execute_result"
    }
   ],
   "source": [
    "df.head()"
   ]
  },
  {
   "cell_type": "code",
   "execution_count": 5,
   "id": "9e30976a-0a79-4392-85d7-c6a53643a7b8",
   "metadata": {},
   "outputs": [
    {
     "name": "stdout",
     "output_type": "stream",
     "text": [
      "<class 'pandas.core.frame.DataFrame'>\n",
      "RangeIndex: 709 entries, 0 to 708\n",
      "Data columns (total 33 columns):\n",
      " #   Column                     Non-Null Count  Dtype  \n",
      "---  ------                     --------------  -----  \n",
      " 0   quartier                   709 non-null    object \n",
      " 1   site                       709 non-null    object \n",
      " 2   cote_voirie                709 non-null    object \n",
      " 3   contrainte                 709 non-null    object \n",
      " 4   genre_arbre                709 non-null    object \n",
      " 5   espece_arbre               709 non-null    object \n",
      " 6   situation                  709 non-null    object \n",
      " 7   type_sol                   709 non-null    object \n",
      " 8   plaie_houppier             709 non-null    object \n",
      " 9   bois_mort_houppier         709 non-null    object \n",
      " 10  classe_age                 709 non-null    object \n",
      " 11  ecorce_incluse_houppier    709 non-null    object \n",
      " 12  classe_hauteur             709 non-null    object \n",
      " 13  fissure_houppier           709 non-null    object \n",
      " 14  classe_circonference       709 non-null    object \n",
      " 15  port_arbre                 709 non-null    object \n",
      " 16  vigueur_pousse             709 non-null    object \n",
      " 17  champignon_collet          709 non-null    object \n",
      " 18  plaie_collet               709 non-null    object \n",
      " 19  champignon_tronc           709 non-null    object \n",
      " 20  fissure_tronc              709 non-null    object \n",
      " 21  rejet_tronc                709 non-null    object \n",
      " 22  tuteurage_arbre            709 non-null    object \n",
      " 23  canisse_arbre              709 non-null    object \n",
      " 24  plaie_tronc                709 non-null    object \n",
      " 25  champignon_houppier        709 non-null    object \n",
      " 26  diametre                   709 non-null    float64\n",
      " 27  hauteur                    709 non-null    int64  \n",
      " 28  date_plantation            709 non-null    int64  \n",
      " 29  surf_permeable             709 non-null    float64\n",
      " 30  esperance_maintien         709 non-null    float64\n",
      " 31  matricule_arbre            709 non-null    int64  \n",
      " 32  classification_diagnostic  709 non-null    object \n",
      "dtypes: float64(3), int64(3), object(27)\n",
      "memory usage: 182.9+ KB\n"
     ]
    }
   ],
   "source": [
    "#define function to swap columns so that all numerical data will be in the end columns\n",
    "def swap_columns(df, col1, col2):\n",
    "    col_list = list(df.columns)\n",
    "    a, b = col_list.index(col1), col_list.index(col2)\n",
    "    col_list[b], col_list[a] = col_list[a], col_list[b]\n",
    "    df = df[col_list]\n",
    "    return df\n",
    "\n",
    "#swaping columns\n",
    "df = swap_columns(df, 'matricule_arbre', 'contrainte')\n",
    "df = swap_columns(df, 'surf_permeable', 'plaie_houppier')\n",
    "df = swap_columns(df, 'date_plantation', 'bois_mort_houppier')\n",
    "df = swap_columns(df, 'hauteur', 'ecorce_incluse_houppier')\n",
    "df = swap_columns(df, 'diametre', 'fissure_houppier')\n",
    "\n",
    "df.info()"
   ]
  },
  {
   "cell_type": "code",
   "execution_count": 6,
   "id": "166dc29c-de2c-421d-aee7-1aff088fcc80",
   "metadata": {},
   "outputs": [
    {
     "data": {
      "image/png": "[encoded data removed]",
      "text/plain": [
       "<Figure size 1440x1008 with 6 Axes>"
      ]
     },
     "metadata": {
      "needs_background": "light"
     },
     "output_type": "display_data"
    }
   ],
   "source": [
    "_ = df.hist(figsize=(20, 14))"
   ]
  },
  {
   "cell_type": "code",
   "execution_count": 7,
   "id": "5fcc0d37-6efe-427c-b33f-edc8a48954fc",
   "metadata": {},
   "outputs": [
    {
     "data": {
      "text/html": [
       "<div>\n",
       "<style scoped>\n",
       "    .dataframe tbody tr th:only-of-type {\n",
       "        vertical-align: middle;\n",
       "    }\n",
       "\n",
       "    .dataframe tbody tr th {\n",
       "        vertical-align: top;\n",
       "    }\n",
       "\n",
       "    .dataframe thead th {\n",
       "        text-align: right;\n",
       "    }\n",
       "</style>\n",
       "<table border=\"1\" class=\"dataframe\">\n",
       "  <thead>\n",
       "    <tr style=\"text-align: right;\">\n",
       "      <th></th>\n",
       "      <th>diametre</th>\n",
       "      <th>hauteur</th>\n",
       "      <th>date_plantation</th>\n",
       "      <th>surf_permeable</th>\n",
       "      <th>esperance_maintien</th>\n",
       "      <th>matricule_arbre</th>\n",
       "    </tr>\n",
       "  </thead>\n",
       "  <tbody>\n",
       "    <tr>\n",
       "      <th>diametre</th>\n",
       "      <td>1.000000</td>\n",
       "      <td>0.759239</td>\n",
       "      <td>-0.155416</td>\n",
       "      <td>0.408231</td>\n",
       "      <td>0.329892</td>\n",
       "      <td>-0.109965</td>\n",
       "    </tr>\n",
       "    <tr>\n",
       "      <th>hauteur</th>\n",
       "      <td>0.759239</td>\n",
       "      <td>1.000000</td>\n",
       "      <td>-0.090306</td>\n",
       "      <td>0.604309</td>\n",
       "      <td>0.225723</td>\n",
       "      <td>-0.164903</td>\n",
       "    </tr>\n",
       "    <tr>\n",
       "      <th>date_plantation</th>\n",
       "      <td>-0.155416</td>\n",
       "      <td>-0.090306</td>\n",
       "      <td>1.000000</td>\n",
       "      <td>-0.071507</td>\n",
       "      <td>-0.033480</td>\n",
       "      <td>-0.007850</td>\n",
       "    </tr>\n",
       "    <tr>\n",
       "      <th>surf_permeable</th>\n",
       "      <td>0.408231</td>\n",
       "      <td>0.604309</td>\n",
       "      <td>-0.071507</td>\n",
       "      <td>1.000000</td>\n",
       "      <td>0.224826</td>\n",
       "      <td>-0.217633</td>\n",
       "    </tr>\n",
       "    <tr>\n",
       "      <th>esperance_maintien</th>\n",
       "      <td>0.329892</td>\n",
       "      <td>0.225723</td>\n",
       "      <td>-0.033480</td>\n",
       "      <td>0.224826</td>\n",
       "      <td>1.000000</td>\n",
       "      <td>-0.023423</td>\n",
       "    </tr>\n",
       "    <tr>\n",
       "      <th>matricule_arbre</th>\n",
       "      <td>-0.109965</td>\n",
       "      <td>-0.164903</td>\n",
       "      <td>-0.007850</td>\n",
       "      <td>-0.217633</td>\n",
       "      <td>-0.023423</td>\n",
       "      <td>1.000000</td>\n",
       "    </tr>\n",
       "  </tbody>\n",
       "</table>\n",
       "</div>"
      ],
      "text/plain": [
       "                    diametre   hauteur  date_plantation  surf_permeable  \\\n",
       "diametre            1.000000  0.759239        -0.155416        0.408231   \n",
       "hauteur             0.759239  1.000000        -0.090306        0.604309   \n",
       "date_plantation    -0.155416 -0.090306         1.000000       -0.071507   \n",
       "surf_permeable      0.408231  0.604309        -0.071507        1.000000   \n",
       "esperance_maintien  0.329892  0.225723        -0.033480        0.224826   \n",
       "matricule_arbre    -0.109965 -0.164903        -0.007850       -0.217633   \n",
       "\n",
       "                    esperance_maintien  matricule_arbre  \n",
       "diametre                      0.329892        -0.109965  \n",
       "hauteur                       0.225723        -0.164903  \n",
       "date_plantation              -0.033480        -0.007850  \n",
       "surf_permeable                0.224826        -0.217633  \n",
       "esperance_maintien            1.000000        -0.023423  \n",
       "matricule_arbre              -0.023423         1.000000  "
      ]
     },
     "execution_count": 7,
     "metadata": {},
     "output_type": "execute_result"
    }
   ],
   "source": [
    "cor_matrix = df.corr()\n",
    "cor_matrix"
   ]
  },
  {
   "cell_type": "code",
   "execution_count": 8,
   "id": "3f69a91b-25ef-4d99-918c-bd718b7f2cdd",
   "metadata": {},
   "outputs": [
    {
     "data": {
      "text/plain": [
       "quartier                      6\n",
       "site                         30\n",
       "cote_voirie                   2\n",
       "contrainte                    2\n",
       "genre_arbre                  26\n",
       "espece_arbre                 37\n",
       "situation                     4\n",
       "type_sol                      9\n",
       "plaie_houppier                5\n",
       "bois_mort_houppier            3\n",
       "classe_age                    4\n",
       "ecorce_incluse_houppier       2\n",
       "classe_hauteur                5\n",
       "fissure_houppier              3\n",
       "classe_circonference          7\n",
       "port_arbre                    5\n",
       "vigueur_pousse                4\n",
       "champignon_collet             2\n",
       "plaie_collet                  7\n",
       "champignon_tronc              2\n",
       "fissure_tronc                 3\n",
       "rejet_tronc                   2\n",
       "tuteurage_arbre               4\n",
       "canisse_arbre                 2\n",
       "plaie_tronc                   6\n",
       "champignon_houppier           2\n",
       "diametre                     42\n",
       "hauteur                      17\n",
       "date_plantation              13\n",
       "surf_permeable                9\n",
       "esperance_maintien            4\n",
       "matricule_arbre              74\n",
       "classification_diagnostic     5\n",
       "dtype: int64"
      ]
     },
     "execution_count": 8,
     "metadata": {},
     "output_type": "execute_result"
    }
   ],
   "source": [
    "df.nunique()"
   ]
  },
  {
   "cell_type": "code",
   "execution_count": 9,
   "id": "c99fd816-ab0e-481f-9daa-d51edbf09f17",
   "metadata": {},
   "outputs": [
    {
     "data": {
      "text/plain": [
       "C2    408\n",
       "C1    237\n",
       "C3     43\n",
       "C4     11\n",
       "C5     10\n",
       "Name: classification_diagnostic, dtype: int64"
      ]
     },
     "execution_count": 9,
     "metadata": {},
     "output_type": "execute_result"
    }
   ],
   "source": [
    "df['classification_diagnostic'].value_counts()"
   ]
  },
  {
   "cell_type": "code",
   "execution_count": 10,
   "id": "ef18e402-2d75-4151-8a48-028c91d01e85",
   "metadata": {},
   "outputs": [],
   "source": [
    "target_name = \"classification_diagnostic\"\n",
    "target = df[target_name]\n",
    "data = df.drop(columns=[target_name])"
   ]
  },
  {
   "cell_type": "markdown",
   "id": "3c1cc4d5-59df-4bd3-822c-6c825868b100",
   "metadata": {},
   "source": [
    "### One Hot Encoding for Categorical features and Standard Scaling for Numerical Features"
   ]
  },
  {
   "cell_type": "code",
   "execution_count": 11,
   "id": "21e5b278-874f-4c99-8390-04988744dfcb",
   "metadata": {},
   "outputs": [],
   "source": [
    "from sklearn.compose import make_column_selector as selector\n",
    "#Separating Numerical and Categorical columns\n",
    "numerical_columns_selector = selector(dtype_exclude=object)\n",
    "categorical_columns_selector = selector(dtype_include=object)\n",
    "\n",
    "numerical_columns = numerical_columns_selector(data)\n",
    "categorical_columns = categorical_columns_selector(data)"
   ]
  },
  {
   "cell_type": "code",
   "execution_count": 12,
   "id": "6e2ea69a-2168-4ab1-b2f6-527c64d09fd0",
   "metadata": {},
   "outputs": [],
   "source": [
    "from sklearn.preprocessing import OneHotEncoder, StandardScaler\n",
    "\n",
    "categorical_preprocessor = OneHotEncoder(handle_unknown=\"ignore\")\n",
    "numerical_preprocessor = StandardScaler()"
   ]
  },
  {
   "cell_type": "code",
   "execution_count": 13,
   "id": "a05a1345-99be-42bc-8493-1de00285171f",
   "metadata": {},
   "outputs": [],
   "source": [
    "from sklearn.compose import ColumnTransformer\n",
    "## Creating separate Transformers\n",
    "preprocessor = ColumnTransformer([\n",
    "    ('one-hot-encoder', categorical_preprocessor, categorical_columns),\n",
    "    ('standard_scaler', numerical_preprocessor, numerical_columns)])"
   ]
  },
  {
   "cell_type": "markdown",
   "id": "0e99801b-e540-498d-800f-2ffb03d7d8dc",
   "metadata": {},
   "source": [
    "## Building Model Pipeline"
   ]
  },
  {
   "cell_type": "markdown",
   "id": "c9e7f28b-abbd-499b-957b-2d063758ef72",
   "metadata": {},
   "source": [
    "### Logistic Regression Model with One Hot Encoding"
   ]
  },
  {
   "cell_type": "code",
   "execution_count": 14,
   "id": "f68d63d6-7165-47fb-9302-ff104595fdba",
   "metadata": {},
   "outputs": [],
   "source": [
    "from sklearn.linear_model import LogisticRegression\n",
    "from sklearn.pipeline import make_pipeline\n",
    "\n",
    "model_lr_ohe = make_pipeline(preprocessor, LogisticRegression(max_iter=500, random_state=0))"
   ]
  },
  {
   "cell_type": "code",
   "execution_count": 15,
   "id": "92240816-7c92-4582-b6db-310313379ea7",
   "metadata": {},
   "outputs": [
    {
     "data": {
      "text/html": [
       "<style>#sk-74be852e-4226-4f4e-bd1e-48399504e789 {color: black;background-color: white;}#sk-74be852e-4226-4f4e-bd1e-48399504e789 pre{padding: 0;}#sk-74be852e-4226-4f4e-bd1e-48399504e789 div.sk-toggleable {background-color: white;}#sk-74be852e-4226-4f4e-bd1e-48399504e789 label.sk-toggleable__label {cursor: pointer;display: block;width: 100%;margin-bottom: 0;padding: 0.2em 0.3em;box-sizing: border-box;text-align: center;}#sk-74be852e-4226-4f4e-bd1e-48399504e789 div.sk-toggleable__content {max-height: 0;max-width: 0;overflow: hidden;text-align: left;background-color: #f0f8ff;}#sk-74be852e-4226-4f4e-bd1e-48399504e789 div.sk-toggleable__content pre {margin: 0.2em;color: black;border-radius: 0.25em;background-color: #f0f8ff;}#sk-74be852e-4226-4f4e-bd1e-48399504e789 input.sk-toggleable__control:checked~div.sk-toggleable__content {max-height: 200px;max-width: 100%;overflow: auto;}#sk-74be852e-4226-4f4e-bd1e-48399504e789 div.sk-estimator input.sk-toggleable__control:checked~label.sk-toggleable__label {background-color: #d4ebff;}#sk-74be852e-4226-4f4e-bd1e-48399504e789 div.sk-label input.sk-toggleable__control:checked~label.sk-toggleable__label {background-color: #d4ebff;}#sk-74be852e-4226-4f4e-bd1e-48399504e789 input.sk-hidden--visually {border: 0;clip: rect(1px 1px 1px 1px);clip: rect(1px, 1px, 1px, 1px);height: 1px;margin: -1px;overflow: hidden;padding: 0;position: absolute;width: 1px;}#sk-74be852e-4226-4f4e-bd1e-48399504e789 div.sk-estimator {font-family: monospace;background-color: #f0f8ff;margin: 0.25em 0.25em;border: 1px dotted black;border-radius: 0.25em;box-sizing: border-box;}#sk-74be852e-4226-4f4e-bd1e-48399504e789 div.sk-estimator:hover {background-color: #d4ebff;}#sk-74be852e-4226-4f4e-bd1e-48399504e789 div.sk-parallel-item::after {content: \"\";width: 100%;border-bottom: 1px solid gray;flex-grow: 1;}#sk-74be852e-4226-4f4e-bd1e-48399504e789 div.sk-label:hover label.sk-toggleable__label {background-color: #d4ebff;}#sk-74be852e-4226-4f4e-bd1e-48399504e789 div.sk-serial::before {content: \"\";position: absolute;border-left: 1px solid gray;box-sizing: border-box;top: 2em;bottom: 0;left: 50%;}#sk-74be852e-4226-4f4e-bd1e-48399504e789 div.sk-serial {display: flex;flex-direction: column;align-items: center;background-color: white;}#sk-74be852e-4226-4f4e-bd1e-48399504e789 div.sk-item {z-index: 1;}#sk-74be852e-4226-4f4e-bd1e-48399504e789 div.sk-parallel {display: flex;align-items: stretch;justify-content: center;background-color: white;}#sk-74be852e-4226-4f4e-bd1e-48399504e789 div.sk-parallel-item {display: flex;flex-direction: column;position: relative;background-color: white;}#sk-74be852e-4226-4f4e-bd1e-48399504e789 div.sk-parallel-item:first-child::after {align-self: flex-end;width: 50%;}#sk-74be852e-4226-4f4e-bd1e-48399504e789 div.sk-parallel-item:last-child::after {align-self: flex-start;width: 50%;}#sk-74be852e-4226-4f4e-bd1e-48399504e789 div.sk-parallel-item:only-child::after {width: 0;}#sk-74be852e-4226-4f4e-bd1e-48399504e789 div.sk-dashed-wrapped {border: 1px dashed gray;margin: 0.2em;box-sizing: border-box;padding-bottom: 0.1em;background-color: white;position: relative;}#sk-74be852e-4226-4f4e-bd1e-48399504e789 div.sk-label label {font-family: monospace;font-weight: bold;background-color: white;display: inline-block;line-height: 1.2em;}#sk-74be852e-4226-4f4e-bd1e-48399504e789 div.sk-label-container {position: relative;z-index: 2;text-align: center;}#sk-74be852e-4226-4f4e-bd1e-48399504e789 div.sk-container {display: inline-block;position: relative;}</style><div id=\"sk-74be852e-4226-4f4e-bd1e-48399504e789\" class\"sk-top-container\"><div class=\"sk-container\"><div class=\"sk-item sk-dashed-wrapped\"><div class=\"sk-label-container\"><div class=\"sk-label sk-toggleable\"><input class=\"sk-toggleable__control sk-hidden--visually\" id=\"c9604987-58e9-44ee-b963-2f7847811eef\" type=\"checkbox\" ><label class=\"sk-toggleable__label\" for=\"c9604987-58e9-44ee-b963-2f7847811eef\">Pipeline</label><div class=\"sk-toggleable__content\"><pre>Pipeline(steps=[('columntransformer',\n",
       "                 ColumnTransformer(transformers=[('one-hot-encoder',\n",
       "                                                  OneHotEncoder(handle_unknown='ignore'),\n",
       "                                                  ['quartier', 'site',\n",
       "                                                   'cote_voirie', 'contrainte',\n",
       "                                                   'genre_arbre',\n",
       "                                                   'espece_arbre', 'situation',\n",
       "                                                   'type_sol', 'plaie_houppier',\n",
       "                                                   'bois_mort_houppier',\n",
       "                                                   'classe_age',\n",
       "                                                   'ecorce_incluse_houppier',\n",
       "                                                   'classe_hauteur',\n",
       "                                                   'fissure_houppier',\n",
       "                                                   'classe_circ...\n",
       "                                                   'champignon_collet',\n",
       "                                                   'plaie_collet',\n",
       "                                                   'champignon_tronc',\n",
       "                                                   'fissure_tronc',\n",
       "                                                   'rejet_tronc',\n",
       "                                                   'tuteurage_arbre',\n",
       "                                                   'canisse_arbre',\n",
       "                                                   'plaie_tronc',\n",
       "                                                   'champignon_houppier']),\n",
       "                                                 ('standard_scaler',\n",
       "                                                  StandardScaler(),\n",
       "                                                  ['diametre', 'hauteur',\n",
       "                                                   'date_plantation',\n",
       "                                                   'surf_permeable',\n",
       "                                                   'esperance_maintien',\n",
       "                                                   'matricule_arbre'])])),\n",
       "                ('logisticregression',\n",
       "                 LogisticRegression(max_iter=500, random_state=0))])</pre></div></div></div><div class=\"sk-serial\"><div class=\"sk-item sk-dashed-wrapped\"><div class=\"sk-label-container\"><div class=\"sk-label sk-toggleable\"><input class=\"sk-toggleable__control sk-hidden--visually\" id=\"c8e44327-dd53-4b73-bbb6-262e80d03dfb\" type=\"checkbox\" ><label class=\"sk-toggleable__label\" for=\"c8e44327-dd53-4b73-bbb6-262e80d03dfb\">columntransformer: ColumnTransformer</label><div class=\"sk-toggleable__content\"><pre>ColumnTransformer(transformers=[('one-hot-encoder',\n",
       "                                 OneHotEncoder(handle_unknown='ignore'),\n",
       "                                 ['quartier', 'site', 'cote_voirie',\n",
       "                                  'contrainte', 'genre_arbre', 'espece_arbre',\n",
       "                                  'situation', 'type_sol', 'plaie_houppier',\n",
       "                                  'bois_mort_houppier', 'classe_age',\n",
       "                                  'ecorce_incluse_houppier', 'classe_hauteur',\n",
       "                                  'fissure_houppier', 'classe_circonference',\n",
       "                                  'port_arbre', 'vigueur_pousse',\n",
       "                                  'champignon_collet', 'plaie_collet',\n",
       "                                  'champignon_tronc', 'fissure_tronc',\n",
       "                                  'rejet_tronc', 'tuteurage_arbre',\n",
       "                                  'canisse_arbre', 'plaie_tronc',\n",
       "                                  'champignon_houppier']),\n",
       "                                ('standard_scaler', StandardScaler(),\n",
       "                                 ['diametre', 'hauteur', 'date_plantation',\n",
       "                                  'surf_permeable', 'esperance_maintien',\n",
       "                                  'matricule_arbre'])])</pre></div></div></div><div class=\"sk-parallel\"><div class=\"sk-parallel-item\"><div class=\"sk-item\"><div class=\"sk-label-container\"><div class=\"sk-label sk-toggleable\"><input class=\"sk-toggleable__control sk-hidden--visually\" id=\"c5c8dc19-bcba-41e2-b5c9-0eee63f62856\" type=\"checkbox\" ><label class=\"sk-toggleable__label\" for=\"c5c8dc19-bcba-41e2-b5c9-0eee63f62856\">one-hot-encoder</label><div class=\"sk-toggleable__content\"><pre>['quartier', 'site', 'cote_voirie', 'contrainte', 'genre_arbre', 'espece_arbre', 'situation', 'type_sol', 'plaie_houppier', 'bois_mort_houppier', 'classe_age', 'ecorce_incluse_houppier', 'classe_hauteur', 'fissure_houppier', 'classe_circonference', 'port_arbre', 'vigueur_pousse', 'champignon_collet', 'plaie_collet', 'champignon_tronc', 'fissure_tronc', 'rejet_tronc', 'tuteurage_arbre', 'canisse_arbre', 'plaie_tronc', 'champignon_houppier']</pre></div></div></div><div class=\"sk-serial\"><div class=\"sk-item\"><div class=\"sk-estimator sk-toggleable\"><input class=\"sk-toggleable__control sk-hidden--visually\" id=\"d1cc6353-d666-479f-b64c-bbd48ec60b78\" type=\"checkbox\" ><label class=\"sk-toggleable__label\" for=\"d1cc6353-d666-479f-b64c-bbd48ec60b78\">OneHotEncoder</label><div class=\"sk-toggleable__content\"><pre>OneHotEncoder(handle_unknown='ignore')</pre></div></div></div></div></div></div><div class=\"sk-parallel-item\"><div class=\"sk-item\"><div class=\"sk-label-container\"><div class=\"sk-label sk-toggleable\"><input class=\"sk-toggleable__control sk-hidden--visually\" id=\"add14769-c791-4b4c-b4e6-bf50e00a002c\" type=\"checkbox\" ><label class=\"sk-toggleable__label\" for=\"add14769-c791-4b4c-b4e6-bf50e00a002c\">standard_scaler</label><div class=\"sk-toggleable__content\"><pre>['diametre', 'hauteur', 'date_plantation', 'surf_permeable', 'esperance_maintien', 'matricule_arbre']</pre></div></div></div><div class=\"sk-serial\"><div class=\"sk-item\"><div class=\"sk-estimator sk-toggleable\"><input class=\"sk-toggleable__control sk-hidden--visually\" id=\"ac0b569c-784b-47b4-8d7f-ec944a196e78\" type=\"checkbox\" ><label class=\"sk-toggleable__label\" for=\"ac0b569c-784b-47b4-8d7f-ec944a196e78\">StandardScaler</label><div class=\"sk-toggleable__content\"><pre>StandardScaler()</pre></div></div></div></div></div></div></div></div><div class=\"sk-item\"><div class=\"sk-estimator sk-toggleable\"><input class=\"sk-toggleable__control sk-hidden--visually\" id=\"242c2669-63d4-4b4d-8b9b-96f3c5e4044b\" type=\"checkbox\" ><label class=\"sk-toggleable__label\" for=\"242c2669-63d4-4b4d-8b9b-96f3c5e4044b\">LogisticRegression</label><div class=\"sk-toggleable__content\"><pre>LogisticRegression(max_iter=500, random_state=0)</pre></div></div></div></div></div></div></div>"
      ],
      "text/plain": [
       "Pipeline(steps=[('columntransformer',\n",
       "                 ColumnTransformer(transformers=[('one-hot-encoder',\n",
       "                                                  OneHotEncoder(handle_unknown='ignore'),\n",
       "                                                  ['quartier', 'site',\n",
       "                                                   'cote_voirie', 'contrainte',\n",
       "                                                   'genre_arbre',\n",
       "                                                   'espece_arbre', 'situation',\n",
       "                                                   'type_sol', 'plaie_houppier',\n",
       "                                                   'bois_mort_houppier',\n",
       "                                                   'classe_age',\n",
       "                                                   'ecorce_incluse_houppier',\n",
       "                                                   'classe_hauteur',\n",
       "                                                   'fissure_houppier',\n",
       "                                                   'classe_circ...\n",
       "                                                   'champignon_collet',\n",
       "                                                   'plaie_collet',\n",
       "                                                   'champignon_tronc',\n",
       "                                                   'fissure_tronc',\n",
       "                                                   'rejet_tronc',\n",
       "                                                   'tuteurage_arbre',\n",
       "                                                   'canisse_arbre',\n",
       "                                                   'plaie_tronc',\n",
       "                                                   'champignon_houppier']),\n",
       "                                                 ('standard_scaler',\n",
       "                                                  StandardScaler(),\n",
       "                                                  ['diametre', 'hauteur',\n",
       "                                                   'date_plantation',\n",
       "                                                   'surf_permeable',\n",
       "                                                   'esperance_maintien',\n",
       "                                                   'matricule_arbre'])])),\n",
       "                ('logisticregression',\n",
       "                 LogisticRegression(max_iter=500, random_state=0))])"
      ]
     },
     "execution_count": 15,
     "metadata": {},
     "output_type": "execute_result"
    }
   ],
   "source": [
    "from sklearn import set_config\n",
    "set_config(display='diagram')\n",
    "model_lr_ohe"
   ]
  },
  {
   "cell_type": "code",
   "execution_count": 16,
   "id": "34b25b99-8460-4ad3-9096-eb2e15dc80ce",
   "metadata": {},
   "outputs": [],
   "source": [
    "from sklearn.model_selection import train_test_split\n",
    "\n",
    "X_train, X_test, y_train, y_test = train_test_split(\n",
    "    data, target, random_state=0, test_size=0.1)"
   ]
  },
  {
   "cell_type": "code",
   "execution_count": 17,
   "id": "87947e7d-46be-44a3-a65b-d69e96abdcf6",
   "metadata": {},
   "outputs": [
    {
     "name": "stdout",
     "output_type": "stream",
     "text": [
      "Wall time: 182 ms\n"
     ]
    }
   ],
   "source": [
    "%%time\n",
    "logistic_regression_ohe_model = model_lr_ohe.fit(X_train, y_train)"
   ]
  },
  {
   "cell_type": "code",
   "execution_count": 18,
   "id": "9188bf43-b71d-47c0-bcd7-e4ef96de6dab",
   "metadata": {},
   "outputs": [
    {
     "data": {
      "text/plain": [
       "0.8873239436619719"
      ]
     },
     "execution_count": 18,
     "metadata": {},
     "output_type": "execute_result"
    }
   ],
   "source": [
    "logistic_regression_ohe_model.score(X_test, y_test)"
   ]
  },
  {
   "cell_type": "code",
   "execution_count": 19,
   "id": "712b0fbd-12d0-4eff-95d0-351db5b7741a",
   "metadata": {},
   "outputs": [
    {
     "data": {
      "text/plain": [
       "array(['C2', 'C2', 'C1', 'C1', 'C2'], dtype=object)"
      ]
     },
     "execution_count": 19,
     "metadata": {},
     "output_type": "execute_result"
    }
   ],
   "source": [
    "logistic_regression_ohe_model.predict(X_test)[:5]"
   ]
  },
  {
   "cell_type": "markdown",
   "id": "9c429425-cbe7-4ae3-ab0c-2719a4da0f4d",
   "metadata": {},
   "source": [
    "#### Model Evaluation with Cross-Validation"
   ]
  },
  {
   "cell_type": "code",
   "execution_count": 20,
   "id": "f4a7eef6-d120-4a15-bfc6-466de5f9470b",
   "metadata": {},
   "outputs": [
    {
     "name": "stdout",
     "output_type": "stream",
     "text": [
      "Test Scores for the Logistic Regression Model with 5-Fold Cross-Validation:\n",
      "[0.8828125  0.8515625  0.8671875  0.84251969 0.85826772]\n",
      "The Mean Cross-Validation Accuracy is: 0.860 with Standard Deviation of +/- 0.014\n",
      "Total time taken: 0.609375\n"
     ]
    }
   ],
   "source": [
    "from sklearn.model_selection import cross_validate\n",
    "start = time.process_time()\n",
    "cv_results_lrm_ohe = cross_validate(logistic_regression_ohe_model, X_train, y_train, cv=5)\n",
    "print(\"Test Scores for the Logistic Regression Model with 5-Fold Cross-Validation:\")\n",
    "print(cv_results_lrm_ohe[\"test_score\"])\n",
    "scores = cv_results_lrm_ohe[\"test_score\"]\n",
    "print(\"The Mean Cross-Validation Accuracy is: \"f\"{scores.mean():.3f} with Standard Deviation of +/- {scores.std():.3f}\")\n",
    "print(\"Total time taken: {:}\".format(time.process_time() - start))"
   ]
  },
  {
   "cell_type": "markdown",
   "id": "08a29462-28ee-405c-9207-e895b4f78aa3",
   "metadata": {},
   "source": [
    "### Logistic Regression with Ordinal Encoding"
   ]
  },
  {
   "cell_type": "code",
   "execution_count": 21,
   "id": "b68674c6-b10a-45a5-a68b-93d0823a5061",
   "metadata": {},
   "outputs": [
    {
     "data": {
      "text/html": [
       "<div>\n",
       "<style scoped>\n",
       "    .dataframe tbody tr th:only-of-type {\n",
       "        vertical-align: middle;\n",
       "    }\n",
       "\n",
       "    .dataframe tbody tr th {\n",
       "        vertical-align: top;\n",
       "    }\n",
       "\n",
       "    .dataframe thead th {\n",
       "        text-align: right;\n",
       "    }\n",
       "</style>\n",
       "<table border=\"1\" class=\"dataframe\">\n",
       "  <thead>\n",
       "    <tr style=\"text-align: right;\">\n",
       "      <th></th>\n",
       "      <th>quartier</th>\n",
       "      <th>site</th>\n",
       "      <th>cote_voirie</th>\n",
       "      <th>contrainte</th>\n",
       "      <th>genre_arbre</th>\n",
       "      <th>espece_arbre</th>\n",
       "      <th>situation</th>\n",
       "      <th>type_sol</th>\n",
       "      <th>plaie_houppier</th>\n",
       "      <th>bois_mort_houppier</th>\n",
       "      <th>...</th>\n",
       "      <th>vigueur_pousse</th>\n",
       "      <th>champignon_collet</th>\n",
       "      <th>plaie_collet</th>\n",
       "      <th>champignon_tronc</th>\n",
       "      <th>fissure_tronc</th>\n",
       "      <th>rejet_tronc</th>\n",
       "      <th>tuteurage_arbre</th>\n",
       "      <th>canisse_arbre</th>\n",
       "      <th>plaie_tronc</th>\n",
       "      <th>champignon_houppier</th>\n",
       "    </tr>\n",
       "  </thead>\n",
       "  <tbody>\n",
       "    <tr>\n",
       "      <th>0</th>\n",
       "      <td>Quartier 2 - Alsace - Pereire</td>\n",
       "      <td>Carrefour RN13</td>\n",
       "      <td>Impair</td>\n",
       "      <td>Non</td>\n",
       "      <td>Betula</td>\n",
       "      <td>Alba</td>\n",
       "      <td>Groupe</td>\n",
       "      <td>P</td>\n",
       "      <td>HPLC</td>\n",
       "      <td>HBMI</td>\n",
       "      <td>...</td>\n",
       "      <td>P</td>\n",
       "      <td>Non</td>\n",
       "      <td>RCPLNS</td>\n",
       "      <td>Non</td>\n",
       "      <td>TPF</td>\n",
       "      <td>Non</td>\n",
       "      <td>Non</td>\n",
       "      <td>Non</td>\n",
       "      <td>TPLNC</td>\n",
       "      <td>Non</td>\n",
       "    </tr>\n",
       "    <tr>\n",
       "      <th>1</th>\n",
       "      <td>Quartier 2 - Alsace - Pereire</td>\n",
       "      <td>Carrefour RN13</td>\n",
       "      <td>Impair</td>\n",
       "      <td>Non</td>\n",
       "      <td>Betula</td>\n",
       "      <td>Alba</td>\n",
       "      <td>Groupe</td>\n",
       "      <td>P</td>\n",
       "      <td>HPLC</td>\n",
       "      <td>HBMI</td>\n",
       "      <td>...</td>\n",
       "      <td>P</td>\n",
       "      <td>Non</td>\n",
       "      <td>RCPPL</td>\n",
       "      <td>Non</td>\n",
       "      <td>TPF</td>\n",
       "      <td>Non</td>\n",
       "      <td>Non</td>\n",
       "      <td>Non</td>\n",
       "      <td>TPLC</td>\n",
       "      <td>Non</td>\n",
       "    </tr>\n",
       "    <tr>\n",
       "      <th>2</th>\n",
       "      <td>Quartier 2 - Alsace - Pereire</td>\n",
       "      <td>Carrefour RN13</td>\n",
       "      <td>Impair</td>\n",
       "      <td>Non</td>\n",
       "      <td>Betula</td>\n",
       "      <td>Alba</td>\n",
       "      <td>Groupe</td>\n",
       "      <td>P</td>\n",
       "      <td>HPLC</td>\n",
       "      <td>HBMI</td>\n",
       "      <td>...</td>\n",
       "      <td>P</td>\n",
       "      <td>Non</td>\n",
       "      <td>RCPPL</td>\n",
       "      <td>Non</td>\n",
       "      <td>TPF</td>\n",
       "      <td>Non</td>\n",
       "      <td>Non</td>\n",
       "      <td>Non</td>\n",
       "      <td>TPLCF</td>\n",
       "      <td>Non</td>\n",
       "    </tr>\n",
       "    <tr>\n",
       "      <th>3</th>\n",
       "      <td>Quartier 2 - Alsace - Pereire</td>\n",
       "      <td>Carrefour RN13</td>\n",
       "      <td>Impair</td>\n",
       "      <td>Non</td>\n",
       "      <td>Carpinus</td>\n",
       "      <td>Betulus - L. - Fastigiata</td>\n",
       "      <td>Bosquet</td>\n",
       "      <td>G</td>\n",
       "      <td>HPLS</td>\n",
       "      <td>HBMI</td>\n",
       "      <td>...</td>\n",
       "      <td>P</td>\n",
       "      <td>Non</td>\n",
       "      <td>RCPPL</td>\n",
       "      <td>Non</td>\n",
       "      <td>TPF</td>\n",
       "      <td>Non</td>\n",
       "      <td>Non</td>\n",
       "      <td>Non</td>\n",
       "      <td>TPLS</td>\n",
       "      <td>Non</td>\n",
       "    </tr>\n",
       "    <tr>\n",
       "      <th>4</th>\n",
       "      <td>Quartier 2 - Alsace - Pereire</td>\n",
       "      <td>Carrefour RN13</td>\n",
       "      <td>Impair</td>\n",
       "      <td>Non</td>\n",
       "      <td>Carpinus</td>\n",
       "      <td>Betulus - L. - Fastigiata</td>\n",
       "      <td>Bosquet</td>\n",
       "      <td>G</td>\n",
       "      <td>HPLS</td>\n",
       "      <td>HBMI</td>\n",
       "      <td>...</td>\n",
       "      <td>P</td>\n",
       "      <td>Non</td>\n",
       "      <td>RCPPL</td>\n",
       "      <td>Non</td>\n",
       "      <td>TPF</td>\n",
       "      <td>Non</td>\n",
       "      <td>Non</td>\n",
       "      <td>Non</td>\n",
       "      <td>TPLS</td>\n",
       "      <td>Non</td>\n",
       "    </tr>\n",
       "  </tbody>\n",
       "</table>\n",
       "<p>5 rows × 26 columns</p>\n",
       "</div>"
      ],
      "text/plain": [
       "                        quartier            site cote_voirie contrainte  \\\n",
       "0  Quartier 2 - Alsace - Pereire  Carrefour RN13      Impair        Non   \n",
       "1  Quartier 2 - Alsace - Pereire  Carrefour RN13      Impair        Non   \n",
       "2  Quartier 2 - Alsace - Pereire  Carrefour RN13      Impair        Non   \n",
       "3  Quartier 2 - Alsace - Pereire  Carrefour RN13      Impair        Non   \n",
       "4  Quartier 2 - Alsace - Pereire  Carrefour RN13      Impair        Non   \n",
       "\n",
       "  genre_arbre                espece_arbre situation type_sol plaie_houppier  \\\n",
       "0      Betula                        Alba    Groupe        P           HPLC   \n",
       "1      Betula                        Alba    Groupe        P           HPLC   \n",
       "2      Betula                        Alba    Groupe        P           HPLC   \n",
       "3    Carpinus   Betulus - L. - Fastigiata   Bosquet        G           HPLS   \n",
       "4    Carpinus   Betulus - L. - Fastigiata   Bosquet        G           HPLS   \n",
       "\n",
       "  bois_mort_houppier  ... vigueur_pousse champignon_collet plaie_collet  \\\n",
       "0              HBMI   ...              P               Non       RCPLNS   \n",
       "1              HBMI   ...              P               Non        RCPPL   \n",
       "2              HBMI   ...              P               Non        RCPPL   \n",
       "3              HBMI   ...              P               Non        RCPPL   \n",
       "4              HBMI   ...              P               Non        RCPPL   \n",
       "\n",
       "  champignon_tronc fissure_tronc rejet_tronc tuteurage_arbre canisse_arbre  \\\n",
       "0              Non           TPF         Non             Non           Non   \n",
       "1              Non           TPF         Non             Non           Non   \n",
       "2              Non           TPF         Non             Non           Non   \n",
       "3              Non           TPF         Non             Non           Non   \n",
       "4              Non           TPF         Non             Non           Non   \n",
       "\n",
       "  plaie_tronc champignon_houppier  \n",
       "0       TPLNC                 Non  \n",
       "1        TPLC                 Non  \n",
       "2       TPLCF                 Non  \n",
       "3        TPLS                 Non  \n",
       "4        TPLS                 Non  \n",
       "\n",
       "[5 rows x 26 columns]"
      ]
     },
     "execution_count": 21,
     "metadata": {},
     "output_type": "execute_result"
    }
   ],
   "source": [
    "from sklearn.compose import make_column_selector as selector\n",
    "#Separating Numerical and Categorical columns\n",
    "numerical_columns_selector = selector(dtype_exclude=object)\n",
    "categorical_columns_selector = selector(dtype_include=object)\n",
    "\n",
    "categorical_columns = categorical_columns_selector(data)\n",
    "data_categorical = data[categorical_columns]\n",
    "data_categorical.head()"
   ]
  },
  {
   "cell_type": "code",
   "execution_count": 22,
   "id": "6b0fe13a-05b3-4e21-9fc8-578b1fa48eb1",
   "metadata": {},
   "outputs": [
    {
     "name": "stdout",
     "output_type": "stream",
     "text": [
      "The dataset is composed of 26 Categorical features\n"
     ]
    }
   ],
   "source": [
    "print(f\"The dataset is composed of {data_categorical.shape[1]} Categorical features\")"
   ]
  },
  {
   "cell_type": "code",
   "execution_count": 23,
   "id": "ddb155f5-7eb1-42a7-8a4c-ba106ed36b1f",
   "metadata": {},
   "outputs": [
    {
     "data": {
      "text/plain": [
       "(709, 26)"
      ]
     },
     "execution_count": 23,
     "metadata": {},
     "output_type": "execute_result"
    }
   ],
   "source": [
    "from sklearn.preprocessing import OrdinalEncoder, StandardScaler\n",
    "\n",
    "categorical_encoder = OrdinalEncoder()\n",
    "data_encoded = categorical_encoder.fit_transform(data_categorical)\n",
    "data_encoded.shape"
   ]
  },
  {
   "cell_type": "code",
   "execution_count": 24,
   "id": "959defee-90a8-403d-b6e3-5bec22e7ce6b",
   "metadata": {},
   "outputs": [
    {
     "data": {
      "text/plain": [
       "array([[1., 5., 0., 0., 4., 0., 2., 6., 0., 0., 0., 0., 1., 2., 1., 4.,\n",
       "        2., 0., 4., 0., 2., 0., 0., 0., 2., 0.],\n",
       "       [1., 5., 0., 0., 4., 0., 2., 6., 0., 0., 0., 0., 1., 2., 1., 4.,\n",
       "        2., 0., 6., 0., 2., 0., 0., 0., 0., 0.],\n",
       "       [1., 5., 0., 0., 4., 0., 2., 6., 0., 0., 0., 0., 1., 2., 1., 4.,\n",
       "        2., 0., 6., 0., 2., 0., 0., 0., 1., 0.],\n",
       "       [1., 5., 0., 0., 5., 8., 1., 2., 2., 0., 0., 0., 3., 2., 1., 1.,\n",
       "        2., 0., 6., 0., 2., 0., 0., 0., 3., 0.],\n",
       "       [1., 5., 0., 0., 5., 8., 1., 2., 2., 0., 0., 0., 3., 2., 5., 1.,\n",
       "        2., 0., 6., 0., 2., 0., 0., 0., 3., 0.]])"
      ]
     },
     "execution_count": 24,
     "metadata": {},
     "output_type": "execute_result"
    }
   ],
   "source": [
    "data_encoded[:5]"
   ]
  },
  {
   "cell_type": "code",
   "execution_count": 25,
   "id": "491ff53d-1985-425b-a1ff-4d325ec535cc",
   "metadata": {},
   "outputs": [
    {
     "name": "stdout",
     "output_type": "stream",
     "text": [
      "The dataset encoded contains 26 features\n"
     ]
    }
   ],
   "source": [
    "print(\n",
    "    f\"The dataset encoded contains {data_encoded.shape[1]} features\")"
   ]
  },
  {
   "cell_type": "code",
   "execution_count": 26,
   "id": "4e9b4bc9-add7-4dba-852a-7ef35661f560",
   "metadata": {
    "tags": []
   },
   "outputs": [
    {
     "data": {
      "text/plain": [
       "26"
      ]
     },
     "execution_count": 26,
     "metadata": {},
     "output_type": "execute_result"
    }
   ],
   "source": [
    "len(categorical_columns)"
   ]
  },
  {
   "cell_type": "code",
   "execution_count": 27,
   "id": "f7f99152-7c9a-4b55-a463-27c33854a604",
   "metadata": {},
   "outputs": [
    {
     "data": {
      "text/plain": [
       "['quartier',\n",
       " 'site',\n",
       " 'cote_voirie',\n",
       " 'contrainte',\n",
       " 'genre_arbre',\n",
       " 'espece_arbre',\n",
       " 'situation',\n",
       " 'type_sol',\n",
       " 'plaie_houppier',\n",
       " 'bois_mort_houppier',\n",
       " 'classe_age',\n",
       " 'ecorce_incluse_houppier',\n",
       " 'classe_hauteur',\n",
       " 'fissure_houppier',\n",
       " 'classe_circonference',\n",
       " 'port_arbre',\n",
       " 'vigueur_pousse',\n",
       " 'champignon_collet',\n",
       " 'plaie_collet',\n",
       " 'champignon_tronc',\n",
       " 'fissure_tronc',\n",
       " 'rejet_tronc',\n",
       " 'tuteurage_arbre',\n",
       " 'canisse_arbre',\n",
       " 'plaie_tronc',\n",
       " 'champignon_houppier']"
      ]
     },
     "execution_count": 27,
     "metadata": {},
     "output_type": "execute_result"
    }
   ],
   "source": [
    "categorical_columns"
   ]
  },
  {
   "cell_type": "code",
   "execution_count": 28,
   "id": "9db32625-5b44-4f90-854d-f55a947726c7",
   "metadata": {},
   "outputs": [],
   "source": [
    "#Adding Numpy array into pandas data frame (Numerical columns)\n",
    "data_cat_encoded_to_num = pd.DataFrame(data_encoded, columns=['quartier',\n",
    " 'site',\n",
    " 'cote_voirie',\n",
    " 'contrainte',\n",
    " 'genre_arbre',\n",
    " 'espece_arbre',\n",
    " 'situation',\n",
    " 'type_sol',\n",
    " 'plaie_houppier',\n",
    " 'bois_mort_houppier',\n",
    " 'classe_age',\n",
    " 'ecorce_incluse_houppier',\n",
    " 'classe_hauteur',\n",
    " 'fissure_houppier',\n",
    " 'classe_circonference',\n",
    " 'port_arbre',\n",
    " 'vigueur_pousse',\n",
    " 'champignon_collet',\n",
    " 'plaie_collet',\n",
    " 'champignon_tronc',\n",
    " 'fissure_tronc',\n",
    " 'rejet_tronc',\n",
    " 'tuteurage_arbre',\n",
    " 'canisse_arbre',\n",
    " 'plaie_tronc',\n",
    " 'champignon_houppier'])"
   ]
  },
  {
   "cell_type": "code",
   "execution_count": 29,
   "id": "3cb674f5-c9e1-40ec-a6ce-288f75550b69",
   "metadata": {},
   "outputs": [
    {
     "data": {
      "text/html": [
       "<div>\n",
       "<style scoped>\n",
       "    .dataframe tbody tr th:only-of-type {\n",
       "        vertical-align: middle;\n",
       "    }\n",
       "\n",
       "    .dataframe tbody tr th {\n",
       "        vertical-align: top;\n",
       "    }\n",
       "\n",
       "    .dataframe thead th {\n",
       "        text-align: right;\n",
       "    }\n",
       "</style>\n",
       "<table border=\"1\" class=\"dataframe\">\n",
       "  <thead>\n",
       "    <tr style=\"text-align: right;\">\n",
       "      <th></th>\n",
       "      <th>quartier</th>\n",
       "      <th>site</th>\n",
       "      <th>cote_voirie</th>\n",
       "      <th>contrainte</th>\n",
       "      <th>genre_arbre</th>\n",
       "      <th>espece_arbre</th>\n",
       "      <th>situation</th>\n",
       "      <th>type_sol</th>\n",
       "      <th>plaie_houppier</th>\n",
       "      <th>bois_mort_houppier</th>\n",
       "      <th>...</th>\n",
       "      <th>vigueur_pousse</th>\n",
       "      <th>champignon_collet</th>\n",
       "      <th>plaie_collet</th>\n",
       "      <th>champignon_tronc</th>\n",
       "      <th>fissure_tronc</th>\n",
       "      <th>rejet_tronc</th>\n",
       "      <th>tuteurage_arbre</th>\n",
       "      <th>canisse_arbre</th>\n",
       "      <th>plaie_tronc</th>\n",
       "      <th>champignon_houppier</th>\n",
       "    </tr>\n",
       "  </thead>\n",
       "  <tbody>\n",
       "    <tr>\n",
       "      <th>0</th>\n",
       "      <td>1.0</td>\n",
       "      <td>5.0</td>\n",
       "      <td>0.0</td>\n",
       "      <td>0.0</td>\n",
       "      <td>4.0</td>\n",
       "      <td>0.0</td>\n",
       "      <td>2.0</td>\n",
       "      <td>6.0</td>\n",
       "      <td>0.0</td>\n",
       "      <td>0.0</td>\n",
       "      <td>...</td>\n",
       "      <td>2.0</td>\n",
       "      <td>0.0</td>\n",
       "      <td>4.0</td>\n",
       "      <td>0.0</td>\n",
       "      <td>2.0</td>\n",
       "      <td>0.0</td>\n",
       "      <td>0.0</td>\n",
       "      <td>0.0</td>\n",
       "      <td>2.0</td>\n",
       "      <td>0.0</td>\n",
       "    </tr>\n",
       "    <tr>\n",
       "      <th>1</th>\n",
       "      <td>1.0</td>\n",
       "      <td>5.0</td>\n",
       "      <td>0.0</td>\n",
       "      <td>0.0</td>\n",
       "      <td>4.0</td>\n",
       "      <td>0.0</td>\n",
       "      <td>2.0</td>\n",
       "      <td>6.0</td>\n",
       "      <td>0.0</td>\n",
       "      <td>0.0</td>\n",
       "      <td>...</td>\n",
       "      <td>2.0</td>\n",
       "      <td>0.0</td>\n",
       "      <td>6.0</td>\n",
       "      <td>0.0</td>\n",
       "      <td>2.0</td>\n",
       "      <td>0.0</td>\n",
       "      <td>0.0</td>\n",
       "      <td>0.0</td>\n",
       "      <td>0.0</td>\n",
       "      <td>0.0</td>\n",
       "    </tr>\n",
       "    <tr>\n",
       "      <th>2</th>\n",
       "      <td>1.0</td>\n",
       "      <td>5.0</td>\n",
       "      <td>0.0</td>\n",
       "      <td>0.0</td>\n",
       "      <td>4.0</td>\n",
       "      <td>0.0</td>\n",
       "      <td>2.0</td>\n",
       "      <td>6.0</td>\n",
       "      <td>0.0</td>\n",
       "      <td>0.0</td>\n",
       "      <td>...</td>\n",
       "      <td>2.0</td>\n",
       "      <td>0.0</td>\n",
       "      <td>6.0</td>\n",
       "      <td>0.0</td>\n",
       "      <td>2.0</td>\n",
       "      <td>0.0</td>\n",
       "      <td>0.0</td>\n",
       "      <td>0.0</td>\n",
       "      <td>1.0</td>\n",
       "      <td>0.0</td>\n",
       "    </tr>\n",
       "    <tr>\n",
       "      <th>3</th>\n",
       "      <td>1.0</td>\n",
       "      <td>5.0</td>\n",
       "      <td>0.0</td>\n",
       "      <td>0.0</td>\n",
       "      <td>5.0</td>\n",
       "      <td>8.0</td>\n",
       "      <td>1.0</td>\n",
       "      <td>2.0</td>\n",
       "      <td>2.0</td>\n",
       "      <td>0.0</td>\n",
       "      <td>...</td>\n",
       "      <td>2.0</td>\n",
       "      <td>0.0</td>\n",
       "      <td>6.0</td>\n",
       "      <td>0.0</td>\n",
       "      <td>2.0</td>\n",
       "      <td>0.0</td>\n",
       "      <td>0.0</td>\n",
       "      <td>0.0</td>\n",
       "      <td>3.0</td>\n",
       "      <td>0.0</td>\n",
       "    </tr>\n",
       "    <tr>\n",
       "      <th>4</th>\n",
       "      <td>1.0</td>\n",
       "      <td>5.0</td>\n",
       "      <td>0.0</td>\n",
       "      <td>0.0</td>\n",
       "      <td>5.0</td>\n",
       "      <td>8.0</td>\n",
       "      <td>1.0</td>\n",
       "      <td>2.0</td>\n",
       "      <td>2.0</td>\n",
       "      <td>0.0</td>\n",
       "      <td>...</td>\n",
       "      <td>2.0</td>\n",
       "      <td>0.0</td>\n",
       "      <td>6.0</td>\n",
       "      <td>0.0</td>\n",
       "      <td>2.0</td>\n",
       "      <td>0.0</td>\n",
       "      <td>0.0</td>\n",
       "      <td>0.0</td>\n",
       "      <td>3.0</td>\n",
       "      <td>0.0</td>\n",
       "    </tr>\n",
       "  </tbody>\n",
       "</table>\n",
       "<p>5 rows × 26 columns</p>\n",
       "</div>"
      ],
      "text/plain": [
       "   quartier  site  cote_voirie  contrainte  genre_arbre  espece_arbre  \\\n",
       "0       1.0   5.0          0.0         0.0          4.0           0.0   \n",
       "1       1.0   5.0          0.0         0.0          4.0           0.0   \n",
       "2       1.0   5.0          0.0         0.0          4.0           0.0   \n",
       "3       1.0   5.0          0.0         0.0          5.0           8.0   \n",
       "4       1.0   5.0          0.0         0.0          5.0           8.0   \n",
       "\n",
       "   situation  type_sol  plaie_houppier  bois_mort_houppier  ...  \\\n",
       "0        2.0       6.0             0.0                 0.0  ...   \n",
       "1        2.0       6.0             0.0                 0.0  ...   \n",
       "2        2.0       6.0             0.0                 0.0  ...   \n",
       "3        1.0       2.0             2.0                 0.0  ...   \n",
       "4        1.0       2.0             2.0                 0.0  ...   \n",
       "\n",
       "   vigueur_pousse  champignon_collet  plaie_collet  champignon_tronc  \\\n",
       "0             2.0                0.0           4.0               0.0   \n",
       "1             2.0                0.0           6.0               0.0   \n",
       "2             2.0                0.0           6.0               0.0   \n",
       "3             2.0                0.0           6.0               0.0   \n",
       "4             2.0                0.0           6.0               0.0   \n",
       "\n",
       "   fissure_tronc  rejet_tronc  tuteurage_arbre  canisse_arbre  plaie_tronc  \\\n",
       "0            2.0          0.0              0.0            0.0          2.0   \n",
       "1            2.0          0.0              0.0            0.0          0.0   \n",
       "2            2.0          0.0              0.0            0.0          1.0   \n",
       "3            2.0          0.0              0.0            0.0          3.0   \n",
       "4            2.0          0.0              0.0            0.0          3.0   \n",
       "\n",
       "   champignon_houppier  \n",
       "0                  0.0  \n",
       "1                  0.0  \n",
       "2                  0.0  \n",
       "3                  0.0  \n",
       "4                  0.0  \n",
       "\n",
       "[5 rows x 26 columns]"
      ]
     },
     "execution_count": 29,
     "metadata": {},
     "output_type": "execute_result"
    }
   ],
   "source": [
    "data_cat_encoded_to_num.head()"
   ]
  },
  {
   "cell_type": "code",
   "execution_count": 30,
   "id": "3f3e79a6-3b9e-441b-90f4-5833ca94b4ad",
   "metadata": {},
   "outputs": [],
   "source": [
    "data_numerical = data[numerical_columns]\n",
    "data_numerical_all_features= pd.concat([data_cat_encoded_to_num, data_numerical], axis=1)"
   ]
  },
  {
   "cell_type": "code",
   "execution_count": 31,
   "id": "e2388835-d817-451a-8d48-f8964e903c2a",
   "metadata": {},
   "outputs": [
    {
     "name": "stdout",
     "output_type": "stream",
     "text": [
      "<class 'pandas.core.frame.DataFrame'>\n",
      "RangeIndex: 709 entries, 0 to 708\n",
      "Data columns (total 32 columns):\n",
      " #   Column                   Non-Null Count  Dtype  \n",
      "---  ------                   --------------  -----  \n",
      " 0   quartier                 709 non-null    float64\n",
      " 1   site                     709 non-null    float64\n",
      " 2   cote_voirie              709 non-null    float64\n",
      " 3   contrainte               709 non-null    float64\n",
      " 4   genre_arbre              709 non-null    float64\n",
      " 5   espece_arbre             709 non-null    float64\n",
      " 6   situation                709 non-null    float64\n",
      " 7   type_sol                 709 non-null    float64\n",
      " 8   plaie_houppier           709 non-null    float64\n",
      " 9   bois_mort_houppier       709 non-null    float64\n",
      " 10  classe_age               709 non-null    float64\n",
      " 11  ecorce_incluse_houppier  709 non-null    float64\n",
      " 12  classe_hauteur           709 non-null    float64\n",
      " 13  fissure_houppier         709 non-null    float64\n",
      " 14  classe_circonference     709 non-null    float64\n",
      " 15  port_arbre               709 non-null    float64\n",
      " 16  vigueur_pousse           709 non-null    float64\n",
      " 17  champignon_collet        709 non-null    float64\n",
      " 18  plaie_collet             709 non-null    float64\n",
      " 19  champignon_tronc         709 non-null    float64\n",
      " 20  fissure_tronc            709 non-null    float64\n",
      " 21  rejet_tronc              709 non-null    float64\n",
      " 22  tuteurage_arbre          709 non-null    float64\n",
      " 23  canisse_arbre            709 non-null    float64\n",
      " 24  plaie_tronc              709 non-null    float64\n",
      " 25  champignon_houppier      709 non-null    float64\n",
      " 26  diametre                 709 non-null    float64\n",
      " 27  hauteur                  709 non-null    int64  \n",
      " 28  date_plantation          709 non-null    int64  \n",
      " 29  surf_permeable           709 non-null    float64\n",
      " 30  esperance_maintien       709 non-null    float64\n",
      " 31  matricule_arbre          709 non-null    int64  \n",
      "dtypes: float64(29), int64(3)\n",
      "memory usage: 177.4 KB\n"
     ]
    }
   ],
   "source": [
    "data_numerical_all_features.info()"
   ]
  },
  {
   "cell_type": "code",
   "execution_count": 32,
   "id": "ab291722-8d5d-4126-9846-943238904358",
   "metadata": {},
   "outputs": [
    {
     "data": {
      "text/html": [
       "<div>\n",
       "<style scoped>\n",
       "    .dataframe tbody tr th:only-of-type {\n",
       "        vertical-align: middle;\n",
       "    }\n",
       "\n",
       "    .dataframe tbody tr th {\n",
       "        vertical-align: top;\n",
       "    }\n",
       "\n",
       "    .dataframe thead th {\n",
       "        text-align: right;\n",
       "    }\n",
       "</style>\n",
       "<table border=\"1\" class=\"dataframe\">\n",
       "  <thead>\n",
       "    <tr style=\"text-align: right;\">\n",
       "      <th></th>\n",
       "      <th>quartier</th>\n",
       "      <th>site</th>\n",
       "      <th>cote_voirie</th>\n",
       "      <th>contrainte</th>\n",
       "      <th>genre_arbre</th>\n",
       "      <th>espece_arbre</th>\n",
       "      <th>situation</th>\n",
       "      <th>type_sol</th>\n",
       "      <th>plaie_houppier</th>\n",
       "      <th>bois_mort_houppier</th>\n",
       "      <th>...</th>\n",
       "      <th>tuteurage_arbre</th>\n",
       "      <th>canisse_arbre</th>\n",
       "      <th>plaie_tronc</th>\n",
       "      <th>champignon_houppier</th>\n",
       "      <th>diametre</th>\n",
       "      <th>hauteur</th>\n",
       "      <th>date_plantation</th>\n",
       "      <th>surf_permeable</th>\n",
       "      <th>esperance_maintien</th>\n",
       "      <th>matricule_arbre</th>\n",
       "    </tr>\n",
       "  </thead>\n",
       "  <tbody>\n",
       "    <tr>\n",
       "      <th>0</th>\n",
       "      <td>1.0</td>\n",
       "      <td>5.0</td>\n",
       "      <td>0.0</td>\n",
       "      <td>0.0</td>\n",
       "      <td>4.0</td>\n",
       "      <td>0.0</td>\n",
       "      <td>2.0</td>\n",
       "      <td>6.0</td>\n",
       "      <td>0.0</td>\n",
       "      <td>0.0</td>\n",
       "      <td>...</td>\n",
       "      <td>0.0</td>\n",
       "      <td>0.0</td>\n",
       "      <td>2.0</td>\n",
       "      <td>0.0</td>\n",
       "      <td>63.661977</td>\n",
       "      <td>1000</td>\n",
       "      <td>2000</td>\n",
       "      <td>5.0</td>\n",
       "      <td>1.0</td>\n",
       "      <td>7</td>\n",
       "    </tr>\n",
       "    <tr>\n",
       "      <th>1</th>\n",
       "      <td>1.0</td>\n",
       "      <td>5.0</td>\n",
       "      <td>0.0</td>\n",
       "      <td>0.0</td>\n",
       "      <td>4.0</td>\n",
       "      <td>0.0</td>\n",
       "      <td>2.0</td>\n",
       "      <td>6.0</td>\n",
       "      <td>0.0</td>\n",
       "      <td>0.0</td>\n",
       "      <td>...</td>\n",
       "      <td>0.0</td>\n",
       "      <td>0.0</td>\n",
       "      <td>0.0</td>\n",
       "      <td>0.0</td>\n",
       "      <td>60.478878</td>\n",
       "      <td>1000</td>\n",
       "      <td>2000</td>\n",
       "      <td>5.0</td>\n",
       "      <td>1.0</td>\n",
       "      <td>8</td>\n",
       "    </tr>\n",
       "    <tr>\n",
       "      <th>2</th>\n",
       "      <td>1.0</td>\n",
       "      <td>5.0</td>\n",
       "      <td>0.0</td>\n",
       "      <td>0.0</td>\n",
       "      <td>4.0</td>\n",
       "      <td>0.0</td>\n",
       "      <td>2.0</td>\n",
       "      <td>6.0</td>\n",
       "      <td>0.0</td>\n",
       "      <td>0.0</td>\n",
       "      <td>...</td>\n",
       "      <td>0.0</td>\n",
       "      <td>0.0</td>\n",
       "      <td>1.0</td>\n",
       "      <td>0.0</td>\n",
       "      <td>54.112681</td>\n",
       "      <td>1000</td>\n",
       "      <td>2000</td>\n",
       "      <td>5.0</td>\n",
       "      <td>1.0</td>\n",
       "      <td>9</td>\n",
       "    </tr>\n",
       "    <tr>\n",
       "      <th>3</th>\n",
       "      <td>1.0</td>\n",
       "      <td>5.0</td>\n",
       "      <td>0.0</td>\n",
       "      <td>0.0</td>\n",
       "      <td>5.0</td>\n",
       "      <td>8.0</td>\n",
       "      <td>1.0</td>\n",
       "      <td>2.0</td>\n",
       "      <td>2.0</td>\n",
       "      <td>0.0</td>\n",
       "      <td>...</td>\n",
       "      <td>0.0</td>\n",
       "      <td>0.0</td>\n",
       "      <td>3.0</td>\n",
       "      <td>0.0</td>\n",
       "      <td>63.661977</td>\n",
       "      <td>1600</td>\n",
       "      <td>1980</td>\n",
       "      <td>100.0</td>\n",
       "      <td>1.0</td>\n",
       "      <td>1</td>\n",
       "    </tr>\n",
       "    <tr>\n",
       "      <th>4</th>\n",
       "      <td>1.0</td>\n",
       "      <td>5.0</td>\n",
       "      <td>0.0</td>\n",
       "      <td>0.0</td>\n",
       "      <td>5.0</td>\n",
       "      <td>8.0</td>\n",
       "      <td>1.0</td>\n",
       "      <td>2.0</td>\n",
       "      <td>2.0</td>\n",
       "      <td>0.0</td>\n",
       "      <td>...</td>\n",
       "      <td>0.0</td>\n",
       "      <td>0.0</td>\n",
       "      <td>3.0</td>\n",
       "      <td>0.0</td>\n",
       "      <td>190.985932</td>\n",
       "      <td>1600</td>\n",
       "      <td>1980</td>\n",
       "      <td>100.0</td>\n",
       "      <td>1.0</td>\n",
       "      <td>2</td>\n",
       "    </tr>\n",
       "  </tbody>\n",
       "</table>\n",
       "<p>5 rows × 32 columns</p>\n",
       "</div>"
      ],
      "text/plain": [
       "   quartier  site  cote_voirie  contrainte  genre_arbre  espece_arbre  \\\n",
       "0       1.0   5.0          0.0         0.0          4.0           0.0   \n",
       "1       1.0   5.0          0.0         0.0          4.0           0.0   \n",
       "2       1.0   5.0          0.0         0.0          4.0           0.0   \n",
       "3       1.0   5.0          0.0         0.0          5.0           8.0   \n",
       "4       1.0   5.0          0.0         0.0          5.0           8.0   \n",
       "\n",
       "   situation  type_sol  plaie_houppier  bois_mort_houppier  ...  \\\n",
       "0        2.0       6.0             0.0                 0.0  ...   \n",
       "1        2.0       6.0             0.0                 0.0  ...   \n",
       "2        2.0       6.0             0.0                 0.0  ...   \n",
       "3        1.0       2.0             2.0                 0.0  ...   \n",
       "4        1.0       2.0             2.0                 0.0  ...   \n",
       "\n",
       "   tuteurage_arbre  canisse_arbre  plaie_tronc  champignon_houppier  \\\n",
       "0              0.0            0.0          2.0                  0.0   \n",
       "1              0.0            0.0          0.0                  0.0   \n",
       "2              0.0            0.0          1.0                  0.0   \n",
       "3              0.0            0.0          3.0                  0.0   \n",
       "4              0.0            0.0          3.0                  0.0   \n",
       "\n",
       "     diametre  hauteur  date_plantation  surf_permeable  esperance_maintien  \\\n",
       "0   63.661977     1000             2000             5.0                 1.0   \n",
       "1   60.478878     1000             2000             5.0                 1.0   \n",
       "2   54.112681     1000             2000             5.0                 1.0   \n",
       "3   63.661977     1600             1980           100.0                 1.0   \n",
       "4  190.985932     1600             1980           100.0                 1.0   \n",
       "\n",
       "   matricule_arbre  \n",
       "0                7  \n",
       "1                8  \n",
       "2                9  \n",
       "3                1  \n",
       "4                2  \n",
       "\n",
       "[5 rows x 32 columns]"
      ]
     },
     "execution_count": 32,
     "metadata": {},
     "output_type": "execute_result"
    }
   ],
   "source": [
    "data_numerical_all_features.head()"
   ]
  },
  {
   "cell_type": "code",
   "execution_count": 33,
   "id": "7f665354-fd97-4831-bdd2-1fad29aee4e7",
   "metadata": {},
   "outputs": [],
   "source": [
    "numerical_columns = numerical_columns_selector(data_numerical_all_features)\n",
    "numerical_preprocessor = StandardScaler()\n",
    "from sklearn.compose import ColumnTransformer\n",
    "## Creating separate Transformers\n",
    "preprocessor = ColumnTransformer([\n",
    "    ('Standard_scaler', numerical_preprocessor, numerical_columns)])"
   ]
  },
  {
   "cell_type": "code",
   "execution_count": 34,
   "id": "ca507e62-9129-40aa-97b8-f6142979fc54",
   "metadata": {},
   "outputs": [],
   "source": [
    "from sklearn.linear_model import LogisticRegression\n",
    "from sklearn.pipeline import make_pipeline\n",
    "\n",
    "model_lr_oe = make_pipeline(preprocessor, LogisticRegression(max_iter=1000, random_state=0))"
   ]
  },
  {
   "cell_type": "code",
   "execution_count": 35,
   "id": "357eb61a-2238-4b70-9fe8-dc40c6bc2e8f",
   "metadata": {},
   "outputs": [
    {
     "data": {
      "text/html": [
       "<style>#sk-08ca6fd4-1e32-432f-8b88-8ed9c11b4210 {color: black;background-color: white;}#sk-08ca6fd4-1e32-432f-8b88-8ed9c11b4210 pre{padding: 0;}#sk-08ca6fd4-1e32-432f-8b88-8ed9c11b4210 div.sk-toggleable {background-color: white;}#sk-08ca6fd4-1e32-432f-8b88-8ed9c11b4210 label.sk-toggleable__label {cursor: pointer;display: block;width: 100%;margin-bottom: 0;padding: 0.2em 0.3em;box-sizing: border-box;text-align: center;}#sk-08ca6fd4-1e32-432f-8b88-8ed9c11b4210 div.sk-toggleable__content {max-height: 0;max-width: 0;overflow: hidden;text-align: left;background-color: #f0f8ff;}#sk-08ca6fd4-1e32-432f-8b88-8ed9c11b4210 div.sk-toggleable__content pre {margin: 0.2em;color: black;border-radius: 0.25em;background-color: #f0f8ff;}#sk-08ca6fd4-1e32-432f-8b88-8ed9c11b4210 input.sk-toggleable__control:checked~div.sk-toggleable__content {max-height: 200px;max-width: 100%;overflow: auto;}#sk-08ca6fd4-1e32-432f-8b88-8ed9c11b4210 div.sk-estimator input.sk-toggleable__control:checked~label.sk-toggleable__label {background-color: #d4ebff;}#sk-08ca6fd4-1e32-432f-8b88-8ed9c11b4210 div.sk-label input.sk-toggleable__control:checked~label.sk-toggleable__label {background-color: #d4ebff;}#sk-08ca6fd4-1e32-432f-8b88-8ed9c11b4210 input.sk-hidden--visually {border: 0;clip: rect(1px 1px 1px 1px);clip: rect(1px, 1px, 1px, 1px);height: 1px;margin: -1px;overflow: hidden;padding: 0;position: absolute;width: 1px;}#sk-08ca6fd4-1e32-432f-8b88-8ed9c11b4210 div.sk-estimator {font-family: monospace;background-color: #f0f8ff;margin: 0.25em 0.25em;border: 1px dotted black;border-radius: 0.25em;box-sizing: border-box;}#sk-08ca6fd4-1e32-432f-8b88-8ed9c11b4210 div.sk-estimator:hover {background-color: #d4ebff;}#sk-08ca6fd4-1e32-432f-8b88-8ed9c11b4210 div.sk-parallel-item::after {content: \"\";width: 100%;border-bottom: 1px solid gray;flex-grow: 1;}#sk-08ca6fd4-1e32-432f-8b88-8ed9c11b4210 div.sk-label:hover label.sk-toggleable__label {background-color: #d4ebff;}#sk-08ca6fd4-1e32-432f-8b88-8ed9c11b4210 div.sk-serial::before {content: \"\";position: absolute;border-left: 1px solid gray;box-sizing: border-box;top: 2em;bottom: 0;left: 50%;}#sk-08ca6fd4-1e32-432f-8b88-8ed9c11b4210 div.sk-serial {display: flex;flex-direction: column;align-items: center;background-color: white;}#sk-08ca6fd4-1e32-432f-8b88-8ed9c11b4210 div.sk-item {z-index: 1;}#sk-08ca6fd4-1e32-432f-8b88-8ed9c11b4210 div.sk-parallel {display: flex;align-items: stretch;justify-content: center;background-color: white;}#sk-08ca6fd4-1e32-432f-8b88-8ed9c11b4210 div.sk-parallel-item {display: flex;flex-direction: column;position: relative;background-color: white;}#sk-08ca6fd4-1e32-432f-8b88-8ed9c11b4210 div.sk-parallel-item:first-child::after {align-self: flex-end;width: 50%;}#sk-08ca6fd4-1e32-432f-8b88-8ed9c11b4210 div.sk-parallel-item:last-child::after {align-self: flex-start;width: 50%;}#sk-08ca6fd4-1e32-432f-8b88-8ed9c11b4210 div.sk-parallel-item:only-child::after {width: 0;}#sk-08ca6fd4-1e32-432f-8b88-8ed9c11b4210 div.sk-dashed-wrapped {border: 1px dashed gray;margin: 0.2em;box-sizing: border-box;padding-bottom: 0.1em;background-color: white;position: relative;}#sk-08ca6fd4-1e32-432f-8b88-8ed9c11b4210 div.sk-label label {font-family: monospace;font-weight: bold;background-color: white;display: inline-block;line-height: 1.2em;}#sk-08ca6fd4-1e32-432f-8b88-8ed9c11b4210 div.sk-label-container {position: relative;z-index: 2;text-align: center;}#sk-08ca6fd4-1e32-432f-8b88-8ed9c11b4210 div.sk-container {display: inline-block;position: relative;}</style><div id=\"sk-08ca6fd4-1e32-432f-8b88-8ed9c11b4210\" class\"sk-top-container\"><div class=\"sk-container\"><div class=\"sk-item sk-dashed-wrapped\"><div class=\"sk-label-container\"><div class=\"sk-label sk-toggleable\"><input class=\"sk-toggleable__control sk-hidden--visually\" id=\"89912fad-113d-4bb5-b4b6-e167fd61adb5\" type=\"checkbox\" ><label class=\"sk-toggleable__label\" for=\"89912fad-113d-4bb5-b4b6-e167fd61adb5\">Pipeline</label><div class=\"sk-toggleable__content\"><pre>Pipeline(steps=[('columntransformer',\n",
       "                 ColumnTransformer(transformers=[('Standard_scaler',\n",
       "                                                  StandardScaler(),\n",
       "                                                  ['quartier', 'site',\n",
       "                                                   'cote_voirie', 'contrainte',\n",
       "                                                   'genre_arbre',\n",
       "                                                   'espece_arbre', 'situation',\n",
       "                                                   'type_sol', 'plaie_houppier',\n",
       "                                                   'bois_mort_houppier',\n",
       "                                                   'classe_age',\n",
       "                                                   'ecorce_incluse_houppier',\n",
       "                                                   'classe_hauteur',\n",
       "                                                   'fissure_houppier',\n",
       "                                                   'classe_circonference',\n",
       "                                                   'port_arbre',\n",
       "                                                   'vigueur_pousse',\n",
       "                                                   'champignon_collet',\n",
       "                                                   'plaie_collet',\n",
       "                                                   'champignon_tronc',\n",
       "                                                   'fissure_tronc',\n",
       "                                                   'rejet_tronc',\n",
       "                                                   'tuteurage_arbre',\n",
       "                                                   'canisse_arbre',\n",
       "                                                   'plaie_tronc',\n",
       "                                                   'champignon_houppier',\n",
       "                                                   'diametre', 'hauteur',\n",
       "                                                   'date_plantation',\n",
       "                                                   'surf_permeable', ...])])),\n",
       "                ('logisticregression',\n",
       "                 LogisticRegression(max_iter=1000, random_state=0))])</pre></div></div></div><div class=\"sk-serial\"><div class=\"sk-item sk-dashed-wrapped\"><div class=\"sk-label-container\"><div class=\"sk-label sk-toggleable\"><input class=\"sk-toggleable__control sk-hidden--visually\" id=\"a186441a-3bc8-4245-8b74-34e1dcada5a0\" type=\"checkbox\" ><label class=\"sk-toggleable__label\" for=\"a186441a-3bc8-4245-8b74-34e1dcada5a0\">columntransformer: ColumnTransformer</label><div class=\"sk-toggleable__content\"><pre>ColumnTransformer(transformers=[('Standard_scaler', StandardScaler(),\n",
       "                                 ['quartier', 'site', 'cote_voirie',\n",
       "                                  'contrainte', 'genre_arbre', 'espece_arbre',\n",
       "                                  'situation', 'type_sol', 'plaie_houppier',\n",
       "                                  'bois_mort_houppier', 'classe_age',\n",
       "                                  'ecorce_incluse_houppier', 'classe_hauteur',\n",
       "                                  'fissure_houppier', 'classe_circonference',\n",
       "                                  'port_arbre', 'vigueur_pousse',\n",
       "                                  'champignon_collet', 'plaie_collet',\n",
       "                                  'champignon_tronc', 'fissure_tronc',\n",
       "                                  'rejet_tronc', 'tuteurage_arbre',\n",
       "                                  'canisse_arbre', 'plaie_tronc',\n",
       "                                  'champignon_houppier', 'diametre', 'hauteur',\n",
       "                                  'date_plantation', 'surf_permeable', ...])])</pre></div></div></div><div class=\"sk-parallel\"><div class=\"sk-parallel-item\"><div class=\"sk-item\"><div class=\"sk-label-container\"><div class=\"sk-label sk-toggleable\"><input class=\"sk-toggleable__control sk-hidden--visually\" id=\"4252f07d-e2c7-41f6-9725-b59ca2aa89fa\" type=\"checkbox\" ><label class=\"sk-toggleable__label\" for=\"4252f07d-e2c7-41f6-9725-b59ca2aa89fa\">Standard_scaler</label><div class=\"sk-toggleable__content\"><pre>['quartier', 'site', 'cote_voirie', 'contrainte', 'genre_arbre', 'espece_arbre', 'situation', 'type_sol', 'plaie_houppier', 'bois_mort_houppier', 'classe_age', 'ecorce_incluse_houppier', 'classe_hauteur', 'fissure_houppier', 'classe_circonference', 'port_arbre', 'vigueur_pousse', 'champignon_collet', 'plaie_collet', 'champignon_tronc', 'fissure_tronc', 'rejet_tronc', 'tuteurage_arbre', 'canisse_arbre', 'plaie_tronc', 'champignon_houppier', 'diametre', 'hauteur', 'date_plantation', 'surf_permeable', 'esperance_maintien', 'matricule_arbre']</pre></div></div></div><div class=\"sk-serial\"><div class=\"sk-item\"><div class=\"sk-estimator sk-toggleable\"><input class=\"sk-toggleable__control sk-hidden--visually\" id=\"085e4174-3c77-4b60-a5cf-6f3ed9faab8c\" type=\"checkbox\" ><label class=\"sk-toggleable__label\" for=\"085e4174-3c77-4b60-a5cf-6f3ed9faab8c\">StandardScaler</label><div class=\"sk-toggleable__content\"><pre>StandardScaler()</pre></div></div></div></div></div></div></div></div><div class=\"sk-item\"><div class=\"sk-estimator sk-toggleable\"><input class=\"sk-toggleable__control sk-hidden--visually\" id=\"7b5040f3-fbe0-4fa5-8b22-970db024d2bd\" type=\"checkbox\" ><label class=\"sk-toggleable__label\" for=\"7b5040f3-fbe0-4fa5-8b22-970db024d2bd\">LogisticRegression</label><div class=\"sk-toggleable__content\"><pre>LogisticRegression(max_iter=1000, random_state=0)</pre></div></div></div></div></div></div></div>"
      ],
      "text/plain": [
       "Pipeline(steps=[('columntransformer',\n",
       "                 ColumnTransformer(transformers=[('Standard_scaler',\n",
       "                                                  StandardScaler(),\n",
       "                                                  ['quartier', 'site',\n",
       "                                                   'cote_voirie', 'contrainte',\n",
       "                                                   'genre_arbre',\n",
       "                                                   'espece_arbre', 'situation',\n",
       "                                                   'type_sol', 'plaie_houppier',\n",
       "                                                   'bois_mort_houppier',\n",
       "                                                   'classe_age',\n",
       "                                                   'ecorce_incluse_houppier',\n",
       "                                                   'classe_hauteur',\n",
       "                                                   'fissure_houppier',\n",
       "                                                   'classe_circonference',\n",
       "                                                   'port_arbre',\n",
       "                                                   'vigueur_pousse',\n",
       "                                                   'champignon_collet',\n",
       "                                                   'plaie_collet',\n",
       "                                                   'champignon_tronc',\n",
       "                                                   'fissure_tronc',\n",
       "                                                   'rejet_tronc',\n",
       "                                                   'tuteurage_arbre',\n",
       "                                                   'canisse_arbre',\n",
       "                                                   'plaie_tronc',\n",
       "                                                   'champignon_houppier',\n",
       "                                                   'diametre', 'hauteur',\n",
       "                                                   'date_plantation',\n",
       "                                                   'surf_permeable', ...])])),\n",
       "                ('logisticregression',\n",
       "                 LogisticRegression(max_iter=1000, random_state=0))])"
      ]
     },
     "execution_count": 35,
     "metadata": {},
     "output_type": "execute_result"
    }
   ],
   "source": [
    "from sklearn import set_config\n",
    "set_config(display='diagram')\n",
    "model_lr_oe"
   ]
  },
  {
   "cell_type": "code",
   "execution_count": 36,
   "id": "b0f0daec-1cac-4c85-b2c7-0d13de2d0274",
   "metadata": {},
   "outputs": [],
   "source": [
    "from sklearn.model_selection import train_test_split\n",
    "\n",
    "X_train, X_test, y_train, y_test = train_test_split(\n",
    "    data_numerical_all_features, target, random_state=0, test_size=0.1)"
   ]
  },
  {
   "cell_type": "code",
   "execution_count": 37,
   "id": "8c1fa711-6be3-4d6a-be76-c559026351f0",
   "metadata": {},
   "outputs": [
    {
     "name": "stdout",
     "output_type": "stream",
     "text": [
      "Wall time: 67 ms\n"
     ]
    }
   ],
   "source": [
    "%%time\n",
    "logistic_regression_oe_model = model_lr_oe.fit(X_train, y_train)"
   ]
  },
  {
   "cell_type": "code",
   "execution_count": 38,
   "id": "6421676b-611b-4a7f-9c2d-15af70eaac6e",
   "metadata": {},
   "outputs": [
    {
     "data": {
      "text/plain": [
       "0.7323943661971831"
      ]
     },
     "execution_count": 38,
     "metadata": {},
     "output_type": "execute_result"
    }
   ],
   "source": [
    "logistic_regression_oe_model.score(X_test, y_test)"
   ]
  },
  {
   "cell_type": "code",
   "execution_count": 39,
   "id": "353d2c3f-ec5a-416d-8225-202127fa014f",
   "metadata": {},
   "outputs": [
    {
     "data": {
      "text/plain": [
       "array(['C2', 'C2', 'C2', 'C1', 'C2'], dtype=object)"
      ]
     },
     "execution_count": 39,
     "metadata": {},
     "output_type": "execute_result"
    }
   ],
   "source": [
    "logistic_regression_oe_model.predict(X_test)[:5]"
   ]
  },
  {
   "cell_type": "code",
   "execution_count": 40,
   "id": "e84eeabd-29a8-487c-b9c3-5a1f8fe48ad3",
   "metadata": {},
   "outputs": [
    {
     "name": "stdout",
     "output_type": "stream",
     "text": [
      "Test Scores for the Logistic Regression Model with 5-Fold Cross-Validation:\n",
      "[0.8359375  0.8046875  0.765625   0.81102362 0.81889764]\n",
      "The Mean Cross-Validation Accuracy is: 0.807 with Standard Deviation of +/- 0.023\n",
      "Total time taken: 2.875\n"
     ]
    }
   ],
   "source": [
    "from sklearn.model_selection import cross_validate\n",
    "start = time.process_time()\n",
    "cv_results_lrm_oe = cross_validate(logistic_regression_oe_model, X_train, y_train, cv=5)\n",
    "print(\"Test Scores for the Logistic Regression Model with 5-Fold Cross-Validation:\")\n",
    "print(cv_results_lrm_oe[\"test_score\"])\n",
    "scores = cv_results_lrm_oe[\"test_score\"]\n",
    "print(\"The Mean Cross-Validation Accuracy is: \"f\"{scores.mean():.3f} with Standard Deviation of +/- {scores.std():.3f}\")\n",
    "print(\"Total time taken: {:}\".format(time.process_time() - start))"
   ]
  },
  {
   "cell_type": "markdown",
   "id": "a7024a38-0ea4-4aed-82f2-3a264829938a",
   "metadata": {},
   "source": [
    "### Decision Tree Model (Without Pruning)"
   ]
  },
  {
   "cell_type": "code",
   "execution_count": 41,
   "id": "c9f28fca-76c6-4f2c-8ec0-565e2de91ead",
   "metadata": {},
   "outputs": [],
   "source": [
    "from sklearn.tree import DecisionTreeClassifier\n",
    "\n",
    "categorical_columns_selector = selector(dtype_include=object)\n",
    "categorical_columns = categorical_columns_selector(data)\n",
    "\n",
    "categorical_preprocessor = OrdinalEncoder(handle_unknown=\"use_encoded_value\",\n",
    "                                          unknown_value=-1)\n",
    "preprocessor = ColumnTransformer([\n",
    "    ('cat_preprocessor', categorical_preprocessor, categorical_columns)],\n",
    "    remainder='passthrough', sparse_threshold=0)\n",
    "model_dt = make_pipeline(preprocessor, DecisionTreeClassifier(random_state=0, criterion='entropy'))\n",
    "X_train, X_test, y_train, y_test = train_test_split(\n",
    "    data, target, random_state=0, test_size=0.1)"
   ]
  },
  {
   "cell_type": "code",
   "execution_count": 42,
   "id": "f479c6ea-b9ed-465e-9e0e-8ef44314e012",
   "metadata": {},
   "outputs": [
    {
     "data": {
      "text/html": [
       "<style>#sk-5a57b93b-89c1-4a75-b3a3-0488b44a50ec {color: black;background-color: white;}#sk-5a57b93b-89c1-4a75-b3a3-0488b44a50ec pre{padding: 0;}#sk-5a57b93b-89c1-4a75-b3a3-0488b44a50ec div.sk-toggleable {background-color: white;}#sk-5a57b93b-89c1-4a75-b3a3-0488b44a50ec label.sk-toggleable__label {cursor: pointer;display: block;width: 100%;margin-bottom: 0;padding: 0.2em 0.3em;box-sizing: border-box;text-align: center;}#sk-5a57b93b-89c1-4a75-b3a3-0488b44a50ec div.sk-toggleable__content {max-height: 0;max-width: 0;overflow: hidden;text-align: left;background-color: #f0f8ff;}#sk-5a57b93b-89c1-4a75-b3a3-0488b44a50ec div.sk-toggleable__content pre {margin: 0.2em;color: black;border-radius: 0.25em;background-color: #f0f8ff;}#sk-5a57b93b-89c1-4a75-b3a3-0488b44a50ec input.sk-toggleable__control:checked~div.sk-toggleable__content {max-height: 200px;max-width: 100%;overflow: auto;}#sk-5a57b93b-89c1-4a75-b3a3-0488b44a50ec div.sk-estimator input.sk-toggleable__control:checked~label.sk-toggleable__label {background-color: #d4ebff;}#sk-5a57b93b-89c1-4a75-b3a3-0488b44a50ec div.sk-label input.sk-toggleable__control:checked~label.sk-toggleable__label {background-color: #d4ebff;}#sk-5a57b93b-89c1-4a75-b3a3-0488b44a50ec input.sk-hidden--visually {border: 0;clip: rect(1px 1px 1px 1px);clip: rect(1px, 1px, 1px, 1px);height: 1px;margin: -1px;overflow: hidden;padding: 0;position: absolute;width: 1px;}#sk-5a57b93b-89c1-4a75-b3a3-0488b44a50ec div.sk-estimator {font-family: monospace;background-color: #f0f8ff;margin: 0.25em 0.25em;border: 1px dotted black;border-radius: 0.25em;box-sizing: border-box;}#sk-5a57b93b-89c1-4a75-b3a3-0488b44a50ec div.sk-estimator:hover {background-color: #d4ebff;}#sk-5a57b93b-89c1-4a75-b3a3-0488b44a50ec div.sk-parallel-item::after {content: \"\";width: 100%;border-bottom: 1px solid gray;flex-grow: 1;}#sk-5a57b93b-89c1-4a75-b3a3-0488b44a50ec div.sk-label:hover label.sk-toggleable__label {background-color: #d4ebff;}#sk-5a57b93b-89c1-4a75-b3a3-0488b44a50ec div.sk-serial::before {content: \"\";position: absolute;border-left: 1px solid gray;box-sizing: border-box;top: 2em;bottom: 0;left: 50%;}#sk-5a57b93b-89c1-4a75-b3a3-0488b44a50ec div.sk-serial {display: flex;flex-direction: column;align-items: center;background-color: white;}#sk-5a57b93b-89c1-4a75-b3a3-0488b44a50ec div.sk-item {z-index: 1;}#sk-5a57b93b-89c1-4a75-b3a3-0488b44a50ec div.sk-parallel {display: flex;align-items: stretch;justify-content: center;background-color: white;}#sk-5a57b93b-89c1-4a75-b3a3-0488b44a50ec div.sk-parallel-item {display: flex;flex-direction: column;position: relative;background-color: white;}#sk-5a57b93b-89c1-4a75-b3a3-0488b44a50ec div.sk-parallel-item:first-child::after {align-self: flex-end;width: 50%;}#sk-5a57b93b-89c1-4a75-b3a3-0488b44a50ec div.sk-parallel-item:last-child::after {align-self: flex-start;width: 50%;}#sk-5a57b93b-89c1-4a75-b3a3-0488b44a50ec div.sk-parallel-item:only-child::after {width: 0;}#sk-5a57b93b-89c1-4a75-b3a3-0488b44a50ec div.sk-dashed-wrapped {border: 1px dashed gray;margin: 0.2em;box-sizing: border-box;padding-bottom: 0.1em;background-color: white;position: relative;}#sk-5a57b93b-89c1-4a75-b3a3-0488b44a50ec div.sk-label label {font-family: monospace;font-weight: bold;background-color: white;display: inline-block;line-height: 1.2em;}#sk-5a57b93b-89c1-4a75-b3a3-0488b44a50ec div.sk-label-container {position: relative;z-index: 2;text-align: center;}#sk-5a57b93b-89c1-4a75-b3a3-0488b44a50ec div.sk-container {display: inline-block;position: relative;}</style><div id=\"sk-5a57b93b-89c1-4a75-b3a3-0488b44a50ec\" class\"sk-top-container\"><div class=\"sk-container\"><div class=\"sk-item sk-dashed-wrapped\"><div class=\"sk-label-container\"><div class=\"sk-label sk-toggleable\"><input class=\"sk-toggleable__control sk-hidden--visually\" id=\"007027bd-b46b-4ea1-b204-a396c5373613\" type=\"checkbox\" ><label class=\"sk-toggleable__label\" for=\"007027bd-b46b-4ea1-b204-a396c5373613\">Pipeline</label><div class=\"sk-toggleable__content\"><pre>Pipeline(steps=[('columntransformer',\n",
       "                 ColumnTransformer(remainder='passthrough', sparse_threshold=0,\n",
       "                                   transformers=[('cat_preprocessor',\n",
       "                                                  OrdinalEncoder(handle_unknown='use_encoded_value',\n",
       "                                                                 unknown_value=-1),\n",
       "                                                  ['quartier', 'site',\n",
       "                                                   'cote_voirie', 'contrainte',\n",
       "                                                   'genre_arbre',\n",
       "                                                   'espece_arbre', 'situation',\n",
       "                                                   'type_sol', 'plaie_houppier',\n",
       "                                                   'bois_mort_houppier',\n",
       "                                                   'classe_age',\n",
       "                                                   '...luse_houppier',\n",
       "                                                   'classe_hauteur',\n",
       "                                                   'fissure_houppier',\n",
       "                                                   'classe_circonference',\n",
       "                                                   'port_arbre',\n",
       "                                                   'vigueur_pousse',\n",
       "                                                   'champignon_collet',\n",
       "                                                   'plaie_collet',\n",
       "                                                   'champignon_tronc',\n",
       "                                                   'fissure_tronc',\n",
       "                                                   'rejet_tronc',\n",
       "                                                   'tuteurage_arbre',\n",
       "                                                   'canisse_arbre',\n",
       "                                                   'plaie_tronc',\n",
       "                                                   'champignon_houppier'])])),\n",
       "                ('decisiontreeclassifier',\n",
       "                 DecisionTreeClassifier(criterion='entropy', random_state=0))])</pre></div></div></div><div class=\"sk-serial\"><div class=\"sk-item sk-dashed-wrapped\"><div class=\"sk-label-container\"><div class=\"sk-label sk-toggleable\"><input class=\"sk-toggleable__control sk-hidden--visually\" id=\"e470e109-811f-44eb-878d-fb6e66efa9d0\" type=\"checkbox\" ><label class=\"sk-toggleable__label\" for=\"e470e109-811f-44eb-878d-fb6e66efa9d0\">columntransformer: ColumnTransformer</label><div class=\"sk-toggleable__content\"><pre>ColumnTransformer(remainder='passthrough', sparse_threshold=0,\n",
       "                  transformers=[('cat_preprocessor',\n",
       "                                 OrdinalEncoder(handle_unknown='use_encoded_value',\n",
       "                                                unknown_value=-1),\n",
       "                                 ['quartier', 'site', 'cote_voirie',\n",
       "                                  'contrainte', 'genre_arbre', 'espece_arbre',\n",
       "                                  'situation', 'type_sol', 'plaie_houppier',\n",
       "                                  'bois_mort_houppier', 'classe_age',\n",
       "                                  'ecorce_incluse_houppier', 'classe_hauteur',\n",
       "                                  'fissure_houppier', 'classe_circonference',\n",
       "                                  'port_arbre', 'vigueur_pousse',\n",
       "                                  'champignon_collet', 'plaie_collet',\n",
       "                                  'champignon_tronc', 'fissure_tronc',\n",
       "                                  'rejet_tronc', 'tuteurage_arbre',\n",
       "                                  'canisse_arbre', 'plaie_tronc',\n",
       "                                  'champignon_houppier'])])</pre></div></div></div><div class=\"sk-parallel\"><div class=\"sk-parallel-item\"><div class=\"sk-item\"><div class=\"sk-label-container\"><div class=\"sk-label sk-toggleable\"><input class=\"sk-toggleable__control sk-hidden--visually\" id=\"76a7de77-8f70-47d5-bb0d-6d67727edac5\" type=\"checkbox\" ><label class=\"sk-toggleable__label\" for=\"76a7de77-8f70-47d5-bb0d-6d67727edac5\">cat_preprocessor</label><div class=\"sk-toggleable__content\"><pre>['quartier', 'site', 'cote_voirie', 'contrainte', 'genre_arbre', 'espece_arbre', 'situation', 'type_sol', 'plaie_houppier', 'bois_mort_houppier', 'classe_age', 'ecorce_incluse_houppier', 'classe_hauteur', 'fissure_houppier', 'classe_circonference', 'port_arbre', 'vigueur_pousse', 'champignon_collet', 'plaie_collet', 'champignon_tronc', 'fissure_tronc', 'rejet_tronc', 'tuteurage_arbre', 'canisse_arbre', 'plaie_tronc', 'champignon_houppier']</pre></div></div></div><div class=\"sk-serial\"><div class=\"sk-item\"><div class=\"sk-estimator sk-toggleable\"><input class=\"sk-toggleable__control sk-hidden--visually\" id=\"c3d83ae1-3388-4e46-86fe-d897d0f59ebe\" type=\"checkbox\" ><label class=\"sk-toggleable__label\" for=\"c3d83ae1-3388-4e46-86fe-d897d0f59ebe\">OrdinalEncoder</label><div class=\"sk-toggleable__content\"><pre>OrdinalEncoder(handle_unknown='use_encoded_value', unknown_value=-1)</pre></div></div></div></div></div></div><div class=\"sk-parallel-item\"><div class=\"sk-item\"><div class=\"sk-label-container\"><div class=\"sk-label sk-toggleable\"><input class=\"sk-toggleable__control sk-hidden--visually\" id=\"dbf190cb-0011-4b86-b136-dffab45a5a26\" type=\"checkbox\" ><label class=\"sk-toggleable__label\" for=\"dbf190cb-0011-4b86-b136-dffab45a5a26\">remainder</label><div class=\"sk-toggleable__content\"><pre></pre></div></div></div><div class=\"sk-serial\"><div class=\"sk-item\"><div class=\"sk-estimator sk-toggleable\"><input class=\"sk-toggleable__control sk-hidden--visually\" id=\"8d60a119-68ba-4a9a-b86f-4b5be37b7254\" type=\"checkbox\" ><label class=\"sk-toggleable__label\" for=\"8d60a119-68ba-4a9a-b86f-4b5be37b7254\">passthrough</label><div class=\"sk-toggleable__content\"><pre>passthrough</pre></div></div></div></div></div></div></div></div><div class=\"sk-item\"><div class=\"sk-estimator sk-toggleable\"><input class=\"sk-toggleable__control sk-hidden--visually\" id=\"8b72bfbb-49e3-4d41-a99b-ae33dbeb43c9\" type=\"checkbox\" ><label class=\"sk-toggleable__label\" for=\"8b72bfbb-49e3-4d41-a99b-ae33dbeb43c9\">DecisionTreeClassifier</label><div class=\"sk-toggleable__content\"><pre>DecisionTreeClassifier(criterion='entropy', random_state=0)</pre></div></div></div></div></div></div></div>"
      ],
      "text/plain": [
       "Pipeline(steps=[('columntransformer',\n",
       "                 ColumnTransformer(remainder='passthrough', sparse_threshold=0,\n",
       "                                   transformers=[('cat_preprocessor',\n",
       "                                                  OrdinalEncoder(handle_unknown='use_encoded_value',\n",
       "                                                                 unknown_value=-1),\n",
       "                                                  ['quartier', 'site',\n",
       "                                                   'cote_voirie', 'contrainte',\n",
       "                                                   'genre_arbre',\n",
       "                                                   'espece_arbre', 'situation',\n",
       "                                                   'type_sol', 'plaie_houppier',\n",
       "                                                   'bois_mort_houppier',\n",
       "                                                   'classe_age',\n",
       "                                                   '...luse_houppier',\n",
       "                                                   'classe_hauteur',\n",
       "                                                   'fissure_houppier',\n",
       "                                                   'classe_circonference',\n",
       "                                                   'port_arbre',\n",
       "                                                   'vigueur_pousse',\n",
       "                                                   'champignon_collet',\n",
       "                                                   'plaie_collet',\n",
       "                                                   'champignon_tronc',\n",
       "                                                   'fissure_tronc',\n",
       "                                                   'rejet_tronc',\n",
       "                                                   'tuteurage_arbre',\n",
       "                                                   'canisse_arbre',\n",
       "                                                   'plaie_tronc',\n",
       "                                                   'champignon_houppier'])])),\n",
       "                ('decisiontreeclassifier',\n",
       "                 DecisionTreeClassifier(criterion='entropy', random_state=0))])"
      ]
     },
     "execution_count": 42,
     "metadata": {},
     "output_type": "execute_result"
    }
   ],
   "source": [
    "from sklearn import set_config\n",
    "set_config(display='diagram')\n",
    "model_dt"
   ]
  },
  {
   "cell_type": "code",
   "execution_count": 43,
   "id": "56c64216-7389-4787-bbb0-33167d5f0892",
   "metadata": {},
   "outputs": [
    {
     "name": "stdout",
     "output_type": "stream",
     "text": [
      "Wall time: 32 ms\n"
     ]
    }
   ],
   "source": [
    "%%time\n",
    "decision_tree_model_no_pruning = model_dt.fit(X_train, y_train)"
   ]
  },
  {
   "cell_type": "code",
   "execution_count": 44,
   "id": "8cff82c0-13a0-4b9d-8b51-6408df478dd4",
   "metadata": {},
   "outputs": [
    {
     "data": {
      "text/plain": [
       "0.8309859154929577"
      ]
     },
     "execution_count": 44,
     "metadata": {},
     "output_type": "execute_result"
    }
   ],
   "source": [
    "decision_tree_model_no_pruning.score(X_test, y_test)"
   ]
  },
  {
   "cell_type": "code",
   "execution_count": 45,
   "id": "63940992-ab2b-4f9c-ba4a-a911a137cf87",
   "metadata": {},
   "outputs": [
    {
     "data": {
      "text/plain": [
       "array(['C2', 'C2', 'C1', 'C1', 'C2'], dtype=object)"
      ]
     },
     "execution_count": 45,
     "metadata": {},
     "output_type": "execute_result"
    }
   ],
   "source": [
    "decision_tree_model_no_pruning.predict(X_test)[:5]"
   ]
  },
  {
   "cell_type": "code",
   "execution_count": 46,
   "id": "94de5023-8e71-423e-bcd6-f7f38d19e348",
   "metadata": {},
   "outputs": [
    {
     "name": "stdout",
     "output_type": "stream",
     "text": [
      "Test Scores for the Decision Tree Model with 5-Fold Cross-Validation:\n",
      "[0.8359375  0.7890625  0.8671875  0.81102362 0.8503937 ]\n",
      "The Mean Cross-Validation Accuracy is: 0.831 with Standard Deviation of +/- 0.028\n",
      "Total time taken: 0.15625\n"
     ]
    }
   ],
   "source": [
    "start = time.process_time()\n",
    "cv_results_dtmnp = cross_validate(decision_tree_model_no_pruning, X_train, y_train, cv=5)\n",
    "print(\"Test Scores for the Decision Tree Model with 5-Fold Cross-Validation:\")\n",
    "print(cv_results_dtmnp[\"test_score\"])\n",
    "scores = cv_results_dtmnp[\"test_score\"]\n",
    "print(\"The Mean Cross-Validation Accuracy is: \"f\"{scores.mean():.3f} with Standard Deviation of +/- {scores.std():.3f}\")\n",
    "print(\"Total time taken: {:}\".format(time.process_time() - start))"
   ]
  },
  {
   "cell_type": "markdown",
   "id": "b90146ca-63ee-4b07-86ca-046628ae0470",
   "metadata": {},
   "source": [
    "### Pruning decision trees with cost complexity pruning and analysing results\n",
    "Total impurity of leaves vs effective alphas of pruned tree\n",
    "Minimal cost complexity pruning recursively finds the node with the “weakest link”. The weakest link is characterized by an effective alpha, where the nodes with the smallest effective alpha are pruned first. To get an idea of what values of ccp_alpha could be appropriate, scikit-learn provides DecisionTreeClassifier.cost_complexity_pruning_path that returns the effective alphas and the corresponding total leaf impurities at each step of the pruning process. As alpha increases, more of the tree is pruned, which increases the total impurity of its leaves."
   ]
  },
  {
   "cell_type": "code",
   "execution_count": 47,
   "id": "9c0b8421-fa14-4049-afb8-93e834f0e3b0",
   "metadata": {},
   "outputs": [],
   "source": [
    "X_train, X_test, y_train, y_test = train_test_split(\n",
    "    data_numerical_all_features, target, random_state=0, test_size=0.1)\n",
    "classifier = DecisionTreeClassifier(random_state=0, criterion= \"entropy\")\n",
    "classifier.fit(X_train, y_train)\n",
    "path = classifier.cost_complexity_pruning_path(X_train, y_train)\n",
    "ccp_alphas, impurities = path.ccp_alphas, path.impurities"
   ]
  },
  {
   "cell_type": "markdown",
   "id": "926b7a94-577d-4e0a-9b70-7a272ca75a2e",
   "metadata": {},
   "source": [
    "In the following plot, the maximum effective alpha value is removed, because it is the trivial tree with only one node."
   ]
  },
  {
   "cell_type": "code",
   "execution_count": 48,
   "id": "eba33d57-2254-40e1-b613-17222f8edbd6",
   "metadata": {},
   "outputs": [
    {
     "data": {
      "text/plain": [
       "Text(0.5, 1.0, 'Total Impurity vs effective alpha for training set')"
      ]
     },
     "execution_count": 48,
     "metadata": {},
     "output_type": "execute_result"
    },
    {
     "data": {
      "image/png": "[encoded data removed]",
      "text/plain": [
       "<Figure size 432x288 with 1 Axes>"
      ]
     },
     "metadata": {
      "needs_background": "light"
     },
     "output_type": "display_data"
    }
   ],
   "source": [
    "fig, ax = plt.subplots()\n",
    "ax.plot(ccp_alphas[:], impurities[:], marker=\"o\", drawstyle=\"steps-post\")\n",
    "ax.set_xlabel(\"effective alpha\")\n",
    "ax.set_ylabel(\"total impurity of leaves\")\n",
    "ax.set_title(\"Total Impurity vs effective alpha for training set\")"
   ]
  },
  {
   "cell_type": "markdown",
   "id": "89d185a6-2e1b-4736-8150-a47772db7d5c",
   "metadata": {},
   "source": [
    "Next, we train a decision tree using the effective alphas. The last value in ccp_alphas is the alpha value that prunes the whole tree, leaving the tree, clfs[-1], with one node."
   ]
  },
  {
   "cell_type": "code",
   "execution_count": 49,
   "id": "23b09ece-a762-42b8-a580-54aa0da37414",
   "metadata": {},
   "outputs": [
    {
     "name": "stdout",
     "output_type": "stream",
     "text": [
      "Number of nodes in the last tree is: 1 with ccp_alpha: 0.278873329597614\n"
     ]
    }
   ],
   "source": [
    "classifiers = []\n",
    "for ccp_alpha in ccp_alphas:\n",
    "    classifier = DecisionTreeClassifier(random_state=0, criterion=\"entropy\", ccp_alpha=ccp_alpha)\n",
    "    classifier.fit(X_train, y_train)\n",
    "    classifiers.append(classifier)\n",
    "print(\n",
    "    \"Number of nodes in the last tree is: {} with ccp_alpha: {}\".format(\n",
    "        classifiers[-1].tree_.node_count, ccp_alphas[-1]\n",
    "    )\n",
    ")"
   ]
  },
  {
   "cell_type": "markdown",
   "id": "530fef07-cb31-446f-9a89-770ba6e1e409",
   "metadata": {},
   "source": [
    "For the remainder of this example, we remove the last element in clfs and ccp_alphas, because it is the trivial tree with only one node. Here we show that the number of nodes and tree depth decreases as alpha increases."
   ]
  },
  {
   "cell_type": "code",
   "execution_count": 50,
   "id": "38b7f200-9db3-4fa5-b297-64884230a2ae",
   "metadata": {},
   "outputs": [
    {
     "data": {
      "image/png": "[encoded data removed]",
      "text/plain": [
       "<Figure size 432x288 with 2 Axes>"
      ]
     },
     "metadata": {
      "needs_background": "light"
     },
     "output_type": "display_data"
    }
   ],
   "source": [
    "#classifiers = classifiers[:-1]\n",
    "#ccp_alphas = ccp_alphas[:-1]\n",
    "\n",
    "node_counts = [classifier.tree_.node_count for classifier in classifiers]\n",
    "depth = [classifier.tree_.max_depth for classifier in classifiers]\n",
    "fig, ax = plt.subplots(2, 1)\n",
    "ax[0].plot(ccp_alphas, node_counts, marker=\"o\", drawstyle=\"steps-post\")\n",
    "ax[0].set_xlabel(\"alpha\")\n",
    "ax[0].set_ylabel(\"number of nodes\")\n",
    "ax[0].set_title(\"Number of nodes vs alpha\")\n",
    "ax[1].plot(ccp_alphas, depth, marker=\"o\", drawstyle=\"steps-post\")\n",
    "ax[1].set_xlabel(\"alpha\")\n",
    "ax[1].set_ylabel(\"depth of tree\")\n",
    "ax[1].set_title(\"Depth vs alpha\")\n",
    "#ax[1].set_yscale(\"log\")\n",
    "#ax[1].set_xscale(\"log\")\n",
    "fig.tight_layout()"
   ]
  },
  {
   "cell_type": "markdown",
   "id": "e8f510ae-3864-4b20-9a78-ad2f1982e626",
   "metadata": {},
   "source": [
    "Accuracy vs alpha for training and testing sets\n",
    "When ccp_alpha is set to zero and keeping the other default parameters of DecisionTreeClassifier, the tree overfits, leading to a 100% training accuracy and 88% testing accuracy. As alpha increases, more of the tree is pruned, thus creating a decision tree that generalizes better. In this example, setting ccp_alpha=0.015 maximizes the testing accuracy."
   ]
  },
  {
   "cell_type": "code",
   "execution_count": 51,
   "id": "12fe336f-724f-4b27-93ac-b2c84aaaeba5",
   "metadata": {},
   "outputs": [
    {
     "data": {
      "image/png": "[encoded data removed]",
      "text/plain": [
       "<Figure size 432x288 with 1 Axes>"
      ]
     },
     "metadata": {
      "needs_background": "light"
     },
     "output_type": "display_data"
    }
   ],
   "source": [
    "train_scores = [classifier.score(X_train, y_train) for classifier in classifiers]\n",
    "test_scores = [classifier.score(X_test, y_test) for classifier in classifiers]\n",
    "\n",
    "fig, ax = plt.subplots()\n",
    "ax.set_xlabel(\"alpha\")\n",
    "ax.set_ylabel(\"accuracy\")\n",
    "ax.set_title(\"Accuracy vs alpha for training and testing sets\")\n",
    "ax.plot(ccp_alphas, train_scores, marker=\"o\", label=\"train\", drawstyle=\"steps-post\")\n",
    "ax.plot(ccp_alphas, test_scores, marker=\"o\", label=\"test\", drawstyle=\"steps-post\")\n",
    "ax.legend()\n",
    "plt.show()"
   ]
  },
  {
   "cell_type": "code",
   "execution_count": 52,
   "id": "95390c17-ceae-4eeb-8e0d-3777f4b3bc10",
   "metadata": {},
   "outputs": [
    {
     "data": {
      "image/png": "[encoded data removed]",
      "text/plain": [
       "<Figure size 432x288 with 1 Axes>"
      ]
     },
     "metadata": {
      "needs_background": "light"
     },
     "output_type": "display_data"
    }
   ],
   "source": [
    "train_scores = [classifier.score(X_train, y_train) for classifier in classifiers]\n",
    "test_scores = [classifier.score(X_test, y_test) for classifier in classifiers]\n",
    "node_counts = [classifier.tree_.node_count for classifier in classifiers]\n",
    "fig, ax = plt.subplots()\n",
    "ax.set_xlabel(\"total no. of nodes\")\n",
    "ax.set_ylabel(\"accuracy\")\n",
    "ax.set_title(\"Accuracy vs Total no.of nodes for training and testing sets\")\n",
    "ax.plot(node_counts, train_scores, marker=\"o\", label=\"train\", drawstyle=\"steps-post\")\n",
    "ax.plot(node_counts, test_scores, marker=\"o\", label=\"test\", drawstyle=\"steps-post\")\n",
    "ax.legend()\n",
    "plt.show()"
   ]
  },
  {
   "cell_type": "code",
   "execution_count": 53,
   "id": "62e26964-3188-4e0e-8a54-bf3582d00fbd",
   "metadata": {},
   "outputs": [
    {
     "data": {
      "image/png": "[encoded data removed]",
      "text/plain": [
       "<Figure size 432x288 with 1 Axes>"
      ]
     },
     "metadata": {
      "needs_background": "light"
     },
     "output_type": "display_data"
    }
   ],
   "source": [
    "train_scores = [classifier.score(X_train, y_train) for classifier in classifiers]\n",
    "test_scores = [classifier.score(X_test, y_test) for classifier in classifiers]\n",
    "depth = [classifier.tree_.max_depth for classifier in classifiers]\n",
    "fig, ax = plt.subplots()\n",
    "ax.set_xlabel(\"tree depth\")\n",
    "ax.set_ylabel(\"accuracy\")\n",
    "ax.set_title(\"Accuracy vs Tree depth for training and testing sets\")\n",
    "ax.plot(depth, train_scores, marker=\"o\", label=\"train\", drawstyle=\"steps-post\")\n",
    "ax.plot(depth, test_scores, marker=\"o\", label=\"test\", drawstyle=\"steps-post\")\n",
    "ax.legend()\n",
    "plt.show()"
   ]
  },
  {
   "cell_type": "code",
   "execution_count": 54,
   "id": "66e6175a-ca3b-429e-add7-f4c832cbc6ba",
   "metadata": {},
   "outputs": [
    {
     "data": {
      "text/plain": [
       "(65,)"
      ]
     },
     "execution_count": 54,
     "metadata": {},
     "output_type": "execute_result"
    }
   ],
   "source": [
    "test_scores = np.asarray(test_scores)\n",
    "test_scores.shape"
   ]
  },
  {
   "cell_type": "code",
   "execution_count": 55,
   "id": "e696afb0-22cc-44da-9fe3-b3d9c4142c24",
   "metadata": {},
   "outputs": [
    {
     "name": "stdout",
     "output_type": "stream",
     "text": [
      "[[0.         0.83098592]\n",
      " [0.002159   0.83098592]\n",
      " [0.00253644 0.83098592]\n",
      " [0.00254319 0.83098592]\n",
      " [0.00269508 0.85915493]\n",
      " [0.00282887 0.85915493]\n",
      " [0.00282887 0.85915493]\n",
      " [0.00297827 0.85915493]\n",
      " [0.0031348  0.85915493]\n",
      " [0.0031348  0.85915493]\n",
      " [0.0031348  0.85915493]\n",
      " [0.00360324 0.84507042]\n",
      " [0.00380467 0.84507042]\n",
      " [0.00398602 0.84507042]\n",
      " [0.00431801 0.84507042]\n",
      " [0.00431801 0.84507042]\n",
      " [0.00431801 0.84507042]\n",
      " [0.00431801 0.84507042]\n",
      " [0.00431801 0.84507042]\n",
      " [0.0043204  0.84507042]\n",
      " [0.00470219 0.84507042]\n",
      " [0.00470676 0.85915493]\n",
      " [0.00478046 0.85915493]\n",
      " [0.0049948  0.85915493]\n",
      " [0.00508638 0.85915493]\n",
      " [0.00534469 0.85915493]\n",
      " [0.00552417 0.84507042]\n",
      " [0.00571682 0.84507042]\n",
      " [0.00598391 0.84507042]\n",
      " [0.00611306 0.85915493]\n",
      " [0.00611306 0.85915493]\n",
      " [0.0064697  0.85915493]\n",
      " [0.00665016 0.87323944]\n",
      " [0.00678184 0.87323944]\n",
      " [0.00703797 0.87323944]\n",
      " [0.00760933 0.87323944]\n",
      " [0.00788634 0.87323944]\n",
      " [0.00797205 0.87323944]\n",
      " [0.00815958 0.88732394]\n",
      " [0.00850942 0.88732394]\n",
      " [0.0096745  0.88732394]\n",
      " [0.01046945 0.88732394]\n",
      " [0.01197432 0.88732394]\n",
      " [0.01297652 0.88732394]\n",
      " [0.01299607 0.87323944]\n",
      " [0.01419851 0.87323944]\n",
      " [0.01422522 0.87323944]\n",
      " [0.01551552 0.85915493]\n",
      " [0.01654168 0.84507042]\n",
      " [0.0171023  0.76056338]\n",
      " [0.01722255 0.76056338]\n",
      " [0.01745987 0.76056338]\n",
      " [0.01852891 0.76056338]\n",
      " [0.01871896 0.73239437]\n",
      " [0.02720093 0.73239437]\n",
      " [0.02768172 0.71830986]\n",
      " [0.02853427 0.70422535]\n",
      " [0.03129267 0.70422535]\n",
      " [0.03230085 0.70422535]\n",
      " [0.03520555 0.70422535]\n",
      " [0.04063773 0.64788732]\n",
      " [0.05150498 0.64788732]\n",
      " [0.09357475 0.63380282]\n",
      " [0.16502198 0.63380282]\n",
      " [0.27887333 0.53521127]]\n"
     ]
    }
   ],
   "source": [
    "print(np.concatenate((ccp_alphas.reshape(len(ccp_alphas),1), test_scores.reshape(len(test_scores),1)),1))"
   ]
  },
  {
   "cell_type": "markdown",
   "id": "d646c1b4-f49d-4991-8a11-aacf21265cad",
   "metadata": {},
   "source": [
    "### Tuning for Best Pruning Parameters with randomized-search"
   ]
  },
  {
   "cell_type": "code",
   "execution_count": null,
   "id": "bcd7367e-0950-4203-8379-c01450db4545",
   "metadata": {},
   "outputs": [],
   "source": [
    "from scipy.stats import loguniform\n",
    "\n",
    "\n",
    "class loguniform_int:\n",
    "    \"\"\"Integer valued version of the log-uniform distribution\"\"\"\n",
    "    def __init__(self, a, b):\n",
    "        self._distribution = loguniform(a, b)\n",
    "\n",
    "    def rvs(self, *args, **kwargs):\n",
    "        \"\"\"Random variable sample\"\"\"\n",
    "        return self._distribution.rvs(*args, **kwargs).astype(int)"
   ]
  },
  {
   "cell_type": "markdown",
   "id": "1950a4b8-2070-42d6-ae17-4871b0bf1597",
   "metadata": {},
   "source": [
    "from sklearn.tree import DecisionTreeClassifier\n",
    "\n",
    "categorical_columns_selector = selector(dtype_include=object)\n",
    "categorical_columns = categorical_columns_selector(data)\n",
    "\n",
    "categorical_preprocessor = OrdinalEncoder(handle_unknown=\"use_encoded_value\",\n",
    "                                          unknown_value=-1)\n",
    "preprocessor = ColumnTransformer([\n",
    "    ('cat_preprocessor', categorical_preprocessor, categorical_columns)],\n",
    "    remainder='passthrough', sparse_threshold=0)"
   ]
  },
  {
   "cell_type": "markdown",
   "id": "0e93aa6f-b788-4445-a99b-9fafe8180b2b",
   "metadata": {},
   "source": [
    "from sklearn.pipeline import Pipeline\n",
    "\n",
    "model_dtpp = Pipeline([\n",
    "    (\"preprocessor\", preprocessor),\n",
    "    (\"classifier\", DecisionTreeClassifier(criterion= \"entropy\", random_state=0)),\n",
    "])\n"
   ]
  },
  {
   "cell_type": "markdown",
   "id": "2d5349a1-4c00-4842-bf18-4569b5af6b49",
   "metadata": {},
   "source": [
    "from sklearn import set_config\n",
    "set_config(display='diagram')\n",
    "model_dtpp"
   ]
  },
  {
   "cell_type": "markdown",
   "id": "46bd5087-d446-461c-8f5d-77fba909093f",
   "metadata": {
    "tags": []
   },
   "source": [
    "%%time\n",
    "from sklearn.model_selection import RandomizedSearchCV\n",
    "\n",
    "param_distributions = {\n",
    "    'classifier__ccp_alpha': loguniform(0.005, 0.02),\n",
    "}\n",
    "\n",
    "model_random_search_dtpp = RandomizedSearchCV(\n",
    "    model_dtpp, param_distributions=param_distributions, n_iter=1000,\n",
    "    cv=5, verbose=1, random_state =0\n",
    ")\n",
    "model_random_search_dtpp.fit(X_train, y_train)"
   ]
  },
  {
   "cell_type": "markdown",
   "id": "afa5c0c7-3b25-402e-b084-fea088121c13",
   "metadata": {},
   "source": [
    "accuracy = model_random_search_dtpp.score(X_test, y_test)\n",
    "\n",
    "print(f\"The test accuracy score of the best model is \"\n",
    "      f\"{accuracy:.2f}\")"
   ]
  },
  {
   "cell_type": "markdown",
   "id": "1d77e353-4c1e-40bc-9cc8-4eb2ec3f09ad",
   "metadata": {},
   "source": [
    "from pprint import pprint\n",
    "\n",
    "print(\"The best parameters are:\")\n",
    "pprint(model_random_search_dtpp.best_params_)"
   ]
  },
  {
   "cell_type": "markdown",
   "id": "693fb2b6-2e7c-4cf6-b22e-a82da6fd1ee9",
   "metadata": {
    "lines_to_next_cell": 2
   },
   "source": [
    "\n",
    "We can inspect the results using the attributes `cv_results` as we did\n",
    "previously."
   ]
  },
  {
   "cell_type": "markdown",
   "id": "15008dc5-0d1d-42eb-8aa3-154c0d59fb80",
   "metadata": {
    "tags": []
   },
   "source": [
    "# get the parameter names\n",
    "column_results = [\n",
    "    f\"param_{name}\" for name in param_distributions.keys()]\n",
    "column_results += [\n",
    "    \"mean_test_score\", \"std_test_score\", \"rank_test_score\"]\n",
    "\n",
    "cv_results = pd.DataFrame(model_random_search_dtpp.cv_results_)\n",
    "cv_results = cv_results[column_results].sort_values(\n",
    "    \"mean_test_score\", ascending=False)\n",
    "\n",
    "def shorten_param(param_name):\n",
    "    if \"__\" in param_name:\n",
    "        return param_name.rsplit(\"__\", 1)[1]\n",
    "    return param_name\n",
    "\n",
    "cv_results = cv_results.rename(shorten_param, axis=1)\n",
    "cv_results.head(20)"
   ]
  },
  {
   "cell_type": "markdown",
   "id": "0be2b1ab-9f12-458f-969a-8e21c8d7d03c",
   "metadata": {},
   "source": [
    "def shorten_param(param_name):\n",
    "    if \"__\" in param_name:\n",
    "        return param_name.rsplit(\"__\", 1)[1]\n",
    "    return param_name\n",
    "\n",
    "cv_results = cv_results.rename(shorten_param, axis=1)\n",
    "cv_results"
   ]
  },
  {
   "cell_type": "markdown",
   "id": "f9cf38d1-c5f2-4876-a15f-214f1d9890ca",
   "metadata": {},
   "source": [
    "#pd.to_numeric(cv_results[\"max_depth\", \"ccp_alpha\", \"max_leaf_nodes\"]) \n",
    "cv_results[\"max_depth\"] = pd.to_numeric(cv_results[\"max_depth\"])\n",
    "cv_results[\"ccp_alpha\"] = pd.to_numeric(cv_results[\"ccp_alpha\"])\n",
    "cv_results[\"max_leaf_nodes\"] = pd.to_numeric(cv_results[\"max_leaf_nodes\"])\n",
    "cv_results.info()"
   ]
  },
  {
   "cell_type": "markdown",
   "id": "348bd747-cdfb-43c9-9f0f-15450a7d353f",
   "metadata": {},
   "source": [
    "cv_results_plot= cv_results.drop([\"std_test_score\"], axis=1)\n",
    "import plotly.express as px\n",
    "\n",
    "fig = px.parallel_coordinates(\n",
    "    cv_results_plot,\n",
    "    color=\"mean_test_score\",\n",
    "    color_continuous_scale=px.colors.sequential.Viridis,\n",
    ")\n",
    "fig.show()"
   ]
  },
  {
   "cell_type": "markdown",
   "id": "33ac3706-a9d1-4e35-aacc-5a87f16da212",
   "metadata": {
    "tags": []
   },
   "source": [
    "%%time\n",
    "from sklearn.model_selection import RandomizedSearchCV\n",
    "\n",
    "param_distributions = {\n",
    "    'classifier__ccp_alpha': loguniform(0.005, 0.02),\n",
    "    'classifier__max_depth': loguniform_int(7, 11),\n",
    "    'classifier__max_leaf_nodes': loguniform_int(40, 90),\n",
    "}\n",
    "\n",
    "model_random_search_dtpp = RandomizedSearchCV(\n",
    "    model_dtpp, param_distributions=param_distributions, n_iter=500,\n",
    "    cv=5, verbose=1, random_state =0\n",
    ")\n",
    "model_random_search_dtpp.fit(X_train, y_train)"
   ]
  },
  {
   "cell_type": "markdown",
   "id": "f8c7333d-4c74-48cc-ba1e-5f077d66beb7",
   "metadata": {},
   "source": [
    "accuracy = model_random_search_dtpp.score(X_test, y_test)\n",
    "\n",
    "print(f\"The test accuracy score of the best model is \"\n",
    "      f\"{accuracy:.2f}\")"
   ]
  },
  {
   "cell_type": "markdown",
   "id": "21490b14-3475-4f7a-bc94-e84c9f09d9d7",
   "metadata": {},
   "source": [
    "from pprint import pprint\n",
    "\n",
    "print(\"The best parameters are:\")\n",
    "pprint(model_random_search_dtpp.best_params_)"
   ]
  },
  {
   "cell_type": "markdown",
   "id": "ad5e908f-13f7-4fc2-af63-d6fa500b0b2b",
   "metadata": {
    "lines_to_next_cell": 2
   },
   "source": [
    "\n",
    "We can inspect the results using the attributes `cv_results` as we did\n",
    "previously."
   ]
  },
  {
   "cell_type": "markdown",
   "id": "841bd24f-85b7-4201-b45d-a295bf46dda2",
   "metadata": {
    "tags": []
   },
   "source": [
    "# get the parameter names\n",
    "column_results = [\n",
    "    f\"param_{name}\" for name in param_distributions.keys()]\n",
    "column_results += [\n",
    "    \"mean_test_score\", \"std_test_score\", \"rank_test_score\"]\n",
    "\n",
    "cv_results = pd.DataFrame(model_random_search_dtpp.cv_results_)\n",
    "cv_results = cv_results[column_results].sort_values(\n",
    "    \"mean_test_score\", ascending=False)\n",
    "\n",
    "def shorten_param(param_name):\n",
    "    if \"__\" in param_name:\n",
    "        return param_name.rsplit(\"__\", 1)[1]\n",
    "    return param_name\n",
    "\n",
    "cv_results = cv_results.rename(shorten_param, axis=1)\n",
    "cv_results.head(20)"
   ]
  },
  {
   "cell_type": "markdown",
   "id": "ae33ef36-e375-4d0b-9f1b-a00e584cc739",
   "metadata": {},
   "source": [
    "def shorten_param(param_name):\n",
    "    if \"__\" in param_name:\n",
    "        return param_name.rsplit(\"__\", 1)[1]\n",
    "    return param_name\n",
    "\n",
    "cv_results = cv_results.rename(shorten_param, axis=1)\n",
    "cv_results"
   ]
  },
  {
   "cell_type": "markdown",
   "id": "54a3ae1c-4040-4ff6-b246-812580df7062",
   "metadata": {},
   "source": [
    "import seaborn as sns\n",
    "\n",
    "df_tuning = pd.DataFrame(\n",
    "    {\n",
    "        \"max_leaf_nodes\": cv_results[\"max_leaf_nodes\"],\n",
    "        \"ccp_alpha\": cv_results[\"ccp_alpha\"],\n",
    "        \"score_bin\": pd.cut(\n",
    "            cv_results[\"mean_test_score\"], bins=np.linspace(0.8, 1.0, 10)\n",
    "        ),\n",
    "    }\n",
    ")\n",
    "sns.set_palette(\"YlGnBu_r\")\n",
    "ax = sns.scatterplot(\n",
    "    data=df_tuning,\n",
    "    x=\"ccp_alpha\",\n",
    "    y=\"max_leaf_nodes\",\n",
    "    hue=\"score_bin\",\n",
    "    s=28,\n",
    "    color=\"k\",\n",
    "    edgecolor=None,\n",
    ")\n",
    "#ax.set_xscale(\"log\")\n",
    "#ax.set_yscale(\"log\")\n",
    "\n",
    "_ = ax.legend(title=\"mean_test_score\", loc=\"center left\", bbox_to_anchor=(1, 0.5))"
   ]
  },
  {
   "cell_type": "markdown",
   "id": "5c5c9db9-8155-4cfc-bc61-f2cfb6cf3d70",
   "metadata": {},
   "source": [
    "import seaborn as sns\n",
    "\n",
    "df_tuning = pd.DataFrame(\n",
    "    {\n",
    "        \"max_depth\": cv_results[\"max_depth\"],\n",
    "        \"ccp_alpha\": cv_results[\"ccp_alpha\"],\n",
    "        \"score_bin\": pd.cut(\n",
    "            cv_results[\"mean_test_score\"], bins=np.linspace(0.75, 1.0, 9)\n",
    "        ),\n",
    "    }\n",
    ")\n",
    "sns.set_palette(\"YlGnBu_r\")\n",
    "ax = sns.scatterplot(\n",
    "    data=df_tuning,\n",
    "    x=\"ccp_alpha\",\n",
    "    y=\"max_depth\",\n",
    "    hue=\"score_bin\",\n",
    "    s=15,\n",
    "    color=\"k\",\n",
    "    edgecolor=None,\n",
    ")\n",
    "#ax.set_xscale(\"log\")\n",
    "#ax.set_yscale(\"log\")\n",
    "\n",
    "_ = ax.legend(title=\"mean_test_score\", loc=\"center left\", bbox_to_anchor=(1, 0.5))"
   ]
  },
  {
   "cell_type": "markdown",
   "id": "0c72abfa-d604-4194-a2a8-91fff3430874",
   "metadata": {},
   "source": [
    "### Final Decision Tree Model with Pruning"
   ]
  },
  {
   "cell_type": "code",
   "execution_count": 56,
   "id": "3adde058-bc9a-4620-a3c9-00cd7ec19c4f",
   "metadata": {},
   "outputs": [],
   "source": [
    "model_dtp = make_pipeline(preprocessor, DecisionTreeClassifier(criterion='entropy', random_state=0, max_depth=8, max_leaf_nodes= 50, ccp_alpha=0.00625))"
   ]
  },
  {
   "cell_type": "code",
   "execution_count": 57,
   "id": "47200636-f3af-4cdb-b751-88c22a135019",
   "metadata": {},
   "outputs": [
    {
     "data": {
      "text/html": [
       "<style>#sk-2410ded7-1b74-4817-8ebf-74ce64fa44e3 {color: black;background-color: white;}#sk-2410ded7-1b74-4817-8ebf-74ce64fa44e3 pre{padding: 0;}#sk-2410ded7-1b74-4817-8ebf-74ce64fa44e3 div.sk-toggleable {background-color: white;}#sk-2410ded7-1b74-4817-8ebf-74ce64fa44e3 label.sk-toggleable__label {cursor: pointer;display: block;width: 100%;margin-bottom: 0;padding: 0.2em 0.3em;box-sizing: border-box;text-align: center;}#sk-2410ded7-1b74-4817-8ebf-74ce64fa44e3 div.sk-toggleable__content {max-height: 0;max-width: 0;overflow: hidden;text-align: left;background-color: #f0f8ff;}#sk-2410ded7-1b74-4817-8ebf-74ce64fa44e3 div.sk-toggleable__content pre {margin: 0.2em;color: black;border-radius: 0.25em;background-color: #f0f8ff;}#sk-2410ded7-1b74-4817-8ebf-74ce64fa44e3 input.sk-toggleable__control:checked~div.sk-toggleable__content {max-height: 200px;max-width: 100%;overflow: auto;}#sk-2410ded7-1b74-4817-8ebf-74ce64fa44e3 div.sk-estimator input.sk-toggleable__control:checked~label.sk-toggleable__label {background-color: #d4ebff;}#sk-2410ded7-1b74-4817-8ebf-74ce64fa44e3 div.sk-label input.sk-toggleable__control:checked~label.sk-toggleable__label {background-color: #d4ebff;}#sk-2410ded7-1b74-4817-8ebf-74ce64fa44e3 input.sk-hidden--visually {border: 0;clip: rect(1px 1px 1px 1px);clip: rect(1px, 1px, 1px, 1px);height: 1px;margin: -1px;overflow: hidden;padding: 0;position: absolute;width: 1px;}#sk-2410ded7-1b74-4817-8ebf-74ce64fa44e3 div.sk-estimator {font-family: monospace;background-color: #f0f8ff;margin: 0.25em 0.25em;border: 1px dotted black;border-radius: 0.25em;box-sizing: border-box;}#sk-2410ded7-1b74-4817-8ebf-74ce64fa44e3 div.sk-estimator:hover {background-color: #d4ebff;}#sk-2410ded7-1b74-4817-8ebf-74ce64fa44e3 div.sk-parallel-item::after {content: \"\";width: 100%;border-bottom: 1px solid gray;flex-grow: 1;}#sk-2410ded7-1b74-4817-8ebf-74ce64fa44e3 div.sk-label:hover label.sk-toggleable__label {background-color: #d4ebff;}#sk-2410ded7-1b74-4817-8ebf-74ce64fa44e3 div.sk-serial::before {content: \"\";position: absolute;border-left: 1px solid gray;box-sizing: border-box;top: 2em;bottom: 0;left: 50%;}#sk-2410ded7-1b74-4817-8ebf-74ce64fa44e3 div.sk-serial {display: flex;flex-direction: column;align-items: center;background-color: white;}#sk-2410ded7-1b74-4817-8ebf-74ce64fa44e3 div.sk-item {z-index: 1;}#sk-2410ded7-1b74-4817-8ebf-74ce64fa44e3 div.sk-parallel {display: flex;align-items: stretch;justify-content: center;background-color: white;}#sk-2410ded7-1b74-4817-8ebf-74ce64fa44e3 div.sk-parallel-item {display: flex;flex-direction: column;position: relative;background-color: white;}#sk-2410ded7-1b74-4817-8ebf-74ce64fa44e3 div.sk-parallel-item:first-child::after {align-self: flex-end;width: 50%;}#sk-2410ded7-1b74-4817-8ebf-74ce64fa44e3 div.sk-parallel-item:last-child::after {align-self: flex-start;width: 50%;}#sk-2410ded7-1b74-4817-8ebf-74ce64fa44e3 div.sk-parallel-item:only-child::after {width: 0;}#sk-2410ded7-1b74-4817-8ebf-74ce64fa44e3 div.sk-dashed-wrapped {border: 1px dashed gray;margin: 0.2em;box-sizing: border-box;padding-bottom: 0.1em;background-color: white;position: relative;}#sk-2410ded7-1b74-4817-8ebf-74ce64fa44e3 div.sk-label label {font-family: monospace;font-weight: bold;background-color: white;display: inline-block;line-height: 1.2em;}#sk-2410ded7-1b74-4817-8ebf-74ce64fa44e3 div.sk-label-container {position: relative;z-index: 2;text-align: center;}#sk-2410ded7-1b74-4817-8ebf-74ce64fa44e3 div.sk-container {display: inline-block;position: relative;}</style><div id=\"sk-2410ded7-1b74-4817-8ebf-74ce64fa44e3\" class\"sk-top-container\"><div class=\"sk-container\"><div class=\"sk-item sk-dashed-wrapped\"><div class=\"sk-label-container\"><div class=\"sk-label sk-toggleable\"><input class=\"sk-toggleable__control sk-hidden--visually\" id=\"8d6091e9-59f2-4c2f-b680-7297ef16c23d\" type=\"checkbox\" ><label class=\"sk-toggleable__label\" for=\"8d6091e9-59f2-4c2f-b680-7297ef16c23d\">Pipeline</label><div class=\"sk-toggleable__content\"><pre>Pipeline(steps=[('columntransformer',\n",
       "                 ColumnTransformer(remainder='passthrough', sparse_threshold=0,\n",
       "                                   transformers=[('cat_preprocessor',\n",
       "                                                  OrdinalEncoder(handle_unknown='use_encoded_value',\n",
       "                                                                 unknown_value=-1),\n",
       "                                                  ['quartier', 'site',\n",
       "                                                   'cote_voirie', 'contrainte',\n",
       "                                                   'genre_arbre',\n",
       "                                                   'espece_arbre', 'situation',\n",
       "                                                   'type_sol', 'plaie_houppier',\n",
       "                                                   'bois_mort_houppier',\n",
       "                                                   'classe_age',\n",
       "                                                   '...\n",
       "                                                   'fissure_houppier',\n",
       "                                                   'classe_circonference',\n",
       "                                                   'port_arbre',\n",
       "                                                   'vigueur_pousse',\n",
       "                                                   'champignon_collet',\n",
       "                                                   'plaie_collet',\n",
       "                                                   'champignon_tronc',\n",
       "                                                   'fissure_tronc',\n",
       "                                                   'rejet_tronc',\n",
       "                                                   'tuteurage_arbre',\n",
       "                                                   'canisse_arbre',\n",
       "                                                   'plaie_tronc',\n",
       "                                                   'champignon_houppier'])])),\n",
       "                ('decisiontreeclassifier',\n",
       "                 DecisionTreeClassifier(ccp_alpha=0.00625, criterion='entropy',\n",
       "                                        max_depth=8, max_leaf_nodes=50,\n",
       "                                        random_state=0))])</pre></div></div></div><div class=\"sk-serial\"><div class=\"sk-item sk-dashed-wrapped\"><div class=\"sk-label-container\"><div class=\"sk-label sk-toggleable\"><input class=\"sk-toggleable__control sk-hidden--visually\" id=\"ec4b9a51-47f2-4bb4-893e-d7b9c8115747\" type=\"checkbox\" ><label class=\"sk-toggleable__label\" for=\"ec4b9a51-47f2-4bb4-893e-d7b9c8115747\">columntransformer: ColumnTransformer</label><div class=\"sk-toggleable__content\"><pre>ColumnTransformer(remainder='passthrough', sparse_threshold=0,\n",
       "                  transformers=[('cat_preprocessor',\n",
       "                                 OrdinalEncoder(handle_unknown='use_encoded_value',\n",
       "                                                unknown_value=-1),\n",
       "                                 ['quartier', 'site', 'cote_voirie',\n",
       "                                  'contrainte', 'genre_arbre', 'espece_arbre',\n",
       "                                  'situation', 'type_sol', 'plaie_houppier',\n",
       "                                  'bois_mort_houppier', 'classe_age',\n",
       "                                  'ecorce_incluse_houppier', 'classe_hauteur',\n",
       "                                  'fissure_houppier', 'classe_circonference',\n",
       "                                  'port_arbre', 'vigueur_pousse',\n",
       "                                  'champignon_collet', 'plaie_collet',\n",
       "                                  'champignon_tronc', 'fissure_tronc',\n",
       "                                  'rejet_tronc', 'tuteurage_arbre',\n",
       "                                  'canisse_arbre', 'plaie_tronc',\n",
       "                                  'champignon_houppier'])])</pre></div></div></div><div class=\"sk-parallel\"><div class=\"sk-parallel-item\"><div class=\"sk-item\"><div class=\"sk-label-container\"><div class=\"sk-label sk-toggleable\"><input class=\"sk-toggleable__control sk-hidden--visually\" id=\"e034f331-2f33-4dba-952b-5ebb6591c66e\" type=\"checkbox\" ><label class=\"sk-toggleable__label\" for=\"e034f331-2f33-4dba-952b-5ebb6591c66e\">cat_preprocessor</label><div class=\"sk-toggleable__content\"><pre>['quartier', 'site', 'cote_voirie', 'contrainte', 'genre_arbre', 'espece_arbre', 'situation', 'type_sol', 'plaie_houppier', 'bois_mort_houppier', 'classe_age', 'ecorce_incluse_houppier', 'classe_hauteur', 'fissure_houppier', 'classe_circonference', 'port_arbre', 'vigueur_pousse', 'champignon_collet', 'plaie_collet', 'champignon_tronc', 'fissure_tronc', 'rejet_tronc', 'tuteurage_arbre', 'canisse_arbre', 'plaie_tronc', 'champignon_houppier']</pre></div></div></div><div class=\"sk-serial\"><div class=\"sk-item\"><div class=\"sk-estimator sk-toggleable\"><input class=\"sk-toggleable__control sk-hidden--visually\" id=\"443b4da2-62f2-4a14-8100-da8d821c7a35\" type=\"checkbox\" ><label class=\"sk-toggleable__label\" for=\"443b4da2-62f2-4a14-8100-da8d821c7a35\">OrdinalEncoder</label><div class=\"sk-toggleable__content\"><pre>OrdinalEncoder(handle_unknown='use_encoded_value', unknown_value=-1)</pre></div></div></div></div></div></div><div class=\"sk-parallel-item\"><div class=\"sk-item\"><div class=\"sk-label-container\"><div class=\"sk-label sk-toggleable\"><input class=\"sk-toggleable__control sk-hidden--visually\" id=\"5b8d0af7-733c-4e1d-b569-4b02b0c65985\" type=\"checkbox\" ><label class=\"sk-toggleable__label\" for=\"5b8d0af7-733c-4e1d-b569-4b02b0c65985\">remainder</label><div class=\"sk-toggleable__content\"><pre>['diametre', 'hauteur', 'date_plantation', 'surf_permeable', 'esperance_maintien', 'matricule_arbre']</pre></div></div></div><div class=\"sk-serial\"><div class=\"sk-item\"><div class=\"sk-estimator sk-toggleable\"><input class=\"sk-toggleable__control sk-hidden--visually\" id=\"1ca7c705-8fef-42b3-b66d-bbed572795d6\" type=\"checkbox\" ><label class=\"sk-toggleable__label\" for=\"1ca7c705-8fef-42b3-b66d-bbed572795d6\">passthrough</label><div class=\"sk-toggleable__content\"><pre>passthrough</pre></div></div></div></div></div></div></div></div><div class=\"sk-item\"><div class=\"sk-estimator sk-toggleable\"><input class=\"sk-toggleable__control sk-hidden--visually\" id=\"50585fd7-a5cc-4329-bbf4-d90a17d0f3a6\" type=\"checkbox\" ><label class=\"sk-toggleable__label\" for=\"50585fd7-a5cc-4329-bbf4-d90a17d0f3a6\">DecisionTreeClassifier</label><div class=\"sk-toggleable__content\"><pre>DecisionTreeClassifier(ccp_alpha=0.00625, criterion='entropy', max_depth=8,\n",
       "                       max_leaf_nodes=50, random_state=0)</pre></div></div></div></div></div></div></div>"
      ],
      "text/plain": [
       "Pipeline(steps=[('columntransformer',\n",
       "                 ColumnTransformer(remainder='passthrough', sparse_threshold=0,\n",
       "                                   transformers=[('cat_preprocessor',\n",
       "                                                  OrdinalEncoder(handle_unknown='use_encoded_value',\n",
       "                                                                 unknown_value=-1),\n",
       "                                                  ['quartier', 'site',\n",
       "                                                   'cote_voirie', 'contrainte',\n",
       "                                                   'genre_arbre',\n",
       "                                                   'espece_arbre', 'situation',\n",
       "                                                   'type_sol', 'plaie_houppier',\n",
       "                                                   'bois_mort_houppier',\n",
       "                                                   'classe_age',\n",
       "                                                   '...\n",
       "                                                   'fissure_houppier',\n",
       "                                                   'classe_circonference',\n",
       "                                                   'port_arbre',\n",
       "                                                   'vigueur_pousse',\n",
       "                                                   'champignon_collet',\n",
       "                                                   'plaie_collet',\n",
       "                                                   'champignon_tronc',\n",
       "                                                   'fissure_tronc',\n",
       "                                                   'rejet_tronc',\n",
       "                                                   'tuteurage_arbre',\n",
       "                                                   'canisse_arbre',\n",
       "                                                   'plaie_tronc',\n",
       "                                                   'champignon_houppier'])])),\n",
       "                ('decisiontreeclassifier',\n",
       "                 DecisionTreeClassifier(ccp_alpha=0.00625, criterion='entropy',\n",
       "                                        max_depth=8, max_leaf_nodes=50,\n",
       "                                        random_state=0))])"
      ]
     },
     "execution_count": 57,
     "metadata": {},
     "output_type": "execute_result"
    }
   ],
   "source": [
    "from sklearn import set_config\n",
    "set_config(display='diagram')\n",
    "model_dtp"
   ]
  },
  {
   "cell_type": "code",
   "execution_count": 58,
   "id": "ee7c0c51-0d09-4471-b079-eab5eb8a21e6",
   "metadata": {},
   "outputs": [
    {
     "name": "stdout",
     "output_type": "stream",
     "text": [
      "Wall time: 14 ms\n"
     ]
    }
   ],
   "source": [
    "%%time\n",
    "decision_tree_model_pruning = model_dtp.fit(X_train, y_train)"
   ]
  },
  {
   "cell_type": "code",
   "execution_count": 59,
   "id": "d255e7d6-26b4-47cc-b04a-84a658d2f0a3",
   "metadata": {},
   "outputs": [
    {
     "data": {
      "text/plain": [
       "0.8591549295774648"
      ]
     },
     "execution_count": 59,
     "metadata": {},
     "output_type": "execute_result"
    }
   ],
   "source": [
    "decision_tree_model_pruning.score(X_test, y_test)"
   ]
  },
  {
   "cell_type": "code",
   "execution_count": 60,
   "id": "817c13b2-050d-4509-ad96-39db5fc4d614",
   "metadata": {},
   "outputs": [
    {
     "name": "stdout",
     "output_type": "stream",
     "text": [
      "Test Scores for the Final Decision Tree Model (Pruning) with 5-Fold Cross-Validation:\n",
      "[0.8671875  0.796875   0.8828125  0.8503937  0.84251969]\n",
      "The Mean Cross-Validation Accuracy is: 0.848 with Standard Deviation of +/- 0.029\n",
      "Total time taken: 0.078125\n"
     ]
    }
   ],
   "source": [
    "start = time.process_time()\n",
    "cv_results_dtmp = cross_validate(decision_tree_model_pruning, X_train, y_train, cv=5)\n",
    "print(\"Test Scores for the Final Decision Tree Model (Pruning) with 5-Fold Cross-Validation:\")\n",
    "print(cv_results_dtmp[\"test_score\"])\n",
    "scores = cv_results_dtmp[\"test_score\"]\n",
    "print(\"The Mean Cross-Validation Accuracy is: \"f\"{scores.mean():.3f} with Standard Deviation of +/- {scores.std():.3f}\")\n",
    "print(\"Total time taken: {:}\".format(time.process_time() - start))"
   ]
  },
  {
   "cell_type": "code",
   "execution_count": null,
   "id": "20eb4fbd-eb67-45be-abd9-846977755af5",
   "metadata": {},
   "outputs": [],
   "source": []
  },
  {
   "cell_type": "code",
   "execution_count": 61,
   "id": "707b6fe9-cc85-4440-b5d3-5f2ce6bf53ff",
   "metadata": {},
   "outputs": [],
   "source": [
    "from sklearn.ensemble import AdaBoostClassifier\n"
   ]
  },
  {
   "cell_type": "code",
   "execution_count": 62,
   "id": "e82facfc-9527-43cb-ab4d-2ddd69994b6a",
   "metadata": {},
   "outputs": [
    {
     "data": {
      "text/html": [
       "<style>#sk-a41d1ffe-2dc6-4927-b0db-47c806de454d {color: black;background-color: white;}#sk-a41d1ffe-2dc6-4927-b0db-47c806de454d pre{padding: 0;}#sk-a41d1ffe-2dc6-4927-b0db-47c806de454d div.sk-toggleable {background-color: white;}#sk-a41d1ffe-2dc6-4927-b0db-47c806de454d label.sk-toggleable__label {cursor: pointer;display: block;width: 100%;margin-bottom: 0;padding: 0.2em 0.3em;box-sizing: border-box;text-align: center;}#sk-a41d1ffe-2dc6-4927-b0db-47c806de454d div.sk-toggleable__content {max-height: 0;max-width: 0;overflow: hidden;text-align: left;background-color: #f0f8ff;}#sk-a41d1ffe-2dc6-4927-b0db-47c806de454d div.sk-toggleable__content pre {margin: 0.2em;color: black;border-radius: 0.25em;background-color: #f0f8ff;}#sk-a41d1ffe-2dc6-4927-b0db-47c806de454d input.sk-toggleable__control:checked~div.sk-toggleable__content {max-height: 200px;max-width: 100%;overflow: auto;}#sk-a41d1ffe-2dc6-4927-b0db-47c806de454d div.sk-estimator input.sk-toggleable__control:checked~label.sk-toggleable__label {background-color: #d4ebff;}#sk-a41d1ffe-2dc6-4927-b0db-47c806de454d div.sk-label input.sk-toggleable__control:checked~label.sk-toggleable__label {background-color: #d4ebff;}#sk-a41d1ffe-2dc6-4927-b0db-47c806de454d input.sk-hidden--visually {border: 0;clip: rect(1px 1px 1px 1px);clip: rect(1px, 1px, 1px, 1px);height: 1px;margin: -1px;overflow: hidden;padding: 0;position: absolute;width: 1px;}#sk-a41d1ffe-2dc6-4927-b0db-47c806de454d div.sk-estimator {font-family: monospace;background-color: #f0f8ff;margin: 0.25em 0.25em;border: 1px dotted black;border-radius: 0.25em;box-sizing: border-box;}#sk-a41d1ffe-2dc6-4927-b0db-47c806de454d div.sk-estimator:hover {background-color: #d4ebff;}#sk-a41d1ffe-2dc6-4927-b0db-47c806de454d div.sk-parallel-item::after {content: \"\";width: 100%;border-bottom: 1px solid gray;flex-grow: 1;}#sk-a41d1ffe-2dc6-4927-b0db-47c806de454d div.sk-label:hover label.sk-toggleable__label {background-color: #d4ebff;}#sk-a41d1ffe-2dc6-4927-b0db-47c806de454d div.sk-serial::before {content: \"\";position: absolute;border-left: 1px solid gray;box-sizing: border-box;top: 2em;bottom: 0;left: 50%;}#sk-a41d1ffe-2dc6-4927-b0db-47c806de454d div.sk-serial {display: flex;flex-direction: column;align-items: center;background-color: white;}#sk-a41d1ffe-2dc6-4927-b0db-47c806de454d div.sk-item {z-index: 1;}#sk-a41d1ffe-2dc6-4927-b0db-47c806de454d div.sk-parallel {display: flex;align-items: stretch;justify-content: center;background-color: white;}#sk-a41d1ffe-2dc6-4927-b0db-47c806de454d div.sk-parallel-item {display: flex;flex-direction: column;position: relative;background-color: white;}#sk-a41d1ffe-2dc6-4927-b0db-47c806de454d div.sk-parallel-item:first-child::after {align-self: flex-end;width: 50%;}#sk-a41d1ffe-2dc6-4927-b0db-47c806de454d div.sk-parallel-item:last-child::after {align-self: flex-start;width: 50%;}#sk-a41d1ffe-2dc6-4927-b0db-47c806de454d div.sk-parallel-item:only-child::after {width: 0;}#sk-a41d1ffe-2dc6-4927-b0db-47c806de454d div.sk-dashed-wrapped {border: 1px dashed gray;margin: 0.2em;box-sizing: border-box;padding-bottom: 0.1em;background-color: white;position: relative;}#sk-a41d1ffe-2dc6-4927-b0db-47c806de454d div.sk-label label {font-family: monospace;font-weight: bold;background-color: white;display: inline-block;line-height: 1.2em;}#sk-a41d1ffe-2dc6-4927-b0db-47c806de454d div.sk-label-container {position: relative;z-index: 2;text-align: center;}#sk-a41d1ffe-2dc6-4927-b0db-47c806de454d div.sk-container {display: inline-block;position: relative;}</style><div id=\"sk-a41d1ffe-2dc6-4927-b0db-47c806de454d\" class\"sk-top-container\"><div class=\"sk-container\"><div class=\"sk-item sk-dashed-wrapped\"><div class=\"sk-label-container\"><div class=\"sk-label sk-toggleable\"><input class=\"sk-toggleable__control sk-hidden--visually\" id=\"9193492b-5499-4a08-b107-63b0c11d709a\" type=\"checkbox\" ><label class=\"sk-toggleable__label\" for=\"9193492b-5499-4a08-b107-63b0c11d709a\">Pipeline</label><div class=\"sk-toggleable__content\"><pre>Pipeline(steps=[('preprocessor',\n",
       "                 ColumnTransformer(remainder='passthrough', sparse_threshold=0,\n",
       "                                   transformers=[('cat_preprocessor',\n",
       "                                                  OrdinalEncoder(handle_unknown='use_encoded_value',\n",
       "                                                                 unknown_value=-1),\n",
       "                                                  ['quartier', 'site',\n",
       "                                                   'cote_voirie', 'contrainte',\n",
       "                                                   'genre_arbre',\n",
       "                                                   'espece_arbre', 'situation',\n",
       "                                                   'type_sol', 'plaie_houppier',\n",
       "                                                   'bois_mort_houppier',\n",
       "                                                   'classe_age',\n",
       "                                                   'ecorc...\n",
       "                                                   'vigueur_pousse',\n",
       "                                                   'champignon_collet',\n",
       "                                                   'plaie_collet',\n",
       "                                                   'champignon_tronc',\n",
       "                                                   'fissure_tronc',\n",
       "                                                   'rejet_tronc',\n",
       "                                                   'tuteurage_arbre',\n",
       "                                                   'canisse_arbre',\n",
       "                                                   'plaie_tronc',\n",
       "                                                   'champignon_houppier'])])),\n",
       "                ('classifier',\n",
       "                 AdaBoostClassifier(algorithm='SAMME',\n",
       "                                    base_estimator=DecisionTreeClassifier(max_depth=4,\n",
       "                                                                          max_leaf_nodes=11,\n",
       "                                                                          random_state=0),\n",
       "                                    learning_rate=0.4, n_estimators=350,\n",
       "                                    random_state=0))])</pre></div></div></div><div class=\"sk-serial\"><div class=\"sk-item sk-dashed-wrapped\"><div class=\"sk-label-container\"><div class=\"sk-label sk-toggleable\"><input class=\"sk-toggleable__control sk-hidden--visually\" id=\"552e946f-8116-4fad-a33d-cb736e21511a\" type=\"checkbox\" ><label class=\"sk-toggleable__label\" for=\"552e946f-8116-4fad-a33d-cb736e21511a\">preprocessor: ColumnTransformer</label><div class=\"sk-toggleable__content\"><pre>ColumnTransformer(remainder='passthrough', sparse_threshold=0,\n",
       "                  transformers=[('cat_preprocessor',\n",
       "                                 OrdinalEncoder(handle_unknown='use_encoded_value',\n",
       "                                                unknown_value=-1),\n",
       "                                 ['quartier', 'site', 'cote_voirie',\n",
       "                                  'contrainte', 'genre_arbre', 'espece_arbre',\n",
       "                                  'situation', 'type_sol', 'plaie_houppier',\n",
       "                                  'bois_mort_houppier', 'classe_age',\n",
       "                                  'ecorce_incluse_houppier', 'classe_hauteur',\n",
       "                                  'fissure_houppier', 'classe_circonference',\n",
       "                                  'port_arbre', 'vigueur_pousse',\n",
       "                                  'champignon_collet', 'plaie_collet',\n",
       "                                  'champignon_tronc', 'fissure_tronc',\n",
       "                                  'rejet_tronc', 'tuteurage_arbre',\n",
       "                                  'canisse_arbre', 'plaie_tronc',\n",
       "                                  'champignon_houppier'])])</pre></div></div></div><div class=\"sk-parallel\"><div class=\"sk-parallel-item\"><div class=\"sk-item\"><div class=\"sk-label-container\"><div class=\"sk-label sk-toggleable\"><input class=\"sk-toggleable__control sk-hidden--visually\" id=\"286b4531-31f0-4820-bb7c-8602e1bc8df6\" type=\"checkbox\" ><label class=\"sk-toggleable__label\" for=\"286b4531-31f0-4820-bb7c-8602e1bc8df6\">cat_preprocessor</label><div class=\"sk-toggleable__content\"><pre>['quartier', 'site', 'cote_voirie', 'contrainte', 'genre_arbre', 'espece_arbre', 'situation', 'type_sol', 'plaie_houppier', 'bois_mort_houppier', 'classe_age', 'ecorce_incluse_houppier', 'classe_hauteur', 'fissure_houppier', 'classe_circonference', 'port_arbre', 'vigueur_pousse', 'champignon_collet', 'plaie_collet', 'champignon_tronc', 'fissure_tronc', 'rejet_tronc', 'tuteurage_arbre', 'canisse_arbre', 'plaie_tronc', 'champignon_houppier']</pre></div></div></div><div class=\"sk-serial\"><div class=\"sk-item\"><div class=\"sk-estimator sk-toggleable\"><input class=\"sk-toggleable__control sk-hidden--visually\" id=\"25f6e228-4a90-4261-b0e8-833271c68ffc\" type=\"checkbox\" ><label class=\"sk-toggleable__label\" for=\"25f6e228-4a90-4261-b0e8-833271c68ffc\">OrdinalEncoder</label><div class=\"sk-toggleable__content\"><pre>OrdinalEncoder(handle_unknown='use_encoded_value', unknown_value=-1)</pre></div></div></div></div></div></div><div class=\"sk-parallel-item\"><div class=\"sk-item\"><div class=\"sk-label-container\"><div class=\"sk-label sk-toggleable\"><input class=\"sk-toggleable__control sk-hidden--visually\" id=\"ceac1d11-6146-4103-b1b0-c9462bbf5afc\" type=\"checkbox\" ><label class=\"sk-toggleable__label\" for=\"ceac1d11-6146-4103-b1b0-c9462bbf5afc\">remainder</label><div class=\"sk-toggleable__content\"><pre>['diametre', 'hauteur', 'date_plantation', 'surf_permeable', 'esperance_maintien', 'matricule_arbre']</pre></div></div></div><div class=\"sk-serial\"><div class=\"sk-item\"><div class=\"sk-estimator sk-toggleable\"><input class=\"sk-toggleable__control sk-hidden--visually\" id=\"ec2c4492-491d-40ee-9993-d363cd9c84fd\" type=\"checkbox\" ><label class=\"sk-toggleable__label\" for=\"ec2c4492-491d-40ee-9993-d363cd9c84fd\">passthrough</label><div class=\"sk-toggleable__content\"><pre>passthrough</pre></div></div></div></div></div></div></div></div><div class=\"sk-item sk-dashed-wrapped\"><div class=\"sk-label-container\"><div class=\"sk-label sk-toggleable\"><input class=\"sk-toggleable__control sk-hidden--visually\" id=\"905f85b6-feb8-4479-bdbb-5f84d3933e1c\" type=\"checkbox\" ><label class=\"sk-toggleable__label\" for=\"905f85b6-feb8-4479-bdbb-5f84d3933e1c\">classifier: AdaBoostClassifier</label><div class=\"sk-toggleable__content\"><pre>AdaBoostClassifier(algorithm='SAMME',\n",
       "                   base_estimator=DecisionTreeClassifier(max_depth=4,\n",
       "                                                         max_leaf_nodes=11,\n",
       "                                                         random_state=0),\n",
       "                   learning_rate=0.4, n_estimators=350, random_state=0)</pre></div></div></div><div class=\"sk-parallel\"><div class=\"sk-parallel-item\"><div class=\"sk-item\"><div class=\"sk-serial\"><div class=\"sk-item\"><div class=\"sk-estimator sk-toggleable\"><input class=\"sk-toggleable__control sk-hidden--visually\" id=\"cf66242e-0908-4e51-8811-d4d48ae1b681\" type=\"checkbox\" ><label class=\"sk-toggleable__label\" for=\"cf66242e-0908-4e51-8811-d4d48ae1b681\">DecisionTreeClassifier</label><div class=\"sk-toggleable__content\"><pre>DecisionTreeClassifier(max_depth=4, max_leaf_nodes=11, random_state=0)</pre></div></div></div></div></div></div></div></div></div></div></div></div>"
      ],
      "text/plain": [
       "Pipeline(steps=[('preprocessor',\n",
       "                 ColumnTransformer(remainder='passthrough', sparse_threshold=0,\n",
       "                                   transformers=[('cat_preprocessor',\n",
       "                                                  OrdinalEncoder(handle_unknown='use_encoded_value',\n",
       "                                                                 unknown_value=-1),\n",
       "                                                  ['quartier', 'site',\n",
       "                                                   'cote_voirie', 'contrainte',\n",
       "                                                   'genre_arbre',\n",
       "                                                   'espece_arbre', 'situation',\n",
       "                                                   'type_sol', 'plaie_houppier',\n",
       "                                                   'bois_mort_houppier',\n",
       "                                                   'classe_age',\n",
       "                                                   'ecorc...\n",
       "                                                   'vigueur_pousse',\n",
       "                                                   'champignon_collet',\n",
       "                                                   'plaie_collet',\n",
       "                                                   'champignon_tronc',\n",
       "                                                   'fissure_tronc',\n",
       "                                                   'rejet_tronc',\n",
       "                                                   'tuteurage_arbre',\n",
       "                                                   'canisse_arbre',\n",
       "                                                   'plaie_tronc',\n",
       "                                                   'champignon_houppier'])])),\n",
       "                ('classifier',\n",
       "                 AdaBoostClassifier(algorithm='SAMME',\n",
       "                                    base_estimator=DecisionTreeClassifier(max_depth=4,\n",
       "                                                                          max_leaf_nodes=11,\n",
       "                                                                          random_state=0),\n",
       "                                    learning_rate=0.4, n_estimators=350,\n",
       "                                    random_state=0))])"
      ]
     },
     "execution_count": 62,
     "metadata": {},
     "output_type": "execute_result"
    }
   ],
   "source": [
    "base_estimator= DecisionTreeClassifier(random_state=0, max_depth=4, max_leaf_nodes=11) \n",
    "classifier_1 = AdaBoostClassifier(base_estimator= base_estimator,n_estimators=350, learning_rate=0.4, algorithm='SAMME', random_state=0,)\n",
    "model_adabst_1 = Pipeline([(\"preprocessor\", preprocessor), (\"classifier\", classifier_1),])\n",
    "model_adabst_1.fit(X_train, y_train)"
   ]
  },
  {
   "cell_type": "code",
   "execution_count": 63,
   "id": "c82a4441-296c-4499-869e-df3c26d2d714",
   "metadata": {},
   "outputs": [
    {
     "name": "stdout",
     "output_type": "stream",
     "text": [
      "[0.828125   0.8515625  0.8515625  0.87401575 0.85826772]\n",
      "Accuracy: 85.27 %\n",
      "Standard Deviation: 1.48 %\n",
      "Wall time: 3.82 s\n"
     ]
    }
   ],
   "source": [
    "%%time\n",
    "from sklearn.model_selection import cross_val_score\n",
    "\n",
    "accuracies = cross_val_score(estimator = model_adabst_1.fit(X_train, y_train), X=X_train, y=y_train, cv = 5)\n",
    "print(accuracies)\n",
    "print(\"Accuracy: {:.2f} %\".format(accuracies.mean()*100))\n",
    "print(\"Standard Deviation: {:.2f} %\".format(accuracies.std()*100))"
   ]
  },
  {
   "cell_type": "code",
   "execution_count": 64,
   "id": "ef51277a-8cb1-4a9d-8885-182010515971",
   "metadata": {},
   "outputs": [
    {
     "data": {
      "text/html": [
       "<style>#sk-9b7cebd4-3cfb-4e21-a343-b3ae88ad2412 {color: black;background-color: white;}#sk-9b7cebd4-3cfb-4e21-a343-b3ae88ad2412 pre{padding: 0;}#sk-9b7cebd4-3cfb-4e21-a343-b3ae88ad2412 div.sk-toggleable {background-color: white;}#sk-9b7cebd4-3cfb-4e21-a343-b3ae88ad2412 label.sk-toggleable__label {cursor: pointer;display: block;width: 100%;margin-bottom: 0;padding: 0.2em 0.3em;box-sizing: border-box;text-align: center;}#sk-9b7cebd4-3cfb-4e21-a343-b3ae88ad2412 div.sk-toggleable__content {max-height: 0;max-width: 0;overflow: hidden;text-align: left;background-color: #f0f8ff;}#sk-9b7cebd4-3cfb-4e21-a343-b3ae88ad2412 div.sk-toggleable__content pre {margin: 0.2em;color: black;border-radius: 0.25em;background-color: #f0f8ff;}#sk-9b7cebd4-3cfb-4e21-a343-b3ae88ad2412 input.sk-toggleable__control:checked~div.sk-toggleable__content {max-height: 200px;max-width: 100%;overflow: auto;}#sk-9b7cebd4-3cfb-4e21-a343-b3ae88ad2412 div.sk-estimator input.sk-toggleable__control:checked~label.sk-toggleable__label {background-color: #d4ebff;}#sk-9b7cebd4-3cfb-4e21-a343-b3ae88ad2412 div.sk-label input.sk-toggleable__control:checked~label.sk-toggleable__label {background-color: #d4ebff;}#sk-9b7cebd4-3cfb-4e21-a343-b3ae88ad2412 input.sk-hidden--visually {border: 0;clip: rect(1px 1px 1px 1px);clip: rect(1px, 1px, 1px, 1px);height: 1px;margin: -1px;overflow: hidden;padding: 0;position: absolute;width: 1px;}#sk-9b7cebd4-3cfb-4e21-a343-b3ae88ad2412 div.sk-estimator {font-family: monospace;background-color: #f0f8ff;margin: 0.25em 0.25em;border: 1px dotted black;border-radius: 0.25em;box-sizing: border-box;}#sk-9b7cebd4-3cfb-4e21-a343-b3ae88ad2412 div.sk-estimator:hover {background-color: #d4ebff;}#sk-9b7cebd4-3cfb-4e21-a343-b3ae88ad2412 div.sk-parallel-item::after {content: \"\";width: 100%;border-bottom: 1px solid gray;flex-grow: 1;}#sk-9b7cebd4-3cfb-4e21-a343-b3ae88ad2412 div.sk-label:hover label.sk-toggleable__label {background-color: #d4ebff;}#sk-9b7cebd4-3cfb-4e21-a343-b3ae88ad2412 div.sk-serial::before {content: \"\";position: absolute;border-left: 1px solid gray;box-sizing: border-box;top: 2em;bottom: 0;left: 50%;}#sk-9b7cebd4-3cfb-4e21-a343-b3ae88ad2412 div.sk-serial {display: flex;flex-direction: column;align-items: center;background-color: white;}#sk-9b7cebd4-3cfb-4e21-a343-b3ae88ad2412 div.sk-item {z-index: 1;}#sk-9b7cebd4-3cfb-4e21-a343-b3ae88ad2412 div.sk-parallel {display: flex;align-items: stretch;justify-content: center;background-color: white;}#sk-9b7cebd4-3cfb-4e21-a343-b3ae88ad2412 div.sk-parallel-item {display: flex;flex-direction: column;position: relative;background-color: white;}#sk-9b7cebd4-3cfb-4e21-a343-b3ae88ad2412 div.sk-parallel-item:first-child::after {align-self: flex-end;width: 50%;}#sk-9b7cebd4-3cfb-4e21-a343-b3ae88ad2412 div.sk-parallel-item:last-child::after {align-self: flex-start;width: 50%;}#sk-9b7cebd4-3cfb-4e21-a343-b3ae88ad2412 div.sk-parallel-item:only-child::after {width: 0;}#sk-9b7cebd4-3cfb-4e21-a343-b3ae88ad2412 div.sk-dashed-wrapped {border: 1px dashed gray;margin: 0.2em;box-sizing: border-box;padding-bottom: 0.1em;background-color: white;position: relative;}#sk-9b7cebd4-3cfb-4e21-a343-b3ae88ad2412 div.sk-label label {font-family: monospace;font-weight: bold;background-color: white;display: inline-block;line-height: 1.2em;}#sk-9b7cebd4-3cfb-4e21-a343-b3ae88ad2412 div.sk-label-container {position: relative;z-index: 2;text-align: center;}#sk-9b7cebd4-3cfb-4e21-a343-b3ae88ad2412 div.sk-container {display: inline-block;position: relative;}</style><div id=\"sk-9b7cebd4-3cfb-4e21-a343-b3ae88ad2412\" class\"sk-top-container\"><div class=\"sk-container\"><div class=\"sk-item\"><div class=\"sk-estimator sk-toggleable\"><input class=\"sk-toggleable__control sk-hidden--visually\" id=\"cf9522b7-29cf-447f-bacb-988b82227afb\" type=\"checkbox\" checked><label class=\"sk-toggleable__label\" for=\"cf9522b7-29cf-447f-bacb-988b82227afb\">DecisionTreeClassifier</label><div class=\"sk-toggleable__content\"><pre>DecisionTreeClassifier(max_depth=4, max_leaf_nodes=11, random_state=0)</pre></div></div></div></div></div>"
      ],
      "text/plain": [
       "DecisionTreeClassifier(max_depth=4, max_leaf_nodes=11, random_state=0)"
      ]
     },
     "execution_count": 64,
     "metadata": {},
     "output_type": "execute_result"
    }
   ],
   "source": [
    "base_estimator= DecisionTreeClassifier(random_state=0, max_depth=4, max_leaf_nodes=11) \n",
    "base_estimator.fit(X_train, y_train)"
   ]
  },
  {
   "cell_type": "code",
   "execution_count": 65,
   "id": "c574fdad-e332-444f-8861-4c2c8d9bffbb",
   "metadata": {},
   "outputs": [
    {
     "name": "stdout",
     "output_type": "stream",
     "text": [
      "[0.8125     0.796875   0.7578125  0.83464567 0.8503937 ]\n",
      "Accuracy: 81.04 %\n",
      "Standard Deviation: 3.21 %\n",
      "Wall time: 29 ms\n"
     ]
    }
   ],
   "source": [
    "%%time\n",
    "from sklearn.model_selection import cross_val_score\n",
    "\n",
    "accuracies = cross_val_score(estimator = base_estimator.fit(X_train, y_train), X=X_train, y=y_train, cv = 5)\n",
    "print(accuracies)\n",
    "print(\"Accuracy: {:.2f} %\".format(accuracies.mean()*100))\n",
    "print(\"Standard Deviation: {:.2f} %\".format(accuracies.std()*100))"
   ]
  },
  {
   "cell_type": "code",
   "execution_count": null,
   "id": "655993d2-2dcc-438b-b490-3f79bccedf64",
   "metadata": {},
   "outputs": [],
   "source": []
  }
 ],
 "metadata": {
  "kernelspec": {
   "display_name": "Python 3 (ipykernel)",
   "language": "python",
   "name": "python3"
  },
  "language_info": {
   "codemirror_mode": {
    "name": "ipython",
    "version": 3
   },
   "file_extension": ".py",
   "mimetype": "text/x-python",
   "name": "python",
   "nbconvert_exporter": "python",
   "pygments_lexer": "ipython3",
   "version": "3.9.7"
  }
 },
 "nbformat": 4,
 "nbformat_minor": 5
}
