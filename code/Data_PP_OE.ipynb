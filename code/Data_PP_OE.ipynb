{
 "cells": [
  {
   "cell_type": "markdown",
   "id": "ada2b809-adc6-49b1-adc4-9996800b3356",
   "metadata": {},
   "source": [
    "# Classification Problem on Urban Tree Dataset"
   ]
  },
  {
   "cell_type": "markdown",
   "id": "124f50ae-190c-46b4-a5c2-7c54d9419047",
   "metadata": {},
   "source": [
    "## PreProcessing"
   ]
  },
  {
   "cell_type": "markdown",
   "id": "e962ffc0-2f5b-4575-b18f-5356b27dcf82",
   "metadata": {},
   "source": [
    "### Importing the libraries"
   ]
  },
  {
   "cell_type": "code",
   "execution_count": 30,
   "id": "7cae2a6a-9213-4cb3-ac1c-8a70cce0230f",
   "metadata": {},
   "outputs": [],
   "source": [
    "import numpy as np\n",
    "import pandas as pd\n",
    "import matplotlib.pyplot as plt\n",
    "%matplotlib inline\n",
    "import time\n",
    "from sklearn.compose import ColumnTransformer\n",
    "from sklearn.pipeline import Pipeline\n",
    "from sklearn.preprocessing import OrdinalEncoder\n",
    "from sklearn.model_selection import train_test_split, GridSearchCV, RepeatedStratifiedKFold\n",
    "from sklearn.metrics import f1_score, roc_curve, auc,confusion_matrix, RocCurveDisplay"
   ]
  },
  {
   "cell_type": "markdown",
   "id": "a75ef9d8-40e1-4327-afa5-2384cee43188",
   "metadata": {},
   "source": [
    "### Importing the Data set, Cleaning Data and Handling Missing Values"
   ]
  },
  {
   "cell_type": "code",
   "execution_count": 31,
   "id": "af1caba9-bcda-4d58-98f0-0e697407c7be",
   "metadata": {},
   "outputs": [],
   "source": [
    "df = pd.read_csv('sgl-arbres-urbains-wgs84.csv')"
   ]
  },
  {
   "cell_type": "code",
   "execution_count": 32,
   "id": "1c77eb32-4ab7-455d-82ac-716ec060a084",
   "metadata": {},
   "outputs": [],
   "source": [
    "df= df.drop([\"ID_ARBRE\", \"commune\", \"controle\", \"insecte_collet\", \"insecte_tronc\", \"insecte_houppier\",\"circonference (en cm)\", \"observation_collet\", \"observation_tronc\", \"observation_houppier\"], axis=1 )\n",
    "#Handling Missing Values\n",
    "mode_cote_voirie=df.cote_voirie.mode()[0]\n",
    "mode_espece_arbre=df.espece_arbre.mode()[0]\n",
    "mode_situation=df.situation.mode()[0]\n",
    "mode_plaie_collet=df.plaie_collet.mode()[0]\n",
    "mode_champignon_tronc=df.champignon_tronc.mode()[0]\n",
    "mode_fissure_tronc=df.fissure_tronc.mode()[0]\n",
    "mode_rejet_tronc=df.rejet_tronc.mode()[0]\n",
    "mode_plaie_tronc=df.plaie_tronc.mode()[0]\n",
    "mode_champignon_houppier=df.champignon_houppier.mode()[0]\n",
    "mode_fissure_houppier=df.fissure_houppier.mode()[0]\n",
    "mode_ecorce_incluse_houppier=df.ecorce_incluse_houppier.mode()[0]\n",
    "mode_bois_mort_houppier=df.bois_mort_houppier.mode()[0]\n",
    "mode_plaie_houppier=df.plaie_houppier.mode()[0]\n",
    "mode_contrainte=df.contrainte.mode()[0]\n",
    "mode_classification_diagnostic=df.classification_diagnostic.mode()[0]\n",
    "median_esperance_maintien=df.esperance_maintien.median()\n",
    "\n",
    "df=df.fillna({\"cote_voirie\": mode_cote_voirie, \"espece_arbre\": mode_espece_arbre, \"situation\": mode_situation,\n",
    "            \"plaie_collet\": mode_plaie_collet, \"champignon_tronc\": mode_champignon_tronc,\n",
    "            \"fissure_tronc\": mode_fissure_tronc, \"rejet_tronc\": mode_rejet_tronc, \"plaie_tronc\": mode_plaie_tronc, \n",
    "              \"champignon_houppier\": mode_champignon_houppier, \"fissure_houppier\":mode_fissure_houppier, \"ecorce_incluse_houppier\": mode_ecorce_incluse_houppier,\n",
    "            \"bois_mort_houppier\": mode_bois_mort_houppier, \"plaie_houppier\": mode_plaie_houppier, \"contrainte\": mode_contrainte,\n",
    "            \"classification_diagnostic\": mode_classification_diagnostic, \"esperance_maintien\": median_esperance_maintien})"
   ]
  },
  {
   "cell_type": "code",
   "execution_count": 33,
   "id": "075e801c-0894-477e-b71b-36c356f8930e",
   "metadata": {},
   "outputs": [
    {
     "data": {
      "text/html": [
       "<div>\n",
       "<style scoped>\n",
       "    .dataframe tbody tr th:only-of-type {\n",
       "        vertical-align: middle;\n",
       "    }\n",
       "\n",
       "    .dataframe tbody tr th {\n",
       "        vertical-align: top;\n",
       "    }\n",
       "\n",
       "    .dataframe thead th {\n",
       "        text-align: right;\n",
       "    }\n",
       "</style>\n",
       "<table border=\"1\" class=\"dataframe\">\n",
       "  <thead>\n",
       "    <tr style=\"text-align: right;\">\n",
       "      <th></th>\n",
       "      <th>quartier</th>\n",
       "      <th>site</th>\n",
       "      <th>cote_voirie</th>\n",
       "      <th>matricule_arbre</th>\n",
       "      <th>genre_arbre</th>\n",
       "      <th>espece_arbre</th>\n",
       "      <th>situation</th>\n",
       "      <th>type_sol</th>\n",
       "      <th>surf_permeable</th>\n",
       "      <th>date_plantation</th>\n",
       "      <th>...</th>\n",
       "      <th>canisse_arbre</th>\n",
       "      <th>plaie_tronc</th>\n",
       "      <th>champignon_houppier</th>\n",
       "      <th>fissure_houppier</th>\n",
       "      <th>ecorce_incluse_houppier</th>\n",
       "      <th>bois_mort_houppier</th>\n",
       "      <th>plaie_houppier</th>\n",
       "      <th>esperance_maintien</th>\n",
       "      <th>contrainte</th>\n",
       "      <th>classification_diagnostic</th>\n",
       "    </tr>\n",
       "  </thead>\n",
       "  <tbody>\n",
       "    <tr>\n",
       "      <th>0</th>\n",
       "      <td>Quartier 2 - Alsace - Pereire</td>\n",
       "      <td>Carrefour RN13</td>\n",
       "      <td>Impair</td>\n",
       "      <td>7</td>\n",
       "      <td>Betula</td>\n",
       "      <td>Alba</td>\n",
       "      <td>Groupe</td>\n",
       "      <td>P</td>\n",
       "      <td>5.0</td>\n",
       "      <td>2000</td>\n",
       "      <td>...</td>\n",
       "      <td>Non</td>\n",
       "      <td>TPLNC</td>\n",
       "      <td>Non</td>\n",
       "      <td>HPF</td>\n",
       "      <td>Non</td>\n",
       "      <td>HBMI</td>\n",
       "      <td>HPLC</td>\n",
       "      <td>1.0</td>\n",
       "      <td>Non</td>\n",
       "      <td>C2</td>\n",
       "    </tr>\n",
       "    <tr>\n",
       "      <th>1</th>\n",
       "      <td>Quartier 2 - Alsace - Pereire</td>\n",
       "      <td>Carrefour RN13</td>\n",
       "      <td>Impair</td>\n",
       "      <td>8</td>\n",
       "      <td>Betula</td>\n",
       "      <td>Alba</td>\n",
       "      <td>Groupe</td>\n",
       "      <td>P</td>\n",
       "      <td>5.0</td>\n",
       "      <td>2000</td>\n",
       "      <td>...</td>\n",
       "      <td>Non</td>\n",
       "      <td>TPLC</td>\n",
       "      <td>Non</td>\n",
       "      <td>HPF</td>\n",
       "      <td>Non</td>\n",
       "      <td>HBMI</td>\n",
       "      <td>HPLC</td>\n",
       "      <td>1.0</td>\n",
       "      <td>Non</td>\n",
       "      <td>C2</td>\n",
       "    </tr>\n",
       "    <tr>\n",
       "      <th>2</th>\n",
       "      <td>Quartier 2 - Alsace - Pereire</td>\n",
       "      <td>Carrefour RN13</td>\n",
       "      <td>Impair</td>\n",
       "      <td>9</td>\n",
       "      <td>Betula</td>\n",
       "      <td>Alba</td>\n",
       "      <td>Groupe</td>\n",
       "      <td>P</td>\n",
       "      <td>5.0</td>\n",
       "      <td>2000</td>\n",
       "      <td>...</td>\n",
       "      <td>Non</td>\n",
       "      <td>TPLCF</td>\n",
       "      <td>Non</td>\n",
       "      <td>HPF</td>\n",
       "      <td>Non</td>\n",
       "      <td>HBMI</td>\n",
       "      <td>HPLC</td>\n",
       "      <td>1.0</td>\n",
       "      <td>Non</td>\n",
       "      <td>C2</td>\n",
       "    </tr>\n",
       "    <tr>\n",
       "      <th>3</th>\n",
       "      <td>Quartier 2 - Alsace - Pereire</td>\n",
       "      <td>Carrefour RN13</td>\n",
       "      <td>Impair</td>\n",
       "      <td>1</td>\n",
       "      <td>Carpinus</td>\n",
       "      <td>Betulus - L. - Fastigiata</td>\n",
       "      <td>Bosquet</td>\n",
       "      <td>G</td>\n",
       "      <td>100.0</td>\n",
       "      <td>1980</td>\n",
       "      <td>...</td>\n",
       "      <td>Non</td>\n",
       "      <td>TPLS</td>\n",
       "      <td>Non</td>\n",
       "      <td>HPF</td>\n",
       "      <td>Non</td>\n",
       "      <td>HBMI</td>\n",
       "      <td>HPLS</td>\n",
       "      <td>1.0</td>\n",
       "      <td>Non</td>\n",
       "      <td>C2</td>\n",
       "    </tr>\n",
       "    <tr>\n",
       "      <th>4</th>\n",
       "      <td>Quartier 2 - Alsace - Pereire</td>\n",
       "      <td>Carrefour RN13</td>\n",
       "      <td>Impair</td>\n",
       "      <td>2</td>\n",
       "      <td>Carpinus</td>\n",
       "      <td>Betulus - L. - Fastigiata</td>\n",
       "      <td>Bosquet</td>\n",
       "      <td>G</td>\n",
       "      <td>100.0</td>\n",
       "      <td>1980</td>\n",
       "      <td>...</td>\n",
       "      <td>Non</td>\n",
       "      <td>TPLS</td>\n",
       "      <td>Non</td>\n",
       "      <td>HPF</td>\n",
       "      <td>Non</td>\n",
       "      <td>HBMI</td>\n",
       "      <td>HPLS</td>\n",
       "      <td>1.0</td>\n",
       "      <td>Non</td>\n",
       "      <td>C2</td>\n",
       "    </tr>\n",
       "  </tbody>\n",
       "</table>\n",
       "<p>5 rows × 33 columns</p>\n",
       "</div>"
      ],
      "text/plain": [
       "                        quartier            site cote_voirie  matricule_arbre  \\\n",
       "0  Quartier 2 - Alsace - Pereire  Carrefour RN13      Impair                7   \n",
       "1  Quartier 2 - Alsace - Pereire  Carrefour RN13      Impair                8   \n",
       "2  Quartier 2 - Alsace - Pereire  Carrefour RN13      Impair                9   \n",
       "3  Quartier 2 - Alsace - Pereire  Carrefour RN13      Impair                1   \n",
       "4  Quartier 2 - Alsace - Pereire  Carrefour RN13      Impair                2   \n",
       "\n",
       "  genre_arbre                espece_arbre situation type_sol  surf_permeable  \\\n",
       "0      Betula                        Alba    Groupe        P             5.0   \n",
       "1      Betula                        Alba    Groupe        P             5.0   \n",
       "2      Betula                        Alba    Groupe        P             5.0   \n",
       "3    Carpinus   Betulus - L. - Fastigiata   Bosquet        G           100.0   \n",
       "4    Carpinus   Betulus - L. - Fastigiata   Bosquet        G           100.0   \n",
       "\n",
       "   date_plantation  ... canisse_arbre  plaie_tronc champignon_houppier  \\\n",
       "0             2000  ...           Non        TPLNC                 Non   \n",
       "1             2000  ...           Non         TPLC                 Non   \n",
       "2             2000  ...           Non        TPLCF                 Non   \n",
       "3             1980  ...           Non         TPLS                 Non   \n",
       "4             1980  ...           Non         TPLS                 Non   \n",
       "\n",
       "   fissure_houppier ecorce_incluse_houppier bois_mort_houppier plaie_houppier  \\\n",
       "0              HPF                      Non              HBMI            HPLC   \n",
       "1              HPF                      Non              HBMI            HPLC   \n",
       "2              HPF                      Non              HBMI            HPLC   \n",
       "3              HPF                      Non              HBMI            HPLS   \n",
       "4              HPF                      Non              HBMI            HPLS   \n",
       "\n",
       "  esperance_maintien contrainte classification_diagnostic  \n",
       "0                1.0        Non                        C2  \n",
       "1                1.0        Non                        C2  \n",
       "2                1.0        Non                        C2  \n",
       "3                1.0        Non                        C2  \n",
       "4                1.0        Non                        C2  \n",
       "\n",
       "[5 rows x 33 columns]"
      ]
     },
     "execution_count": 33,
     "metadata": {},
     "output_type": "execute_result"
    }
   ],
   "source": [
    "df.head()"
   ]
  },
  {
   "cell_type": "code",
   "execution_count": 34,
   "id": "9e30976a-0a79-4392-85d7-c6a53643a7b8",
   "metadata": {},
   "outputs": [
    {
     "name": "stdout",
     "output_type": "stream",
     "text": [
      "<class 'pandas.core.frame.DataFrame'>\n",
      "RangeIndex: 709 entries, 0 to 708\n",
      "Data columns (total 33 columns):\n",
      " #   Column                     Non-Null Count  Dtype  \n",
      "---  ------                     --------------  -----  \n",
      " 0   quartier                   709 non-null    object \n",
      " 1   site                       709 non-null    object \n",
      " 2   cote_voirie                709 non-null    object \n",
      " 3   contrainte                 709 non-null    object \n",
      " 4   genre_arbre                709 non-null    object \n",
      " 5   espece_arbre               709 non-null    object \n",
      " 6   situation                  709 non-null    object \n",
      " 7   type_sol                   709 non-null    object \n",
      " 8   plaie_houppier             709 non-null    object \n",
      " 9   bois_mort_houppier         709 non-null    object \n",
      " 10  classe_age                 709 non-null    object \n",
      " 11  ecorce_incluse_houppier    709 non-null    object \n",
      " 12  classe_hauteur             709 non-null    object \n",
      " 13  fissure_houppier           709 non-null    object \n",
      " 14  classe_circonference       709 non-null    object \n",
      " 15  port_arbre                 709 non-null    object \n",
      " 16  vigueur_pousse             709 non-null    object \n",
      " 17  champignon_collet          709 non-null    object \n",
      " 18  plaie_collet               709 non-null    object \n",
      " 19  champignon_tronc           709 non-null    object \n",
      " 20  fissure_tronc              709 non-null    object \n",
      " 21  rejet_tronc                709 non-null    object \n",
      " 22  tuteurage_arbre            709 non-null    object \n",
      " 23  canisse_arbre              709 non-null    object \n",
      " 24  plaie_tronc                709 non-null    object \n",
      " 25  champignon_houppier        709 non-null    object \n",
      " 26  diametre                   709 non-null    float64\n",
      " 27  hauteur                    709 non-null    int64  \n",
      " 28  date_plantation            709 non-null    int64  \n",
      " 29  surf_permeable             709 non-null    float64\n",
      " 30  esperance_maintien         709 non-null    float64\n",
      " 31  matricule_arbre            709 non-null    int64  \n",
      " 32  classification_diagnostic  709 non-null    object \n",
      "dtypes: float64(3), int64(3), object(27)\n",
      "memory usage: 182.9+ KB\n"
     ]
    }
   ],
   "source": [
    "#define function to swap columns so that all numerical data will be in the end columns\n",
    "def swap_columns(df, col1, col2):\n",
    "    col_list = list(df.columns)\n",
    "    a, b = col_list.index(col1), col_list.index(col2)\n",
    "    col_list[b], col_list[a] = col_list[a], col_list[b]\n",
    "    df = df[col_list]\n",
    "    return df\n",
    "\n",
    "#swaping columns\n",
    "df = swap_columns(df, 'matricule_arbre', 'contrainte')\n",
    "df = swap_columns(df, 'surf_permeable', 'plaie_houppier')\n",
    "df = swap_columns(df, 'date_plantation', 'bois_mort_houppier')\n",
    "df = swap_columns(df, 'hauteur', 'ecorce_incluse_houppier')\n",
    "df = swap_columns(df, 'diametre', 'fissure_houppier')\n",
    "\n",
    "df.info()"
   ]
  },
  {
   "cell_type": "code",
   "execution_count": 35,
   "id": "166dc29c-de2c-421d-aee7-1aff088fcc80",
   "metadata": {},
   "outputs": [
    {
     "data": {
      "image/png": "[encoded data removed]",
      "text/plain": [
       "<Figure size 1440x1008 with 6 Axes>"
      ]
     },
     "metadata": {
      "needs_background": "light"
     },
     "output_type": "display_data"
    }
   ],
   "source": [
    "_ = df.hist(figsize=(20, 14))"
   ]
  },
  {
   "cell_type": "code",
   "execution_count": 36,
   "id": "5fcc0d37-6efe-427c-b33f-edc8a48954fc",
   "metadata": {},
   "outputs": [
    {
     "data": {
      "text/html": [
       "<div>\n",
       "<style scoped>\n",
       "    .dataframe tbody tr th:only-of-type {\n",
       "        vertical-align: middle;\n",
       "    }\n",
       "\n",
       "    .dataframe tbody tr th {\n",
       "        vertical-align: top;\n",
       "    }\n",
       "\n",
       "    .dataframe thead th {\n",
       "        text-align: right;\n",
       "    }\n",
       "</style>\n",
       "<table border=\"1\" class=\"dataframe\">\n",
       "  <thead>\n",
       "    <tr style=\"text-align: right;\">\n",
       "      <th></th>\n",
       "      <th>diametre</th>\n",
       "      <th>hauteur</th>\n",
       "      <th>date_plantation</th>\n",
       "      <th>surf_permeable</th>\n",
       "      <th>esperance_maintien</th>\n",
       "      <th>matricule_arbre</th>\n",
       "    </tr>\n",
       "  </thead>\n",
       "  <tbody>\n",
       "    <tr>\n",
       "      <th>diametre</th>\n",
       "      <td>1.000000</td>\n",
       "      <td>0.759239</td>\n",
       "      <td>-0.155416</td>\n",
       "      <td>0.408231</td>\n",
       "      <td>0.329892</td>\n",
       "      <td>-0.109965</td>\n",
       "    </tr>\n",
       "    <tr>\n",
       "      <th>hauteur</th>\n",
       "      <td>0.759239</td>\n",
       "      <td>1.000000</td>\n",
       "      <td>-0.090306</td>\n",
       "      <td>0.604309</td>\n",
       "      <td>0.225723</td>\n",
       "      <td>-0.164903</td>\n",
       "    </tr>\n",
       "    <tr>\n",
       "      <th>date_plantation</th>\n",
       "      <td>-0.155416</td>\n",
       "      <td>-0.090306</td>\n",
       "      <td>1.000000</td>\n",
       "      <td>-0.071507</td>\n",
       "      <td>-0.033480</td>\n",
       "      <td>-0.007850</td>\n",
       "    </tr>\n",
       "    <tr>\n",
       "      <th>surf_permeable</th>\n",
       "      <td>0.408231</td>\n",
       "      <td>0.604309</td>\n",
       "      <td>-0.071507</td>\n",
       "      <td>1.000000</td>\n",
       "      <td>0.224826</td>\n",
       "      <td>-0.217633</td>\n",
       "    </tr>\n",
       "    <tr>\n",
       "      <th>esperance_maintien</th>\n",
       "      <td>0.329892</td>\n",
       "      <td>0.225723</td>\n",
       "      <td>-0.033480</td>\n",
       "      <td>0.224826</td>\n",
       "      <td>1.000000</td>\n",
       "      <td>-0.023423</td>\n",
       "    </tr>\n",
       "    <tr>\n",
       "      <th>matricule_arbre</th>\n",
       "      <td>-0.109965</td>\n",
       "      <td>-0.164903</td>\n",
       "      <td>-0.007850</td>\n",
       "      <td>-0.217633</td>\n",
       "      <td>-0.023423</td>\n",
       "      <td>1.000000</td>\n",
       "    </tr>\n",
       "  </tbody>\n",
       "</table>\n",
       "</div>"
      ],
      "text/plain": [
       "                    diametre   hauteur  date_plantation  surf_permeable  \\\n",
       "diametre            1.000000  0.759239        -0.155416        0.408231   \n",
       "hauteur             0.759239  1.000000        -0.090306        0.604309   \n",
       "date_plantation    -0.155416 -0.090306         1.000000       -0.071507   \n",
       "surf_permeable      0.408231  0.604309        -0.071507        1.000000   \n",
       "esperance_maintien  0.329892  0.225723        -0.033480        0.224826   \n",
       "matricule_arbre    -0.109965 -0.164903        -0.007850       -0.217633   \n",
       "\n",
       "                    esperance_maintien  matricule_arbre  \n",
       "diametre                      0.329892        -0.109965  \n",
       "hauteur                       0.225723        -0.164903  \n",
       "date_plantation              -0.033480        -0.007850  \n",
       "surf_permeable                0.224826        -0.217633  \n",
       "esperance_maintien            1.000000        -0.023423  \n",
       "matricule_arbre              -0.023423         1.000000  "
      ]
     },
     "execution_count": 36,
     "metadata": {},
     "output_type": "execute_result"
    }
   ],
   "source": [
    "cor_matrix = df.corr()\n",
    "cor_matrix"
   ]
  },
  {
   "cell_type": "code",
   "execution_count": 37,
   "id": "3f69a91b-25ef-4d99-918c-bd718b7f2cdd",
   "metadata": {},
   "outputs": [
    {
     "data": {
      "text/plain": [
       "quartier                      6\n",
       "site                         30\n",
       "cote_voirie                   2\n",
       "contrainte                    2\n",
       "genre_arbre                  26\n",
       "espece_arbre                 37\n",
       "situation                     4\n",
       "type_sol                      9\n",
       "plaie_houppier                5\n",
       "bois_mort_houppier            3\n",
       "classe_age                    4\n",
       "ecorce_incluse_houppier       2\n",
       "classe_hauteur                5\n",
       "fissure_houppier              3\n",
       "classe_circonference          7\n",
       "port_arbre                    5\n",
       "vigueur_pousse                4\n",
       "champignon_collet             2\n",
       "plaie_collet                  7\n",
       "champignon_tronc              2\n",
       "fissure_tronc                 3\n",
       "rejet_tronc                   2\n",
       "tuteurage_arbre               4\n",
       "canisse_arbre                 2\n",
       "plaie_tronc                   6\n",
       "champignon_houppier           2\n",
       "diametre                     42\n",
       "hauteur                      17\n",
       "date_plantation              13\n",
       "surf_permeable                9\n",
       "esperance_maintien            4\n",
       "matricule_arbre              74\n",
       "classification_diagnostic     5\n",
       "dtype: int64"
      ]
     },
     "execution_count": 37,
     "metadata": {},
     "output_type": "execute_result"
    }
   ],
   "source": [
    "df.nunique()"
   ]
  },
  {
   "cell_type": "code",
   "execution_count": 38,
   "id": "c99fd816-ab0e-481f-9daa-d51edbf09f17",
   "metadata": {},
   "outputs": [
    {
     "data": {
      "text/plain": [
       "C2    408\n",
       "C1    237\n",
       "C3     43\n",
       "C4     11\n",
       "C5     10\n",
       "Name: classification_diagnostic, dtype: int64"
      ]
     },
     "execution_count": 38,
     "metadata": {},
     "output_type": "execute_result"
    }
   ],
   "source": [
    "df['classification_diagnostic'].value_counts()"
   ]
  },
  {
   "cell_type": "code",
   "execution_count": 39,
   "id": "ef18e402-2d75-4151-8a48-028c91d01e85",
   "metadata": {},
   "outputs": [],
   "source": [
    "target_name = \"classification_diagnostic\"\n",
    "target = df[target_name]\n",
    "data = df.drop(columns=[target_name])"
   ]
  },
  {
   "cell_type": "markdown",
   "id": "f43954a9-cf61-46a4-8b94-84f2911b595c",
   "metadata": {},
   "source": [
    "## AdaBoost"
   ]
  },
  {
   "cell_type": "code",
   "execution_count": 40,
   "id": "c94ac75a-049c-40bf-9288-6cc29abeb6d1",
   "metadata": {},
   "outputs": [],
   "source": [
    "X = data.iloc[:].values\n",
    "y = target.iloc[:].values"
   ]
  },
  {
   "cell_type": "code",
   "execution_count": 41,
   "id": "8fbaedbe-c165-491c-8b9a-2558ca34c7ff",
   "metadata": {},
   "outputs": [],
   "source": [
    "ct = ColumnTransformer(transformers=[('encoder', OrdinalEncoder(handle_unknown=\"use_encoded_value\",\n",
    "                                                                unknown_value=-1), [0,1,2,3,4,5,6,7,8,9,10,11,12,13,14,15,16,17,18,19,20,21,22,23,24,25])], remainder='passthrough')\n",
    "X = np.array(ct.fit_transform(X))"
   ]
  },
  {
   "cell_type": "code",
   "execution_count": 42,
   "id": "509db0c2-2633-42c2-a3d4-ec395c459dfc",
   "metadata": {},
   "outputs": [
    {
     "data": {
      "text/plain": [
       "array([[1.0, 5.0, 0.0, ..., 5.0, 1.0, 7],\n",
       "       [1.0, 5.0, 0.0, ..., 5.0, 1.0, 8],\n",
       "       [1.0, 5.0, 0.0, ..., 5.0, 1.0, 9],\n",
       "       ...,\n",
       "       [0.0, 11.0, 0.0, ..., 1.0, 1.0, 6],\n",
       "       [0.0, 11.0, 0.0, ..., 1.0, 2.0, 7],\n",
       "       [0.0, 11.0, 0.0, ..., 1.0, 1.0, 8]], dtype=object)"
      ]
     },
     "execution_count": 42,
     "metadata": {},
     "output_type": "execute_result"
    }
   ],
   "source": [
    "X"
   ]
  },
  {
   "cell_type": "code",
   "execution_count": 43,
   "id": "a5dd6c7d-dec5-4d7f-9b46-3a88767662e9",
   "metadata": {},
   "outputs": [],
   "source": [
    "from sklearn.preprocessing import LabelEncoder\n",
    "le = LabelEncoder()\n",
    "y = le.fit_transform(y)"
   ]
  },
  {
   "cell_type": "code",
   "execution_count": 44,
   "id": "c5f27530-eabc-4d1a-9252-3b020f951e4d",
   "metadata": {},
   "outputs": [
    {
     "data": {
      "text/plain": [
       "array([1, 1, 1, 1, 1, 1, 1, 1, 1, 0, 0, 0, 0, 0, 1, 0, 0, 0, 0, 0, 0, 0,\n",
       "       0, 0, 0, 0, 0, 0, 0, 0, 0, 0, 0, 0, 0, 0, 0, 0, 0, 0, 0, 0, 0, 0,\n",
       "       0, 0, 1, 1, 0, 1, 1, 1, 0, 1, 0, 0, 0, 1, 0, 0, 0, 0, 0, 0, 0, 0,\n",
       "       0, 0, 0, 0, 0, 0, 0, 0, 1, 0, 0, 1, 0, 2, 1, 0, 1, 0, 0, 0, 1, 0,\n",
       "       1, 0, 1, 1, 0, 0, 0, 1, 1, 1, 1, 1, 1, 1, 1, 1, 1, 1, 1, 1, 1, 2,\n",
       "       0, 1, 1, 1, 1, 0, 1, 1, 1, 0, 1, 0, 1, 0, 1, 0, 1, 1, 1, 1, 0, 0,\n",
       "       0, 0, 0, 0, 1, 0, 1, 0, 0, 1, 0, 1, 0, 0, 0, 0, 1, 0, 1, 0, 0, 0,\n",
       "       0, 0, 0, 0, 0, 0, 0, 2, 0, 0, 0, 0, 0, 0, 0, 0, 0, 0, 0, 0, 0, 0,\n",
       "       0, 0, 0, 0, 0, 0, 0, 0, 0, 0, 0, 0, 0, 0, 0, 0, 0, 0, 0, 0, 0, 0,\n",
       "       0, 0, 0, 0, 0, 0, 0, 0, 0, 0, 1, 1, 1, 1, 1, 1, 1, 0, 1, 0, 0, 0,\n",
       "       1, 1, 1, 1, 1, 1, 1, 2, 1, 2, 1, 2, 2, 1, 0, 3, 1, 2, 1, 2, 3, 0,\n",
       "       0, 0, 0, 0, 0, 1, 0, 0, 3, 3, 3, 2, 2, 3, 2, 1, 1, 1, 1, 1, 1, 1,\n",
       "       1, 1, 0, 1, 0, 1, 1, 0, 1, 1, 2, 1, 1, 1, 1, 1, 1, 1, 0, 1, 1, 1,\n",
       "       1, 1, 1, 1, 1, 1, 0, 1, 0, 1, 0, 0, 0, 0, 0, 0, 0, 0, 0, 0, 1, 0,\n",
       "       1, 0, 1, 0, 0, 0, 0, 0, 1, 0, 1, 0, 0, 1, 0, 0, 0, 0, 0, 0, 0, 0,\n",
       "       0, 0, 0, 0, 0, 0, 0, 0, 0, 0, 0, 0, 0, 0, 0, 0, 0, 0, 0, 1, 0, 0,\n",
       "       0, 0, 0, 0, 0, 0, 0, 0, 0, 0, 1, 2, 0, 0, 1, 1, 1, 1, 1, 1, 1, 1,\n",
       "       1, 2, 1, 2, 1, 1, 1, 1, 1, 1, 1, 1, 1, 1, 1, 1, 1, 1, 1, 1, 1, 1,\n",
       "       1, 1, 1, 1, 1, 1, 0, 1, 4, 1, 1, 1, 1, 1, 1, 1, 1, 1, 1, 1, 1, 1,\n",
       "       1, 1, 1, 1, 0, 1, 0, 2, 2, 0, 2, 1, 1, 1, 1, 1, 1, 1, 2, 1, 2, 1,\n",
       "       1, 2, 1, 1, 4, 1, 1, 2, 1, 3, 1, 1, 1, 1, 1, 4, 1, 1, 1, 1, 1, 1,\n",
       "       1, 1, 1, 1, 1, 1, 1, 1, 1, 1, 1, 1, 1, 1, 1, 1, 1, 1, 1, 1, 1, 1,\n",
       "       1, 1, 1, 1, 1, 1, 1, 1, 1, 1, 1, 1, 1, 1, 1, 1, 1, 1, 1, 1, 1, 1,\n",
       "       1, 1, 1, 1, 1, 1, 1, 1, 1, 2, 1, 1, 1, 1, 1, 1, 1, 1, 1, 1, 1, 1,\n",
       "       1, 1, 1, 1, 1, 1, 1, 1, 1, 1, 1, 1, 1, 1, 1, 1, 1, 1, 1, 1, 1, 1,\n",
       "       1, 1, 1, 1, 1, 1, 1, 1, 1, 1, 1, 1, 1, 1, 1, 1, 1, 1, 2, 1, 3, 0,\n",
       "       1, 1, 0, 1, 0, 1, 1, 1, 1, 1, 1, 1, 1, 1, 1, 1, 1, 1, 1, 1, 1, 1,\n",
       "       1, 1, 1, 1, 1, 1, 1, 1, 1, 1, 1, 1, 1, 1, 1, 1, 1, 1, 1, 1, 1, 1,\n",
       "       1, 1, 1, 1, 1, 1, 1, 1, 1, 1, 1, 1, 1, 1, 1, 1, 1, 1, 1, 1, 1, 1,\n",
       "       1, 1, 1, 1, 1, 1, 1, 1, 1, 1, 1, 1, 1, 1, 2, 1, 2, 1, 1, 2, 2, 1,\n",
       "       1, 2, 4, 3, 2, 2, 1, 2, 1, 1, 1, 1, 2, 0, 0, 0, 3, 1, 0, 1, 2, 2,\n",
       "       2, 2, 2, 2, 2, 1, 1, 4, 1, 4, 1, 4, 4, 2, 4, 4, 1, 3, 2, 1, 1, 1,\n",
       "       1, 1, 1, 1, 1])"
      ]
     },
     "execution_count": 44,
     "metadata": {},
     "output_type": "execute_result"
    }
   ],
   "source": [
    "y"
   ]
  },
  {
   "cell_type": "code",
   "execution_count": 45,
   "id": "6d26a0f3-ee51-47be-8814-7851eb94f17d",
   "metadata": {},
   "outputs": [
    {
     "name": "stdout",
     "output_type": "stream",
     "text": [
      "(709, 32)\n",
      "(709,)\n"
     ]
    }
   ],
   "source": [
    "print(X.shape)\n",
    "print(y.shape)"
   ]
  },
  {
   "cell_type": "code",
   "execution_count": 46,
   "id": "a58f8392-287b-439a-91f2-a91ab12df490",
   "metadata": {},
   "outputs": [
    {
     "name": "stdout",
     "output_type": "stream",
     "text": [
      "[[  0 237]\n",
      " [  1 408]\n",
      " [  2  43]\n",
      " [  3  11]\n",
      " [  4  10]]\n"
     ]
    }
   ],
   "source": [
    "(unique, counts) = np.unique(y, return_counts=True)\n",
    "frequencies = np.asarray((unique, counts)).T\n",
    "print(frequencies)"
   ]
  },
  {
   "cell_type": "code",
   "execution_count": 47,
   "id": "c0947278-061d-456c-8fcf-3183b0e95109",
   "metadata": {},
   "outputs": [
    {
     "data": {
      "text/plain": [
       "numpy.ndarray"
      ]
     },
     "execution_count": 47,
     "metadata": {},
     "output_type": "execute_result"
    }
   ],
   "source": [
    "type(X)"
   ]
  },
  {
   "cell_type": "code",
   "execution_count": 48,
   "id": "c515d213-516a-4622-a97e-013ac5c035db",
   "metadata": {},
   "outputs": [
    {
     "data": {
      "text/plain": [
       "numpy.ndarray"
      ]
     },
     "execution_count": 48,
     "metadata": {},
     "output_type": "execute_result"
    }
   ],
   "source": [
    "type(y)"
   ]
  },
  {
   "cell_type": "code",
   "execution_count": 49,
   "id": "10732c4f-e9f1-475c-a20a-4aef46a7b158",
   "metadata": {},
   "outputs": [],
   "source": [
    "X_train, X_test, y_train, y_test = train_test_split(X, y, test_size = 0.1, random_state = 0)"
   ]
  },
  {
   "cell_type": "code",
   "execution_count": 50,
   "id": "bc7ec2d0-7ebc-46c9-84b6-b0fc5c34316d",
   "metadata": {},
   "outputs": [],
   "source": [
    "from sklearn.tree import DecisionTreeClassifier\n",
    "from sklearn.ensemble import AdaBoostClassifier\n",
    "from sklearn.model_selection import cross_val_score, cross_validate, validation_curve\n",
    "from sklearn.metrics import confusion_matrix, accuracy_score, ConfusionMatrixDisplay"
   ]
  },
  {
   "cell_type": "code",
   "execution_count": 94,
   "id": "0abc1c95-a986-4bfe-84dd-3d070debefa3",
   "metadata": {},
   "outputs": [
    {
     "name": "stdout",
     "output_type": "stream",
     "text": [
      "[0.73913043 0.78021978 0.65934066 0.8021978  0.83516484 0.7032967\n",
      " 0.74725275]\n",
      "[0.79347826 0.78021978 0.76923077 0.8021978  0.75824176 0.72527473\n",
      " 0.75824176]\n",
      "[0.84782609 0.86813187 0.83516484 0.8021978  0.9010989  0.8021978\n",
      " 0.8021978 ]\n",
      "Wall time: 17.4 s\n"
     ]
    }
   ],
   "source": [
    "%%time\n",
    "results_ab=[]\n",
    "for i in range (3):\n",
    "    base_estimator = DecisionTreeClassifier(max_depth=i+1, criterion='entropy', random_state=0)\n",
    "    classifier = AdaBoostClassifier(n_estimators=1000, base_estimator= base_estimator, algorithm= \"SAMME\", random_state=0)\n",
    "    classifier.fit(X_train, y_train)\n",
    "    #y_pred = classifier.predict(X_test)\n",
    "    #accuracy_score(y_test, y_pred)\n",
    "    accuracies = cross_val_score(estimator = classifier, X = X_train, y = y_train, \n",
    "                                 cv = 7, n_jobs=8)\n",
    "    results_ab.append(accuracies)\n",
    "    print(accuracies)"
   ]
  },
  {
   "cell_type": "code",
   "execution_count": 95,
   "id": "161b3f82-5baf-49d9-98b3-29db15ad4a89",
   "metadata": {},
   "outputs": [
    {
     "data": {
      "image/png": "[encoded data removed]",
      "text/plain": [
       "<Figure size 432x288 with 1 Axes>"
      ]
     },
     "metadata": {
      "needs_background": "light"
     },
     "output_type": "display_data"
    }
   ],
   "source": [
    "fig = plt.figure()\n",
    "fig.suptitle('Algorithm Comparison')\n",
    "ax = fig.add_subplot(111)\n",
    "plt.boxplot(ab_accuracies_mean)\n",
    "ax.set_xticklabels([1,2, 3])\n",
    "plt.show()"
   ]
  },
  {
   "cell_type": "code",
   "execution_count": null,
   "id": "8d3e0a4e-38f7-4806-aab5-a430abab559f",
   "metadata": {},
   "outputs": [],
   "source": []
  }
 ],
 "metadata": {
  "kernelspec": {
   "display_name": "Python 3 (ipykernel)",
   "language": "python",
   "name": "python3"
  },
  "language_info": {
   "codemirror_mode": {
    "name": "ipython",
    "version": 3
   },
   "file_extension": ".py",
   "mimetype": "text/x-python",
   "name": "python",
   "nbconvert_exporter": "python",
   "pygments_lexer": "ipython3",
   "version": "3.9.7"
  }
 },
 "nbformat": 4,
 "nbformat_minor": 5
}
