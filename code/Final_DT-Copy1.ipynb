{
 "cells": [
  {
   "cell_type": "markdown",
   "id": "ada2b809-adc6-49b1-adc4-9996800b3356",
   "metadata": {},
   "source": [
    "# Classification Problem on Urban Tree Dataset"
   ]
  },
  {
   "cell_type": "markdown",
   "id": "124f50ae-190c-46b4-a5c2-7c54d9419047",
   "metadata": {},
   "source": [
    "## PreProcessing"
   ]
  },
  {
   "cell_type": "markdown",
   "id": "e962ffc0-2f5b-4575-b18f-5356b27dcf82",
   "metadata": {},
   "source": [
    "### Importing the libraries"
   ]
  },
  {
   "cell_type": "code",
   "execution_count": 1,
   "id": "7cae2a6a-9213-4cb3-ac1c-8a70cce0230f",
   "metadata": {},
   "outputs": [],
   "source": [
    "import numpy as np\n",
    "import pandas as pd\n",
    "import matplotlib.pyplot as plt\n",
    "%matplotlib inline\n",
    "import time\n",
    "from sklearn.compose import ColumnTransformer\n",
    "from sklearn.impute import SimpleImputer, KNNImputer\n",
    "from sklearn.pipeline import Pipeline\n",
    "from sklearn.preprocessing import StandardScaler, OneHotEncoder, LabelEncoder\n",
    "from sklearn.feature_selection import SelectFromModel\n",
    "from sklearn.model_selection import train_test_split, GridSearchCV, RepeatedStratifiedKFold\n",
    "from sklearn.multiclass import OneVsRestClassifier\n",
    "from sklearn.linear_model import LogisticRegression\n",
    "from sklearn.svm import SVC\n",
    "from sklearn.metrics import f1_score, roc_curve, auc,confusion_matrix, RocCurveDisplay"
   ]
  },
  {
   "cell_type": "markdown",
   "id": "a75ef9d8-40e1-4327-afa5-2384cee43188",
   "metadata": {},
   "source": [
    "### Importing the Data set, Cleaning Data and Handling Missing Values"
   ]
  },
  {
   "cell_type": "code",
   "execution_count": 2,
   "id": "af1caba9-bcda-4d58-98f0-0e697407c7be",
   "metadata": {},
   "outputs": [],
   "source": [
    "df = pd.read_csv('sgl-arbres-urbains-wgs84.csv')"
   ]
  },
  {
   "cell_type": "code",
   "execution_count": 3,
   "id": "1c77eb32-4ab7-455d-82ac-716ec060a084",
   "metadata": {},
   "outputs": [],
   "source": [
    "df= df.drop([\"ID_ARBRE\", \"commune\", \"controle\", \"insecte_collet\", \"insecte_tronc\", \"insecte_houppier\",\"circonference (en cm)\", \"observation_collet\", \"observation_tronc\", \"observation_houppier\"], axis=1 )\n",
    "#Handling Missing Values\n",
    "mode_cote_voirie=df.cote_voirie.mode()[0]\n",
    "mode_espece_arbre=df.espece_arbre.mode()[0]\n",
    "mode_situation=df.situation.mode()[0]\n",
    "mode_plaie_collet=df.plaie_collet.mode()[0]\n",
    "mode_champignon_tronc=df.champignon_tronc.mode()[0]\n",
    "mode_fissure_tronc=df.fissure_tronc.mode()[0]\n",
    "mode_rejet_tronc=df.rejet_tronc.mode()[0]\n",
    "mode_plaie_tronc=df.plaie_tronc.mode()[0]\n",
    "mode_champignon_houppier=df.champignon_houppier.mode()[0]\n",
    "mode_fissure_houppier=df.fissure_houppier.mode()[0]\n",
    "mode_ecorce_incluse_houppier=df.ecorce_incluse_houppier.mode()[0]\n",
    "mode_bois_mort_houppier=df.bois_mort_houppier.mode()[0]\n",
    "mode_plaie_houppier=df.plaie_houppier.mode()[0]\n",
    "mode_contrainte=df.contrainte.mode()[0]\n",
    "mode_classification_diagnostic=df.classification_diagnostic.mode()[0]\n",
    "median_esperance_maintien=df.esperance_maintien.median()\n",
    "\n",
    "df=df.fillna({\"cote_voirie\": mode_cote_voirie, \"espece_arbre\": mode_espece_arbre, \"situation\": mode_situation,\n",
    "            \"plaie_collet\": mode_plaie_collet, \"champignon_tronc\": mode_champignon_tronc,\n",
    "            \"fissure_tronc\": mode_fissure_tronc, \"rejet_tronc\": mode_rejet_tronc, \"plaie_tronc\": mode_plaie_tronc, \n",
    "              \"champignon_houppier\": mode_champignon_houppier, \"fissure_houppier\":mode_fissure_houppier, \"ecorce_incluse_houppier\": mode_ecorce_incluse_houppier,\n",
    "            \"bois_mort_houppier\": mode_bois_mort_houppier, \"plaie_houppier\": mode_plaie_houppier, \"contrainte\": mode_contrainte,\n",
    "            \"classification_diagnostic\": mode_classification_diagnostic, \"esperance_maintien\": median_esperance_maintien})"
   ]
  },
  {
   "cell_type": "code",
   "execution_count": 4,
   "id": "075e801c-0894-477e-b71b-36c356f8930e",
   "metadata": {},
   "outputs": [
    {
     "data": {
      "text/html": [
       "<div>\n",
       "<style scoped>\n",
       "    .dataframe tbody tr th:only-of-type {\n",
       "        vertical-align: middle;\n",
       "    }\n",
       "\n",
       "    .dataframe tbody tr th {\n",
       "        vertical-align: top;\n",
       "    }\n",
       "\n",
       "    .dataframe thead th {\n",
       "        text-align: right;\n",
       "    }\n",
       "</style>\n",
       "<table border=\"1\" class=\"dataframe\">\n",
       "  <thead>\n",
       "    <tr style=\"text-align: right;\">\n",
       "      <th></th>\n",
       "      <th>quartier</th>\n",
       "      <th>site</th>\n",
       "      <th>cote_voirie</th>\n",
       "      <th>matricule_arbre</th>\n",
       "      <th>genre_arbre</th>\n",
       "      <th>espece_arbre</th>\n",
       "      <th>situation</th>\n",
       "      <th>type_sol</th>\n",
       "      <th>surf_permeable</th>\n",
       "      <th>date_plantation</th>\n",
       "      <th>...</th>\n",
       "      <th>canisse_arbre</th>\n",
       "      <th>plaie_tronc</th>\n",
       "      <th>champignon_houppier</th>\n",
       "      <th>fissure_houppier</th>\n",
       "      <th>ecorce_incluse_houppier</th>\n",
       "      <th>bois_mort_houppier</th>\n",
       "      <th>plaie_houppier</th>\n",
       "      <th>esperance_maintien</th>\n",
       "      <th>contrainte</th>\n",
       "      <th>classification_diagnostic</th>\n",
       "    </tr>\n",
       "  </thead>\n",
       "  <tbody>\n",
       "    <tr>\n",
       "      <th>0</th>\n",
       "      <td>Quartier 2 - Alsace - Pereire</td>\n",
       "      <td>Carrefour RN13</td>\n",
       "      <td>Impair</td>\n",
       "      <td>7</td>\n",
       "      <td>Betula</td>\n",
       "      <td>Alba</td>\n",
       "      <td>Groupe</td>\n",
       "      <td>P</td>\n",
       "      <td>5.0</td>\n",
       "      <td>2000</td>\n",
       "      <td>...</td>\n",
       "      <td>Non</td>\n",
       "      <td>TPLNC</td>\n",
       "      <td>Non</td>\n",
       "      <td>HPF</td>\n",
       "      <td>Non</td>\n",
       "      <td>HBMI</td>\n",
       "      <td>HPLC</td>\n",
       "      <td>1.0</td>\n",
       "      <td>Non</td>\n",
       "      <td>C2</td>\n",
       "    </tr>\n",
       "    <tr>\n",
       "      <th>1</th>\n",
       "      <td>Quartier 2 - Alsace - Pereire</td>\n",
       "      <td>Carrefour RN13</td>\n",
       "      <td>Impair</td>\n",
       "      <td>8</td>\n",
       "      <td>Betula</td>\n",
       "      <td>Alba</td>\n",
       "      <td>Groupe</td>\n",
       "      <td>P</td>\n",
       "      <td>5.0</td>\n",
       "      <td>2000</td>\n",
       "      <td>...</td>\n",
       "      <td>Non</td>\n",
       "      <td>TPLC</td>\n",
       "      <td>Non</td>\n",
       "      <td>HPF</td>\n",
       "      <td>Non</td>\n",
       "      <td>HBMI</td>\n",
       "      <td>HPLC</td>\n",
       "      <td>1.0</td>\n",
       "      <td>Non</td>\n",
       "      <td>C2</td>\n",
       "    </tr>\n",
       "    <tr>\n",
       "      <th>2</th>\n",
       "      <td>Quartier 2 - Alsace - Pereire</td>\n",
       "      <td>Carrefour RN13</td>\n",
       "      <td>Impair</td>\n",
       "      <td>9</td>\n",
       "      <td>Betula</td>\n",
       "      <td>Alba</td>\n",
       "      <td>Groupe</td>\n",
       "      <td>P</td>\n",
       "      <td>5.0</td>\n",
       "      <td>2000</td>\n",
       "      <td>...</td>\n",
       "      <td>Non</td>\n",
       "      <td>TPLCF</td>\n",
       "      <td>Non</td>\n",
       "      <td>HPF</td>\n",
       "      <td>Non</td>\n",
       "      <td>HBMI</td>\n",
       "      <td>HPLC</td>\n",
       "      <td>1.0</td>\n",
       "      <td>Non</td>\n",
       "      <td>C2</td>\n",
       "    </tr>\n",
       "    <tr>\n",
       "      <th>3</th>\n",
       "      <td>Quartier 2 - Alsace - Pereire</td>\n",
       "      <td>Carrefour RN13</td>\n",
       "      <td>Impair</td>\n",
       "      <td>1</td>\n",
       "      <td>Carpinus</td>\n",
       "      <td>Betulus - L. - Fastigiata</td>\n",
       "      <td>Bosquet</td>\n",
       "      <td>G</td>\n",
       "      <td>100.0</td>\n",
       "      <td>1980</td>\n",
       "      <td>...</td>\n",
       "      <td>Non</td>\n",
       "      <td>TPLS</td>\n",
       "      <td>Non</td>\n",
       "      <td>HPF</td>\n",
       "      <td>Non</td>\n",
       "      <td>HBMI</td>\n",
       "      <td>HPLS</td>\n",
       "      <td>1.0</td>\n",
       "      <td>Non</td>\n",
       "      <td>C2</td>\n",
       "    </tr>\n",
       "    <tr>\n",
       "      <th>4</th>\n",
       "      <td>Quartier 2 - Alsace - Pereire</td>\n",
       "      <td>Carrefour RN13</td>\n",
       "      <td>Impair</td>\n",
       "      <td>2</td>\n",
       "      <td>Carpinus</td>\n",
       "      <td>Betulus - L. - Fastigiata</td>\n",
       "      <td>Bosquet</td>\n",
       "      <td>G</td>\n",
       "      <td>100.0</td>\n",
       "      <td>1980</td>\n",
       "      <td>...</td>\n",
       "      <td>Non</td>\n",
       "      <td>TPLS</td>\n",
       "      <td>Non</td>\n",
       "      <td>HPF</td>\n",
       "      <td>Non</td>\n",
       "      <td>HBMI</td>\n",
       "      <td>HPLS</td>\n",
       "      <td>1.0</td>\n",
       "      <td>Non</td>\n",
       "      <td>C2</td>\n",
       "    </tr>\n",
       "  </tbody>\n",
       "</table>\n",
       "<p>5 rows × 33 columns</p>\n",
       "</div>"
      ],
      "text/plain": [
       "                        quartier            site cote_voirie  matricule_arbre  \\\n",
       "0  Quartier 2 - Alsace - Pereire  Carrefour RN13      Impair                7   \n",
       "1  Quartier 2 - Alsace - Pereire  Carrefour RN13      Impair                8   \n",
       "2  Quartier 2 - Alsace - Pereire  Carrefour RN13      Impair                9   \n",
       "3  Quartier 2 - Alsace - Pereire  Carrefour RN13      Impair                1   \n",
       "4  Quartier 2 - Alsace - Pereire  Carrefour RN13      Impair                2   \n",
       "\n",
       "  genre_arbre                espece_arbre situation type_sol  surf_permeable  \\\n",
       "0      Betula                        Alba    Groupe        P             5.0   \n",
       "1      Betula                        Alba    Groupe        P             5.0   \n",
       "2      Betula                        Alba    Groupe        P             5.0   \n",
       "3    Carpinus   Betulus - L. - Fastigiata   Bosquet        G           100.0   \n",
       "4    Carpinus   Betulus - L. - Fastigiata   Bosquet        G           100.0   \n",
       "\n",
       "   date_plantation  ... canisse_arbre  plaie_tronc champignon_houppier  \\\n",
       "0             2000  ...           Non        TPLNC                 Non   \n",
       "1             2000  ...           Non         TPLC                 Non   \n",
       "2             2000  ...           Non        TPLCF                 Non   \n",
       "3             1980  ...           Non         TPLS                 Non   \n",
       "4             1980  ...           Non         TPLS                 Non   \n",
       "\n",
       "   fissure_houppier ecorce_incluse_houppier bois_mort_houppier plaie_houppier  \\\n",
       "0              HPF                      Non              HBMI            HPLC   \n",
       "1              HPF                      Non              HBMI            HPLC   \n",
       "2              HPF                      Non              HBMI            HPLC   \n",
       "3              HPF                      Non              HBMI            HPLS   \n",
       "4              HPF                      Non              HBMI            HPLS   \n",
       "\n",
       "  esperance_maintien contrainte classification_diagnostic  \n",
       "0                1.0        Non                        C2  \n",
       "1                1.0        Non                        C2  \n",
       "2                1.0        Non                        C2  \n",
       "3                1.0        Non                        C2  \n",
       "4                1.0        Non                        C2  \n",
       "\n",
       "[5 rows x 33 columns]"
      ]
     },
     "execution_count": 4,
     "metadata": {},
     "output_type": "execute_result"
    }
   ],
   "source": [
    "df.head()"
   ]
  },
  {
   "cell_type": "code",
   "execution_count": 5,
   "id": "9e30976a-0a79-4392-85d7-c6a53643a7b8",
   "metadata": {},
   "outputs": [
    {
     "name": "stdout",
     "output_type": "stream",
     "text": [
      "<class 'pandas.core.frame.DataFrame'>\n",
      "RangeIndex: 709 entries, 0 to 708\n",
      "Data columns (total 33 columns):\n",
      " #   Column                     Non-Null Count  Dtype  \n",
      "---  ------                     --------------  -----  \n",
      " 0   quartier                   709 non-null    object \n",
      " 1   site                       709 non-null    object \n",
      " 2   cote_voirie                709 non-null    object \n",
      " 3   contrainte                 709 non-null    object \n",
      " 4   genre_arbre                709 non-null    object \n",
      " 5   espece_arbre               709 non-null    object \n",
      " 6   situation                  709 non-null    object \n",
      " 7   type_sol                   709 non-null    object \n",
      " 8   plaie_houppier             709 non-null    object \n",
      " 9   bois_mort_houppier         709 non-null    object \n",
      " 10  classe_age                 709 non-null    object \n",
      " 11  ecorce_incluse_houppier    709 non-null    object \n",
      " 12  classe_hauteur             709 non-null    object \n",
      " 13  fissure_houppier           709 non-null    object \n",
      " 14  classe_circonference       709 non-null    object \n",
      " 15  port_arbre                 709 non-null    object \n",
      " 16  vigueur_pousse             709 non-null    object \n",
      " 17  champignon_collet          709 non-null    object \n",
      " 18  plaie_collet               709 non-null    object \n",
      " 19  champignon_tronc           709 non-null    object \n",
      " 20  fissure_tronc              709 non-null    object \n",
      " 21  rejet_tronc                709 non-null    object \n",
      " 22  tuteurage_arbre            709 non-null    object \n",
      " 23  canisse_arbre              709 non-null    object \n",
      " 24  plaie_tronc                709 non-null    object \n",
      " 25  champignon_houppier        709 non-null    object \n",
      " 26  diametre                   709 non-null    float64\n",
      " 27  hauteur                    709 non-null    int64  \n",
      " 28  date_plantation            709 non-null    int64  \n",
      " 29  surf_permeable             709 non-null    float64\n",
      " 30  esperance_maintien         709 non-null    float64\n",
      " 31  matricule_arbre            709 non-null    int64  \n",
      " 32  classification_diagnostic  709 non-null    object \n",
      "dtypes: float64(3), int64(3), object(27)\n",
      "memory usage: 182.9+ KB\n"
     ]
    }
   ],
   "source": [
    "#define function to swap columns so that all numerical data will be in the end columns\n",
    "def swap_columns(df, col1, col2):\n",
    "    col_list = list(df.columns)\n",
    "    a, b = col_list.index(col1), col_list.index(col2)\n",
    "    col_list[b], col_list[a] = col_list[a], col_list[b]\n",
    "    df = df[col_list]\n",
    "    return df\n",
    "\n",
    "#swaping columns\n",
    "df = swap_columns(df, 'matricule_arbre', 'contrainte')\n",
    "df = swap_columns(df, 'surf_permeable', 'plaie_houppier')\n",
    "df = swap_columns(df, 'date_plantation', 'bois_mort_houppier')\n",
    "df = swap_columns(df, 'hauteur', 'ecorce_incluse_houppier')\n",
    "df = swap_columns(df, 'diametre', 'fissure_houppier')\n",
    "\n",
    "df.info()"
   ]
  },
  {
   "cell_type": "code",
   "execution_count": 6,
   "id": "166dc29c-de2c-421d-aee7-1aff088fcc80",
   "metadata": {},
   "outputs": [
    {
     "data": {
      "image/png": "[encoded data removed]",
      "text/plain": [
       "<Figure size 1440x1008 with 6 Axes>"
      ]
     },
     "metadata": {
      "needs_background": "light"
     },
     "output_type": "display_data"
    }
   ],
   "source": [
    "_ = df.hist(figsize=(20, 14))"
   ]
  },
  {
   "cell_type": "code",
   "execution_count": 7,
   "id": "5fcc0d37-6efe-427c-b33f-edc8a48954fc",
   "metadata": {},
   "outputs": [
    {
     "data": {
      "text/html": [
       "<div>\n",
       "<style scoped>\n",
       "    .dataframe tbody tr th:only-of-type {\n",
       "        vertical-align: middle;\n",
       "    }\n",
       "\n",
       "    .dataframe tbody tr th {\n",
       "        vertical-align: top;\n",
       "    }\n",
       "\n",
       "    .dataframe thead th {\n",
       "        text-align: right;\n",
       "    }\n",
       "</style>\n",
       "<table border=\"1\" class=\"dataframe\">\n",
       "  <thead>\n",
       "    <tr style=\"text-align: right;\">\n",
       "      <th></th>\n",
       "      <th>diametre</th>\n",
       "      <th>hauteur</th>\n",
       "      <th>date_plantation</th>\n",
       "      <th>surf_permeable</th>\n",
       "      <th>esperance_maintien</th>\n",
       "      <th>matricule_arbre</th>\n",
       "    </tr>\n",
       "  </thead>\n",
       "  <tbody>\n",
       "    <tr>\n",
       "      <th>diametre</th>\n",
       "      <td>1.000000</td>\n",
       "      <td>0.759239</td>\n",
       "      <td>-0.155416</td>\n",
       "      <td>0.408231</td>\n",
       "      <td>0.329892</td>\n",
       "      <td>-0.109965</td>\n",
       "    </tr>\n",
       "    <tr>\n",
       "      <th>hauteur</th>\n",
       "      <td>0.759239</td>\n",
       "      <td>1.000000</td>\n",
       "      <td>-0.090306</td>\n",
       "      <td>0.604309</td>\n",
       "      <td>0.225723</td>\n",
       "      <td>-0.164903</td>\n",
       "    </tr>\n",
       "    <tr>\n",
       "      <th>date_plantation</th>\n",
       "      <td>-0.155416</td>\n",
       "      <td>-0.090306</td>\n",
       "      <td>1.000000</td>\n",
       "      <td>-0.071507</td>\n",
       "      <td>-0.033480</td>\n",
       "      <td>-0.007850</td>\n",
       "    </tr>\n",
       "    <tr>\n",
       "      <th>surf_permeable</th>\n",
       "      <td>0.408231</td>\n",
       "      <td>0.604309</td>\n",
       "      <td>-0.071507</td>\n",
       "      <td>1.000000</td>\n",
       "      <td>0.224826</td>\n",
       "      <td>-0.217633</td>\n",
       "    </tr>\n",
       "    <tr>\n",
       "      <th>esperance_maintien</th>\n",
       "      <td>0.329892</td>\n",
       "      <td>0.225723</td>\n",
       "      <td>-0.033480</td>\n",
       "      <td>0.224826</td>\n",
       "      <td>1.000000</td>\n",
       "      <td>-0.023423</td>\n",
       "    </tr>\n",
       "    <tr>\n",
       "      <th>matricule_arbre</th>\n",
       "      <td>-0.109965</td>\n",
       "      <td>-0.164903</td>\n",
       "      <td>-0.007850</td>\n",
       "      <td>-0.217633</td>\n",
       "      <td>-0.023423</td>\n",
       "      <td>1.000000</td>\n",
       "    </tr>\n",
       "  </tbody>\n",
       "</table>\n",
       "</div>"
      ],
      "text/plain": [
       "                    diametre   hauteur  date_plantation  surf_permeable  \\\n",
       "diametre            1.000000  0.759239        -0.155416        0.408231   \n",
       "hauteur             0.759239  1.000000        -0.090306        0.604309   \n",
       "date_plantation    -0.155416 -0.090306         1.000000       -0.071507   \n",
       "surf_permeable      0.408231  0.604309        -0.071507        1.000000   \n",
       "esperance_maintien  0.329892  0.225723        -0.033480        0.224826   \n",
       "matricule_arbre    -0.109965 -0.164903        -0.007850       -0.217633   \n",
       "\n",
       "                    esperance_maintien  matricule_arbre  \n",
       "diametre                      0.329892        -0.109965  \n",
       "hauteur                       0.225723        -0.164903  \n",
       "date_plantation              -0.033480        -0.007850  \n",
       "surf_permeable                0.224826        -0.217633  \n",
       "esperance_maintien            1.000000        -0.023423  \n",
       "matricule_arbre              -0.023423         1.000000  "
      ]
     },
     "execution_count": 7,
     "metadata": {},
     "output_type": "execute_result"
    }
   ],
   "source": [
    "cor_matrix = df.corr()\n",
    "cor_matrix"
   ]
  },
  {
   "cell_type": "code",
   "execution_count": 8,
   "id": "3f69a91b-25ef-4d99-918c-bd718b7f2cdd",
   "metadata": {},
   "outputs": [
    {
     "data": {
      "text/plain": [
       "quartier                      6\n",
       "site                         30\n",
       "cote_voirie                   2\n",
       "contrainte                    2\n",
       "genre_arbre                  26\n",
       "espece_arbre                 37\n",
       "situation                     4\n",
       "type_sol                      9\n",
       "plaie_houppier                5\n",
       "bois_mort_houppier            3\n",
       "classe_age                    4\n",
       "ecorce_incluse_houppier       2\n",
       "classe_hauteur                5\n",
       "fissure_houppier              3\n",
       "classe_circonference          7\n",
       "port_arbre                    5\n",
       "vigueur_pousse                4\n",
       "champignon_collet             2\n",
       "plaie_collet                  7\n",
       "champignon_tronc              2\n",
       "fissure_tronc                 3\n",
       "rejet_tronc                   2\n",
       "tuteurage_arbre               4\n",
       "canisse_arbre                 2\n",
       "plaie_tronc                   6\n",
       "champignon_houppier           2\n",
       "diametre                     42\n",
       "hauteur                      17\n",
       "date_plantation              13\n",
       "surf_permeable                9\n",
       "esperance_maintien            4\n",
       "matricule_arbre              74\n",
       "classification_diagnostic     5\n",
       "dtype: int64"
      ]
     },
     "execution_count": 8,
     "metadata": {},
     "output_type": "execute_result"
    }
   ],
   "source": [
    "df.nunique()"
   ]
  },
  {
   "cell_type": "code",
   "execution_count": 9,
   "id": "c99fd816-ab0e-481f-9daa-d51edbf09f17",
   "metadata": {},
   "outputs": [
    {
     "data": {
      "text/plain": [
       "C2    408\n",
       "C1    237\n",
       "C3     43\n",
       "C4     11\n",
       "C5     10\n",
       "Name: classification_diagnostic, dtype: int64"
      ]
     },
     "execution_count": 9,
     "metadata": {},
     "output_type": "execute_result"
    }
   ],
   "source": [
    "df['classification_diagnostic'].value_counts()"
   ]
  },
  {
   "cell_type": "code",
   "execution_count": 10,
   "id": "ef18e402-2d75-4151-8a48-028c91d01e85",
   "metadata": {},
   "outputs": [],
   "source": [
    "target_name = \"classification_diagnostic\"\n",
    "target = df[target_name]\n",
    "data = df.drop(columns=[target_name])"
   ]
  },
  {
   "cell_type": "markdown",
   "id": "3c1cc4d5-59df-4bd3-822c-6c825868b100",
   "metadata": {},
   "source": [
    "### One Hot Encoding for Categorical features and Standard Scaling for Numerical Features"
   ]
  },
  {
   "cell_type": "code",
   "execution_count": 11,
   "id": "21e5b278-874f-4c99-8390-04988744dfcb",
   "metadata": {},
   "outputs": [],
   "source": [
    "from sklearn.compose import make_column_selector as selector\n",
    "#Separating Numerical and Categorical columns\n",
    "numerical_columns_selector = selector(dtype_exclude=object)\n",
    "categorical_columns_selector = selector(dtype_include=object)\n",
    "\n",
    "numerical_columns = numerical_columns_selector(data)\n",
    "categorical_columns = categorical_columns_selector(data)"
   ]
  },
  {
   "cell_type": "code",
   "execution_count": 12,
   "id": "6e2ea69a-2168-4ab1-b2f6-527c64d09fd0",
   "metadata": {},
   "outputs": [],
   "source": [
    "from sklearn.preprocessing import OneHotEncoder, StandardScaler\n",
    "\n",
    "categorical_preprocessor = OneHotEncoder(handle_unknown=\"ignore\")\n",
    "numerical_preprocessor = StandardScaler()"
   ]
  },
  {
   "cell_type": "code",
   "execution_count": 13,
   "id": "a05a1345-99be-42bc-8493-1de00285171f",
   "metadata": {},
   "outputs": [],
   "source": [
    "from sklearn.compose import ColumnTransformer\n",
    "## Creating separate Transformers\n",
    "preprocessor = ColumnTransformer([\n",
    "    ('one-hot-encoder', categorical_preprocessor, categorical_columns),\n",
    "    ('standard_scaler', numerical_preprocessor, numerical_columns)])"
   ]
  },
  {
   "cell_type": "markdown",
   "id": "0e99801b-e540-498d-800f-2ffb03d7d8dc",
   "metadata": {},
   "source": [
    "## Building Model Pipeline"
   ]
  },
  {
   "cell_type": "markdown",
   "id": "c9e7f28b-abbd-499b-957b-2d063758ef72",
   "metadata": {},
   "source": [
    "### Logistic Regression Model with One Hot Encoding"
   ]
  },
  {
   "cell_type": "code",
   "execution_count": 14,
   "id": "f68d63d6-7165-47fb-9302-ff104595fdba",
   "metadata": {},
   "outputs": [],
   "source": [
    "from sklearn.linear_model import LogisticRegression\n",
    "from sklearn.pipeline import make_pipeline\n",
    "\n",
    "model_lr_ohe = make_pipeline(preprocessor, LogisticRegression(max_iter=500, random_state=0))"
   ]
  },
  {
   "cell_type": "code",
   "execution_count": 15,
   "id": "92240816-7c92-4582-b6db-310313379ea7",
   "metadata": {},
   "outputs": [
    {
     "data": {
      "text/html": [
       "<style>#sk-fa74b8f3-4907-4bb7-98fa-1fe109410475 {color: black;background-color: white;}#sk-fa74b8f3-4907-4bb7-98fa-1fe109410475 pre{padding: 0;}#sk-fa74b8f3-4907-4bb7-98fa-1fe109410475 div.sk-toggleable {background-color: white;}#sk-fa74b8f3-4907-4bb7-98fa-1fe109410475 label.sk-toggleable__label {cursor: pointer;display: block;width: 100%;margin-bottom: 0;padding: 0.2em 0.3em;box-sizing: border-box;text-align: center;}#sk-fa74b8f3-4907-4bb7-98fa-1fe109410475 div.sk-toggleable__content {max-height: 0;max-width: 0;overflow: hidden;text-align: left;background-color: #f0f8ff;}#sk-fa74b8f3-4907-4bb7-98fa-1fe109410475 div.sk-toggleable__content pre {margin: 0.2em;color: black;border-radius: 0.25em;background-color: #f0f8ff;}#sk-fa74b8f3-4907-4bb7-98fa-1fe109410475 input.sk-toggleable__control:checked~div.sk-toggleable__content {max-height: 200px;max-width: 100%;overflow: auto;}#sk-fa74b8f3-4907-4bb7-98fa-1fe109410475 div.sk-estimator input.sk-toggleable__control:checked~label.sk-toggleable__label {background-color: #d4ebff;}#sk-fa74b8f3-4907-4bb7-98fa-1fe109410475 div.sk-label input.sk-toggleable__control:checked~label.sk-toggleable__label {background-color: #d4ebff;}#sk-fa74b8f3-4907-4bb7-98fa-1fe109410475 input.sk-hidden--visually {border: 0;clip: rect(1px 1px 1px 1px);clip: rect(1px, 1px, 1px, 1px);height: 1px;margin: -1px;overflow: hidden;padding: 0;position: absolute;width: 1px;}#sk-fa74b8f3-4907-4bb7-98fa-1fe109410475 div.sk-estimator {font-family: monospace;background-color: #f0f8ff;margin: 0.25em 0.25em;border: 1px dotted black;border-radius: 0.25em;box-sizing: border-box;}#sk-fa74b8f3-4907-4bb7-98fa-1fe109410475 div.sk-estimator:hover {background-color: #d4ebff;}#sk-fa74b8f3-4907-4bb7-98fa-1fe109410475 div.sk-parallel-item::after {content: \"\";width: 100%;border-bottom: 1px solid gray;flex-grow: 1;}#sk-fa74b8f3-4907-4bb7-98fa-1fe109410475 div.sk-label:hover label.sk-toggleable__label {background-color: #d4ebff;}#sk-fa74b8f3-4907-4bb7-98fa-1fe109410475 div.sk-serial::before {content: \"\";position: absolute;border-left: 1px solid gray;box-sizing: border-box;top: 2em;bottom: 0;left: 50%;}#sk-fa74b8f3-4907-4bb7-98fa-1fe109410475 div.sk-serial {display: flex;flex-direction: column;align-items: center;background-color: white;}#sk-fa74b8f3-4907-4bb7-98fa-1fe109410475 div.sk-item {z-index: 1;}#sk-fa74b8f3-4907-4bb7-98fa-1fe109410475 div.sk-parallel {display: flex;align-items: stretch;justify-content: center;background-color: white;}#sk-fa74b8f3-4907-4bb7-98fa-1fe109410475 div.sk-parallel-item {display: flex;flex-direction: column;position: relative;background-color: white;}#sk-fa74b8f3-4907-4bb7-98fa-1fe109410475 div.sk-parallel-item:first-child::after {align-self: flex-end;width: 50%;}#sk-fa74b8f3-4907-4bb7-98fa-1fe109410475 div.sk-parallel-item:last-child::after {align-self: flex-start;width: 50%;}#sk-fa74b8f3-4907-4bb7-98fa-1fe109410475 div.sk-parallel-item:only-child::after {width: 0;}#sk-fa74b8f3-4907-4bb7-98fa-1fe109410475 div.sk-dashed-wrapped {border: 1px dashed gray;margin: 0.2em;box-sizing: border-box;padding-bottom: 0.1em;background-color: white;position: relative;}#sk-fa74b8f3-4907-4bb7-98fa-1fe109410475 div.sk-label label {font-family: monospace;font-weight: bold;background-color: white;display: inline-block;line-height: 1.2em;}#sk-fa74b8f3-4907-4bb7-98fa-1fe109410475 div.sk-label-container {position: relative;z-index: 2;text-align: center;}#sk-fa74b8f3-4907-4bb7-98fa-1fe109410475 div.sk-container {display: inline-block;position: relative;}</style><div id=\"sk-fa74b8f3-4907-4bb7-98fa-1fe109410475\" class\"sk-top-container\"><div class=\"sk-container\"><div class=\"sk-item sk-dashed-wrapped\"><div class=\"sk-label-container\"><div class=\"sk-label sk-toggleable\"><input class=\"sk-toggleable__control sk-hidden--visually\" id=\"a9510cac-f112-4d81-b8b6-6b2b1085d63b\" type=\"checkbox\" ><label class=\"sk-toggleable__label\" for=\"a9510cac-f112-4d81-b8b6-6b2b1085d63b\">Pipeline</label><div class=\"sk-toggleable__content\"><pre>Pipeline(steps=[('columntransformer',\n",
       "                 ColumnTransformer(transformers=[('one-hot-encoder',\n",
       "                                                  OneHotEncoder(handle_unknown='ignore'),\n",
       "                                                  ['quartier', 'site',\n",
       "                                                   'cote_voirie', 'contrainte',\n",
       "                                                   'genre_arbre',\n",
       "                                                   'espece_arbre', 'situation',\n",
       "                                                   'type_sol', 'plaie_houppier',\n",
       "                                                   'bois_mort_houppier',\n",
       "                                                   'classe_age',\n",
       "                                                   'ecorce_incluse_houppier',\n",
       "                                                   'classe_hauteur',\n",
       "                                                   'fissure_houppier',\n",
       "                                                   'classe_circ...\n",
       "                                                   'champignon_collet',\n",
       "                                                   'plaie_collet',\n",
       "                                                   'champignon_tronc',\n",
       "                                                   'fissure_tronc',\n",
       "                                                   'rejet_tronc',\n",
       "                                                   'tuteurage_arbre',\n",
       "                                                   'canisse_arbre',\n",
       "                                                   'plaie_tronc',\n",
       "                                                   'champignon_houppier']),\n",
       "                                                 ('standard_scaler',\n",
       "                                                  StandardScaler(),\n",
       "                                                  ['diametre', 'hauteur',\n",
       "                                                   'date_plantation',\n",
       "                                                   'surf_permeable',\n",
       "                                                   'esperance_maintien',\n",
       "                                                   'matricule_arbre'])])),\n",
       "                ('logisticregression',\n",
       "                 LogisticRegression(max_iter=500, random_state=0))])</pre></div></div></div><div class=\"sk-serial\"><div class=\"sk-item sk-dashed-wrapped\"><div class=\"sk-label-container\"><div class=\"sk-label sk-toggleable\"><input class=\"sk-toggleable__control sk-hidden--visually\" id=\"9c5a903d-2e27-4eac-97a0-9ac63631e241\" type=\"checkbox\" ><label class=\"sk-toggleable__label\" for=\"9c5a903d-2e27-4eac-97a0-9ac63631e241\">columntransformer: ColumnTransformer</label><div class=\"sk-toggleable__content\"><pre>ColumnTransformer(transformers=[('one-hot-encoder',\n",
       "                                 OneHotEncoder(handle_unknown='ignore'),\n",
       "                                 ['quartier', 'site', 'cote_voirie',\n",
       "                                  'contrainte', 'genre_arbre', 'espece_arbre',\n",
       "                                  'situation', 'type_sol', 'plaie_houppier',\n",
       "                                  'bois_mort_houppier', 'classe_age',\n",
       "                                  'ecorce_incluse_houppier', 'classe_hauteur',\n",
       "                                  'fissure_houppier', 'classe_circonference',\n",
       "                                  'port_arbre', 'vigueur_pousse',\n",
       "                                  'champignon_collet', 'plaie_collet',\n",
       "                                  'champignon_tronc', 'fissure_tronc',\n",
       "                                  'rejet_tronc', 'tuteurage_arbre',\n",
       "                                  'canisse_arbre', 'plaie_tronc',\n",
       "                                  'champignon_houppier']),\n",
       "                                ('standard_scaler', StandardScaler(),\n",
       "                                 ['diametre', 'hauteur', 'date_plantation',\n",
       "                                  'surf_permeable', 'esperance_maintien',\n",
       "                                  'matricule_arbre'])])</pre></div></div></div><div class=\"sk-parallel\"><div class=\"sk-parallel-item\"><div class=\"sk-item\"><div class=\"sk-label-container\"><div class=\"sk-label sk-toggleable\"><input class=\"sk-toggleable__control sk-hidden--visually\" id=\"4c9ff1df-fa5c-4ede-8b8e-bd299c77e199\" type=\"checkbox\" ><label class=\"sk-toggleable__label\" for=\"4c9ff1df-fa5c-4ede-8b8e-bd299c77e199\">one-hot-encoder</label><div class=\"sk-toggleable__content\"><pre>['quartier', 'site', 'cote_voirie', 'contrainte', 'genre_arbre', 'espece_arbre', 'situation', 'type_sol', 'plaie_houppier', 'bois_mort_houppier', 'classe_age', 'ecorce_incluse_houppier', 'classe_hauteur', 'fissure_houppier', 'classe_circonference', 'port_arbre', 'vigueur_pousse', 'champignon_collet', 'plaie_collet', 'champignon_tronc', 'fissure_tronc', 'rejet_tronc', 'tuteurage_arbre', 'canisse_arbre', 'plaie_tronc', 'champignon_houppier']</pre></div></div></div><div class=\"sk-serial\"><div class=\"sk-item\"><div class=\"sk-estimator sk-toggleable\"><input class=\"sk-toggleable__control sk-hidden--visually\" id=\"e10b36c4-1544-40a6-837c-6f300f181bbc\" type=\"checkbox\" ><label class=\"sk-toggleable__label\" for=\"e10b36c4-1544-40a6-837c-6f300f181bbc\">OneHotEncoder</label><div class=\"sk-toggleable__content\"><pre>OneHotEncoder(handle_unknown='ignore')</pre></div></div></div></div></div></div><div class=\"sk-parallel-item\"><div class=\"sk-item\"><div class=\"sk-label-container\"><div class=\"sk-label sk-toggleable\"><input class=\"sk-toggleable__control sk-hidden--visually\" id=\"bdf810b5-a7b3-47d4-89a4-4d62e03df4c0\" type=\"checkbox\" ><label class=\"sk-toggleable__label\" for=\"bdf810b5-a7b3-47d4-89a4-4d62e03df4c0\">standard_scaler</label><div class=\"sk-toggleable__content\"><pre>['diametre', 'hauteur', 'date_plantation', 'surf_permeable', 'esperance_maintien', 'matricule_arbre']</pre></div></div></div><div class=\"sk-serial\"><div class=\"sk-item\"><div class=\"sk-estimator sk-toggleable\"><input class=\"sk-toggleable__control sk-hidden--visually\" id=\"a6ecae07-29bc-4226-a683-ddd8f0e47f34\" type=\"checkbox\" ><label class=\"sk-toggleable__label\" for=\"a6ecae07-29bc-4226-a683-ddd8f0e47f34\">StandardScaler</label><div class=\"sk-toggleable__content\"><pre>StandardScaler()</pre></div></div></div></div></div></div></div></div><div class=\"sk-item\"><div class=\"sk-estimator sk-toggleable\"><input class=\"sk-toggleable__control sk-hidden--visually\" id=\"75390064-8c69-4a9e-8110-13b22cd02259\" type=\"checkbox\" ><label class=\"sk-toggleable__label\" for=\"75390064-8c69-4a9e-8110-13b22cd02259\">LogisticRegression</label><div class=\"sk-toggleable__content\"><pre>LogisticRegression(max_iter=500, random_state=0)</pre></div></div></div></div></div></div></div>"
      ],
      "text/plain": [
       "Pipeline(steps=[('columntransformer',\n",
       "                 ColumnTransformer(transformers=[('one-hot-encoder',\n",
       "                                                  OneHotEncoder(handle_unknown='ignore'),\n",
       "                                                  ['quartier', 'site',\n",
       "                                                   'cote_voirie', 'contrainte',\n",
       "                                                   'genre_arbre',\n",
       "                                                   'espece_arbre', 'situation',\n",
       "                                                   'type_sol', 'plaie_houppier',\n",
       "                                                   'bois_mort_houppier',\n",
       "                                                   'classe_age',\n",
       "                                                   'ecorce_incluse_houppier',\n",
       "                                                   'classe_hauteur',\n",
       "                                                   'fissure_houppier',\n",
       "                                                   'classe_circ...\n",
       "                                                   'champignon_collet',\n",
       "                                                   'plaie_collet',\n",
       "                                                   'champignon_tronc',\n",
       "                                                   'fissure_tronc',\n",
       "                                                   'rejet_tronc',\n",
       "                                                   'tuteurage_arbre',\n",
       "                                                   'canisse_arbre',\n",
       "                                                   'plaie_tronc',\n",
       "                                                   'champignon_houppier']),\n",
       "                                                 ('standard_scaler',\n",
       "                                                  StandardScaler(),\n",
       "                                                  ['diametre', 'hauteur',\n",
       "                                                   'date_plantation',\n",
       "                                                   'surf_permeable',\n",
       "                                                   'esperance_maintien',\n",
       "                                                   'matricule_arbre'])])),\n",
       "                ('logisticregression',\n",
       "                 LogisticRegression(max_iter=500, random_state=0))])"
      ]
     },
     "execution_count": 15,
     "metadata": {},
     "output_type": "execute_result"
    }
   ],
   "source": [
    "from sklearn import set_config\n",
    "set_config(display='diagram')\n",
    "model_lr_ohe"
   ]
  },
  {
   "cell_type": "code",
   "execution_count": 16,
   "id": "34b25b99-8460-4ad3-9096-eb2e15dc80ce",
   "metadata": {},
   "outputs": [],
   "source": [
    "from sklearn.model_selection import train_test_split\n",
    "\n",
    "X_train, X_test, y_train, y_test = train_test_split(\n",
    "    data, target, random_state=0, test_size=0.1)"
   ]
  },
  {
   "cell_type": "code",
   "execution_count": 17,
   "id": "87947e7d-46be-44a3-a65b-d69e96abdcf6",
   "metadata": {},
   "outputs": [
    {
     "name": "stdout",
     "output_type": "stream",
     "text": [
      "Wall time: 181 ms\n"
     ]
    }
   ],
   "source": [
    "%%time\n",
    "logistic_regression_ohe_model = model_lr_ohe.fit(X_train, y_train)"
   ]
  },
  {
   "cell_type": "code",
   "execution_count": 18,
   "id": "9188bf43-b71d-47c0-bcd7-e4ef96de6dab",
   "metadata": {},
   "outputs": [
    {
     "data": {
      "text/plain": [
       "0.8873239436619719"
      ]
     },
     "execution_count": 18,
     "metadata": {},
     "output_type": "execute_result"
    }
   ],
   "source": [
    "logistic_regression_ohe_model.score(X_test, y_test)"
   ]
  },
  {
   "cell_type": "code",
   "execution_count": 19,
   "id": "712b0fbd-12d0-4eff-95d0-351db5b7741a",
   "metadata": {},
   "outputs": [
    {
     "data": {
      "text/plain": [
       "array(['C2', 'C2', 'C1', 'C1', 'C2'], dtype=object)"
      ]
     },
     "execution_count": 19,
     "metadata": {},
     "output_type": "execute_result"
    }
   ],
   "source": [
    "logistic_regression_ohe_model.predict(X_test)[:5]"
   ]
  },
  {
   "cell_type": "markdown",
   "id": "9c429425-cbe7-4ae3-ab0c-2719a4da0f4d",
   "metadata": {},
   "source": [
    "#### Model Evaluation with Cross-Validation"
   ]
  },
  {
   "cell_type": "code",
   "execution_count": 20,
   "id": "f4a7eef6-d120-4a15-bfc6-466de5f9470b",
   "metadata": {},
   "outputs": [
    {
     "name": "stdout",
     "output_type": "stream",
     "text": [
      "Test Scores for the Logistic Regression Model with 5-Fold Cross-Validation:\n",
      "[0.8828125  0.8515625  0.8671875  0.84251969 0.85826772]\n",
      "The Mean Cross-Validation Accuracy is: 0.860 with Standard Deviation of +/- 0.014\n",
      "Total time taken: 0.625\n"
     ]
    }
   ],
   "source": [
    "from sklearn.model_selection import cross_validate\n",
    "start = time.process_time()\n",
    "cv_results_lrm_ohe = cross_validate(logistic_regression_ohe_model, X_train, y_train, cv=5)\n",
    "print(\"Test Scores for the Logistic Regression Model with 5-Fold Cross-Validation:\")\n",
    "print(cv_results_lrm_ohe[\"test_score\"])\n",
    "scores = cv_results_lrm_ohe[\"test_score\"]\n",
    "print(\"The Mean Cross-Validation Accuracy is: \"f\"{scores.mean():.3f} with Standard Deviation of +/- {scores.std():.3f}\")\n",
    "print(\"Total time taken: {:}\".format(time.process_time() - start))"
   ]
  },
  {
   "cell_type": "markdown",
   "id": "08a29462-28ee-405c-9207-e895b4f78aa3",
   "metadata": {},
   "source": [
    "### Logistic Regression with Ordinal Encoding"
   ]
  },
  {
   "cell_type": "code",
   "execution_count": 21,
   "id": "b68674c6-b10a-45a5-a68b-93d0823a5061",
   "metadata": {},
   "outputs": [
    {
     "data": {
      "text/html": [
       "<div>\n",
       "<style scoped>\n",
       "    .dataframe tbody tr th:only-of-type {\n",
       "        vertical-align: middle;\n",
       "    }\n",
       "\n",
       "    .dataframe tbody tr th {\n",
       "        vertical-align: top;\n",
       "    }\n",
       "\n",
       "    .dataframe thead th {\n",
       "        text-align: right;\n",
       "    }\n",
       "</style>\n",
       "<table border=\"1\" class=\"dataframe\">\n",
       "  <thead>\n",
       "    <tr style=\"text-align: right;\">\n",
       "      <th></th>\n",
       "      <th>quartier</th>\n",
       "      <th>site</th>\n",
       "      <th>cote_voirie</th>\n",
       "      <th>contrainte</th>\n",
       "      <th>genre_arbre</th>\n",
       "      <th>espece_arbre</th>\n",
       "      <th>situation</th>\n",
       "      <th>type_sol</th>\n",
       "      <th>plaie_houppier</th>\n",
       "      <th>bois_mort_houppier</th>\n",
       "      <th>...</th>\n",
       "      <th>vigueur_pousse</th>\n",
       "      <th>champignon_collet</th>\n",
       "      <th>plaie_collet</th>\n",
       "      <th>champignon_tronc</th>\n",
       "      <th>fissure_tronc</th>\n",
       "      <th>rejet_tronc</th>\n",
       "      <th>tuteurage_arbre</th>\n",
       "      <th>canisse_arbre</th>\n",
       "      <th>plaie_tronc</th>\n",
       "      <th>champignon_houppier</th>\n",
       "    </tr>\n",
       "  </thead>\n",
       "  <tbody>\n",
       "    <tr>\n",
       "      <th>0</th>\n",
       "      <td>Quartier 2 - Alsace - Pereire</td>\n",
       "      <td>Carrefour RN13</td>\n",
       "      <td>Impair</td>\n",
       "      <td>Non</td>\n",
       "      <td>Betula</td>\n",
       "      <td>Alba</td>\n",
       "      <td>Groupe</td>\n",
       "      <td>P</td>\n",
       "      <td>HPLC</td>\n",
       "      <td>HBMI</td>\n",
       "      <td>...</td>\n",
       "      <td>P</td>\n",
       "      <td>Non</td>\n",
       "      <td>RCPLNS</td>\n",
       "      <td>Non</td>\n",
       "      <td>TPF</td>\n",
       "      <td>Non</td>\n",
       "      <td>Non</td>\n",
       "      <td>Non</td>\n",
       "      <td>TPLNC</td>\n",
       "      <td>Non</td>\n",
       "    </tr>\n",
       "    <tr>\n",
       "      <th>1</th>\n",
       "      <td>Quartier 2 - Alsace - Pereire</td>\n",
       "      <td>Carrefour RN13</td>\n",
       "      <td>Impair</td>\n",
       "      <td>Non</td>\n",
       "      <td>Betula</td>\n",
       "      <td>Alba</td>\n",
       "      <td>Groupe</td>\n",
       "      <td>P</td>\n",
       "      <td>HPLC</td>\n",
       "      <td>HBMI</td>\n",
       "      <td>...</td>\n",
       "      <td>P</td>\n",
       "      <td>Non</td>\n",
       "      <td>RCPPL</td>\n",
       "      <td>Non</td>\n",
       "      <td>TPF</td>\n",
       "      <td>Non</td>\n",
       "      <td>Non</td>\n",
       "      <td>Non</td>\n",
       "      <td>TPLC</td>\n",
       "      <td>Non</td>\n",
       "    </tr>\n",
       "    <tr>\n",
       "      <th>2</th>\n",
       "      <td>Quartier 2 - Alsace - Pereire</td>\n",
       "      <td>Carrefour RN13</td>\n",
       "      <td>Impair</td>\n",
       "      <td>Non</td>\n",
       "      <td>Betula</td>\n",
       "      <td>Alba</td>\n",
       "      <td>Groupe</td>\n",
       "      <td>P</td>\n",
       "      <td>HPLC</td>\n",
       "      <td>HBMI</td>\n",
       "      <td>...</td>\n",
       "      <td>P</td>\n",
       "      <td>Non</td>\n",
       "      <td>RCPPL</td>\n",
       "      <td>Non</td>\n",
       "      <td>TPF</td>\n",
       "      <td>Non</td>\n",
       "      <td>Non</td>\n",
       "      <td>Non</td>\n",
       "      <td>TPLCF</td>\n",
       "      <td>Non</td>\n",
       "    </tr>\n",
       "    <tr>\n",
       "      <th>3</th>\n",
       "      <td>Quartier 2 - Alsace - Pereire</td>\n",
       "      <td>Carrefour RN13</td>\n",
       "      <td>Impair</td>\n",
       "      <td>Non</td>\n",
       "      <td>Carpinus</td>\n",
       "      <td>Betulus - L. - Fastigiata</td>\n",
       "      <td>Bosquet</td>\n",
       "      <td>G</td>\n",
       "      <td>HPLS</td>\n",
       "      <td>HBMI</td>\n",
       "      <td>...</td>\n",
       "      <td>P</td>\n",
       "      <td>Non</td>\n",
       "      <td>RCPPL</td>\n",
       "      <td>Non</td>\n",
       "      <td>TPF</td>\n",
       "      <td>Non</td>\n",
       "      <td>Non</td>\n",
       "      <td>Non</td>\n",
       "      <td>TPLS</td>\n",
       "      <td>Non</td>\n",
       "    </tr>\n",
       "    <tr>\n",
       "      <th>4</th>\n",
       "      <td>Quartier 2 - Alsace - Pereire</td>\n",
       "      <td>Carrefour RN13</td>\n",
       "      <td>Impair</td>\n",
       "      <td>Non</td>\n",
       "      <td>Carpinus</td>\n",
       "      <td>Betulus - L. - Fastigiata</td>\n",
       "      <td>Bosquet</td>\n",
       "      <td>G</td>\n",
       "      <td>HPLS</td>\n",
       "      <td>HBMI</td>\n",
       "      <td>...</td>\n",
       "      <td>P</td>\n",
       "      <td>Non</td>\n",
       "      <td>RCPPL</td>\n",
       "      <td>Non</td>\n",
       "      <td>TPF</td>\n",
       "      <td>Non</td>\n",
       "      <td>Non</td>\n",
       "      <td>Non</td>\n",
       "      <td>TPLS</td>\n",
       "      <td>Non</td>\n",
       "    </tr>\n",
       "  </tbody>\n",
       "</table>\n",
       "<p>5 rows × 26 columns</p>\n",
       "</div>"
      ],
      "text/plain": [
       "                        quartier            site cote_voirie contrainte  \\\n",
       "0  Quartier 2 - Alsace - Pereire  Carrefour RN13      Impair        Non   \n",
       "1  Quartier 2 - Alsace - Pereire  Carrefour RN13      Impair        Non   \n",
       "2  Quartier 2 - Alsace - Pereire  Carrefour RN13      Impair        Non   \n",
       "3  Quartier 2 - Alsace - Pereire  Carrefour RN13      Impair        Non   \n",
       "4  Quartier 2 - Alsace - Pereire  Carrefour RN13      Impair        Non   \n",
       "\n",
       "  genre_arbre                espece_arbre situation type_sol plaie_houppier  \\\n",
       "0      Betula                        Alba    Groupe        P           HPLC   \n",
       "1      Betula                        Alba    Groupe        P           HPLC   \n",
       "2      Betula                        Alba    Groupe        P           HPLC   \n",
       "3    Carpinus   Betulus - L. - Fastigiata   Bosquet        G           HPLS   \n",
       "4    Carpinus   Betulus - L. - Fastigiata   Bosquet        G           HPLS   \n",
       "\n",
       "  bois_mort_houppier  ... vigueur_pousse champignon_collet plaie_collet  \\\n",
       "0              HBMI   ...              P               Non       RCPLNS   \n",
       "1              HBMI   ...              P               Non        RCPPL   \n",
       "2              HBMI   ...              P               Non        RCPPL   \n",
       "3              HBMI   ...              P               Non        RCPPL   \n",
       "4              HBMI   ...              P               Non        RCPPL   \n",
       "\n",
       "  champignon_tronc fissure_tronc rejet_tronc tuteurage_arbre canisse_arbre  \\\n",
       "0              Non           TPF         Non             Non           Non   \n",
       "1              Non           TPF         Non             Non           Non   \n",
       "2              Non           TPF         Non             Non           Non   \n",
       "3              Non           TPF         Non             Non           Non   \n",
       "4              Non           TPF         Non             Non           Non   \n",
       "\n",
       "  plaie_tronc champignon_houppier  \n",
       "0       TPLNC                 Non  \n",
       "1        TPLC                 Non  \n",
       "2       TPLCF                 Non  \n",
       "3        TPLS                 Non  \n",
       "4        TPLS                 Non  \n",
       "\n",
       "[5 rows x 26 columns]"
      ]
     },
     "execution_count": 21,
     "metadata": {},
     "output_type": "execute_result"
    }
   ],
   "source": [
    "from sklearn.compose import make_column_selector as selector\n",
    "#Separating Numerical and Categorical columns\n",
    "numerical_columns_selector = selector(dtype_exclude=object)\n",
    "categorical_columns_selector = selector(dtype_include=object)\n",
    "\n",
    "categorical_columns = categorical_columns_selector(data)\n",
    "data_categorical = data[categorical_columns]\n",
    "data_categorical.head()"
   ]
  },
  {
   "cell_type": "code",
   "execution_count": 22,
   "id": "6b0fe13a-05b3-4e21-9fc8-578b1fa48eb1",
   "metadata": {},
   "outputs": [
    {
     "name": "stdout",
     "output_type": "stream",
     "text": [
      "The dataset is composed of 26 Categorical features\n"
     ]
    }
   ],
   "source": [
    "print(f\"The dataset is composed of {data_categorical.shape[1]} Categorical features\")"
   ]
  },
  {
   "cell_type": "code",
   "execution_count": 23,
   "id": "ddb155f5-7eb1-42a7-8a4c-ba106ed36b1f",
   "metadata": {},
   "outputs": [
    {
     "data": {
      "text/plain": [
       "(709, 26)"
      ]
     },
     "execution_count": 23,
     "metadata": {},
     "output_type": "execute_result"
    }
   ],
   "source": [
    "from sklearn.preprocessing import OrdinalEncoder, StandardScaler\n",
    "\n",
    "categorical_encoder = OrdinalEncoder()\n",
    "data_encoded = categorical_encoder.fit_transform(data_categorical)\n",
    "data_encoded.shape"
   ]
  },
  {
   "cell_type": "code",
   "execution_count": 24,
   "id": "959defee-90a8-403d-b6e3-5bec22e7ce6b",
   "metadata": {},
   "outputs": [
    {
     "data": {
      "text/plain": [
       "array([[1., 5., 0., 0., 4., 0., 2., 6., 0., 0., 0., 0., 1., 2., 1., 4.,\n",
       "        2., 0., 4., 0., 2., 0., 0., 0., 2., 0.],\n",
       "       [1., 5., 0., 0., 4., 0., 2., 6., 0., 0., 0., 0., 1., 2., 1., 4.,\n",
       "        2., 0., 6., 0., 2., 0., 0., 0., 0., 0.],\n",
       "       [1., 5., 0., 0., 4., 0., 2., 6., 0., 0., 0., 0., 1., 2., 1., 4.,\n",
       "        2., 0., 6., 0., 2., 0., 0., 0., 1., 0.],\n",
       "       [1., 5., 0., 0., 5., 8., 1., 2., 2., 0., 0., 0., 3., 2., 1., 1.,\n",
       "        2., 0., 6., 0., 2., 0., 0., 0., 3., 0.],\n",
       "       [1., 5., 0., 0., 5., 8., 1., 2., 2., 0., 0., 0., 3., 2., 5., 1.,\n",
       "        2., 0., 6., 0., 2., 0., 0., 0., 3., 0.]])"
      ]
     },
     "execution_count": 24,
     "metadata": {},
     "output_type": "execute_result"
    }
   ],
   "source": [
    "data_encoded[:5]"
   ]
  },
  {
   "cell_type": "code",
   "execution_count": 25,
   "id": "491ff53d-1985-425b-a1ff-4d325ec535cc",
   "metadata": {},
   "outputs": [
    {
     "name": "stdout",
     "output_type": "stream",
     "text": [
      "The dataset encoded contains 26 features\n"
     ]
    }
   ],
   "source": [
    "print(\n",
    "    f\"The dataset encoded contains {data_encoded.shape[1]} features\")"
   ]
  },
  {
   "cell_type": "code",
   "execution_count": 26,
   "id": "4e9b4bc9-add7-4dba-852a-7ef35661f560",
   "metadata": {
    "tags": []
   },
   "outputs": [
    {
     "data": {
      "text/plain": [
       "26"
      ]
     },
     "execution_count": 26,
     "metadata": {},
     "output_type": "execute_result"
    }
   ],
   "source": [
    "len(categorical_columns)"
   ]
  },
  {
   "cell_type": "code",
   "execution_count": 27,
   "id": "f7f99152-7c9a-4b55-a463-27c33854a604",
   "metadata": {},
   "outputs": [
    {
     "data": {
      "text/plain": [
       "['quartier',\n",
       " 'site',\n",
       " 'cote_voirie',\n",
       " 'contrainte',\n",
       " 'genre_arbre',\n",
       " 'espece_arbre',\n",
       " 'situation',\n",
       " 'type_sol',\n",
       " 'plaie_houppier',\n",
       " 'bois_mort_houppier',\n",
       " 'classe_age',\n",
       " 'ecorce_incluse_houppier',\n",
       " 'classe_hauteur',\n",
       " 'fissure_houppier',\n",
       " 'classe_circonference',\n",
       " 'port_arbre',\n",
       " 'vigueur_pousse',\n",
       " 'champignon_collet',\n",
       " 'plaie_collet',\n",
       " 'champignon_tronc',\n",
       " 'fissure_tronc',\n",
       " 'rejet_tronc',\n",
       " 'tuteurage_arbre',\n",
       " 'canisse_arbre',\n",
       " 'plaie_tronc',\n",
       " 'champignon_houppier']"
      ]
     },
     "execution_count": 27,
     "metadata": {},
     "output_type": "execute_result"
    }
   ],
   "source": [
    "categorical_columns"
   ]
  },
  {
   "cell_type": "code",
   "execution_count": 28,
   "id": "9db32625-5b44-4f90-854d-f55a947726c7",
   "metadata": {},
   "outputs": [],
   "source": [
    "#Adding Numpy array into pandas data frame (Numerical columns)\n",
    "data_cat_encoded_to_num = pd.DataFrame(data_encoded, columns=['quartier',\n",
    " 'site',\n",
    " 'cote_voirie',\n",
    " 'contrainte',\n",
    " 'genre_arbre',\n",
    " 'espece_arbre',\n",
    " 'situation',\n",
    " 'type_sol',\n",
    " 'plaie_houppier',\n",
    " 'bois_mort_houppier',\n",
    " 'classe_age',\n",
    " 'ecorce_incluse_houppier',\n",
    " 'classe_hauteur',\n",
    " 'fissure_houppier',\n",
    " 'classe_circonference',\n",
    " 'port_arbre',\n",
    " 'vigueur_pousse',\n",
    " 'champignon_collet',\n",
    " 'plaie_collet',\n",
    " 'champignon_tronc',\n",
    " 'fissure_tronc',\n",
    " 'rejet_tronc',\n",
    " 'tuteurage_arbre',\n",
    " 'canisse_arbre',\n",
    " 'plaie_tronc',\n",
    " 'champignon_houppier'])"
   ]
  },
  {
   "cell_type": "code",
   "execution_count": 29,
   "id": "3cb674f5-c9e1-40ec-a6ce-288f75550b69",
   "metadata": {},
   "outputs": [
    {
     "data": {
      "text/html": [
       "<div>\n",
       "<style scoped>\n",
       "    .dataframe tbody tr th:only-of-type {\n",
       "        vertical-align: middle;\n",
       "    }\n",
       "\n",
       "    .dataframe tbody tr th {\n",
       "        vertical-align: top;\n",
       "    }\n",
       "\n",
       "    .dataframe thead th {\n",
       "        text-align: right;\n",
       "    }\n",
       "</style>\n",
       "<table border=\"1\" class=\"dataframe\">\n",
       "  <thead>\n",
       "    <tr style=\"text-align: right;\">\n",
       "      <th></th>\n",
       "      <th>quartier</th>\n",
       "      <th>site</th>\n",
       "      <th>cote_voirie</th>\n",
       "      <th>contrainte</th>\n",
       "      <th>genre_arbre</th>\n",
       "      <th>espece_arbre</th>\n",
       "      <th>situation</th>\n",
       "      <th>type_sol</th>\n",
       "      <th>plaie_houppier</th>\n",
       "      <th>bois_mort_houppier</th>\n",
       "      <th>...</th>\n",
       "      <th>vigueur_pousse</th>\n",
       "      <th>champignon_collet</th>\n",
       "      <th>plaie_collet</th>\n",
       "      <th>champignon_tronc</th>\n",
       "      <th>fissure_tronc</th>\n",
       "      <th>rejet_tronc</th>\n",
       "      <th>tuteurage_arbre</th>\n",
       "      <th>canisse_arbre</th>\n",
       "      <th>plaie_tronc</th>\n",
       "      <th>champignon_houppier</th>\n",
       "    </tr>\n",
       "  </thead>\n",
       "  <tbody>\n",
       "    <tr>\n",
       "      <th>0</th>\n",
       "      <td>1.0</td>\n",
       "      <td>5.0</td>\n",
       "      <td>0.0</td>\n",
       "      <td>0.0</td>\n",
       "      <td>4.0</td>\n",
       "      <td>0.0</td>\n",
       "      <td>2.0</td>\n",
       "      <td>6.0</td>\n",
       "      <td>0.0</td>\n",
       "      <td>0.0</td>\n",
       "      <td>...</td>\n",
       "      <td>2.0</td>\n",
       "      <td>0.0</td>\n",
       "      <td>4.0</td>\n",
       "      <td>0.0</td>\n",
       "      <td>2.0</td>\n",
       "      <td>0.0</td>\n",
       "      <td>0.0</td>\n",
       "      <td>0.0</td>\n",
       "      <td>2.0</td>\n",
       "      <td>0.0</td>\n",
       "    </tr>\n",
       "    <tr>\n",
       "      <th>1</th>\n",
       "      <td>1.0</td>\n",
       "      <td>5.0</td>\n",
       "      <td>0.0</td>\n",
       "      <td>0.0</td>\n",
       "      <td>4.0</td>\n",
       "      <td>0.0</td>\n",
       "      <td>2.0</td>\n",
       "      <td>6.0</td>\n",
       "      <td>0.0</td>\n",
       "      <td>0.0</td>\n",
       "      <td>...</td>\n",
       "      <td>2.0</td>\n",
       "      <td>0.0</td>\n",
       "      <td>6.0</td>\n",
       "      <td>0.0</td>\n",
       "      <td>2.0</td>\n",
       "      <td>0.0</td>\n",
       "      <td>0.0</td>\n",
       "      <td>0.0</td>\n",
       "      <td>0.0</td>\n",
       "      <td>0.0</td>\n",
       "    </tr>\n",
       "    <tr>\n",
       "      <th>2</th>\n",
       "      <td>1.0</td>\n",
       "      <td>5.0</td>\n",
       "      <td>0.0</td>\n",
       "      <td>0.0</td>\n",
       "      <td>4.0</td>\n",
       "      <td>0.0</td>\n",
       "      <td>2.0</td>\n",
       "      <td>6.0</td>\n",
       "      <td>0.0</td>\n",
       "      <td>0.0</td>\n",
       "      <td>...</td>\n",
       "      <td>2.0</td>\n",
       "      <td>0.0</td>\n",
       "      <td>6.0</td>\n",
       "      <td>0.0</td>\n",
       "      <td>2.0</td>\n",
       "      <td>0.0</td>\n",
       "      <td>0.0</td>\n",
       "      <td>0.0</td>\n",
       "      <td>1.0</td>\n",
       "      <td>0.0</td>\n",
       "    </tr>\n",
       "    <tr>\n",
       "      <th>3</th>\n",
       "      <td>1.0</td>\n",
       "      <td>5.0</td>\n",
       "      <td>0.0</td>\n",
       "      <td>0.0</td>\n",
       "      <td>5.0</td>\n",
       "      <td>8.0</td>\n",
       "      <td>1.0</td>\n",
       "      <td>2.0</td>\n",
       "      <td>2.0</td>\n",
       "      <td>0.0</td>\n",
       "      <td>...</td>\n",
       "      <td>2.0</td>\n",
       "      <td>0.0</td>\n",
       "      <td>6.0</td>\n",
       "      <td>0.0</td>\n",
       "      <td>2.0</td>\n",
       "      <td>0.0</td>\n",
       "      <td>0.0</td>\n",
       "      <td>0.0</td>\n",
       "      <td>3.0</td>\n",
       "      <td>0.0</td>\n",
       "    </tr>\n",
       "    <tr>\n",
       "      <th>4</th>\n",
       "      <td>1.0</td>\n",
       "      <td>5.0</td>\n",
       "      <td>0.0</td>\n",
       "      <td>0.0</td>\n",
       "      <td>5.0</td>\n",
       "      <td>8.0</td>\n",
       "      <td>1.0</td>\n",
       "      <td>2.0</td>\n",
       "      <td>2.0</td>\n",
       "      <td>0.0</td>\n",
       "      <td>...</td>\n",
       "      <td>2.0</td>\n",
       "      <td>0.0</td>\n",
       "      <td>6.0</td>\n",
       "      <td>0.0</td>\n",
       "      <td>2.0</td>\n",
       "      <td>0.0</td>\n",
       "      <td>0.0</td>\n",
       "      <td>0.0</td>\n",
       "      <td>3.0</td>\n",
       "      <td>0.0</td>\n",
       "    </tr>\n",
       "  </tbody>\n",
       "</table>\n",
       "<p>5 rows × 26 columns</p>\n",
       "</div>"
      ],
      "text/plain": [
       "   quartier  site  cote_voirie  contrainte  genre_arbre  espece_arbre  \\\n",
       "0       1.0   5.0          0.0         0.0          4.0           0.0   \n",
       "1       1.0   5.0          0.0         0.0          4.0           0.0   \n",
       "2       1.0   5.0          0.0         0.0          4.0           0.0   \n",
       "3       1.0   5.0          0.0         0.0          5.0           8.0   \n",
       "4       1.0   5.0          0.0         0.0          5.0           8.0   \n",
       "\n",
       "   situation  type_sol  plaie_houppier  bois_mort_houppier  ...  \\\n",
       "0        2.0       6.0             0.0                 0.0  ...   \n",
       "1        2.0       6.0             0.0                 0.0  ...   \n",
       "2        2.0       6.0             0.0                 0.0  ...   \n",
       "3        1.0       2.0             2.0                 0.0  ...   \n",
       "4        1.0       2.0             2.0                 0.0  ...   \n",
       "\n",
       "   vigueur_pousse  champignon_collet  plaie_collet  champignon_tronc  \\\n",
       "0             2.0                0.0           4.0               0.0   \n",
       "1             2.0                0.0           6.0               0.0   \n",
       "2             2.0                0.0           6.0               0.0   \n",
       "3             2.0                0.0           6.0               0.0   \n",
       "4             2.0                0.0           6.0               0.0   \n",
       "\n",
       "   fissure_tronc  rejet_tronc  tuteurage_arbre  canisse_arbre  plaie_tronc  \\\n",
       "0            2.0          0.0              0.0            0.0          2.0   \n",
       "1            2.0          0.0              0.0            0.0          0.0   \n",
       "2            2.0          0.0              0.0            0.0          1.0   \n",
       "3            2.0          0.0              0.0            0.0          3.0   \n",
       "4            2.0          0.0              0.0            0.0          3.0   \n",
       "\n",
       "   champignon_houppier  \n",
       "0                  0.0  \n",
       "1                  0.0  \n",
       "2                  0.0  \n",
       "3                  0.0  \n",
       "4                  0.0  \n",
       "\n",
       "[5 rows x 26 columns]"
      ]
     },
     "execution_count": 29,
     "metadata": {},
     "output_type": "execute_result"
    }
   ],
   "source": [
    "data_cat_encoded_to_num.head()"
   ]
  },
  {
   "cell_type": "code",
   "execution_count": 30,
   "id": "3f3e79a6-3b9e-441b-90f4-5833ca94b4ad",
   "metadata": {},
   "outputs": [],
   "source": [
    "data_numerical = data[numerical_columns]\n",
    "data_numerical_all_features= pd.concat([data_cat_encoded_to_num, data_numerical], axis=1)"
   ]
  },
  {
   "cell_type": "code",
   "execution_count": 31,
   "id": "e2388835-d817-451a-8d48-f8964e903c2a",
   "metadata": {},
   "outputs": [
    {
     "name": "stdout",
     "output_type": "stream",
     "text": [
      "<class 'pandas.core.frame.DataFrame'>\n",
      "RangeIndex: 709 entries, 0 to 708\n",
      "Data columns (total 32 columns):\n",
      " #   Column                   Non-Null Count  Dtype  \n",
      "---  ------                   --------------  -----  \n",
      " 0   quartier                 709 non-null    float64\n",
      " 1   site                     709 non-null    float64\n",
      " 2   cote_voirie              709 non-null    float64\n",
      " 3   contrainte               709 non-null    float64\n",
      " 4   genre_arbre              709 non-null    float64\n",
      " 5   espece_arbre             709 non-null    float64\n",
      " 6   situation                709 non-null    float64\n",
      " 7   type_sol                 709 non-null    float64\n",
      " 8   plaie_houppier           709 non-null    float64\n",
      " 9   bois_mort_houppier       709 non-null    float64\n",
      " 10  classe_age               709 non-null    float64\n",
      " 11  ecorce_incluse_houppier  709 non-null    float64\n",
      " 12  classe_hauteur           709 non-null    float64\n",
      " 13  fissure_houppier         709 non-null    float64\n",
      " 14  classe_circonference     709 non-null    float64\n",
      " 15  port_arbre               709 non-null    float64\n",
      " 16  vigueur_pousse           709 non-null    float64\n",
      " 17  champignon_collet        709 non-null    float64\n",
      " 18  plaie_collet             709 non-null    float64\n",
      " 19  champignon_tronc         709 non-null    float64\n",
      " 20  fissure_tronc            709 non-null    float64\n",
      " 21  rejet_tronc              709 non-null    float64\n",
      " 22  tuteurage_arbre          709 non-null    float64\n",
      " 23  canisse_arbre            709 non-null    float64\n",
      " 24  plaie_tronc              709 non-null    float64\n",
      " 25  champignon_houppier      709 non-null    float64\n",
      " 26  diametre                 709 non-null    float64\n",
      " 27  hauteur                  709 non-null    int64  \n",
      " 28  date_plantation          709 non-null    int64  \n",
      " 29  surf_permeable           709 non-null    float64\n",
      " 30  esperance_maintien       709 non-null    float64\n",
      " 31  matricule_arbre          709 non-null    int64  \n",
      "dtypes: float64(29), int64(3)\n",
      "memory usage: 177.4 KB\n"
     ]
    }
   ],
   "source": [
    "data_numerical_all_features.info()"
   ]
  },
  {
   "cell_type": "code",
   "execution_count": 32,
   "id": "ab291722-8d5d-4126-9846-943238904358",
   "metadata": {},
   "outputs": [
    {
     "data": {
      "text/html": [
       "<div>\n",
       "<style scoped>\n",
       "    .dataframe tbody tr th:only-of-type {\n",
       "        vertical-align: middle;\n",
       "    }\n",
       "\n",
       "    .dataframe tbody tr th {\n",
       "        vertical-align: top;\n",
       "    }\n",
       "\n",
       "    .dataframe thead th {\n",
       "        text-align: right;\n",
       "    }\n",
       "</style>\n",
       "<table border=\"1\" class=\"dataframe\">\n",
       "  <thead>\n",
       "    <tr style=\"text-align: right;\">\n",
       "      <th></th>\n",
       "      <th>quartier</th>\n",
       "      <th>site</th>\n",
       "      <th>cote_voirie</th>\n",
       "      <th>contrainte</th>\n",
       "      <th>genre_arbre</th>\n",
       "      <th>espece_arbre</th>\n",
       "      <th>situation</th>\n",
       "      <th>type_sol</th>\n",
       "      <th>plaie_houppier</th>\n",
       "      <th>bois_mort_houppier</th>\n",
       "      <th>...</th>\n",
       "      <th>tuteurage_arbre</th>\n",
       "      <th>canisse_arbre</th>\n",
       "      <th>plaie_tronc</th>\n",
       "      <th>champignon_houppier</th>\n",
       "      <th>diametre</th>\n",
       "      <th>hauteur</th>\n",
       "      <th>date_plantation</th>\n",
       "      <th>surf_permeable</th>\n",
       "      <th>esperance_maintien</th>\n",
       "      <th>matricule_arbre</th>\n",
       "    </tr>\n",
       "  </thead>\n",
       "  <tbody>\n",
       "    <tr>\n",
       "      <th>0</th>\n",
       "      <td>1.0</td>\n",
       "      <td>5.0</td>\n",
       "      <td>0.0</td>\n",
       "      <td>0.0</td>\n",
       "      <td>4.0</td>\n",
       "      <td>0.0</td>\n",
       "      <td>2.0</td>\n",
       "      <td>6.0</td>\n",
       "      <td>0.0</td>\n",
       "      <td>0.0</td>\n",
       "      <td>...</td>\n",
       "      <td>0.0</td>\n",
       "      <td>0.0</td>\n",
       "      <td>2.0</td>\n",
       "      <td>0.0</td>\n",
       "      <td>63.661977</td>\n",
       "      <td>1000</td>\n",
       "      <td>2000</td>\n",
       "      <td>5.0</td>\n",
       "      <td>1.0</td>\n",
       "      <td>7</td>\n",
       "    </tr>\n",
       "    <tr>\n",
       "      <th>1</th>\n",
       "      <td>1.0</td>\n",
       "      <td>5.0</td>\n",
       "      <td>0.0</td>\n",
       "      <td>0.0</td>\n",
       "      <td>4.0</td>\n",
       "      <td>0.0</td>\n",
       "      <td>2.0</td>\n",
       "      <td>6.0</td>\n",
       "      <td>0.0</td>\n",
       "      <td>0.0</td>\n",
       "      <td>...</td>\n",
       "      <td>0.0</td>\n",
       "      <td>0.0</td>\n",
       "      <td>0.0</td>\n",
       "      <td>0.0</td>\n",
       "      <td>60.478878</td>\n",
       "      <td>1000</td>\n",
       "      <td>2000</td>\n",
       "      <td>5.0</td>\n",
       "      <td>1.0</td>\n",
       "      <td>8</td>\n",
       "    </tr>\n",
       "    <tr>\n",
       "      <th>2</th>\n",
       "      <td>1.0</td>\n",
       "      <td>5.0</td>\n",
       "      <td>0.0</td>\n",
       "      <td>0.0</td>\n",
       "      <td>4.0</td>\n",
       "      <td>0.0</td>\n",
       "      <td>2.0</td>\n",
       "      <td>6.0</td>\n",
       "      <td>0.0</td>\n",
       "      <td>0.0</td>\n",
       "      <td>...</td>\n",
       "      <td>0.0</td>\n",
       "      <td>0.0</td>\n",
       "      <td>1.0</td>\n",
       "      <td>0.0</td>\n",
       "      <td>54.112681</td>\n",
       "      <td>1000</td>\n",
       "      <td>2000</td>\n",
       "      <td>5.0</td>\n",
       "      <td>1.0</td>\n",
       "      <td>9</td>\n",
       "    </tr>\n",
       "    <tr>\n",
       "      <th>3</th>\n",
       "      <td>1.0</td>\n",
       "      <td>5.0</td>\n",
       "      <td>0.0</td>\n",
       "      <td>0.0</td>\n",
       "      <td>5.0</td>\n",
       "      <td>8.0</td>\n",
       "      <td>1.0</td>\n",
       "      <td>2.0</td>\n",
       "      <td>2.0</td>\n",
       "      <td>0.0</td>\n",
       "      <td>...</td>\n",
       "      <td>0.0</td>\n",
       "      <td>0.0</td>\n",
       "      <td>3.0</td>\n",
       "      <td>0.0</td>\n",
       "      <td>63.661977</td>\n",
       "      <td>1600</td>\n",
       "      <td>1980</td>\n",
       "      <td>100.0</td>\n",
       "      <td>1.0</td>\n",
       "      <td>1</td>\n",
       "    </tr>\n",
       "    <tr>\n",
       "      <th>4</th>\n",
       "      <td>1.0</td>\n",
       "      <td>5.0</td>\n",
       "      <td>0.0</td>\n",
       "      <td>0.0</td>\n",
       "      <td>5.0</td>\n",
       "      <td>8.0</td>\n",
       "      <td>1.0</td>\n",
       "      <td>2.0</td>\n",
       "      <td>2.0</td>\n",
       "      <td>0.0</td>\n",
       "      <td>...</td>\n",
       "      <td>0.0</td>\n",
       "      <td>0.0</td>\n",
       "      <td>3.0</td>\n",
       "      <td>0.0</td>\n",
       "      <td>190.985932</td>\n",
       "      <td>1600</td>\n",
       "      <td>1980</td>\n",
       "      <td>100.0</td>\n",
       "      <td>1.0</td>\n",
       "      <td>2</td>\n",
       "    </tr>\n",
       "  </tbody>\n",
       "</table>\n",
       "<p>5 rows × 32 columns</p>\n",
       "</div>"
      ],
      "text/plain": [
       "   quartier  site  cote_voirie  contrainte  genre_arbre  espece_arbre  \\\n",
       "0       1.0   5.0          0.0         0.0          4.0           0.0   \n",
       "1       1.0   5.0          0.0         0.0          4.0           0.0   \n",
       "2       1.0   5.0          0.0         0.0          4.0           0.0   \n",
       "3       1.0   5.0          0.0         0.0          5.0           8.0   \n",
       "4       1.0   5.0          0.0         0.0          5.0           8.0   \n",
       "\n",
       "   situation  type_sol  plaie_houppier  bois_mort_houppier  ...  \\\n",
       "0        2.0       6.0             0.0                 0.0  ...   \n",
       "1        2.0       6.0             0.0                 0.0  ...   \n",
       "2        2.0       6.0             0.0                 0.0  ...   \n",
       "3        1.0       2.0             2.0                 0.0  ...   \n",
       "4        1.0       2.0             2.0                 0.0  ...   \n",
       "\n",
       "   tuteurage_arbre  canisse_arbre  plaie_tronc  champignon_houppier  \\\n",
       "0              0.0            0.0          2.0                  0.0   \n",
       "1              0.0            0.0          0.0                  0.0   \n",
       "2              0.0            0.0          1.0                  0.0   \n",
       "3              0.0            0.0          3.0                  0.0   \n",
       "4              0.0            0.0          3.0                  0.0   \n",
       "\n",
       "     diametre  hauteur  date_plantation  surf_permeable  esperance_maintien  \\\n",
       "0   63.661977     1000             2000             5.0                 1.0   \n",
       "1   60.478878     1000             2000             5.0                 1.0   \n",
       "2   54.112681     1000             2000             5.0                 1.0   \n",
       "3   63.661977     1600             1980           100.0                 1.0   \n",
       "4  190.985932     1600             1980           100.0                 1.0   \n",
       "\n",
       "   matricule_arbre  \n",
       "0                7  \n",
       "1                8  \n",
       "2                9  \n",
       "3                1  \n",
       "4                2  \n",
       "\n",
       "[5 rows x 32 columns]"
      ]
     },
     "execution_count": 32,
     "metadata": {},
     "output_type": "execute_result"
    }
   ],
   "source": [
    "data_numerical_all_features.head()"
   ]
  },
  {
   "cell_type": "code",
   "execution_count": 33,
   "id": "ccfafb9e-4dd3-40d1-92af-58e6ddba4b19",
   "metadata": {},
   "outputs": [],
   "source": [
    "data_hist= pd.concat([data_numerical_all_features, target], axis=1)"
   ]
  },
  {
   "cell_type": "code",
   "execution_count": 34,
   "id": "29935dbc-df6e-40cd-8072-4dafddfda49f",
   "metadata": {},
   "outputs": [
    {
     "data": {
      "image/png": "[encoded data removed]",
      "text/plain": [
       "<Figure size 1584x1152 with 36 Axes>"
      ]
     },
     "metadata": {
      "needs_background": "light"
     },
     "output_type": "display_data"
    }
   ],
   "source": [
    "_ = data_hist.hist(figsize=(22, 16))"
   ]
  },
  {
   "cell_type": "code",
   "execution_count": 35,
   "id": "7f665354-fd97-4831-bdd2-1fad29aee4e7",
   "metadata": {},
   "outputs": [],
   "source": [
    "numerical_columns = numerical_columns_selector(data_numerical_all_features)\n",
    "numerical_preprocessor = StandardScaler()\n",
    "from sklearn.compose import ColumnTransformer\n",
    "## Creating separate Transformers\n",
    "preprocessor = ColumnTransformer([\n",
    "    ('Standard_scaler', numerical_preprocessor, numerical_columns)])"
   ]
  },
  {
   "cell_type": "code",
   "execution_count": 36,
   "id": "ca507e62-9129-40aa-97b8-f6142979fc54",
   "metadata": {},
   "outputs": [],
   "source": [
    "from sklearn.linear_model import LogisticRegression\n",
    "from sklearn.pipeline import make_pipeline\n",
    "\n",
    "model_lr_oe = make_pipeline(preprocessor, LogisticRegression(max_iter=1000, random_state=0))"
   ]
  },
  {
   "cell_type": "code",
   "execution_count": 37,
   "id": "357eb61a-2238-4b70-9fe8-dc40c6bc2e8f",
   "metadata": {},
   "outputs": [
    {
     "data": {
      "text/html": [
       "<style>#sk-97afe383-3614-4fe2-a1d1-ef0fe01aa190 {color: black;background-color: white;}#sk-97afe383-3614-4fe2-a1d1-ef0fe01aa190 pre{padding: 0;}#sk-97afe383-3614-4fe2-a1d1-ef0fe01aa190 div.sk-toggleable {background-color: white;}#sk-97afe383-3614-4fe2-a1d1-ef0fe01aa190 label.sk-toggleable__label {cursor: pointer;display: block;width: 100%;margin-bottom: 0;padding: 0.2em 0.3em;box-sizing: border-box;text-align: center;}#sk-97afe383-3614-4fe2-a1d1-ef0fe01aa190 div.sk-toggleable__content {max-height: 0;max-width: 0;overflow: hidden;text-align: left;background-color: #f0f8ff;}#sk-97afe383-3614-4fe2-a1d1-ef0fe01aa190 div.sk-toggleable__content pre {margin: 0.2em;color: black;border-radius: 0.25em;background-color: #f0f8ff;}#sk-97afe383-3614-4fe2-a1d1-ef0fe01aa190 input.sk-toggleable__control:checked~div.sk-toggleable__content {max-height: 200px;max-width: 100%;overflow: auto;}#sk-97afe383-3614-4fe2-a1d1-ef0fe01aa190 div.sk-estimator input.sk-toggleable__control:checked~label.sk-toggleable__label {background-color: #d4ebff;}#sk-97afe383-3614-4fe2-a1d1-ef0fe01aa190 div.sk-label input.sk-toggleable__control:checked~label.sk-toggleable__label {background-color: #d4ebff;}#sk-97afe383-3614-4fe2-a1d1-ef0fe01aa190 input.sk-hidden--visually {border: 0;clip: rect(1px 1px 1px 1px);clip: rect(1px, 1px, 1px, 1px);height: 1px;margin: -1px;overflow: hidden;padding: 0;position: absolute;width: 1px;}#sk-97afe383-3614-4fe2-a1d1-ef0fe01aa190 div.sk-estimator {font-family: monospace;background-color: #f0f8ff;margin: 0.25em 0.25em;border: 1px dotted black;border-radius: 0.25em;box-sizing: border-box;}#sk-97afe383-3614-4fe2-a1d1-ef0fe01aa190 div.sk-estimator:hover {background-color: #d4ebff;}#sk-97afe383-3614-4fe2-a1d1-ef0fe01aa190 div.sk-parallel-item::after {content: \"\";width: 100%;border-bottom: 1px solid gray;flex-grow: 1;}#sk-97afe383-3614-4fe2-a1d1-ef0fe01aa190 div.sk-label:hover label.sk-toggleable__label {background-color: #d4ebff;}#sk-97afe383-3614-4fe2-a1d1-ef0fe01aa190 div.sk-serial::before {content: \"\";position: absolute;border-left: 1px solid gray;box-sizing: border-box;top: 2em;bottom: 0;left: 50%;}#sk-97afe383-3614-4fe2-a1d1-ef0fe01aa190 div.sk-serial {display: flex;flex-direction: column;align-items: center;background-color: white;}#sk-97afe383-3614-4fe2-a1d1-ef0fe01aa190 div.sk-item {z-index: 1;}#sk-97afe383-3614-4fe2-a1d1-ef0fe01aa190 div.sk-parallel {display: flex;align-items: stretch;justify-content: center;background-color: white;}#sk-97afe383-3614-4fe2-a1d1-ef0fe01aa190 div.sk-parallel-item {display: flex;flex-direction: column;position: relative;background-color: white;}#sk-97afe383-3614-4fe2-a1d1-ef0fe01aa190 div.sk-parallel-item:first-child::after {align-self: flex-end;width: 50%;}#sk-97afe383-3614-4fe2-a1d1-ef0fe01aa190 div.sk-parallel-item:last-child::after {align-self: flex-start;width: 50%;}#sk-97afe383-3614-4fe2-a1d1-ef0fe01aa190 div.sk-parallel-item:only-child::after {width: 0;}#sk-97afe383-3614-4fe2-a1d1-ef0fe01aa190 div.sk-dashed-wrapped {border: 1px dashed gray;margin: 0.2em;box-sizing: border-box;padding-bottom: 0.1em;background-color: white;position: relative;}#sk-97afe383-3614-4fe2-a1d1-ef0fe01aa190 div.sk-label label {font-family: monospace;font-weight: bold;background-color: white;display: inline-block;line-height: 1.2em;}#sk-97afe383-3614-4fe2-a1d1-ef0fe01aa190 div.sk-label-container {position: relative;z-index: 2;text-align: center;}#sk-97afe383-3614-4fe2-a1d1-ef0fe01aa190 div.sk-container {display: inline-block;position: relative;}</style><div id=\"sk-97afe383-3614-4fe2-a1d1-ef0fe01aa190\" class\"sk-top-container\"><div class=\"sk-container\"><div class=\"sk-item sk-dashed-wrapped\"><div class=\"sk-label-container\"><div class=\"sk-label sk-toggleable\"><input class=\"sk-toggleable__control sk-hidden--visually\" id=\"5d64e784-3afc-415c-823c-80ed6b7add9d\" type=\"checkbox\" ><label class=\"sk-toggleable__label\" for=\"5d64e784-3afc-415c-823c-80ed6b7add9d\">Pipeline</label><div class=\"sk-toggleable__content\"><pre>Pipeline(steps=[('columntransformer',\n",
       "                 ColumnTransformer(transformers=[('Standard_scaler',\n",
       "                                                  StandardScaler(),\n",
       "                                                  ['quartier', 'site',\n",
       "                                                   'cote_voirie', 'contrainte',\n",
       "                                                   'genre_arbre',\n",
       "                                                   'espece_arbre', 'situation',\n",
       "                                                   'type_sol', 'plaie_houppier',\n",
       "                                                   'bois_mort_houppier',\n",
       "                                                   'classe_age',\n",
       "                                                   'ecorce_incluse_houppier',\n",
       "                                                   'classe_hauteur',\n",
       "                                                   'fissure_houppier',\n",
       "                                                   'classe_circonference',\n",
       "                                                   'port_arbre',\n",
       "                                                   'vigueur_pousse',\n",
       "                                                   'champignon_collet',\n",
       "                                                   'plaie_collet',\n",
       "                                                   'champignon_tronc',\n",
       "                                                   'fissure_tronc',\n",
       "                                                   'rejet_tronc',\n",
       "                                                   'tuteurage_arbre',\n",
       "                                                   'canisse_arbre',\n",
       "                                                   'plaie_tronc',\n",
       "                                                   'champignon_houppier',\n",
       "                                                   'diametre', 'hauteur',\n",
       "                                                   'date_plantation',\n",
       "                                                   'surf_permeable', ...])])),\n",
       "                ('logisticregression',\n",
       "                 LogisticRegression(max_iter=1000, random_state=0))])</pre></div></div></div><div class=\"sk-serial\"><div class=\"sk-item sk-dashed-wrapped\"><div class=\"sk-label-container\"><div class=\"sk-label sk-toggleable\"><input class=\"sk-toggleable__control sk-hidden--visually\" id=\"a9b92008-78b7-485c-959c-7d69de15db80\" type=\"checkbox\" ><label class=\"sk-toggleable__label\" for=\"a9b92008-78b7-485c-959c-7d69de15db80\">columntransformer: ColumnTransformer</label><div class=\"sk-toggleable__content\"><pre>ColumnTransformer(transformers=[('Standard_scaler', StandardScaler(),\n",
       "                                 ['quartier', 'site', 'cote_voirie',\n",
       "                                  'contrainte', 'genre_arbre', 'espece_arbre',\n",
       "                                  'situation', 'type_sol', 'plaie_houppier',\n",
       "                                  'bois_mort_houppier', 'classe_age',\n",
       "                                  'ecorce_incluse_houppier', 'classe_hauteur',\n",
       "                                  'fissure_houppier', 'classe_circonference',\n",
       "                                  'port_arbre', 'vigueur_pousse',\n",
       "                                  'champignon_collet', 'plaie_collet',\n",
       "                                  'champignon_tronc', 'fissure_tronc',\n",
       "                                  'rejet_tronc', 'tuteurage_arbre',\n",
       "                                  'canisse_arbre', 'plaie_tronc',\n",
       "                                  'champignon_houppier', 'diametre', 'hauteur',\n",
       "                                  'date_plantation', 'surf_permeable', ...])])</pre></div></div></div><div class=\"sk-parallel\"><div class=\"sk-parallel-item\"><div class=\"sk-item\"><div class=\"sk-label-container\"><div class=\"sk-label sk-toggleable\"><input class=\"sk-toggleable__control sk-hidden--visually\" id=\"8a5ca163-1f57-45ca-9779-2c00d4c4db08\" type=\"checkbox\" ><label class=\"sk-toggleable__label\" for=\"8a5ca163-1f57-45ca-9779-2c00d4c4db08\">Standard_scaler</label><div class=\"sk-toggleable__content\"><pre>['quartier', 'site', 'cote_voirie', 'contrainte', 'genre_arbre', 'espece_arbre', 'situation', 'type_sol', 'plaie_houppier', 'bois_mort_houppier', 'classe_age', 'ecorce_incluse_houppier', 'classe_hauteur', 'fissure_houppier', 'classe_circonference', 'port_arbre', 'vigueur_pousse', 'champignon_collet', 'plaie_collet', 'champignon_tronc', 'fissure_tronc', 'rejet_tronc', 'tuteurage_arbre', 'canisse_arbre', 'plaie_tronc', 'champignon_houppier', 'diametre', 'hauteur', 'date_plantation', 'surf_permeable', 'esperance_maintien', 'matricule_arbre']</pre></div></div></div><div class=\"sk-serial\"><div class=\"sk-item\"><div class=\"sk-estimator sk-toggleable\"><input class=\"sk-toggleable__control sk-hidden--visually\" id=\"41bf536f-34e6-4338-9714-1fac7ee0f6ef\" type=\"checkbox\" ><label class=\"sk-toggleable__label\" for=\"41bf536f-34e6-4338-9714-1fac7ee0f6ef\">StandardScaler</label><div class=\"sk-toggleable__content\"><pre>StandardScaler()</pre></div></div></div></div></div></div></div></div><div class=\"sk-item\"><div class=\"sk-estimator sk-toggleable\"><input class=\"sk-toggleable__control sk-hidden--visually\" id=\"b0339039-77a6-4314-ae94-091e912cb21e\" type=\"checkbox\" ><label class=\"sk-toggleable__label\" for=\"b0339039-77a6-4314-ae94-091e912cb21e\">LogisticRegression</label><div class=\"sk-toggleable__content\"><pre>LogisticRegression(max_iter=1000, random_state=0)</pre></div></div></div></div></div></div></div>"
      ],
      "text/plain": [
       "Pipeline(steps=[('columntransformer',\n",
       "                 ColumnTransformer(transformers=[('Standard_scaler',\n",
       "                                                  StandardScaler(),\n",
       "                                                  ['quartier', 'site',\n",
       "                                                   'cote_voirie', 'contrainte',\n",
       "                                                   'genre_arbre',\n",
       "                                                   'espece_arbre', 'situation',\n",
       "                                                   'type_sol', 'plaie_houppier',\n",
       "                                                   'bois_mort_houppier',\n",
       "                                                   'classe_age',\n",
       "                                                   'ecorce_incluse_houppier',\n",
       "                                                   'classe_hauteur',\n",
       "                                                   'fissure_houppier',\n",
       "                                                   'classe_circonference',\n",
       "                                                   'port_arbre',\n",
       "                                                   'vigueur_pousse',\n",
       "                                                   'champignon_collet',\n",
       "                                                   'plaie_collet',\n",
       "                                                   'champignon_tronc',\n",
       "                                                   'fissure_tronc',\n",
       "                                                   'rejet_tronc',\n",
       "                                                   'tuteurage_arbre',\n",
       "                                                   'canisse_arbre',\n",
       "                                                   'plaie_tronc',\n",
       "                                                   'champignon_houppier',\n",
       "                                                   'diametre', 'hauteur',\n",
       "                                                   'date_plantation',\n",
       "                                                   'surf_permeable', ...])])),\n",
       "                ('logisticregression',\n",
       "                 LogisticRegression(max_iter=1000, random_state=0))])"
      ]
     },
     "execution_count": 37,
     "metadata": {},
     "output_type": "execute_result"
    }
   ],
   "source": [
    "from sklearn import set_config\n",
    "set_config(display='diagram')\n",
    "model_lr_oe"
   ]
  },
  {
   "cell_type": "code",
   "execution_count": 38,
   "id": "b0f0daec-1cac-4c85-b2c7-0d13de2d0274",
   "metadata": {},
   "outputs": [],
   "source": [
    "from sklearn.model_selection import train_test_split\n",
    "\n",
    "X_train, X_test, y_train, y_test = train_test_split(\n",
    "    data_numerical_all_features, target, random_state=0, test_size=0.1)"
   ]
  },
  {
   "cell_type": "code",
   "execution_count": 39,
   "id": "8c1fa711-6be3-4d6a-be76-c559026351f0",
   "metadata": {},
   "outputs": [
    {
     "name": "stdout",
     "output_type": "stream",
     "text": [
      "Wall time: 98.8 ms\n"
     ]
    }
   ],
   "source": [
    "%%time\n",
    "logistic_regression_oe_model = model_lr_oe.fit(X_train, y_train)"
   ]
  },
  {
   "cell_type": "code",
   "execution_count": 40,
   "id": "6421676b-611b-4a7f-9c2d-15af70eaac6e",
   "metadata": {},
   "outputs": [
    {
     "data": {
      "text/plain": [
       "0.7323943661971831"
      ]
     },
     "execution_count": 40,
     "metadata": {},
     "output_type": "execute_result"
    }
   ],
   "source": [
    "logistic_regression_oe_model.score(X_test, y_test)"
   ]
  },
  {
   "cell_type": "code",
   "execution_count": 41,
   "id": "353d2c3f-ec5a-416d-8225-202127fa014f",
   "metadata": {},
   "outputs": [
    {
     "data": {
      "text/plain": [
       "array(['C2', 'C2', 'C2', 'C1', 'C2'], dtype=object)"
      ]
     },
     "execution_count": 41,
     "metadata": {},
     "output_type": "execute_result"
    }
   ],
   "source": [
    "logistic_regression_oe_model.predict(X_test)[:5]"
   ]
  },
  {
   "cell_type": "code",
   "execution_count": 42,
   "id": "e84eeabd-29a8-487c-b9c3-5a1f8fe48ad3",
   "metadata": {},
   "outputs": [
    {
     "name": "stdout",
     "output_type": "stream",
     "text": [
      "Test Scores for the Logistic Regression Model with 5-Fold Cross-Validation:\n",
      "[0.8359375  0.8046875  0.765625   0.81102362 0.81889764]\n",
      "The Mean Cross-Validation Accuracy is: 0.807 with Standard Deviation of +/- 0.023\n",
      "Total time taken: 2.859375\n"
     ]
    }
   ],
   "source": [
    "from sklearn.model_selection import cross_validate\n",
    "start = time.process_time()\n",
    "cv_results_lrm_oe = cross_validate(logistic_regression_oe_model, X_train, y_train, cv=5)\n",
    "print(\"Test Scores for the Logistic Regression Model with 5-Fold Cross-Validation:\")\n",
    "print(cv_results_lrm_oe[\"test_score\"])\n",
    "scores = cv_results_lrm_oe[\"test_score\"]\n",
    "print(\"The Mean Cross-Validation Accuracy is: \"f\"{scores.mean():.3f} with Standard Deviation of +/- {scores.std():.3f}\")\n",
    "print(\"Total time taken: {:}\".format(time.process_time() - start))"
   ]
  },
  {
   "cell_type": "markdown",
   "id": "a7024a38-0ea4-4aed-82f2-3a264829938a",
   "metadata": {},
   "source": [
    "### Decision Tree Model (Without Pruning)"
   ]
  },
  {
   "cell_type": "code",
   "execution_count": 43,
   "id": "c9f28fca-76c6-4f2c-8ec0-565e2de91ead",
   "metadata": {},
   "outputs": [],
   "source": [
    "from sklearn.tree import DecisionTreeClassifier\n",
    "\n",
    "categorical_columns_selector = selector(dtype_include=object)\n",
    "categorical_columns = categorical_columns_selector(data)\n",
    "\n",
    "categorical_preprocessor = OrdinalEncoder(handle_unknown=\"use_encoded_value\",\n",
    "                                          unknown_value=-1)\n",
    "preprocessor = ColumnTransformer([\n",
    "    ('cat_preprocessor', categorical_preprocessor, categorical_columns)],\n",
    "    remainder='passthrough', sparse_threshold=0)\n",
    "model_dt = make_pipeline(preprocessor, DecisionTreeClassifier(random_state=0, criterion='entropy'))\n",
    "X_train, X_test, y_train, y_test = train_test_split(\n",
    "    data, target, random_state=0, test_size=0.1)"
   ]
  },
  {
   "cell_type": "code",
   "execution_count": 44,
   "id": "f479c6ea-b9ed-465e-9e0e-8ef44314e012",
   "metadata": {},
   "outputs": [
    {
     "data": {
      "text/html": [
       "<style>#sk-99b099b9-5f50-4265-b738-9f259d7a207f {color: black;background-color: white;}#sk-99b099b9-5f50-4265-b738-9f259d7a207f pre{padding: 0;}#sk-99b099b9-5f50-4265-b738-9f259d7a207f div.sk-toggleable {background-color: white;}#sk-99b099b9-5f50-4265-b738-9f259d7a207f label.sk-toggleable__label {cursor: pointer;display: block;width: 100%;margin-bottom: 0;padding: 0.2em 0.3em;box-sizing: border-box;text-align: center;}#sk-99b099b9-5f50-4265-b738-9f259d7a207f div.sk-toggleable__content {max-height: 0;max-width: 0;overflow: hidden;text-align: left;background-color: #f0f8ff;}#sk-99b099b9-5f50-4265-b738-9f259d7a207f div.sk-toggleable__content pre {margin: 0.2em;color: black;border-radius: 0.25em;background-color: #f0f8ff;}#sk-99b099b9-5f50-4265-b738-9f259d7a207f input.sk-toggleable__control:checked~div.sk-toggleable__content {max-height: 200px;max-width: 100%;overflow: auto;}#sk-99b099b9-5f50-4265-b738-9f259d7a207f div.sk-estimator input.sk-toggleable__control:checked~label.sk-toggleable__label {background-color: #d4ebff;}#sk-99b099b9-5f50-4265-b738-9f259d7a207f div.sk-label input.sk-toggleable__control:checked~label.sk-toggleable__label {background-color: #d4ebff;}#sk-99b099b9-5f50-4265-b738-9f259d7a207f input.sk-hidden--visually {border: 0;clip: rect(1px 1px 1px 1px);clip: rect(1px, 1px, 1px, 1px);height: 1px;margin: -1px;overflow: hidden;padding: 0;position: absolute;width: 1px;}#sk-99b099b9-5f50-4265-b738-9f259d7a207f div.sk-estimator {font-family: monospace;background-color: #f0f8ff;margin: 0.25em 0.25em;border: 1px dotted black;border-radius: 0.25em;box-sizing: border-box;}#sk-99b099b9-5f50-4265-b738-9f259d7a207f div.sk-estimator:hover {background-color: #d4ebff;}#sk-99b099b9-5f50-4265-b738-9f259d7a207f div.sk-parallel-item::after {content: \"\";width: 100%;border-bottom: 1px solid gray;flex-grow: 1;}#sk-99b099b9-5f50-4265-b738-9f259d7a207f div.sk-label:hover label.sk-toggleable__label {background-color: #d4ebff;}#sk-99b099b9-5f50-4265-b738-9f259d7a207f div.sk-serial::before {content: \"\";position: absolute;border-left: 1px solid gray;box-sizing: border-box;top: 2em;bottom: 0;left: 50%;}#sk-99b099b9-5f50-4265-b738-9f259d7a207f div.sk-serial {display: flex;flex-direction: column;align-items: center;background-color: white;}#sk-99b099b9-5f50-4265-b738-9f259d7a207f div.sk-item {z-index: 1;}#sk-99b099b9-5f50-4265-b738-9f259d7a207f div.sk-parallel {display: flex;align-items: stretch;justify-content: center;background-color: white;}#sk-99b099b9-5f50-4265-b738-9f259d7a207f div.sk-parallel-item {display: flex;flex-direction: column;position: relative;background-color: white;}#sk-99b099b9-5f50-4265-b738-9f259d7a207f div.sk-parallel-item:first-child::after {align-self: flex-end;width: 50%;}#sk-99b099b9-5f50-4265-b738-9f259d7a207f div.sk-parallel-item:last-child::after {align-self: flex-start;width: 50%;}#sk-99b099b9-5f50-4265-b738-9f259d7a207f div.sk-parallel-item:only-child::after {width: 0;}#sk-99b099b9-5f50-4265-b738-9f259d7a207f div.sk-dashed-wrapped {border: 1px dashed gray;margin: 0.2em;box-sizing: border-box;padding-bottom: 0.1em;background-color: white;position: relative;}#sk-99b099b9-5f50-4265-b738-9f259d7a207f div.sk-label label {font-family: monospace;font-weight: bold;background-color: white;display: inline-block;line-height: 1.2em;}#sk-99b099b9-5f50-4265-b738-9f259d7a207f div.sk-label-container {position: relative;z-index: 2;text-align: center;}#sk-99b099b9-5f50-4265-b738-9f259d7a207f div.sk-container {display: inline-block;position: relative;}</style><div id=\"sk-99b099b9-5f50-4265-b738-9f259d7a207f\" class\"sk-top-container\"><div class=\"sk-container\"><div class=\"sk-item sk-dashed-wrapped\"><div class=\"sk-label-container\"><div class=\"sk-label sk-toggleable\"><input class=\"sk-toggleable__control sk-hidden--visually\" id=\"a09805c3-6f64-4278-9ad1-39c096ca3019\" type=\"checkbox\" ><label class=\"sk-toggleable__label\" for=\"a09805c3-6f64-4278-9ad1-39c096ca3019\">Pipeline</label><div class=\"sk-toggleable__content\"><pre>Pipeline(steps=[('columntransformer',\n",
       "                 ColumnTransformer(remainder='passthrough', sparse_threshold=0,\n",
       "                                   transformers=[('cat_preprocessor',\n",
       "                                                  OrdinalEncoder(handle_unknown='use_encoded_value',\n",
       "                                                                 unknown_value=-1),\n",
       "                                                  ['quartier', 'site',\n",
       "                                                   'cote_voirie', 'contrainte',\n",
       "                                                   'genre_arbre',\n",
       "                                                   'espece_arbre', 'situation',\n",
       "                                                   'type_sol', 'plaie_houppier',\n",
       "                                                   'bois_mort_houppier',\n",
       "                                                   'classe_age',\n",
       "                                                   '...luse_houppier',\n",
       "                                                   'classe_hauteur',\n",
       "                                                   'fissure_houppier',\n",
       "                                                   'classe_circonference',\n",
       "                                                   'port_arbre',\n",
       "                                                   'vigueur_pousse',\n",
       "                                                   'champignon_collet',\n",
       "                                                   'plaie_collet',\n",
       "                                                   'champignon_tronc',\n",
       "                                                   'fissure_tronc',\n",
       "                                                   'rejet_tronc',\n",
       "                                                   'tuteurage_arbre',\n",
       "                                                   'canisse_arbre',\n",
       "                                                   'plaie_tronc',\n",
       "                                                   'champignon_houppier'])])),\n",
       "                ('decisiontreeclassifier',\n",
       "                 DecisionTreeClassifier(criterion='entropy', random_state=0))])</pre></div></div></div><div class=\"sk-serial\"><div class=\"sk-item sk-dashed-wrapped\"><div class=\"sk-label-container\"><div class=\"sk-label sk-toggleable\"><input class=\"sk-toggleable__control sk-hidden--visually\" id=\"da0005a8-4d75-40bf-a168-ad2dc8e093bb\" type=\"checkbox\" ><label class=\"sk-toggleable__label\" for=\"da0005a8-4d75-40bf-a168-ad2dc8e093bb\">columntransformer: ColumnTransformer</label><div class=\"sk-toggleable__content\"><pre>ColumnTransformer(remainder='passthrough', sparse_threshold=0,\n",
       "                  transformers=[('cat_preprocessor',\n",
       "                                 OrdinalEncoder(handle_unknown='use_encoded_value',\n",
       "                                                unknown_value=-1),\n",
       "                                 ['quartier', 'site', 'cote_voirie',\n",
       "                                  'contrainte', 'genre_arbre', 'espece_arbre',\n",
       "                                  'situation', 'type_sol', 'plaie_houppier',\n",
       "                                  'bois_mort_houppier', 'classe_age',\n",
       "                                  'ecorce_incluse_houppier', 'classe_hauteur',\n",
       "                                  'fissure_houppier', 'classe_circonference',\n",
       "                                  'port_arbre', 'vigueur_pousse',\n",
       "                                  'champignon_collet', 'plaie_collet',\n",
       "                                  'champignon_tronc', 'fissure_tronc',\n",
       "                                  'rejet_tronc', 'tuteurage_arbre',\n",
       "                                  'canisse_arbre', 'plaie_tronc',\n",
       "                                  'champignon_houppier'])])</pre></div></div></div><div class=\"sk-parallel\"><div class=\"sk-parallel-item\"><div class=\"sk-item\"><div class=\"sk-label-container\"><div class=\"sk-label sk-toggleable\"><input class=\"sk-toggleable__control sk-hidden--visually\" id=\"58861c53-7524-4e75-bb0b-166b05b8dab9\" type=\"checkbox\" ><label class=\"sk-toggleable__label\" for=\"58861c53-7524-4e75-bb0b-166b05b8dab9\">cat_preprocessor</label><div class=\"sk-toggleable__content\"><pre>['quartier', 'site', 'cote_voirie', 'contrainte', 'genre_arbre', 'espece_arbre', 'situation', 'type_sol', 'plaie_houppier', 'bois_mort_houppier', 'classe_age', 'ecorce_incluse_houppier', 'classe_hauteur', 'fissure_houppier', 'classe_circonference', 'port_arbre', 'vigueur_pousse', 'champignon_collet', 'plaie_collet', 'champignon_tronc', 'fissure_tronc', 'rejet_tronc', 'tuteurage_arbre', 'canisse_arbre', 'plaie_tronc', 'champignon_houppier']</pre></div></div></div><div class=\"sk-serial\"><div class=\"sk-item\"><div class=\"sk-estimator sk-toggleable\"><input class=\"sk-toggleable__control sk-hidden--visually\" id=\"a051b489-d05f-4573-9952-2c49d6d5626c\" type=\"checkbox\" ><label class=\"sk-toggleable__label\" for=\"a051b489-d05f-4573-9952-2c49d6d5626c\">OrdinalEncoder</label><div class=\"sk-toggleable__content\"><pre>OrdinalEncoder(handle_unknown='use_encoded_value', unknown_value=-1)</pre></div></div></div></div></div></div><div class=\"sk-parallel-item\"><div class=\"sk-item\"><div class=\"sk-label-container\"><div class=\"sk-label sk-toggleable\"><input class=\"sk-toggleable__control sk-hidden--visually\" id=\"ccc53e28-2c6f-4be9-860f-eb68875cecfa\" type=\"checkbox\" ><label class=\"sk-toggleable__label\" for=\"ccc53e28-2c6f-4be9-860f-eb68875cecfa\">remainder</label><div class=\"sk-toggleable__content\"><pre></pre></div></div></div><div class=\"sk-serial\"><div class=\"sk-item\"><div class=\"sk-estimator sk-toggleable\"><input class=\"sk-toggleable__control sk-hidden--visually\" id=\"c06b90ed-f6b3-418c-9e1b-52de00b8a635\" type=\"checkbox\" ><label class=\"sk-toggleable__label\" for=\"c06b90ed-f6b3-418c-9e1b-52de00b8a635\">passthrough</label><div class=\"sk-toggleable__content\"><pre>passthrough</pre></div></div></div></div></div></div></div></div><div class=\"sk-item\"><div class=\"sk-estimator sk-toggleable\"><input class=\"sk-toggleable__control sk-hidden--visually\" id=\"a2d49e99-bb63-4404-ab01-0c43aafee40a\" type=\"checkbox\" ><label class=\"sk-toggleable__label\" for=\"a2d49e99-bb63-4404-ab01-0c43aafee40a\">DecisionTreeClassifier</label><div class=\"sk-toggleable__content\"><pre>DecisionTreeClassifier(criterion='entropy', random_state=0)</pre></div></div></div></div></div></div></div>"
      ],
      "text/plain": [
       "Pipeline(steps=[('columntransformer',\n",
       "                 ColumnTransformer(remainder='passthrough', sparse_threshold=0,\n",
       "                                   transformers=[('cat_preprocessor',\n",
       "                                                  OrdinalEncoder(handle_unknown='use_encoded_value',\n",
       "                                                                 unknown_value=-1),\n",
       "                                                  ['quartier', 'site',\n",
       "                                                   'cote_voirie', 'contrainte',\n",
       "                                                   'genre_arbre',\n",
       "                                                   'espece_arbre', 'situation',\n",
       "                                                   'type_sol', 'plaie_houppier',\n",
       "                                                   'bois_mort_houppier',\n",
       "                                                   'classe_age',\n",
       "                                                   '...luse_houppier',\n",
       "                                                   'classe_hauteur',\n",
       "                                                   'fissure_houppier',\n",
       "                                                   'classe_circonference',\n",
       "                                                   'port_arbre',\n",
       "                                                   'vigueur_pousse',\n",
       "                                                   'champignon_collet',\n",
       "                                                   'plaie_collet',\n",
       "                                                   'champignon_tronc',\n",
       "                                                   'fissure_tronc',\n",
       "                                                   'rejet_tronc',\n",
       "                                                   'tuteurage_arbre',\n",
       "                                                   'canisse_arbre',\n",
       "                                                   'plaie_tronc',\n",
       "                                                   'champignon_houppier'])])),\n",
       "                ('decisiontreeclassifier',\n",
       "                 DecisionTreeClassifier(criterion='entropy', random_state=0))])"
      ]
     },
     "execution_count": 44,
     "metadata": {},
     "output_type": "execute_result"
    }
   ],
   "source": [
    "from sklearn import set_config\n",
    "set_config(display='diagram')\n",
    "model_dt"
   ]
  },
  {
   "cell_type": "code",
   "execution_count": 45,
   "id": "56c64216-7389-4787-bbb0-33167d5f0892",
   "metadata": {},
   "outputs": [
    {
     "name": "stdout",
     "output_type": "stream",
     "text": [
      "Wall time: 16.7 ms\n"
     ]
    }
   ],
   "source": [
    "%%time\n",
    "decision_tree_model_no_pruning = model_dt.fit(X_train, y_train)"
   ]
  },
  {
   "cell_type": "code",
   "execution_count": 46,
   "id": "8cff82c0-13a0-4b9d-8b51-6408df478dd4",
   "metadata": {},
   "outputs": [
    {
     "data": {
      "text/plain": [
       "0.8309859154929577"
      ]
     },
     "execution_count": 46,
     "metadata": {},
     "output_type": "execute_result"
    }
   ],
   "source": [
    "decision_tree_model_no_pruning.score(X_test, y_test)"
   ]
  },
  {
   "cell_type": "code",
   "execution_count": 47,
   "id": "63940992-ab2b-4f9c-ba4a-a911a137cf87",
   "metadata": {},
   "outputs": [
    {
     "data": {
      "text/plain": [
       "array(['C2', 'C2', 'C1', 'C1', 'C2'], dtype=object)"
      ]
     },
     "execution_count": 47,
     "metadata": {},
     "output_type": "execute_result"
    }
   ],
   "source": [
    "decision_tree_model_no_pruning.predict(X_test)[:5]"
   ]
  },
  {
   "cell_type": "code",
   "execution_count": 48,
   "id": "94de5023-8e71-423e-bcd6-f7f38d19e348",
   "metadata": {},
   "outputs": [
    {
     "name": "stdout",
     "output_type": "stream",
     "text": [
      "Test Scores for the Decision Tree Model with 5-Fold Cross-Validation:\n",
      "[0.8359375  0.7890625  0.8671875  0.81102362 0.8503937 ]\n",
      "The Mean Cross-Validation Accuracy is: 0.831 with Standard Deviation of +/- 0.028\n",
      "Total time taken: 0.328125\n"
     ]
    }
   ],
   "source": [
    "start = time.process_time()\n",
    "cv_results_dtmnp = cross_validate(decision_tree_model_no_pruning, X_train, y_train, cv=5)\n",
    "print(\"Test Scores for the Decision Tree Model with 5-Fold Cross-Validation:\")\n",
    "print(cv_results_dtmnp[\"test_score\"])\n",
    "scores = cv_results_dtmnp[\"test_score\"]\n",
    "print(\"The Mean Cross-Validation Accuracy is: \"f\"{scores.mean():.3f} with Standard Deviation of +/- {scores.std():.3f}\")\n",
    "print(\"Total time taken: {:}\".format(time.process_time() - start))"
   ]
  },
  {
   "cell_type": "code",
   "execution_count": 64,
   "id": "57804c73-f5cc-4d46-9cb7-87f4517d4555",
   "metadata": {},
   "outputs": [
    {
     "ename": "AttributeError",
     "evalue": "'Pipeline' object has no attribute 'tree_'",
     "output_type": "error",
     "traceback": [
      "\u001b[1;31m---------------------------------------------------------------------------\u001b[0m",
      "\u001b[1;31mAttributeError\u001b[0m                            Traceback (most recent call last)",
      "\u001b[1;32m~\\AppData\\Local\\Temp/ipykernel_28900/1351961288.py\u001b[0m in \u001b[0;36m<module>\u001b[1;34m\u001b[0m\n\u001b[1;32m----> 1\u001b[1;33m \u001b[0mdecision_tree_model_no_pruning\u001b[0m\u001b[1;33m.\u001b[0m\u001b[0mtree_\u001b[0m\u001b[1;33m\u001b[0m\u001b[1;33m\u001b[0m\u001b[0m\n\u001b[0m",
      "\u001b[1;31mAttributeError\u001b[0m: 'Pipeline' object has no attribute 'tree_'"
     ]
    }
   ],
   "source": [
    "decision_tree_model_no_pruning.tree_"
   ]
  },
  {
   "cell_type": "markdown",
   "id": "b90146ca-63ee-4b07-86ca-046628ae0470",
   "metadata": {},
   "source": [
    "### Pruning decision trees with cost complexity pruning and analysing results\n",
    "Total impurity of leaves vs effective alphas of pruned tree\n",
    "Minimal cost complexity pruning recursively finds the node with the “weakest link”. The weakest link is characterized by an effective alpha, where the nodes with the smallest effective alpha are pruned first. To get an idea of what values of ccp_alpha could be appropriate, scikit-learn provides DecisionTreeClassifier.cost_complexity_pruning_path that returns the effective alphas and the corresponding total leaf impurities at each step of the pruning process. As alpha increases, more of the tree is pruned, which increases the total impurity of its leaves."
   ]
  },
  {
   "cell_type": "code",
   "execution_count": 49,
   "id": "9c0b8421-fa14-4049-afb8-93e834f0e3b0",
   "metadata": {},
   "outputs": [],
   "source": [
    "X_train, X_test, y_train, y_test = train_test_split(\n",
    "    data_numerical_all_features, target, random_state=0, test_size=0.1)\n",
    "classifier = DecisionTreeClassifier(random_state=0, criterion= \"entropy\")\n",
    "classifier.fit(X_train, y_train)\n",
    "path = classifier.cost_complexity_pruning_path(X_train, y_train)\n",
    "ccp_alphas, impurities = path.ccp_alphas, path.impurities"
   ]
  },
  {
   "cell_type": "markdown",
   "id": "926b7a94-577d-4e0a-9b70-7a272ca75a2e",
   "metadata": {},
   "source": [
    "In the following plot, the maximum effective alpha value is removed, because it is the trivial tree with only one node."
   ]
  },
  {
   "cell_type": "code",
   "execution_count": 50,
   "id": "eba33d57-2254-40e1-b613-17222f8edbd6",
   "metadata": {},
   "outputs": [
    {
     "data": {
      "text/plain": [
       "Text(0.5, 1.0, 'Total Impurity vs effective alpha for training set')"
      ]
     },
     "execution_count": 50,
     "metadata": {},
     "output_type": "execute_result"
    },
    {
     "data": {
      "image/png": "[encoded data removed]",
      "text/plain": [
       "<Figure size 432x288 with 1 Axes>"
      ]
     },
     "metadata": {
      "needs_background": "light"
     },
     "output_type": "display_data"
    }
   ],
   "source": [
    "fig, ax = plt.subplots()\n",
    "ax.plot(ccp_alphas[:], impurities[:], marker=\"o\", drawstyle=\"steps-post\")\n",
    "ax.set_xlabel(\"effective alpha\")\n",
    "ax.set_ylabel(\"total impurity of leaves\")\n",
    "ax.set_title(\"Total Impurity vs effective alpha for training set\")"
   ]
  },
  {
   "cell_type": "markdown",
   "id": "89d185a6-2e1b-4736-8150-a47772db7d5c",
   "metadata": {},
   "source": [
    "Next, we train a decision tree using the effective alphas. The last value in ccp_alphas is the alpha value that prunes the whole tree, leaving the tree, clfs[-1], with one node."
   ]
  },
  {
   "cell_type": "code",
   "execution_count": 51,
   "id": "23b09ece-a762-42b8-a580-54aa0da37414",
   "metadata": {},
   "outputs": [
    {
     "name": "stdout",
     "output_type": "stream",
     "text": [
      "Number of nodes in the last tree is: 1 with ccp_alpha: 0.278873329597614\n"
     ]
    }
   ],
   "source": [
    "classifiers = []\n",
    "for ccp_alpha in ccp_alphas:\n",
    "    classifier = DecisionTreeClassifier(random_state=0, criterion=\"entropy\", ccp_alpha=ccp_alpha)\n",
    "    classifier.fit(X_train, y_train)\n",
    "    classifiers.append(classifier)\n",
    "print(\n",
    "    \"Number of nodes in the last tree is: {} with ccp_alpha: {}\".format(\n",
    "        classifiers[-1].tree_.node_count, ccp_alphas[-1]\n",
    "    )\n",
    ")"
   ]
  },
  {
   "cell_type": "markdown",
   "id": "530fef07-cb31-446f-9a89-770ba6e1e409",
   "metadata": {},
   "source": [
    "For the remainder of this example, we remove the last element in clfs and ccp_alphas, because it is the trivial tree with only one node. Here we show that the number of nodes and tree depth decreases as alpha increases."
   ]
  },
  {
   "cell_type": "code",
   "execution_count": 52,
   "id": "38b7f200-9db3-4fa5-b297-64884230a2ae",
   "metadata": {},
   "outputs": [
    {
     "data": {
      "image/png": "[encoded data removed]",
      "text/plain": [
       "<Figure size 432x288 with 2 Axes>"
      ]
     },
     "metadata": {
      "needs_background": "light"
     },
     "output_type": "display_data"
    }
   ],
   "source": [
    "#classifiers = classifiers[:-1]\n",
    "#ccp_alphas = ccp_alphas[:-1]\n",
    "\n",
    "node_counts = [classifier.tree_.node_count for classifier in classifiers]\n",
    "depth = [classifier.tree_.max_depth for classifier in classifiers]\n",
    "fig, ax = plt.subplots(2, 1)\n",
    "ax[0].plot(ccp_alphas, node_counts, marker=\"o\", drawstyle=\"steps-post\")\n",
    "ax[0].set_xlabel(\"alpha\")\n",
    "ax[0].set_ylabel(\"number of nodes\")\n",
    "ax[0].set_title(\"Number of nodes vs alpha\")\n",
    "ax[1].plot(ccp_alphas, depth, marker=\"o\", drawstyle=\"steps-post\")\n",
    "ax[1].set_xlabel(\"alpha\")\n",
    "ax[1].set_ylabel(\"depth of tree\")\n",
    "ax[1].set_title(\"Depth vs alpha\")\n",
    "#ax[1].set_yscale(\"log\")\n",
    "#ax[1].set_xscale(\"log\")\n",
    "fig.tight_layout()"
   ]
  },
  {
   "cell_type": "markdown",
   "id": "e8f510ae-3864-4b20-9a78-ad2f1982e626",
   "metadata": {},
   "source": [
    "Accuracy vs alpha for training and testing sets\n",
    "When ccp_alpha is set to zero and keeping the other default parameters of DecisionTreeClassifier, the tree overfits, leading to a 100% training accuracy and 88% testing accuracy. As alpha increases, more of the tree is pruned, thus creating a decision tree that generalizes better. In this example, setting ccp_alpha=0.015 maximizes the testing accuracy."
   ]
  },
  {
   "cell_type": "code",
   "execution_count": 66,
   "id": "b98c3071-a8a6-4e9e-9587-dc849f12559e",
   "metadata": {},
   "outputs": [
    {
     "data": {
      "text/plain": [
       "0"
      ]
     },
     "execution_count": 66,
     "metadata": {},
     "output_type": "execute_result"
    }
   ],
   "source": [
    "classifier.tree_.max_depth"
   ]
  },
  {
   "cell_type": "code",
   "execution_count": 53,
   "id": "12fe336f-724f-4b27-93ac-b2c84aaaeba5",
   "metadata": {},
   "outputs": [
    {
     "data": {
      "image/png": "[encoded data removed]",
      "text/plain": [
       "<Figure size 432x288 with 1 Axes>"
      ]
     },
     "metadata": {
      "needs_background": "light"
     },
     "output_type": "display_data"
    }
   ],
   "source": [
    "train_scores = [classifier.score(X_train, y_train) for classifier in classifiers]\n",
    "test_scores = [classifier.score(X_test, y_test) for classifier in classifiers]\n",
    "\n",
    "fig, ax = plt.subplots()\n",
    "ax.set_xlabel(\"alpha\")\n",
    "ax.set_ylabel(\"accuracy\")\n",
    "ax.set_title(\"Accuracy vs alpha for training and testing sets\")\n",
    "ax.plot(ccp_alphas, train_scores, marker=\"o\", label=\"train\", drawstyle=\"steps-post\")\n",
    "ax.plot(ccp_alphas, test_scores, marker=\"o\", label=\"test\", drawstyle=\"steps-post\")\n",
    "ax.legend()\n",
    "plt.show()"
   ]
  },
  {
   "cell_type": "code",
   "execution_count": 67,
   "id": "95390c17-ceae-4eeb-8e0d-3777f4b3bc10",
   "metadata": {},
   "outputs": [
    {
     "data": {
      "image/png": "[encoded data removed]",
      "text/plain": [
       "<Figure size 432x288 with 1 Axes>"
      ]
     },
     "metadata": {
      "needs_background": "light"
     },
     "output_type": "display_data"
    }
   ],
   "source": [
    "train_scores = [classifier.score(X_train, y_train) for classifier in classifiers]\n",
    "test_scores = [classifier.score(X_test, y_test) for classifier in classifiers]\n",
    "node_counts = [classifier.tree_.node_count for classifier in classifiers]\n",
    "fig, ax = plt.subplots()\n",
    "ax.set_xlabel(\"total no. of nodes\")\n",
    "ax.set_ylabel(\"accuracy\")\n",
    "ax.set_title(\"Accuracy vs Total no.of nodes for training and testing sets\")\n",
    "ax.plot(node_counts, train_scores, marker=\"o\", label=\"train\", drawstyle=\"steps-post\")\n",
    "ax.plot(node_counts, test_scores, marker=\"o\", label=\"test\", drawstyle=\"steps-post\")\n",
    "ax.legend()\n",
    "plt.show()"
   ]
  },
  {
   "cell_type": "code",
   "execution_count": 68,
   "id": "1f8546e8-51f2-4745-b0ad-a88994e4f799",
   "metadata": {},
   "outputs": [
    {
     "data": {
      "text/plain": [
       "[191,\n",
       " 187,\n",
       " 181,\n",
       " 177,\n",
       " 169,\n",
       " 161,\n",
       " 161,\n",
       " 159,\n",
       " 153,\n",
       " 153,\n",
       " 153,\n",
       " 147,\n",
       " 143,\n",
       " 139,\n",
       " 125,\n",
       " 125,\n",
       " 125,\n",
       " 125,\n",
       " 125,\n",
       " 119,\n",
       " 115,\n",
       " 109,\n",
       " 105,\n",
       " 101,\n",
       " 99,\n",
       " 97,\n",
       " 95,\n",
       " 91,\n",
       " 87,\n",
       " 83,\n",
       " 83,\n",
       " 79,\n",
       " 77,\n",
       " 71,\n",
       " 69,\n",
       " 67,\n",
       " 65,\n",
       " 63,\n",
       " 61,\n",
       " 59,\n",
       " 57,\n",
       " 55,\n",
       " 53,\n",
       " 51,\n",
       " 47,\n",
       " 45,\n",
       " 43,\n",
       " 39,\n",
       " 37,\n",
       " 31,\n",
       " 29,\n",
       " 27,\n",
       " 25,\n",
       " 23,\n",
       " 21,\n",
       " 19,\n",
       " 17,\n",
       " 15,\n",
       " 13,\n",
       " 11,\n",
       " 9,\n",
       " 7,\n",
       " 5,\n",
       " 3,\n",
       " 1]"
      ]
     },
     "execution_count": 68,
     "metadata": {},
     "output_type": "execute_result"
    }
   ],
   "source": [
    "node_counts = [classifier.tree_.node_count for classifier in classifiers]\n",
    "node_counts"
   ]
  },
  {
   "cell_type": "code",
   "execution_count": 55,
   "id": "62e26964-3188-4e0e-8a54-bf3582d00fbd",
   "metadata": {},
   "outputs": [
    {
     "data": {
      "image/png": "[encoded data removed]",
      "text/plain": [
       "<Figure size 432x288 with 1 Axes>"
      ]
     },
     "metadata": {
      "needs_background": "light"
     },
     "output_type": "display_data"
    }
   ],
   "source": [
    "train_scores = [classifier.score(X_train, y_train) for classifier in classifiers]\n",
    "test_scores = [classifier.score(X_test, y_test) for classifier in classifiers]\n",
    "depth = [classifier.tree_.max_depth for classifier in classifiers]\n",
    "fig, ax = plt.subplots()\n",
    "ax.set_xlabel(\"tree depth\")\n",
    "ax.set_ylabel(\"accuracy\")\n",
    "ax.set_title(\"Accuracy vs Tree depth for training and testing sets\")\n",
    "ax.plot(depth, train_scores, marker=\"o\", label=\"train\", drawstyle=\"steps-post\")\n",
    "ax.plot(depth, test_scores, marker=\"o\", label=\"test\", drawstyle=\"steps-post\")\n",
    "ax.legend()\n",
    "plt.show()"
   ]
  },
  {
   "cell_type": "code",
   "execution_count": 70,
   "id": "e3220fa4-a512-4f3b-a91c-e7cd5bceb390",
   "metadata": {},
   "outputs": [
    {
     "data": {
      "text/plain": [
       "[13,\n",
       " 13,\n",
       " 12,\n",
       " 12,\n",
       " 11,\n",
       " 11,\n",
       " 11,\n",
       " 11,\n",
       " 11,\n",
       " 11,\n",
       " 11,\n",
       " 11,\n",
       " 11,\n",
       " 11,\n",
       " 11,\n",
       " 11,\n",
       " 11,\n",
       " 11,\n",
       " 11,\n",
       " 11,\n",
       " 11,\n",
       " 11,\n",
       " 11,\n",
       " 10,\n",
       " 10,\n",
       " 9,\n",
       " 9,\n",
       " 9,\n",
       " 9,\n",
       " 9,\n",
       " 9,\n",
       " 9,\n",
       " 9,\n",
       " 8,\n",
       " 8,\n",
       " 8,\n",
       " 8,\n",
       " 8,\n",
       " 8,\n",
       " 8,\n",
       " 7,\n",
       " 7,\n",
       " 7,\n",
       " 7,\n",
       " 7,\n",
       " 7,\n",
       " 7,\n",
       " 6,\n",
       " 6,\n",
       " 5,\n",
       " 5,\n",
       " 5,\n",
       " 5,\n",
       " 5,\n",
       " 5,\n",
       " 5,\n",
       " 5,\n",
       " 4,\n",
       " 4,\n",
       " 4,\n",
       " 4,\n",
       " 3,\n",
       " 2,\n",
       " 1,\n",
       " 0]"
      ]
     },
     "execution_count": 70,
     "metadata": {},
     "output_type": "execute_result"
    }
   ],
   "source": [
    "depth = [classifier.tree_.max_depth for classifier in classifiers]\n",
    "depth"
   ]
  },
  {
   "cell_type": "code",
   "execution_count": 56,
   "id": "66e6175a-ca3b-429e-add7-f4c832cbc6ba",
   "metadata": {},
   "outputs": [
    {
     "data": {
      "text/plain": [
       "(65,)"
      ]
     },
     "execution_count": 56,
     "metadata": {},
     "output_type": "execute_result"
    }
   ],
   "source": [
    "test_scores = np.asarray(test_scores)\n",
    "test_scores.shape"
   ]
  },
  {
   "cell_type": "code",
   "execution_count": 57,
   "id": "e696afb0-22cc-44da-9fe3-b3d9c4142c24",
   "metadata": {},
   "outputs": [
    {
     "name": "stdout",
     "output_type": "stream",
     "text": [
      "[[0.         0.83098592]\n",
      " [0.002159   0.83098592]\n",
      " [0.00253644 0.83098592]\n",
      " [0.00254319 0.83098592]\n",
      " [0.00269508 0.85915493]\n",
      " [0.00282887 0.85915493]\n",
      " [0.00282887 0.85915493]\n",
      " [0.00297827 0.85915493]\n",
      " [0.0031348  0.85915493]\n",
      " [0.0031348  0.85915493]\n",
      " [0.0031348  0.85915493]\n",
      " [0.00360324 0.84507042]\n",
      " [0.00380467 0.84507042]\n",
      " [0.00398602 0.84507042]\n",
      " [0.00431801 0.84507042]\n",
      " [0.00431801 0.84507042]\n",
      " [0.00431801 0.84507042]\n",
      " [0.00431801 0.84507042]\n",
      " [0.00431801 0.84507042]\n",
      " [0.0043204  0.84507042]\n",
      " [0.00470219 0.84507042]\n",
      " [0.00470676 0.85915493]\n",
      " [0.00478046 0.85915493]\n",
      " [0.0049948  0.85915493]\n",
      " [0.00508638 0.85915493]\n",
      " [0.00534469 0.85915493]\n",
      " [0.00552417 0.84507042]\n",
      " [0.00571682 0.84507042]\n",
      " [0.00598391 0.84507042]\n",
      " [0.00611306 0.85915493]\n",
      " [0.00611306 0.85915493]\n",
      " [0.0064697  0.85915493]\n",
      " [0.00665016 0.87323944]\n",
      " [0.00678184 0.87323944]\n",
      " [0.00703797 0.87323944]\n",
      " [0.00760933 0.87323944]\n",
      " [0.00788634 0.87323944]\n",
      " [0.00797205 0.87323944]\n",
      " [0.00815958 0.88732394]\n",
      " [0.00850942 0.88732394]\n",
      " [0.0096745  0.88732394]\n",
      " [0.01046945 0.88732394]\n",
      " [0.01197432 0.88732394]\n",
      " [0.01297652 0.88732394]\n",
      " [0.01299607 0.87323944]\n",
      " [0.01419851 0.87323944]\n",
      " [0.01422522 0.87323944]\n",
      " [0.01551552 0.85915493]\n",
      " [0.01654168 0.84507042]\n",
      " [0.0171023  0.76056338]\n",
      " [0.01722255 0.76056338]\n",
      " [0.01745987 0.76056338]\n",
      " [0.01852891 0.76056338]\n",
      " [0.01871896 0.73239437]\n",
      " [0.02720093 0.73239437]\n",
      " [0.02768172 0.71830986]\n",
      " [0.02853427 0.70422535]\n",
      " [0.03129267 0.70422535]\n",
      " [0.03230085 0.70422535]\n",
      " [0.03520555 0.70422535]\n",
      " [0.04063773 0.64788732]\n",
      " [0.05150498 0.64788732]\n",
      " [0.09357475 0.63380282]\n",
      " [0.16502198 0.63380282]\n",
      " [0.27887333 0.53521127]]\n"
     ]
    }
   ],
   "source": [
    "print(np.concatenate((ccp_alphas.reshape(len(ccp_alphas),1), test_scores.reshape(len(test_scores),1)),1))"
   ]
  },
  {
   "cell_type": "markdown",
   "id": "d646c1b4-f49d-4991-8a11-aacf21265cad",
   "metadata": {},
   "source": [
    "### Tuning for Best Pruning Parameters with randomized-search"
   ]
  },
  {
   "cell_type": "code",
   "execution_count": 58,
   "id": "35296cf4-4814-4791-bb19-be2c1ead7fec",
   "metadata": {},
   "outputs": [],
   "source": [
    "from scipy.stats import loguniform\n",
    "\n",
    "\n",
    "class loguniform_int:\n",
    "    \"\"\"Integer valued version of the log-uniform distribution\"\"\"\n",
    "    def __init__(self, a, b):\n",
    "        self._distribution = loguniform(a, b)\n",
    "\n",
    "    def rvs(self, *args, **kwargs):\n",
    "        \"\"\"Random variable sample\"\"\"\n",
    "        return self._distribution.rvs(*args, **kwargs).astype(int)\n",
    "\n",
    "from scipy.stats import uniform\n",
    "class uniform_int:\n",
    "    \"\"\"Integer valued version of the log-uniform distribution\"\"\"\n",
    "    def __init__(self, a, b):\n",
    "        self._distribution = uniform(a, b)\n",
    "\n",
    "    def rvs(self, *args, **kwargs):\n",
    "        \"\"\"Random variable sample\"\"\"\n",
    "        return self._distribution.rvs(*args, **kwargs).astype(int)"
   ]
  },
  {
   "cell_type": "code",
   "execution_count": 59,
   "id": "41882ab0-9071-4cdb-bedf-e4cee862ca55",
   "metadata": {},
   "outputs": [],
   "source": [
    "from sklearn.tree import DecisionTreeClassifier\n",
    "\n",
    "categorical_columns_selector = selector(dtype_include=object)\n",
    "categorical_columns = categorical_columns_selector(data)\n",
    "\n",
    "categorical_preprocessor = OrdinalEncoder(handle_unknown=\"use_encoded_value\",\n",
    "                                          unknown_value=-1)\n",
    "preprocessor = ColumnTransformer([\n",
    "    ('cat_preprocessor', categorical_preprocessor, categorical_columns)],\n",
    "    remainder='passthrough', sparse_threshold=0)"
   ]
  },
  {
   "cell_type": "code",
   "execution_count": 60,
   "id": "ec60b8a1-b942-4855-95f5-80fbca528cfb",
   "metadata": {},
   "outputs": [],
   "source": [
    "from sklearn.pipeline import Pipeline\n",
    "\n",
    "model_dtpp = Pipeline([\n",
    "    (\"preprocessor\", preprocessor),\n",
    "    (\"classifier\", DecisionTreeClassifier(criterion= \"entropy\", random_state=0)),\n",
    "])\n"
   ]
  },
  {
   "cell_type": "code",
   "execution_count": 61,
   "id": "10c7181a-5298-430a-b68a-0a8c5758080c",
   "metadata": {},
   "outputs": [
    {
     "data": {
      "text/html": [
       "<style>#sk-4eb9d841-5c4d-49f7-9e71-e3e91c6e044a {color: black;background-color: white;}#sk-4eb9d841-5c4d-49f7-9e71-e3e91c6e044a pre{padding: 0;}#sk-4eb9d841-5c4d-49f7-9e71-e3e91c6e044a div.sk-toggleable {background-color: white;}#sk-4eb9d841-5c4d-49f7-9e71-e3e91c6e044a label.sk-toggleable__label {cursor: pointer;display: block;width: 100%;margin-bottom: 0;padding: 0.2em 0.3em;box-sizing: border-box;text-align: center;}#sk-4eb9d841-5c4d-49f7-9e71-e3e91c6e044a div.sk-toggleable__content {max-height: 0;max-width: 0;overflow: hidden;text-align: left;background-color: #f0f8ff;}#sk-4eb9d841-5c4d-49f7-9e71-e3e91c6e044a div.sk-toggleable__content pre {margin: 0.2em;color: black;border-radius: 0.25em;background-color: #f0f8ff;}#sk-4eb9d841-5c4d-49f7-9e71-e3e91c6e044a input.sk-toggleable__control:checked~div.sk-toggleable__content {max-height: 200px;max-width: 100%;overflow: auto;}#sk-4eb9d841-5c4d-49f7-9e71-e3e91c6e044a div.sk-estimator input.sk-toggleable__control:checked~label.sk-toggleable__label {background-color: #d4ebff;}#sk-4eb9d841-5c4d-49f7-9e71-e3e91c6e044a div.sk-label input.sk-toggleable__control:checked~label.sk-toggleable__label {background-color: #d4ebff;}#sk-4eb9d841-5c4d-49f7-9e71-e3e91c6e044a input.sk-hidden--visually {border: 0;clip: rect(1px 1px 1px 1px);clip: rect(1px, 1px, 1px, 1px);height: 1px;margin: -1px;overflow: hidden;padding: 0;position: absolute;width: 1px;}#sk-4eb9d841-5c4d-49f7-9e71-e3e91c6e044a div.sk-estimator {font-family: monospace;background-color: #f0f8ff;margin: 0.25em 0.25em;border: 1px dotted black;border-radius: 0.25em;box-sizing: border-box;}#sk-4eb9d841-5c4d-49f7-9e71-e3e91c6e044a div.sk-estimator:hover {background-color: #d4ebff;}#sk-4eb9d841-5c4d-49f7-9e71-e3e91c6e044a div.sk-parallel-item::after {content: \"\";width: 100%;border-bottom: 1px solid gray;flex-grow: 1;}#sk-4eb9d841-5c4d-49f7-9e71-e3e91c6e044a div.sk-label:hover label.sk-toggleable__label {background-color: #d4ebff;}#sk-4eb9d841-5c4d-49f7-9e71-e3e91c6e044a div.sk-serial::before {content: \"\";position: absolute;border-left: 1px solid gray;box-sizing: border-box;top: 2em;bottom: 0;left: 50%;}#sk-4eb9d841-5c4d-49f7-9e71-e3e91c6e044a div.sk-serial {display: flex;flex-direction: column;align-items: center;background-color: white;}#sk-4eb9d841-5c4d-49f7-9e71-e3e91c6e044a div.sk-item {z-index: 1;}#sk-4eb9d841-5c4d-49f7-9e71-e3e91c6e044a div.sk-parallel {display: flex;align-items: stretch;justify-content: center;background-color: white;}#sk-4eb9d841-5c4d-49f7-9e71-e3e91c6e044a div.sk-parallel-item {display: flex;flex-direction: column;position: relative;background-color: white;}#sk-4eb9d841-5c4d-49f7-9e71-e3e91c6e044a div.sk-parallel-item:first-child::after {align-self: flex-end;width: 50%;}#sk-4eb9d841-5c4d-49f7-9e71-e3e91c6e044a div.sk-parallel-item:last-child::after {align-self: flex-start;width: 50%;}#sk-4eb9d841-5c4d-49f7-9e71-e3e91c6e044a div.sk-parallel-item:only-child::after {width: 0;}#sk-4eb9d841-5c4d-49f7-9e71-e3e91c6e044a div.sk-dashed-wrapped {border: 1px dashed gray;margin: 0.2em;box-sizing: border-box;padding-bottom: 0.1em;background-color: white;position: relative;}#sk-4eb9d841-5c4d-49f7-9e71-e3e91c6e044a div.sk-label label {font-family: monospace;font-weight: bold;background-color: white;display: inline-block;line-height: 1.2em;}#sk-4eb9d841-5c4d-49f7-9e71-e3e91c6e044a div.sk-label-container {position: relative;z-index: 2;text-align: center;}#sk-4eb9d841-5c4d-49f7-9e71-e3e91c6e044a div.sk-container {display: inline-block;position: relative;}</style><div id=\"sk-4eb9d841-5c4d-49f7-9e71-e3e91c6e044a\" class\"sk-top-container\"><div class=\"sk-container\"><div class=\"sk-item sk-dashed-wrapped\"><div class=\"sk-label-container\"><div class=\"sk-label sk-toggleable\"><input class=\"sk-toggleable__control sk-hidden--visually\" id=\"7a28a05a-cc8d-41ed-aab1-d2b0b399ca8f\" type=\"checkbox\" ><label class=\"sk-toggleable__label\" for=\"7a28a05a-cc8d-41ed-aab1-d2b0b399ca8f\">Pipeline</label><div class=\"sk-toggleable__content\"><pre>Pipeline(steps=[('preprocessor',\n",
       "                 ColumnTransformer(remainder='passthrough', sparse_threshold=0,\n",
       "                                   transformers=[('cat_preprocessor',\n",
       "                                                  OrdinalEncoder(handle_unknown='use_encoded_value',\n",
       "                                                                 unknown_value=-1),\n",
       "                                                  ['quartier', 'site',\n",
       "                                                   'cote_voirie', 'contrainte',\n",
       "                                                   'genre_arbre',\n",
       "                                                   'espece_arbre', 'situation',\n",
       "                                                   'type_sol', 'plaie_houppier',\n",
       "                                                   'bois_mort_houppier',\n",
       "                                                   'classe_age',\n",
       "                                                   'ecorce_incluse_houppier',\n",
       "                                                   'classe_hauteur',\n",
       "                                                   'fissure_houppier',\n",
       "                                                   'classe_circonference',\n",
       "                                                   'port_arbre',\n",
       "                                                   'vigueur_pousse',\n",
       "                                                   'champignon_collet',\n",
       "                                                   'plaie_collet',\n",
       "                                                   'champignon_tronc',\n",
       "                                                   'fissure_tronc',\n",
       "                                                   'rejet_tronc',\n",
       "                                                   'tuteurage_arbre',\n",
       "                                                   'canisse_arbre',\n",
       "                                                   'plaie_tronc',\n",
       "                                                   'champignon_houppier'])])),\n",
       "                ('classifier',\n",
       "                 DecisionTreeClassifier(criterion='entropy', random_state=0))])</pre></div></div></div><div class=\"sk-serial\"><div class=\"sk-item sk-dashed-wrapped\"><div class=\"sk-label-container\"><div class=\"sk-label sk-toggleable\"><input class=\"sk-toggleable__control sk-hidden--visually\" id=\"8c9b3cf8-6b1b-4b41-af42-6e9146ffdb43\" type=\"checkbox\" ><label class=\"sk-toggleable__label\" for=\"8c9b3cf8-6b1b-4b41-af42-6e9146ffdb43\">preprocessor: ColumnTransformer</label><div class=\"sk-toggleable__content\"><pre>ColumnTransformer(remainder='passthrough', sparse_threshold=0,\n",
       "                  transformers=[('cat_preprocessor',\n",
       "                                 OrdinalEncoder(handle_unknown='use_encoded_value',\n",
       "                                                unknown_value=-1),\n",
       "                                 ['quartier', 'site', 'cote_voirie',\n",
       "                                  'contrainte', 'genre_arbre', 'espece_arbre',\n",
       "                                  'situation', 'type_sol', 'plaie_houppier',\n",
       "                                  'bois_mort_houppier', 'classe_age',\n",
       "                                  'ecorce_incluse_houppier', 'classe_hauteur',\n",
       "                                  'fissure_houppier', 'classe_circonference',\n",
       "                                  'port_arbre', 'vigueur_pousse',\n",
       "                                  'champignon_collet', 'plaie_collet',\n",
       "                                  'champignon_tronc', 'fissure_tronc',\n",
       "                                  'rejet_tronc', 'tuteurage_arbre',\n",
       "                                  'canisse_arbre', 'plaie_tronc',\n",
       "                                  'champignon_houppier'])])</pre></div></div></div><div class=\"sk-parallel\"><div class=\"sk-parallel-item\"><div class=\"sk-item\"><div class=\"sk-label-container\"><div class=\"sk-label sk-toggleable\"><input class=\"sk-toggleable__control sk-hidden--visually\" id=\"33504673-803d-4468-8ae8-e4bb55e75fee\" type=\"checkbox\" ><label class=\"sk-toggleable__label\" for=\"33504673-803d-4468-8ae8-e4bb55e75fee\">cat_preprocessor</label><div class=\"sk-toggleable__content\"><pre>['quartier', 'site', 'cote_voirie', 'contrainte', 'genre_arbre', 'espece_arbre', 'situation', 'type_sol', 'plaie_houppier', 'bois_mort_houppier', 'classe_age', 'ecorce_incluse_houppier', 'classe_hauteur', 'fissure_houppier', 'classe_circonference', 'port_arbre', 'vigueur_pousse', 'champignon_collet', 'plaie_collet', 'champignon_tronc', 'fissure_tronc', 'rejet_tronc', 'tuteurage_arbre', 'canisse_arbre', 'plaie_tronc', 'champignon_houppier']</pre></div></div></div><div class=\"sk-serial\"><div class=\"sk-item\"><div class=\"sk-estimator sk-toggleable\"><input class=\"sk-toggleable__control sk-hidden--visually\" id=\"77c3cb88-863f-4cde-9c94-ab26c451858d\" type=\"checkbox\" ><label class=\"sk-toggleable__label\" for=\"77c3cb88-863f-4cde-9c94-ab26c451858d\">OrdinalEncoder</label><div class=\"sk-toggleable__content\"><pre>OrdinalEncoder(handle_unknown='use_encoded_value', unknown_value=-1)</pre></div></div></div></div></div></div><div class=\"sk-parallel-item\"><div class=\"sk-item\"><div class=\"sk-label-container\"><div class=\"sk-label sk-toggleable\"><input class=\"sk-toggleable__control sk-hidden--visually\" id=\"bd8b1663-b047-4890-8737-79a4707006ea\" type=\"checkbox\" ><label class=\"sk-toggleable__label\" for=\"bd8b1663-b047-4890-8737-79a4707006ea\">remainder</label><div class=\"sk-toggleable__content\"><pre></pre></div></div></div><div class=\"sk-serial\"><div class=\"sk-item\"><div class=\"sk-estimator sk-toggleable\"><input class=\"sk-toggleable__control sk-hidden--visually\" id=\"5c8375ae-c469-4c14-bbb0-8d08d30e95fc\" type=\"checkbox\" ><label class=\"sk-toggleable__label\" for=\"5c8375ae-c469-4c14-bbb0-8d08d30e95fc\">passthrough</label><div class=\"sk-toggleable__content\"><pre>passthrough</pre></div></div></div></div></div></div></div></div><div class=\"sk-item\"><div class=\"sk-estimator sk-toggleable\"><input class=\"sk-toggleable__control sk-hidden--visually\" id=\"1bbcc61b-9ff9-4281-9eb6-f530b57b7635\" type=\"checkbox\" ><label class=\"sk-toggleable__label\" for=\"1bbcc61b-9ff9-4281-9eb6-f530b57b7635\">DecisionTreeClassifier</label><div class=\"sk-toggleable__content\"><pre>DecisionTreeClassifier(criterion='entropy', random_state=0)</pre></div></div></div></div></div></div></div>"
      ],
      "text/plain": [
       "Pipeline(steps=[('preprocessor',\n",
       "                 ColumnTransformer(remainder='passthrough', sparse_threshold=0,\n",
       "                                   transformers=[('cat_preprocessor',\n",
       "                                                  OrdinalEncoder(handle_unknown='use_encoded_value',\n",
       "                                                                 unknown_value=-1),\n",
       "                                                  ['quartier', 'site',\n",
       "                                                   'cote_voirie', 'contrainte',\n",
       "                                                   'genre_arbre',\n",
       "                                                   'espece_arbre', 'situation',\n",
       "                                                   'type_sol', 'plaie_houppier',\n",
       "                                                   'bois_mort_houppier',\n",
       "                                                   'classe_age',\n",
       "                                                   'ecorce_incluse_houppier',\n",
       "                                                   'classe_hauteur',\n",
       "                                                   'fissure_houppier',\n",
       "                                                   'classe_circonference',\n",
       "                                                   'port_arbre',\n",
       "                                                   'vigueur_pousse',\n",
       "                                                   'champignon_collet',\n",
       "                                                   'plaie_collet',\n",
       "                                                   'champignon_tronc',\n",
       "                                                   'fissure_tronc',\n",
       "                                                   'rejet_tronc',\n",
       "                                                   'tuteurage_arbre',\n",
       "                                                   'canisse_arbre',\n",
       "                                                   'plaie_tronc',\n",
       "                                                   'champignon_houppier'])])),\n",
       "                ('classifier',\n",
       "                 DecisionTreeClassifier(criterion='entropy', random_state=0))])"
      ]
     },
     "execution_count": 61,
     "metadata": {},
     "output_type": "execute_result"
    }
   ],
   "source": [
    "from sklearn import set_config\n",
    "set_config(display='diagram')\n",
    "model_dtpp"
   ]
  },
  {
   "cell_type": "code",
   "execution_count": 62,
   "id": "bfddae54-6ec2-4532-b199-40cf74835afd",
   "metadata": {
    "tags": []
   },
   "outputs": [
    {
     "name": "stdout",
     "output_type": "stream",
     "text": [
      "Fitting 5 folds for each of 2000 candidates, totalling 10000 fits\n"
     ]
    },
    {
     "ename": "KeyboardInterrupt",
     "evalue": "",
     "output_type": "error",
     "traceback": [
      "\u001b[1;31m---------------------------------------------------------------------------\u001b[0m",
      "\u001b[1;31mKeyboardInterrupt\u001b[0m                         Traceback (most recent call last)",
      "\u001b[1;32m<timed exec>\u001b[0m in \u001b[0;36m<module>\u001b[1;34m\u001b[0m\n",
      "\u001b[1;32m~\\anaconda3\\lib\\site-packages\\sklearn\\utils\\validation.py\u001b[0m in \u001b[0;36minner_f\u001b[1;34m(*args, **kwargs)\u001b[0m\n\u001b[0;32m     61\u001b[0m             \u001b[0mextra_args\u001b[0m \u001b[1;33m=\u001b[0m \u001b[0mlen\u001b[0m\u001b[1;33m(\u001b[0m\u001b[0margs\u001b[0m\u001b[1;33m)\u001b[0m \u001b[1;33m-\u001b[0m \u001b[0mlen\u001b[0m\u001b[1;33m(\u001b[0m\u001b[0mall_args\u001b[0m\u001b[1;33m)\u001b[0m\u001b[1;33m\u001b[0m\u001b[1;33m\u001b[0m\u001b[0m\n\u001b[0;32m     62\u001b[0m             \u001b[1;32mif\u001b[0m \u001b[0mextra_args\u001b[0m \u001b[1;33m<=\u001b[0m \u001b[1;36m0\u001b[0m\u001b[1;33m:\u001b[0m\u001b[1;33m\u001b[0m\u001b[1;33m\u001b[0m\u001b[0m\n\u001b[1;32m---> 63\u001b[1;33m                 \u001b[1;32mreturn\u001b[0m \u001b[0mf\u001b[0m\u001b[1;33m(\u001b[0m\u001b[1;33m*\u001b[0m\u001b[0margs\u001b[0m\u001b[1;33m,\u001b[0m \u001b[1;33m**\u001b[0m\u001b[0mkwargs\u001b[0m\u001b[1;33m)\u001b[0m\u001b[1;33m\u001b[0m\u001b[1;33m\u001b[0m\u001b[0m\n\u001b[0m\u001b[0;32m     64\u001b[0m \u001b[1;33m\u001b[0m\u001b[0m\n\u001b[0;32m     65\u001b[0m             \u001b[1;31m# extra_args > 0\u001b[0m\u001b[1;33m\u001b[0m\u001b[1;33m\u001b[0m\u001b[0m\n",
      "\u001b[1;32m~\\anaconda3\\lib\\site-packages\\sklearn\\model_selection\\_search.py\u001b[0m in \u001b[0;36mfit\u001b[1;34m(self, X, y, groups, **fit_params)\u001b[0m\n\u001b[0;32m    839\u001b[0m                 \u001b[1;32mreturn\u001b[0m \u001b[0mresults\u001b[0m\u001b[1;33m\u001b[0m\u001b[1;33m\u001b[0m\u001b[0m\n\u001b[0;32m    840\u001b[0m \u001b[1;33m\u001b[0m\u001b[0m\n\u001b[1;32m--> 841\u001b[1;33m             \u001b[0mself\u001b[0m\u001b[1;33m.\u001b[0m\u001b[0m_run_search\u001b[0m\u001b[1;33m(\u001b[0m\u001b[0mevaluate_candidates\u001b[0m\u001b[1;33m)\u001b[0m\u001b[1;33m\u001b[0m\u001b[1;33m\u001b[0m\u001b[0m\n\u001b[0m\u001b[0;32m    842\u001b[0m \u001b[1;33m\u001b[0m\u001b[0m\n\u001b[0;32m    843\u001b[0m             \u001b[1;31m# multimetric is determined here because in the case of a callable\u001b[0m\u001b[1;33m\u001b[0m\u001b[1;33m\u001b[0m\u001b[0m\n",
      "\u001b[1;32m~\\anaconda3\\lib\\site-packages\\sklearn\\model_selection\\_search.py\u001b[0m in \u001b[0;36m_run_search\u001b[1;34m(self, evaluate_candidates)\u001b[0m\n\u001b[0;32m   1631\u001b[0m     \u001b[1;32mdef\u001b[0m \u001b[0m_run_search\u001b[0m\u001b[1;33m(\u001b[0m\u001b[0mself\u001b[0m\u001b[1;33m,\u001b[0m \u001b[0mevaluate_candidates\u001b[0m\u001b[1;33m)\u001b[0m\u001b[1;33m:\u001b[0m\u001b[1;33m\u001b[0m\u001b[1;33m\u001b[0m\u001b[0m\n\u001b[0;32m   1632\u001b[0m         \u001b[1;34m\"\"\"Search n_iter candidates from param_distributions\"\"\"\u001b[0m\u001b[1;33m\u001b[0m\u001b[1;33m\u001b[0m\u001b[0m\n\u001b[1;32m-> 1633\u001b[1;33m         evaluate_candidates(ParameterSampler(\n\u001b[0m\u001b[0;32m   1634\u001b[0m             \u001b[0mself\u001b[0m\u001b[1;33m.\u001b[0m\u001b[0mparam_distributions\u001b[0m\u001b[1;33m,\u001b[0m \u001b[0mself\u001b[0m\u001b[1;33m.\u001b[0m\u001b[0mn_iter\u001b[0m\u001b[1;33m,\u001b[0m\u001b[1;33m\u001b[0m\u001b[1;33m\u001b[0m\u001b[0m\n\u001b[0;32m   1635\u001b[0m             random_state=self.random_state))\n",
      "\u001b[1;32m~\\anaconda3\\lib\\site-packages\\sklearn\\model_selection\\_search.py\u001b[0m in \u001b[0;36mevaluate_candidates\u001b[1;34m(candidate_params, cv, more_results)\u001b[0m\n\u001b[0;32m    793\u001b[0m                               n_splits, n_candidates, n_candidates * n_splits))\n\u001b[0;32m    794\u001b[0m \u001b[1;33m\u001b[0m\u001b[0m\n\u001b[1;32m--> 795\u001b[1;33m                 out = parallel(delayed(_fit_and_score)(clone(base_estimator),\n\u001b[0m\u001b[0;32m    796\u001b[0m                                                        \u001b[0mX\u001b[0m\u001b[1;33m,\u001b[0m \u001b[0my\u001b[0m\u001b[1;33m,\u001b[0m\u001b[1;33m\u001b[0m\u001b[1;33m\u001b[0m\u001b[0m\n\u001b[0;32m    797\u001b[0m                                                        \u001b[0mtrain\u001b[0m\u001b[1;33m=\u001b[0m\u001b[0mtrain\u001b[0m\u001b[1;33m,\u001b[0m \u001b[0mtest\u001b[0m\u001b[1;33m=\u001b[0m\u001b[0mtest\u001b[0m\u001b[1;33m,\u001b[0m\u001b[1;33m\u001b[0m\u001b[1;33m\u001b[0m\u001b[0m\n",
      "\u001b[1;32m~\\anaconda3\\lib\\site-packages\\joblib\\parallel.py\u001b[0m in \u001b[0;36m__call__\u001b[1;34m(self, iterable)\u001b[0m\n\u001b[0;32m   1044\u001b[0m                 \u001b[0mself\u001b[0m\u001b[1;33m.\u001b[0m\u001b[0m_iterating\u001b[0m \u001b[1;33m=\u001b[0m \u001b[0mself\u001b[0m\u001b[1;33m.\u001b[0m\u001b[0m_original_iterator\u001b[0m \u001b[1;32mis\u001b[0m \u001b[1;32mnot\u001b[0m \u001b[1;32mNone\u001b[0m\u001b[1;33m\u001b[0m\u001b[1;33m\u001b[0m\u001b[0m\n\u001b[0;32m   1045\u001b[0m \u001b[1;33m\u001b[0m\u001b[0m\n\u001b[1;32m-> 1046\u001b[1;33m             \u001b[1;32mwhile\u001b[0m \u001b[0mself\u001b[0m\u001b[1;33m.\u001b[0m\u001b[0mdispatch_one_batch\u001b[0m\u001b[1;33m(\u001b[0m\u001b[0miterator\u001b[0m\u001b[1;33m)\u001b[0m\u001b[1;33m:\u001b[0m\u001b[1;33m\u001b[0m\u001b[1;33m\u001b[0m\u001b[0m\n\u001b[0m\u001b[0;32m   1047\u001b[0m                 \u001b[1;32mpass\u001b[0m\u001b[1;33m\u001b[0m\u001b[1;33m\u001b[0m\u001b[0m\n\u001b[0;32m   1048\u001b[0m \u001b[1;33m\u001b[0m\u001b[0m\n",
      "\u001b[1;32m~\\anaconda3\\lib\\site-packages\\joblib\\parallel.py\u001b[0m in \u001b[0;36mdispatch_one_batch\u001b[1;34m(self, iterator)\u001b[0m\n\u001b[0;32m    859\u001b[0m                 \u001b[1;32mreturn\u001b[0m \u001b[1;32mFalse\u001b[0m\u001b[1;33m\u001b[0m\u001b[1;33m\u001b[0m\u001b[0m\n\u001b[0;32m    860\u001b[0m             \u001b[1;32melse\u001b[0m\u001b[1;33m:\u001b[0m\u001b[1;33m\u001b[0m\u001b[1;33m\u001b[0m\u001b[0m\n\u001b[1;32m--> 861\u001b[1;33m                 \u001b[0mself\u001b[0m\u001b[1;33m.\u001b[0m\u001b[0m_dispatch\u001b[0m\u001b[1;33m(\u001b[0m\u001b[0mtasks\u001b[0m\u001b[1;33m)\u001b[0m\u001b[1;33m\u001b[0m\u001b[1;33m\u001b[0m\u001b[0m\n\u001b[0m\u001b[0;32m    862\u001b[0m                 \u001b[1;32mreturn\u001b[0m \u001b[1;32mTrue\u001b[0m\u001b[1;33m\u001b[0m\u001b[1;33m\u001b[0m\u001b[0m\n\u001b[0;32m    863\u001b[0m \u001b[1;33m\u001b[0m\u001b[0m\n",
      "\u001b[1;32m~\\anaconda3\\lib\\site-packages\\joblib\\parallel.py\u001b[0m in \u001b[0;36m_dispatch\u001b[1;34m(self, batch)\u001b[0m\n\u001b[0;32m    777\u001b[0m         \u001b[1;32mwith\u001b[0m \u001b[0mself\u001b[0m\u001b[1;33m.\u001b[0m\u001b[0m_lock\u001b[0m\u001b[1;33m:\u001b[0m\u001b[1;33m\u001b[0m\u001b[1;33m\u001b[0m\u001b[0m\n\u001b[0;32m    778\u001b[0m             \u001b[0mjob_idx\u001b[0m \u001b[1;33m=\u001b[0m \u001b[0mlen\u001b[0m\u001b[1;33m(\u001b[0m\u001b[0mself\u001b[0m\u001b[1;33m.\u001b[0m\u001b[0m_jobs\u001b[0m\u001b[1;33m)\u001b[0m\u001b[1;33m\u001b[0m\u001b[1;33m\u001b[0m\u001b[0m\n\u001b[1;32m--> 779\u001b[1;33m             \u001b[0mjob\u001b[0m \u001b[1;33m=\u001b[0m \u001b[0mself\u001b[0m\u001b[1;33m.\u001b[0m\u001b[0m_backend\u001b[0m\u001b[1;33m.\u001b[0m\u001b[0mapply_async\u001b[0m\u001b[1;33m(\u001b[0m\u001b[0mbatch\u001b[0m\u001b[1;33m,\u001b[0m \u001b[0mcallback\u001b[0m\u001b[1;33m=\u001b[0m\u001b[0mcb\u001b[0m\u001b[1;33m)\u001b[0m\u001b[1;33m\u001b[0m\u001b[1;33m\u001b[0m\u001b[0m\n\u001b[0m\u001b[0;32m    780\u001b[0m             \u001b[1;31m# A job can complete so quickly than its callback is\u001b[0m\u001b[1;33m\u001b[0m\u001b[1;33m\u001b[0m\u001b[0m\n\u001b[0;32m    781\u001b[0m             \u001b[1;31m# called before we get here, causing self._jobs to\u001b[0m\u001b[1;33m\u001b[0m\u001b[1;33m\u001b[0m\u001b[0m\n",
      "\u001b[1;32m~\\anaconda3\\lib\\site-packages\\joblib\\_parallel_backends.py\u001b[0m in \u001b[0;36mapply_async\u001b[1;34m(self, func, callback)\u001b[0m\n\u001b[0;32m    206\u001b[0m     \u001b[1;32mdef\u001b[0m \u001b[0mapply_async\u001b[0m\u001b[1;33m(\u001b[0m\u001b[0mself\u001b[0m\u001b[1;33m,\u001b[0m \u001b[0mfunc\u001b[0m\u001b[1;33m,\u001b[0m \u001b[0mcallback\u001b[0m\u001b[1;33m=\u001b[0m\u001b[1;32mNone\u001b[0m\u001b[1;33m)\u001b[0m\u001b[1;33m:\u001b[0m\u001b[1;33m\u001b[0m\u001b[1;33m\u001b[0m\u001b[0m\n\u001b[0;32m    207\u001b[0m         \u001b[1;34m\"\"\"Schedule a func to be run\"\"\"\u001b[0m\u001b[1;33m\u001b[0m\u001b[1;33m\u001b[0m\u001b[0m\n\u001b[1;32m--> 208\u001b[1;33m         \u001b[0mresult\u001b[0m \u001b[1;33m=\u001b[0m \u001b[0mImmediateResult\u001b[0m\u001b[1;33m(\u001b[0m\u001b[0mfunc\u001b[0m\u001b[1;33m)\u001b[0m\u001b[1;33m\u001b[0m\u001b[1;33m\u001b[0m\u001b[0m\n\u001b[0m\u001b[0;32m    209\u001b[0m         \u001b[1;32mif\u001b[0m \u001b[0mcallback\u001b[0m\u001b[1;33m:\u001b[0m\u001b[1;33m\u001b[0m\u001b[1;33m\u001b[0m\u001b[0m\n\u001b[0;32m    210\u001b[0m             \u001b[0mcallback\u001b[0m\u001b[1;33m(\u001b[0m\u001b[0mresult\u001b[0m\u001b[1;33m)\u001b[0m\u001b[1;33m\u001b[0m\u001b[1;33m\u001b[0m\u001b[0m\n",
      "\u001b[1;32m~\\anaconda3\\lib\\site-packages\\joblib\\_parallel_backends.py\u001b[0m in \u001b[0;36m__init__\u001b[1;34m(self, batch)\u001b[0m\n\u001b[0;32m    570\u001b[0m         \u001b[1;31m# Don't delay the application, to avoid keeping the input\u001b[0m\u001b[1;33m\u001b[0m\u001b[1;33m\u001b[0m\u001b[0m\n\u001b[0;32m    571\u001b[0m         \u001b[1;31m# arguments in memory\u001b[0m\u001b[1;33m\u001b[0m\u001b[1;33m\u001b[0m\u001b[0m\n\u001b[1;32m--> 572\u001b[1;33m         \u001b[0mself\u001b[0m\u001b[1;33m.\u001b[0m\u001b[0mresults\u001b[0m \u001b[1;33m=\u001b[0m \u001b[0mbatch\u001b[0m\u001b[1;33m(\u001b[0m\u001b[1;33m)\u001b[0m\u001b[1;33m\u001b[0m\u001b[1;33m\u001b[0m\u001b[0m\n\u001b[0m\u001b[0;32m    573\u001b[0m \u001b[1;33m\u001b[0m\u001b[0m\n\u001b[0;32m    574\u001b[0m     \u001b[1;32mdef\u001b[0m \u001b[0mget\u001b[0m\u001b[1;33m(\u001b[0m\u001b[0mself\u001b[0m\u001b[1;33m)\u001b[0m\u001b[1;33m:\u001b[0m\u001b[1;33m\u001b[0m\u001b[1;33m\u001b[0m\u001b[0m\n",
      "\u001b[1;32m~\\anaconda3\\lib\\site-packages\\joblib\\parallel.py\u001b[0m in \u001b[0;36m__call__\u001b[1;34m(self)\u001b[0m\n\u001b[0;32m    260\u001b[0m         \u001b[1;31m# change the default number of processes to -1\u001b[0m\u001b[1;33m\u001b[0m\u001b[1;33m\u001b[0m\u001b[0m\n\u001b[0;32m    261\u001b[0m         \u001b[1;32mwith\u001b[0m \u001b[0mparallel_backend\u001b[0m\u001b[1;33m(\u001b[0m\u001b[0mself\u001b[0m\u001b[1;33m.\u001b[0m\u001b[0m_backend\u001b[0m\u001b[1;33m,\u001b[0m \u001b[0mn_jobs\u001b[0m\u001b[1;33m=\u001b[0m\u001b[0mself\u001b[0m\u001b[1;33m.\u001b[0m\u001b[0m_n_jobs\u001b[0m\u001b[1;33m)\u001b[0m\u001b[1;33m:\u001b[0m\u001b[1;33m\u001b[0m\u001b[1;33m\u001b[0m\u001b[0m\n\u001b[1;32m--> 262\u001b[1;33m             return [func(*args, **kwargs)\n\u001b[0m\u001b[0;32m    263\u001b[0m                     for func, args, kwargs in self.items]\n\u001b[0;32m    264\u001b[0m \u001b[1;33m\u001b[0m\u001b[0m\n",
      "\u001b[1;32m~\\anaconda3\\lib\\site-packages\\joblib\\parallel.py\u001b[0m in \u001b[0;36m<listcomp>\u001b[1;34m(.0)\u001b[0m\n\u001b[0;32m    260\u001b[0m         \u001b[1;31m# change the default number of processes to -1\u001b[0m\u001b[1;33m\u001b[0m\u001b[1;33m\u001b[0m\u001b[0m\n\u001b[0;32m    261\u001b[0m         \u001b[1;32mwith\u001b[0m \u001b[0mparallel_backend\u001b[0m\u001b[1;33m(\u001b[0m\u001b[0mself\u001b[0m\u001b[1;33m.\u001b[0m\u001b[0m_backend\u001b[0m\u001b[1;33m,\u001b[0m \u001b[0mn_jobs\u001b[0m\u001b[1;33m=\u001b[0m\u001b[0mself\u001b[0m\u001b[1;33m.\u001b[0m\u001b[0m_n_jobs\u001b[0m\u001b[1;33m)\u001b[0m\u001b[1;33m:\u001b[0m\u001b[1;33m\u001b[0m\u001b[1;33m\u001b[0m\u001b[0m\n\u001b[1;32m--> 262\u001b[1;33m             return [func(*args, **kwargs)\n\u001b[0m\u001b[0;32m    263\u001b[0m                     for func, args, kwargs in self.items]\n\u001b[0;32m    264\u001b[0m \u001b[1;33m\u001b[0m\u001b[0m\n",
      "\u001b[1;32m~\\anaconda3\\lib\\site-packages\\sklearn\\utils\\fixes.py\u001b[0m in \u001b[0;36m__call__\u001b[1;34m(self, *args, **kwargs)\u001b[0m\n\u001b[0;32m    220\u001b[0m     \u001b[1;32mdef\u001b[0m \u001b[0m__call__\u001b[0m\u001b[1;33m(\u001b[0m\u001b[0mself\u001b[0m\u001b[1;33m,\u001b[0m \u001b[1;33m*\u001b[0m\u001b[0margs\u001b[0m\u001b[1;33m,\u001b[0m \u001b[1;33m**\u001b[0m\u001b[0mkwargs\u001b[0m\u001b[1;33m)\u001b[0m\u001b[1;33m:\u001b[0m\u001b[1;33m\u001b[0m\u001b[1;33m\u001b[0m\u001b[0m\n\u001b[0;32m    221\u001b[0m         \u001b[1;32mwith\u001b[0m \u001b[0mconfig_context\u001b[0m\u001b[1;33m(\u001b[0m\u001b[1;33m**\u001b[0m\u001b[0mself\u001b[0m\u001b[1;33m.\u001b[0m\u001b[0mconfig\u001b[0m\u001b[1;33m)\u001b[0m\u001b[1;33m:\u001b[0m\u001b[1;33m\u001b[0m\u001b[1;33m\u001b[0m\u001b[0m\n\u001b[1;32m--> 222\u001b[1;33m             \u001b[1;32mreturn\u001b[0m \u001b[0mself\u001b[0m\u001b[1;33m.\u001b[0m\u001b[0mfunction\u001b[0m\u001b[1;33m(\u001b[0m\u001b[1;33m*\u001b[0m\u001b[0margs\u001b[0m\u001b[1;33m,\u001b[0m \u001b[1;33m**\u001b[0m\u001b[0mkwargs\u001b[0m\u001b[1;33m)\u001b[0m\u001b[1;33m\u001b[0m\u001b[1;33m\u001b[0m\u001b[0m\n\u001b[0m",
      "\u001b[1;32m~\\anaconda3\\lib\\site-packages\\sklearn\\model_selection\\_validation.py\u001b[0m in \u001b[0;36m_fit_and_score\u001b[1;34m(estimator, X, y, scorer, train, test, verbose, parameters, fit_params, return_train_score, return_parameters, return_n_test_samples, return_times, return_estimator, split_progress, candidate_progress, error_score)\u001b[0m\n\u001b[0;32m    596\u001b[0m             \u001b[0mestimator\u001b[0m\u001b[1;33m.\u001b[0m\u001b[0mfit\u001b[0m\u001b[1;33m(\u001b[0m\u001b[0mX_train\u001b[0m\u001b[1;33m,\u001b[0m \u001b[1;33m**\u001b[0m\u001b[0mfit_params\u001b[0m\u001b[1;33m)\u001b[0m\u001b[1;33m\u001b[0m\u001b[1;33m\u001b[0m\u001b[0m\n\u001b[0;32m    597\u001b[0m         \u001b[1;32melse\u001b[0m\u001b[1;33m:\u001b[0m\u001b[1;33m\u001b[0m\u001b[1;33m\u001b[0m\u001b[0m\n\u001b[1;32m--> 598\u001b[1;33m             \u001b[0mestimator\u001b[0m\u001b[1;33m.\u001b[0m\u001b[0mfit\u001b[0m\u001b[1;33m(\u001b[0m\u001b[0mX_train\u001b[0m\u001b[1;33m,\u001b[0m \u001b[0my_train\u001b[0m\u001b[1;33m,\u001b[0m \u001b[1;33m**\u001b[0m\u001b[0mfit_params\u001b[0m\u001b[1;33m)\u001b[0m\u001b[1;33m\u001b[0m\u001b[1;33m\u001b[0m\u001b[0m\n\u001b[0m\u001b[0;32m    599\u001b[0m \u001b[1;33m\u001b[0m\u001b[0m\n\u001b[0;32m    600\u001b[0m     \u001b[1;32mexcept\u001b[0m \u001b[0mException\u001b[0m \u001b[1;32mas\u001b[0m \u001b[0me\u001b[0m\u001b[1;33m:\u001b[0m\u001b[1;33m\u001b[0m\u001b[1;33m\u001b[0m\u001b[0m\n",
      "\u001b[1;32m~\\anaconda3\\lib\\site-packages\\sklearn\\pipeline.py\u001b[0m in \u001b[0;36mfit\u001b[1;34m(self, X, y, **fit_params)\u001b[0m\n\u001b[0;32m    344\u001b[0m             \u001b[1;32mif\u001b[0m \u001b[0mself\u001b[0m\u001b[1;33m.\u001b[0m\u001b[0m_final_estimator\u001b[0m \u001b[1;33m!=\u001b[0m \u001b[1;34m'passthrough'\u001b[0m\u001b[1;33m:\u001b[0m\u001b[1;33m\u001b[0m\u001b[1;33m\u001b[0m\u001b[0m\n\u001b[0;32m    345\u001b[0m                 \u001b[0mfit_params_last_step\u001b[0m \u001b[1;33m=\u001b[0m \u001b[0mfit_params_steps\u001b[0m\u001b[1;33m[\u001b[0m\u001b[0mself\u001b[0m\u001b[1;33m.\u001b[0m\u001b[0msteps\u001b[0m\u001b[1;33m[\u001b[0m\u001b[1;33m-\u001b[0m\u001b[1;36m1\u001b[0m\u001b[1;33m]\u001b[0m\u001b[1;33m[\u001b[0m\u001b[1;36m0\u001b[0m\u001b[1;33m]\u001b[0m\u001b[1;33m]\u001b[0m\u001b[1;33m\u001b[0m\u001b[1;33m\u001b[0m\u001b[0m\n\u001b[1;32m--> 346\u001b[1;33m                 \u001b[0mself\u001b[0m\u001b[1;33m.\u001b[0m\u001b[0m_final_estimator\u001b[0m\u001b[1;33m.\u001b[0m\u001b[0mfit\u001b[0m\u001b[1;33m(\u001b[0m\u001b[0mXt\u001b[0m\u001b[1;33m,\u001b[0m \u001b[0my\u001b[0m\u001b[1;33m,\u001b[0m \u001b[1;33m**\u001b[0m\u001b[0mfit_params_last_step\u001b[0m\u001b[1;33m)\u001b[0m\u001b[1;33m\u001b[0m\u001b[1;33m\u001b[0m\u001b[0m\n\u001b[0m\u001b[0;32m    347\u001b[0m \u001b[1;33m\u001b[0m\u001b[0m\n\u001b[0;32m    348\u001b[0m         \u001b[1;32mreturn\u001b[0m \u001b[0mself\u001b[0m\u001b[1;33m\u001b[0m\u001b[1;33m\u001b[0m\u001b[0m\n",
      "\u001b[1;32m~\\anaconda3\\lib\\site-packages\\sklearn\\tree\\_classes.py\u001b[0m in \u001b[0;36mfit\u001b[1;34m(self, X, y, sample_weight, check_input, X_idx_sorted)\u001b[0m\n\u001b[0;32m    901\u001b[0m         \"\"\"\n\u001b[0;32m    902\u001b[0m \u001b[1;33m\u001b[0m\u001b[0m\n\u001b[1;32m--> 903\u001b[1;33m         super().fit(\n\u001b[0m\u001b[0;32m    904\u001b[0m             \u001b[0mX\u001b[0m\u001b[1;33m,\u001b[0m \u001b[0my\u001b[0m\u001b[1;33m,\u001b[0m\u001b[1;33m\u001b[0m\u001b[1;33m\u001b[0m\u001b[0m\n\u001b[0;32m    905\u001b[0m             \u001b[0msample_weight\u001b[0m\u001b[1;33m=\u001b[0m\u001b[0msample_weight\u001b[0m\u001b[1;33m,\u001b[0m\u001b[1;33m\u001b[0m\u001b[1;33m\u001b[0m\u001b[0m\n",
      "\u001b[1;32m~\\anaconda3\\lib\\site-packages\\sklearn\\tree\\_classes.py\u001b[0m in \u001b[0;36mfit\u001b[1;34m(self, X, y, sample_weight, check_input, X_idx_sorted)\u001b[0m\n\u001b[0;32m    392\u001b[0m                                            min_impurity_split)\n\u001b[0;32m    393\u001b[0m \u001b[1;33m\u001b[0m\u001b[0m\n\u001b[1;32m--> 394\u001b[1;33m         \u001b[0mbuilder\u001b[0m\u001b[1;33m.\u001b[0m\u001b[0mbuild\u001b[0m\u001b[1;33m(\u001b[0m\u001b[0mself\u001b[0m\u001b[1;33m.\u001b[0m\u001b[0mtree_\u001b[0m\u001b[1;33m,\u001b[0m \u001b[0mX\u001b[0m\u001b[1;33m,\u001b[0m \u001b[0my\u001b[0m\u001b[1;33m,\u001b[0m \u001b[0msample_weight\u001b[0m\u001b[1;33m)\u001b[0m\u001b[1;33m\u001b[0m\u001b[1;33m\u001b[0m\u001b[0m\n\u001b[0m\u001b[0;32m    395\u001b[0m \u001b[1;33m\u001b[0m\u001b[0m\n\u001b[0;32m    396\u001b[0m         \u001b[1;32mif\u001b[0m \u001b[0mself\u001b[0m\u001b[1;33m.\u001b[0m\u001b[0mn_outputs_\u001b[0m \u001b[1;33m==\u001b[0m \u001b[1;36m1\u001b[0m \u001b[1;32mand\u001b[0m \u001b[0mis_classifier\u001b[0m\u001b[1;33m(\u001b[0m\u001b[0mself\u001b[0m\u001b[1;33m)\u001b[0m\u001b[1;33m:\u001b[0m\u001b[1;33m\u001b[0m\u001b[1;33m\u001b[0m\u001b[0m\n",
      "\u001b[1;31mKeyboardInterrupt\u001b[0m: "
     ]
    }
   ],
   "source": [
    "%%time\n",
    "from sklearn.model_selection import RandomizedSearchCV\n",
    "\n",
    "param_distributions = {\n",
    "    'classifier__ccp_alpha': uniform(0.005, 0.02),\n",
    "    'classifier__max_depth': loguniform_int(5, 11),\n",
    "    'classifier__max_leaf_nodes': loguniform_int(34, 76),\n",
    "}\n",
    "\n",
    "model_random_search_dtpp = RandomizedSearchCV(\n",
    "    model_dtpp, param_distributions=param_distributions, n_iter=2000,\n",
    "    cv=5, verbose=1, random_state =0\n",
    ")\n",
    "model_random_search_dtpp.fit(X_train, y_train)"
   ]
  },
  {
   "cell_type": "code",
   "execution_count": 63,
   "id": "db8cdd42-ffe4-443c-a86f-85402aa201c0",
   "metadata": {},
   "outputs": [
    {
     "ename": "NotFittedError",
     "evalue": "This RandomizedSearchCV instance is not fitted yet. Call 'fit' with appropriate arguments before using this estimator.",
     "output_type": "error",
     "traceback": [
      "\u001b[1;31m---------------------------------------------------------------------------\u001b[0m",
      "\u001b[1;31mNotFittedError\u001b[0m                            Traceback (most recent call last)",
      "\u001b[1;32m~\\AppData\\Local\\Temp/ipykernel_28900/1823783993.py\u001b[0m in \u001b[0;36m<module>\u001b[1;34m\u001b[0m\n\u001b[1;32m----> 1\u001b[1;33m \u001b[0maccuracy\u001b[0m \u001b[1;33m=\u001b[0m \u001b[0mmodel_random_search_dtpp\u001b[0m\u001b[1;33m.\u001b[0m\u001b[0mscore\u001b[0m\u001b[1;33m(\u001b[0m\u001b[0mX_test\u001b[0m\u001b[1;33m,\u001b[0m \u001b[0my_test\u001b[0m\u001b[1;33m)\u001b[0m\u001b[1;33m\u001b[0m\u001b[1;33m\u001b[0m\u001b[0m\n\u001b[0m\u001b[0;32m      2\u001b[0m \u001b[1;33m\u001b[0m\u001b[0m\n\u001b[0;32m      3\u001b[0m print(f\"The test accuracy score of the best model is \"\n\u001b[0;32m      4\u001b[0m       f\"{accuracy:.2f}\")\n",
      "\u001b[1;32m~\\anaconda3\\lib\\site-packages\\sklearn\\model_selection\\_search.py\u001b[0m in \u001b[0;36mscore\u001b[1;34m(self, X, y)\u001b[0m\n\u001b[0;32m    471\u001b[0m         \u001b[0mscore\u001b[0m \u001b[1;33m:\u001b[0m \u001b[0mfloat\u001b[0m\u001b[1;33m\u001b[0m\u001b[1;33m\u001b[0m\u001b[0m\n\u001b[0;32m    472\u001b[0m         \"\"\"\n\u001b[1;32m--> 473\u001b[1;33m         \u001b[0mself\u001b[0m\u001b[1;33m.\u001b[0m\u001b[0m_check_is_fitted\u001b[0m\u001b[1;33m(\u001b[0m\u001b[1;34m'score'\u001b[0m\u001b[1;33m)\u001b[0m\u001b[1;33m\u001b[0m\u001b[1;33m\u001b[0m\u001b[0m\n\u001b[0m\u001b[0;32m    474\u001b[0m         \u001b[1;32mif\u001b[0m \u001b[0mself\u001b[0m\u001b[1;33m.\u001b[0m\u001b[0mscorer_\u001b[0m \u001b[1;32mis\u001b[0m \u001b[1;32mNone\u001b[0m\u001b[1;33m:\u001b[0m\u001b[1;33m\u001b[0m\u001b[1;33m\u001b[0m\u001b[0m\n\u001b[0;32m    475\u001b[0m             raise ValueError(\"No score function explicitly defined, \"\n",
      "\u001b[1;32m~\\anaconda3\\lib\\site-packages\\sklearn\\model_selection\\_search.py\u001b[0m in \u001b[0;36m_check_is_fitted\u001b[1;34m(self, method_name)\u001b[0m\n\u001b[0;32m    521\u001b[0m                                  % (type(self).__name__, method_name))\n\u001b[0;32m    522\u001b[0m         \u001b[1;32melse\u001b[0m\u001b[1;33m:\u001b[0m\u001b[1;33m\u001b[0m\u001b[1;33m\u001b[0m\u001b[0m\n\u001b[1;32m--> 523\u001b[1;33m             \u001b[0mcheck_is_fitted\u001b[0m\u001b[1;33m(\u001b[0m\u001b[0mself\u001b[0m\u001b[1;33m)\u001b[0m\u001b[1;33m\u001b[0m\u001b[1;33m\u001b[0m\u001b[0m\n\u001b[0m\u001b[0;32m    524\u001b[0m \u001b[1;33m\u001b[0m\u001b[0m\n\u001b[0;32m    525\u001b[0m     \u001b[1;33m@\u001b[0m\u001b[0mif_delegate_has_method\u001b[0m\u001b[1;33m(\u001b[0m\u001b[0mdelegate\u001b[0m\u001b[1;33m=\u001b[0m\u001b[1;33m(\u001b[0m\u001b[1;34m'best_estimator_'\u001b[0m\u001b[1;33m,\u001b[0m \u001b[1;34m'estimator'\u001b[0m\u001b[1;33m)\u001b[0m\u001b[1;33m)\u001b[0m\u001b[1;33m\u001b[0m\u001b[1;33m\u001b[0m\u001b[0m\n",
      "\u001b[1;32m~\\anaconda3\\lib\\site-packages\\sklearn\\utils\\validation.py\u001b[0m in \u001b[0;36minner_f\u001b[1;34m(*args, **kwargs)\u001b[0m\n\u001b[0;32m     61\u001b[0m             \u001b[0mextra_args\u001b[0m \u001b[1;33m=\u001b[0m \u001b[0mlen\u001b[0m\u001b[1;33m(\u001b[0m\u001b[0margs\u001b[0m\u001b[1;33m)\u001b[0m \u001b[1;33m-\u001b[0m \u001b[0mlen\u001b[0m\u001b[1;33m(\u001b[0m\u001b[0mall_args\u001b[0m\u001b[1;33m)\u001b[0m\u001b[1;33m\u001b[0m\u001b[1;33m\u001b[0m\u001b[0m\n\u001b[0;32m     62\u001b[0m             \u001b[1;32mif\u001b[0m \u001b[0mextra_args\u001b[0m \u001b[1;33m<=\u001b[0m \u001b[1;36m0\u001b[0m\u001b[1;33m:\u001b[0m\u001b[1;33m\u001b[0m\u001b[1;33m\u001b[0m\u001b[0m\n\u001b[1;32m---> 63\u001b[1;33m                 \u001b[1;32mreturn\u001b[0m \u001b[0mf\u001b[0m\u001b[1;33m(\u001b[0m\u001b[1;33m*\u001b[0m\u001b[0margs\u001b[0m\u001b[1;33m,\u001b[0m \u001b[1;33m**\u001b[0m\u001b[0mkwargs\u001b[0m\u001b[1;33m)\u001b[0m\u001b[1;33m\u001b[0m\u001b[1;33m\u001b[0m\u001b[0m\n\u001b[0m\u001b[0;32m     64\u001b[0m \u001b[1;33m\u001b[0m\u001b[0m\n\u001b[0;32m     65\u001b[0m             \u001b[1;31m# extra_args > 0\u001b[0m\u001b[1;33m\u001b[0m\u001b[1;33m\u001b[0m\u001b[0m\n",
      "\u001b[1;32m~\\anaconda3\\lib\\site-packages\\sklearn\\utils\\validation.py\u001b[0m in \u001b[0;36mcheck_is_fitted\u001b[1;34m(estimator, attributes, msg, all_or_any)\u001b[0m\n\u001b[0;32m   1096\u001b[0m \u001b[1;33m\u001b[0m\u001b[0m\n\u001b[0;32m   1097\u001b[0m     \u001b[1;32mif\u001b[0m \u001b[1;32mnot\u001b[0m \u001b[0mattrs\u001b[0m\u001b[1;33m:\u001b[0m\u001b[1;33m\u001b[0m\u001b[1;33m\u001b[0m\u001b[0m\n\u001b[1;32m-> 1098\u001b[1;33m         \u001b[1;32mraise\u001b[0m \u001b[0mNotFittedError\u001b[0m\u001b[1;33m(\u001b[0m\u001b[0mmsg\u001b[0m \u001b[1;33m%\u001b[0m \u001b[1;33m{\u001b[0m\u001b[1;34m'name'\u001b[0m\u001b[1;33m:\u001b[0m \u001b[0mtype\u001b[0m\u001b[1;33m(\u001b[0m\u001b[0mestimator\u001b[0m\u001b[1;33m)\u001b[0m\u001b[1;33m.\u001b[0m\u001b[0m__name__\u001b[0m\u001b[1;33m}\u001b[0m\u001b[1;33m)\u001b[0m\u001b[1;33m\u001b[0m\u001b[1;33m\u001b[0m\u001b[0m\n\u001b[0m\u001b[0;32m   1099\u001b[0m \u001b[1;33m\u001b[0m\u001b[0m\n\u001b[0;32m   1100\u001b[0m \u001b[1;33m\u001b[0m\u001b[0m\n",
      "\u001b[1;31mNotFittedError\u001b[0m: This RandomizedSearchCV instance is not fitted yet. Call 'fit' with appropriate arguments before using this estimator."
     ]
    }
   ],
   "source": [
    "accuracy = model_random_search_dtpp.score(X_test, y_test)\n",
    "\n",
    "print(f\"The test accuracy score of the best model is \"\n",
    "      f\"{accuracy:.2f}\")"
   ]
  },
  {
   "cell_type": "code",
   "execution_count": null,
   "id": "7be4bfdf-6a0b-4781-b547-a6bea31a6a5f",
   "metadata": {},
   "outputs": [],
   "source": [
    "from pprint import pprint\n",
    "\n",
    "print(\"The best parameters are:\")\n",
    "pprint(model_random_search_dtpp.best_params_)"
   ]
  },
  {
   "cell_type": "markdown",
   "id": "693fb2b6-2e7c-4cf6-b22e-a82da6fd1ee9",
   "metadata": {
    "lines_to_next_cell": 2
   },
   "source": [
    "\n",
    "We can inspect the results using the attributes `cv_results` as we did\n",
    "previously."
   ]
  },
  {
   "cell_type": "code",
   "execution_count": null,
   "id": "9b7bb54f-e03b-451f-98ec-51da1e2323c1",
   "metadata": {
    "tags": []
   },
   "outputs": [],
   "source": [
    "# get the parameter names\n",
    "column_results = [\n",
    "    f\"param_{name}\" for name in param_distributions.keys()]\n",
    "column_results += [\n",
    "    \"mean_test_score\", \"std_test_score\", \"rank_test_score\"]\n",
    "\n",
    "cv_results = pd.DataFrame(model_random_search_dtpp.cv_results_)\n",
    "cv_results = cv_results[column_results].sort_values(\n",
    "    \"mean_test_score\", ascending=False)\n",
    "\n",
    "def shorten_param(param_name):\n",
    "    if \"__\" in param_name:\n",
    "        return param_name.rsplit(\"__\", 1)[1]\n",
    "    return param_name\n",
    "\n",
    "cv_results = cv_results.rename(shorten_param, axis=1)\n",
    "cv_results.head(200)"
   ]
  },
  {
   "cell_type": "code",
   "execution_count": null,
   "id": "d8ff7d7a-95aa-481f-a8d0-64ee6c7e3fab",
   "metadata": {},
   "outputs": [],
   "source": [
    "def shorten_param(param_name):\n",
    "    if \"__\" in param_name:\n",
    "        return param_name.rsplit(\"__\", 1)[1]\n",
    "    return param_name\n",
    "\n",
    "cv_results = cv_results.rename(shorten_param, axis=1)\n",
    "cv_results"
   ]
  },
  {
   "cell_type": "code",
   "execution_count": null,
   "id": "fd9449c5-8506-4799-b49d-9247ccd8c11c",
   "metadata": {},
   "outputs": [],
   "source": [
    "import seaborn as sns\n",
    "\n",
    "df_tuning = pd.DataFrame(\n",
    "    {\n",
    "        \"max_leaf_nodes\": cv_results[\"max_leaf_nodes\"],\n",
    "        \"ccp_alpha\": cv_results[\"ccp_alpha\"],\n",
    "        \"score_bin\": pd.cut(\n",
    "            cv_results[\"mean_test_score\"], bins=np.linspace(0.832296, 0.847970, 7)\n",
    "        ),\n",
    "    }\n",
    ")\n",
    "sns.set_palette(\"YlGnBu_r\")\n",
    "ax = sns.scatterplot(\n",
    "    data=df_tuning,\n",
    "    x=\"ccp_alpha\",\n",
    "    y=\"max_leaf_nodes\",\n",
    "    hue=\"score_bin\",\n",
    "    s=28,\n",
    "    color=\"k\",\n",
    "    edgecolor=None,\n",
    ")\n",
    "#ax.set_xscale(\"log\")\n",
    "#ax.set_yscale(\"log\")\n",
    "\n",
    "_ = ax.legend(title=\"mean_test_score\", loc=\"center left\", bbox_to_anchor=(1, 0.5))"
   ]
  },
  {
   "cell_type": "code",
   "execution_count": null,
   "id": "9dff0902-e9fa-4ee0-ba2b-a26ec12b9011",
   "metadata": {},
   "outputs": [],
   "source": [
    "import seaborn as sns\n",
    "\n",
    "df_tuning = pd.DataFrame(\n",
    "    {\n",
    "        \"max_depth\": cv_results[\"max_depth\"],\n",
    "        \"ccp_alpha\": cv_results[\"ccp_alpha\"],\n",
    "        \"score_bin\": pd.cut(\n",
    "            cv_results[\"mean_test_score\"], bins=np.linspace(0.832296, 0.847970, 7)\n",
    "        ),\n",
    "    }\n",
    ")\n",
    "sns.set_palette(\"YlGnBu_r\")\n",
    "ax = sns.scatterplot(\n",
    "    data=df_tuning,\n",
    "    x=\"ccp_alpha\",\n",
    "    y=\"max_depth\",\n",
    "    hue=\"score_bin\",\n",
    "    s=15,\n",
    "    color=\"k\",\n",
    "    edgecolor=None,\n",
    ")\n",
    "#ax.set_xscale(\"log\")\n",
    "#ax.set_yscale(\"log\")\n",
    "\n",
    "_ = ax.legend(title=\"mean_test_score\", loc=\"center left\", bbox_to_anchor=(1, 0.5))"
   ]
  },
  {
   "cell_type": "code",
   "execution_count": null,
   "id": "e8a2c58b-ce7c-429a-b3ec-0248f3996451",
   "metadata": {},
   "outputs": [],
   "source": [
    "#pd.to_numeric(cv_results[\"max_depth\", \"ccp_alpha\", \"max_leaf_nodes\"]) \n",
    "cv_results[\"max_depth\"] = pd.to_numeric(cv_results[\"max_depth\"])\n",
    "cv_results[\"ccp_alpha\"] = pd.to_numeric(cv_results[\"ccp_alpha\"])\n",
    "cv_results[\"max_leaf_nodes\"] = pd.to_numeric(cv_results[\"max_leaf_nodes\"])\n",
    "cv_results.info()"
   ]
  },
  {
   "cell_type": "code",
   "execution_count": null,
   "id": "8f6cf6f4-c467-4048-9e08-6f2914092fdd",
   "metadata": {},
   "outputs": [],
   "source": [
    "cv_results_plot= cv_results.drop([\"std_test_score\"], axis=1)\n",
    "import plotly.express as px\n",
    "\n",
    "fig = px.parallel_coordinates(\n",
    "    cv_results_plot,\n",
    "    color=\"mean_test_score\",\n",
    "    color_continuous_scale=px.colors.sequential.Viridis,\n",
    ")\n",
    "fig.show()"
   ]
  },
  {
   "cell_type": "markdown",
   "id": "0c72abfa-d604-4194-a2a8-91fff3430874",
   "metadata": {},
   "source": [
    "### Final Decision Tree Model with Pruning"
   ]
  },
  {
   "cell_type": "code",
   "execution_count": null,
   "id": "3adde058-bc9a-4620-a3c9-00cd7ec19c4f",
   "metadata": {},
   "outputs": [],
   "source": [
    "model_dtp = make_pipeline(preprocessor, DecisionTreeClassifier(criterion='entropy', random_state=0, max_depth=8, max_leaf_nodes= 90, ccp_alpha=0.00667))"
   ]
  },
  {
   "cell_type": "code",
   "execution_count": null,
   "id": "47200636-f3af-4cdb-b751-88c22a135019",
   "metadata": {},
   "outputs": [],
   "source": [
    "from sklearn import set_config\n",
    "set_config(display='diagram')\n",
    "model_dtp"
   ]
  },
  {
   "cell_type": "code",
   "execution_count": null,
   "id": "ee7c0c51-0d09-4471-b079-eab5eb8a21e6",
   "metadata": {},
   "outputs": [],
   "source": [
    "%%time\n",
    "decision_tree_model_pruning = model_dtp.fit(X_train, y_train)"
   ]
  },
  {
   "cell_type": "code",
   "execution_count": null,
   "id": "d255e7d6-26b4-47cc-b04a-84a658d2f0a3",
   "metadata": {},
   "outputs": [],
   "source": [
    "decision_tree_model_pruning.score(X_test, y_test)"
   ]
  },
  {
   "cell_type": "code",
   "execution_count": null,
   "id": "817c13b2-050d-4509-ad96-39db5fc4d614",
   "metadata": {},
   "outputs": [],
   "source": [
    "start = time.process_time()\n",
    "cv_results_dtmp = cross_validate(decision_tree_model_pruning, X_train, y_train, cv=5)\n",
    "print(\"Test Scores for the Final Decision Tree Model (Pruning) with 5-Fold Cross-Validation:\")\n",
    "print(cv_results_dtmp[\"test_score\"])\n",
    "scores = cv_results_dtmp[\"test_score\"]\n",
    "print(\"The Mean Cross-Validation Accuracy is: \"f\"{scores.mean():.3f} with Standard Deviation of +/- {scores.std():.3f}\")\n",
    "print(\"Total time taken: {:}\".format(time.process_time() - start))"
   ]
  }
 ],
 "metadata": {
  "kernelspec": {
   "display_name": "Python 3 (ipykernel)",
   "language": "python",
   "name": "python3"
  },
  "language_info": {
   "codemirror_mode": {
    "name": "ipython",
    "version": 3
   },
   "file_extension": ".py",
   "mimetype": "text/x-python",
   "name": "python",
   "nbconvert_exporter": "python",
   "pygments_lexer": "ipython3",
   "version": "3.9.7"
  }
 },
 "nbformat": 4,
 "nbformat_minor": 5
}
