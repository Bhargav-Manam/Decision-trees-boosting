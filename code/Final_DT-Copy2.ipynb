{
 "cells": [
  {
   "cell_type": "markdown",
   "id": "ada2b809-adc6-49b1-adc4-9996800b3356",
   "metadata": {},
   "source": [
    "# Classification Problem on Urban Tree Dataset"
   ]
  },
  {
   "cell_type": "markdown",
   "id": "124f50ae-190c-46b4-a5c2-7c54d9419047",
   "metadata": {},
   "source": [
    "## PreProcessing"
   ]
  },
  {
   "cell_type": "markdown",
   "id": "e962ffc0-2f5b-4575-b18f-5356b27dcf82",
   "metadata": {},
   "source": [
    "### Importing the libraries"
   ]
  },
  {
   "cell_type": "code",
   "execution_count": null,
   "id": "7cae2a6a-9213-4cb3-ac1c-8a70cce0230f",
   "metadata": {},
   "outputs": [],
   "source": [
    "import numpy as np\n",
    "import pandas as pd\n",
    "import matplotlib.pyplot as plt\n",
    "%matplotlib inline\n",
    "import time\n",
    "from sklearn.compose import ColumnTransformer\n",
    "from sklearn.impute import SimpleImputer, KNNImputer\n",
    "from sklearn.pipeline import Pipeline\n",
    "from sklearn.preprocessing import StandardScaler, OneHotEncoder, LabelEncoder\n",
    "from sklearn.feature_selection import SelectFromModel\n",
    "from sklearn.model_selection import train_test_split, GridSearchCV, RepeatedStratifiedKFold\n",
    "from sklearn.multiclass import OneVsRestClassifier\n",
    "from sklearn.linear_model import LogisticRegression\n",
    "from sklearn.svm import SVC\n",
    "from sklearn.metrics import f1_score, roc_curve, auc,confusion_matrix, RocCurveDisplay"
   ]
  },
  {
   "cell_type": "markdown",
   "id": "a75ef9d8-40e1-4327-afa5-2384cee43188",
   "metadata": {},
   "source": [
    "### Importing the Data set, Cleaning Data and Handling Missing Values"
   ]
  },
  {
   "cell_type": "code",
   "execution_count": null,
   "id": "af1caba9-bcda-4d58-98f0-0e697407c7be",
   "metadata": {},
   "outputs": [],
   "source": [
    "df = pd.read_csv('sgl-arbres-urbains-wgs84.csv')"
   ]
  },
  {
   "cell_type": "code",
   "execution_count": null,
   "id": "1c77eb32-4ab7-455d-82ac-716ec060a084",
   "metadata": {},
   "outputs": [],
   "source": [
    "df= df.drop([\"ID_ARBRE\", \"commune\", \"controle\", \"insecte_collet\", \"insecte_tronc\", \"insecte_houppier\",\"circonference (en cm)\", \"observation_collet\", \"observation_tronc\", \"observation_houppier\"], axis=1 )\n",
    "#Handling Missing Values\n",
    "mode_cote_voirie=df.cote_voirie.mode()[0]\n",
    "mode_espece_arbre=df.espece_arbre.mode()[0]\n",
    "mode_situation=df.situation.mode()[0]\n",
    "mode_plaie_collet=df.plaie_collet.mode()[0]\n",
    "mode_champignon_tronc=df.champignon_tronc.mode()[0]\n",
    "mode_fissure_tronc=df.fissure_tronc.mode()[0]\n",
    "mode_rejet_tronc=df.rejet_tronc.mode()[0]\n",
    "mode_plaie_tronc=df.plaie_tronc.mode()[0]\n",
    "mode_champignon_houppier=df.champignon_houppier.mode()[0]\n",
    "mode_fissure_houppier=df.fissure_houppier.mode()[0]\n",
    "mode_ecorce_incluse_houppier=df.ecorce_incluse_houppier.mode()[0]\n",
    "mode_bois_mort_houppier=df.bois_mort_houppier.mode()[0]\n",
    "mode_plaie_houppier=df.plaie_houppier.mode()[0]\n",
    "mode_contrainte=df.contrainte.mode()[0]\n",
    "mode_classification_diagnostic=df.classification_diagnostic.mode()[0]\n",
    "median_esperance_maintien=df.esperance_maintien.median()\n",
    "\n",
    "df=df.fillna({\"cote_voirie\": mode_cote_voirie, \"espece_arbre\": mode_espece_arbre, \"situation\": mode_situation,\n",
    "            \"plaie_collet\": mode_plaie_collet, \"champignon_tronc\": mode_champignon_tronc,\n",
    "            \"fissure_tronc\": mode_fissure_tronc, \"rejet_tronc\": mode_rejet_tronc, \"plaie_tronc\": mode_plaie_tronc, \n",
    "              \"champignon_houppier\": mode_champignon_houppier, \"fissure_houppier\":mode_fissure_houppier, \"ecorce_incluse_houppier\": mode_ecorce_incluse_houppier,\n",
    "            \"bois_mort_houppier\": mode_bois_mort_houppier, \"plaie_houppier\": mode_plaie_houppier, \"contrainte\": mode_contrainte,\n",
    "            \"classification_diagnostic\": mode_classification_diagnostic, \"esperance_maintien\": median_esperance_maintien})"
   ]
  },
  {
   "cell_type": "code",
   "execution_count": null,
   "id": "075e801c-0894-477e-b71b-36c356f8930e",
   "metadata": {},
   "outputs": [],
   "source": [
    "df.head()"
   ]
  },
  {
   "cell_type": "code",
   "execution_count": null,
   "id": "9e30976a-0a79-4392-85d7-c6a53643a7b8",
   "metadata": {},
   "outputs": [],
   "source": [
    "#define function to swap columns so that all numerical data will be in the end columns\n",
    "def swap_columns(df, col1, col2):\n",
    "    col_list = list(df.columns)\n",
    "    a, b = col_list.index(col1), col_list.index(col2)\n",
    "    col_list[b], col_list[a] = col_list[a], col_list[b]\n",
    "    df = df[col_list]\n",
    "    return df\n",
    "\n",
    "#swaping columns\n",
    "df = swap_columns(df, 'matricule_arbre', 'contrainte')\n",
    "df = swap_columns(df, 'surf_permeable', 'plaie_houppier')\n",
    "df = swap_columns(df, 'date_plantation', 'bois_mort_houppier')\n",
    "df = swap_columns(df, 'hauteur', 'ecorce_incluse_houppier')\n",
    "df = swap_columns(df, 'diametre', 'fissure_houppier')\n",
    "\n",
    "df.info()"
   ]
  },
  {
   "cell_type": "code",
   "execution_count": null,
   "id": "166dc29c-de2c-421d-aee7-1aff088fcc80",
   "metadata": {},
   "outputs": [],
   "source": [
    "_ = df.hist(figsize=(20, 14))"
   ]
  },
  {
   "cell_type": "code",
   "execution_count": null,
   "id": "5fcc0d37-6efe-427c-b33f-edc8a48954fc",
   "metadata": {},
   "outputs": [],
   "source": [
    "cor_matrix = df.corr()\n",
    "cor_matrix"
   ]
  },
  {
   "cell_type": "code",
   "execution_count": null,
   "id": "3f69a91b-25ef-4d99-918c-bd718b7f2cdd",
   "metadata": {},
   "outputs": [],
   "source": [
    "df.nunique()"
   ]
  },
  {
   "cell_type": "code",
   "execution_count": null,
   "id": "c99fd816-ab0e-481f-9daa-d51edbf09f17",
   "metadata": {},
   "outputs": [],
   "source": [
    "df['classification_diagnostic'].value_counts()"
   ]
  },
  {
   "cell_type": "code",
   "execution_count": null,
   "id": "ef18e402-2d75-4151-8a48-028c91d01e85",
   "metadata": {},
   "outputs": [],
   "source": [
    "target_name = \"classification_diagnostic\"\n",
    "target = df[target_name]"
   ]
  },
  {
   "cell_type": "markdown",
   "id": "3c1cc4d5-59df-4bd3-822c-6c825868b100",
   "metadata": {
    "tags": []
   },
   "source": [
    "### One Hot Encoding for Categorical features and Standard Scaling for Numerical Features"
   ]
  },
  {
   "cell_type": "code",
   "execution_count": null,
   "id": "2eb2afa9-cbcc-4672-af7f-e877f3e0e70c",
   "metadata": {},
   "outputs": [],
   "source": [
    "data= df"
   ]
  },
  {
   "cell_type": "code",
   "execution_count": null,
   "id": "21e5b278-874f-4c99-8390-04988744dfcb",
   "metadata": {},
   "outputs": [],
   "source": [
    "from sklearn.compose import make_column_selector as selector\n",
    "#Separating Numerical and Categorical columns\n",
    "numerical_columns_selector = selector(dtype_exclude=object)\n",
    "categorical_columns_selector = selector(dtype_include=object)\n",
    "\n",
    "numerical_columns = numerical_columns_selector(data)\n",
    "categorical_columns = categorical_columns_selector(data)"
   ]
  },
  {
   "cell_type": "code",
   "execution_count": null,
   "id": "6e2ea69a-2168-4ab1-b2f6-527c64d09fd0",
   "metadata": {},
   "outputs": [],
   "source": [
    "from sklearn.preprocessing import OneHotEncoder, StandardScaler\n",
    "\n",
    "categorical_preprocessor = OneHotEncoder(handle_unknown=\"ignore\")\n",
    "numerical_preprocessor = StandardScaler()"
   ]
  },
  {
   "cell_type": "code",
   "execution_count": null,
   "id": "a05a1345-99be-42bc-8493-1de00285171f",
   "metadata": {},
   "outputs": [],
   "source": [
    "from sklearn.compose import ColumnTransformer\n",
    "## Creating separate Transformers\n",
    "preprocessor = ColumnTransformer([\n",
    "    ('one-hot-encoder', categorical_preprocessor, categorical_columns),\n",
    "    ('standard_scaler', numerical_preprocessor, numerical_columns)])"
   ]
  },
  {
   "cell_type": "markdown",
   "id": "0e99801b-e540-498d-800f-2ffb03d7d8dc",
   "metadata": {},
   "source": [
    "## Building Model Pipeline"
   ]
  },
  {
   "cell_type": "markdown",
   "id": "c9e7f28b-abbd-499b-957b-2d063758ef72",
   "metadata": {},
   "source": [
    "### Logistic Regression Model with One Hot Encoding"
   ]
  },
  {
   "cell_type": "code",
   "execution_count": null,
   "id": "f68d63d6-7165-47fb-9302-ff104595fdba",
   "metadata": {},
   "outputs": [],
   "source": [
    "from sklearn.linear_model import LogisticRegression\n",
    "from sklearn.pipeline import make_pipeline\n",
    "\n",
    "model_lr_ohe = make_pipeline(preprocessor, LogisticRegression(max_iter=500, random_state=0))"
   ]
  },
  {
   "cell_type": "code",
   "execution_count": null,
   "id": "92240816-7c92-4582-b6db-310313379ea7",
   "metadata": {},
   "outputs": [],
   "source": [
    "from sklearn import set_config\n",
    "set_config(display='diagram')\n",
    "model_lr_ohe"
   ]
  },
  {
   "cell_type": "code",
   "execution_count": null,
   "id": "34b25b99-8460-4ad3-9096-eb2e15dc80ce",
   "metadata": {},
   "outputs": [],
   "source": [
    "from sklearn.model_selection import train_test_split\n",
    "\n",
    "X_train, X_test, y_train, y_test = train_test_split(\n",
    "    data, target, random_state=0, test_size=0.1)"
   ]
  },
  {
   "cell_type": "code",
   "execution_count": null,
   "id": "d73f473b-835a-4081-a3dc-8cf6fa9290c7",
   "metadata": {},
   "outputs": [],
   "source": [
    "X_train.shape"
   ]
  },
  {
   "cell_type": "code",
   "execution_count": null,
   "id": "73d3acf8-a7e9-4317-b865-09ac27a96ade",
   "metadata": {},
   "outputs": [],
   "source": [
    "X_test.shape"
   ]
  },
  {
   "cell_type": "code",
   "execution_count": null,
   "id": "87947e7d-46be-44a3-a65b-d69e96abdcf6",
   "metadata": {},
   "outputs": [],
   "source": [
    "%%time\n",
    "logistic_regression_ohe_model = model_lr_ohe.fit(X_train, y_train)"
   ]
  },
  {
   "cell_type": "code",
   "execution_count": null,
   "id": "9188bf43-b71d-47c0-bcd7-e4ef96de6dab",
   "metadata": {},
   "outputs": [],
   "source": [
    "logistic_regression_ohe_model.score(X_test, y_test)"
   ]
  },
  {
   "cell_type": "code",
   "execution_count": null,
   "id": "712b0fbd-12d0-4eff-95d0-351db5b7741a",
   "metadata": {},
   "outputs": [],
   "source": [
    "logistic_regression_ohe_model.predict(X_test)[:5]"
   ]
  },
  {
   "cell_type": "markdown",
   "id": "9c429425-cbe7-4ae3-ab0c-2719a4da0f4d",
   "metadata": {},
   "source": [
    "#### Model Evaluation with Cross-Validation"
   ]
  },
  {
   "cell_type": "code",
   "execution_count": null,
   "id": "f4a7eef6-d120-4a15-bfc6-466de5f9470b",
   "metadata": {},
   "outputs": [],
   "source": [
    "from sklearn.model_selection import cross_validate\n",
    "start = time.process_time()\n",
    "cv_results_lrm_ohe = cross_validate(logistic_regression_ohe_model, X_train, y_train, cv=5)\n",
    "print(\"Test Scores for the Logistic Regression Model with 5-Fold Cross-Validation:\")\n",
    "print(cv_results_lrm_ohe[\"test_score\"])\n",
    "scores = cv_results_lrm_ohe[\"test_score\"]\n",
    "print(\"The Mean Cross-Validation Accuracy is: \"f\"{scores.mean():.3f} with Standard Deviation of +/- {scores.std():.3f}\")\n",
    "print(\"Total time taken: {:}\".format(time.process_time() - start))"
   ]
  },
  {
   "cell_type": "markdown",
   "id": "08a29462-28ee-405c-9207-e895b4f78aa3",
   "metadata": {},
   "source": [
    "### Logistic Regression with Ordinal Encoding"
   ]
  },
  {
   "cell_type": "code",
   "execution_count": null,
   "id": "b68674c6-b10a-45a5-a68b-93d0823a5061",
   "metadata": {},
   "outputs": [],
   "source": [
    "from sklearn.compose import make_column_selector as selector\n",
    "#Separating Numerical and Categorical columns\n",
    "numerical_columns_selector = selector(dtype_exclude=object)\n",
    "categorical_columns_selector = selector(dtype_include=object)\n",
    "\n",
    "categorical_columns = categorical_columns_selector(data)\n",
    "data_categorical = data[categorical_columns]\n",
    "data_categorical.head()"
   ]
  },
  {
   "cell_type": "code",
   "execution_count": null,
   "id": "6b0fe13a-05b3-4e21-9fc8-578b1fa48eb1",
   "metadata": {},
   "outputs": [],
   "source": [
    "print(f\"The dataset is composed of {data_categorical.shape[1]} Categorical features\")"
   ]
  },
  {
   "cell_type": "code",
   "execution_count": null,
   "id": "ddb155f5-7eb1-42a7-8a4c-ba106ed36b1f",
   "metadata": {},
   "outputs": [],
   "source": [
    "from sklearn.preprocessing import OrdinalEncoder, StandardScaler\n",
    "\n",
    "categorical_encoder = OrdinalEncoder()\n",
    "data_encoded = categorical_encoder.fit_transform(data_categorical)\n",
    "data_encoded.shape"
   ]
  },
  {
   "cell_type": "code",
   "execution_count": null,
   "id": "959defee-90a8-403d-b6e3-5bec22e7ce6b",
   "metadata": {},
   "outputs": [],
   "source": [
    "data_encoded[:5]"
   ]
  },
  {
   "cell_type": "code",
   "execution_count": null,
   "id": "491ff53d-1985-425b-a1ff-4d325ec535cc",
   "metadata": {},
   "outputs": [],
   "source": [
    "print(\n",
    "    f\"The dataset encoded contains {data_encoded.shape[1]} features\")"
   ]
  },
  {
   "cell_type": "code",
   "execution_count": null,
   "id": "4e9b4bc9-add7-4dba-852a-7ef35661f560",
   "metadata": {
    "tags": []
   },
   "outputs": [],
   "source": [
    "len(categorical_columns)"
   ]
  },
  {
   "cell_type": "code",
   "execution_count": null,
   "id": "f7f99152-7c9a-4b55-a463-27c33854a604",
   "metadata": {},
   "outputs": [],
   "source": [
    "categorical_columns"
   ]
  },
  {
   "cell_type": "code",
   "execution_count": null,
   "id": "9db32625-5b44-4f90-854d-f55a947726c7",
   "metadata": {},
   "outputs": [],
   "source": [
    "#Adding Numpy array into pandas data frame (Numerical columns)\n",
    "data_cat_encoded_to_num = pd.DataFrame(data_encoded, columns=['quartier',\n",
    " 'site',\n",
    " 'cote_voirie',\n",
    " 'contrainte',\n",
    " 'genre_arbre',\n",
    " 'espece_arbre',\n",
    " 'situation',\n",
    " 'type_sol',\n",
    " 'plaie_houppier',\n",
    " 'bois_mort_houppier',\n",
    " 'classe_age',\n",
    " 'ecorce_incluse_houppier',\n",
    " 'classe_hauteur',\n",
    " 'fissure_houppier',\n",
    " 'classe_circonference',\n",
    " 'port_arbre',\n",
    " 'vigueur_pousse',\n",
    " 'champignon_collet',\n",
    " 'plaie_collet',\n",
    " 'champignon_tronc',\n",
    " 'fissure_tronc',\n",
    " 'rejet_tronc',\n",
    " 'tuteurage_arbre',\n",
    " 'canisse_arbre',\n",
    " 'plaie_tronc',\n",
    " 'champignon_houppier', 'classification_diagnostic'])"
   ]
  },
  {
   "cell_type": "code",
   "execution_count": null,
   "id": "3cb674f5-c9e1-40ec-a6ce-288f75550b69",
   "metadata": {},
   "outputs": [],
   "source": [
    "data_cat_encoded_to_num.head()"
   ]
  },
  {
   "cell_type": "code",
   "execution_count": null,
   "id": "3f3e79a6-3b9e-441b-90f4-5833ca94b4ad",
   "metadata": {},
   "outputs": [],
   "source": [
    "data_numerical = data[numerical_columns]\n",
    "data_numerical_all_features= pd.concat([data_cat_encoded_to_num, data_numerical], axis=1)"
   ]
  },
  {
   "cell_type": "code",
   "execution_count": null,
   "id": "e2388835-d817-451a-8d48-f8964e903c2a",
   "metadata": {},
   "outputs": [],
   "source": [
    "data_numerical_all_features.info()"
   ]
  },
  {
   "cell_type": "code",
   "execution_count": null,
   "id": "ab291722-8d5d-4126-9846-943238904358",
   "metadata": {},
   "outputs": [],
   "source": [
    "data_numerical_all_features.head()"
   ]
  },
  {
   "cell_type": "code",
   "execution_count": null,
   "id": "29935dbc-df6e-40cd-8072-4dafddfda49f",
   "metadata": {},
   "outputs": [],
   "source": [
    "_ = data_numerical_all_features.hist(figsize=(16, 15))"
   ]
  },
  {
   "cell_type": "code",
   "execution_count": null,
   "id": "3cffd3cf-414a-4292-b170-a3c769d89f8d",
   "metadata": {},
   "outputs": [],
   "source": [
    "cor_matrix = df.corr()\n",
    "cor_matrix"
   ]
  },
  {
   "cell_type": "code",
   "execution_count": null,
   "id": "7f665354-fd97-4831-bdd2-1fad29aee4e7",
   "metadata": {},
   "outputs": [],
   "source": [
    "numerical_columns = numerical_columns_selector(data_numerical_all_features)\n",
    "numerical_preprocessor = StandardScaler()\n",
    "from sklearn.compose import ColumnTransformer\n",
    "## Creating separate Transformers\n",
    "preprocessor = ColumnTransformer([\n",
    "    ('Standard_scaler', numerical_preprocessor, numerical_columns)])"
   ]
  },
  {
   "cell_type": "code",
   "execution_count": null,
   "id": "ca507e62-9129-40aa-97b8-f6142979fc54",
   "metadata": {},
   "outputs": [],
   "source": [
    "from sklearn.linear_model import LogisticRegression\n",
    "from sklearn.pipeline import make_pipeline\n",
    "\n",
    "model_lr_oe = make_pipeline(preprocessor, LogisticRegression(max_iter=1000, random_state=0))"
   ]
  },
  {
   "cell_type": "code",
   "execution_count": null,
   "id": "357eb61a-2238-4b70-9fe8-dc40c6bc2e8f",
   "metadata": {},
   "outputs": [],
   "source": [
    "from sklearn import set_config\n",
    "set_config(display='diagram')\n",
    "model_lr_oe"
   ]
  },
  {
   "cell_type": "code",
   "execution_count": null,
   "id": "b0f0daec-1cac-4c85-b2c7-0d13de2d0274",
   "metadata": {},
   "outputs": [],
   "source": [
    "from sklearn.model_selection import train_test_split\n",
    "\n",
    "X_train, X_test, y_train, y_test = train_test_split(\n",
    "    data_numerical_all_features, target, random_state=0, test_size=0.1)"
   ]
  },
  {
   "cell_type": "code",
   "execution_count": null,
   "id": "8c1fa711-6be3-4d6a-be76-c559026351f0",
   "metadata": {},
   "outputs": [],
   "source": [
    "%%time\n",
    "logistic_regression_oe_model = model_lr_oe.fit(X_train, y_train)"
   ]
  },
  {
   "cell_type": "code",
   "execution_count": null,
   "id": "6421676b-611b-4a7f-9c2d-15af70eaac6e",
   "metadata": {},
   "outputs": [],
   "source": [
    "logistic_regression_oe_model.score(X_test, y_test)"
   ]
  },
  {
   "cell_type": "code",
   "execution_count": null,
   "id": "353d2c3f-ec5a-416d-8225-202127fa014f",
   "metadata": {},
   "outputs": [],
   "source": [
    "logistic_regression_oe_model.predict(X_test)[:5]"
   ]
  },
  {
   "cell_type": "code",
   "execution_count": null,
   "id": "e84eeabd-29a8-487c-b9c3-5a1f8fe48ad3",
   "metadata": {},
   "outputs": [],
   "source": [
    "from sklearn.model_selection import cross_validate\n",
    "start = time.process_time()\n",
    "cv_results_lrm_oe = cross_validate(logistic_regression_oe_model, X_train, y_train, cv=5)\n",
    "print(\"Test Scores for the Logistic Regression Model with 5-Fold Cross-Validation:\")\n",
    "print(cv_results_lrm_oe[\"test_score\"])\n",
    "scores = cv_results_lrm_oe[\"test_score\"]\n",
    "print(\"The Mean Cross-Validation Accuracy is: \"f\"{scores.mean():.3f} with Standard Deviation of +/- {scores.std():.3f}\")\n",
    "print(\"Total time taken: {:}\".format(time.process_time() - start))"
   ]
  },
  {
   "cell_type": "markdown",
   "id": "a7024a38-0ea4-4aed-82f2-3a264829938a",
   "metadata": {},
   "source": [
    "### Decision Tree Model (Without Pruning)"
   ]
  },
  {
   "cell_type": "code",
   "execution_count": null,
   "id": "c9f28fca-76c6-4f2c-8ec0-565e2de91ead",
   "metadata": {},
   "outputs": [],
   "source": [
    "from sklearn.tree import DecisionTreeClassifier\n",
    "\n",
    "categorical_columns_selector = selector(dtype_include=object)\n",
    "categorical_columns = categorical_columns_selector(data)\n",
    "\n",
    "categorical_preprocessor = OrdinalEncoder(handle_unknown=\"use_encoded_value\",\n",
    "                                          unknown_value=-1)\n",
    "preprocessor = ColumnTransformer([\n",
    "    ('cat_preprocessor', categorical_preprocessor, categorical_columns)],\n",
    "    remainder='passthrough', sparse_threshold=0)\n",
    "model_dt = make_pipeline(preprocessor, DecisionTreeClassifier(random_state=0, criterion='entropy'))\n",
    "X_train, X_test, y_train, y_test = train_test_split(\n",
    "    data, target, random_state=0, test_size=0.1)"
   ]
  },
  {
   "cell_type": "code",
   "execution_count": null,
   "id": "f479c6ea-b9ed-465e-9e0e-8ef44314e012",
   "metadata": {},
   "outputs": [],
   "source": [
    "from sklearn import set_config\n",
    "set_config(display='diagram')\n",
    "model_dt"
   ]
  },
  {
   "cell_type": "code",
   "execution_count": null,
   "id": "56c64216-7389-4787-bbb0-33167d5f0892",
   "metadata": {},
   "outputs": [],
   "source": [
    "%%time\n",
    "decision_tree_model_no_pruning = model_dt.fit(X_train, y_train)"
   ]
  },
  {
   "cell_type": "code",
   "execution_count": null,
   "id": "8cff82c0-13a0-4b9d-8b51-6408df478dd4",
   "metadata": {},
   "outputs": [],
   "source": [
    "decision_tree_model_no_pruning.score(X_test, y_test)"
   ]
  },
  {
   "cell_type": "code",
   "execution_count": null,
   "id": "63940992-ab2b-4f9c-ba4a-a911a137cf87",
   "metadata": {},
   "outputs": [],
   "source": [
    "decision_tree_model_no_pruning.predict(X_test)[:5]"
   ]
  },
  {
   "cell_type": "code",
   "execution_count": null,
   "id": "94de5023-8e71-423e-bcd6-f7f38d19e348",
   "metadata": {},
   "outputs": [],
   "source": [
    "start = time.process_time()\n",
    "cv_results_dtmnp = cross_validate(decision_tree_model_no_pruning, X_train, y_train, cv=5)\n",
    "print(\"Test Scores for the Decision Tree Model with 5-Fold Cross-Validation:\")\n",
    "print(cv_results_dtmnp[\"test_score\"])\n",
    "scores = cv_results_dtmnp[\"test_score\"]\n",
    "print(\"The Mean Cross-Validation Accuracy is: \"f\"{scores.mean():.3f} with Standard Deviation of +/- {scores.std():.3f}\")\n",
    "print(\"Total time taken: {:}\".format(time.process_time() - start))"
   ]
  },
  {
   "cell_type": "markdown",
   "id": "b90146ca-63ee-4b07-86ca-046628ae0470",
   "metadata": {},
   "source": [
    "### Pruning decision trees with cost complexity pruning and analysing results\n",
    "Total impurity of leaves vs effective alphas of pruned tree\n",
    "Minimal cost complexity pruning recursively finds the node with the “weakest link”. The weakest link is characterized by an effective alpha, where the nodes with the smallest effective alpha are pruned first. To get an idea of what values of ccp_alpha could be appropriate, scikit-learn provides DecisionTreeClassifier.cost_complexity_pruning_path that returns the effective alphas and the corresponding total leaf impurities at each step of the pruning process. As alpha increases, more of the tree is pruned, which increases the total impurity of its leaves."
   ]
  },
  {
   "cell_type": "code",
   "execution_count": null,
   "id": "9c0b8421-fa14-4049-afb8-93e834f0e3b0",
   "metadata": {},
   "outputs": [],
   "source": [
    "X_train, X_test, y_train, y_test = train_test_split(\n",
    "    data_numerical_all_features, target, random_state=0, test_size=0.1)\n",
    "classifier = DecisionTreeClassifier(random_state=0, criterion= \"entropy\")\n",
    "classifier.fit(X_train, y_train)\n",
    "path = classifier.cost_complexity_pruning_path(X_train, y_train)\n",
    "ccp_alphas, impurities = path.ccp_alphas, path.impurities"
   ]
  },
  {
   "cell_type": "markdown",
   "id": "926b7a94-577d-4e0a-9b70-7a272ca75a2e",
   "metadata": {},
   "source": [
    "In the following plot, the maximum effective alpha value is removed, because it is the trivial tree with only one node."
   ]
  },
  {
   "cell_type": "code",
   "execution_count": null,
   "id": "eba33d57-2254-40e1-b613-17222f8edbd6",
   "metadata": {},
   "outputs": [],
   "source": [
    "fig, ax = plt.subplots()\n",
    "ax.plot(ccp_alphas[:], impurities[:], marker=\"o\", drawstyle=\"steps-post\")\n",
    "ax.set_xlabel(\"effective alpha\")\n",
    "ax.set_ylabel(\"total impurity of leaves\")\n",
    "ax.set_title(\"Total Impurity vs effective alpha for training set\")"
   ]
  },
  {
   "cell_type": "markdown",
   "id": "89d185a6-2e1b-4736-8150-a47772db7d5c",
   "metadata": {},
   "source": [
    "Next, we train a decision tree using the effective alphas. The last value in ccp_alphas is the alpha value that prunes the whole tree, leaving the tree, clfs[-1], with one node."
   ]
  },
  {
   "cell_type": "code",
   "execution_count": null,
   "id": "23b09ece-a762-42b8-a580-54aa0da37414",
   "metadata": {},
   "outputs": [],
   "source": [
    "classifiers = []\n",
    "for ccp_alpha in ccp_alphas:\n",
    "    classifier = DecisionTreeClassifier(random_state=0, criterion=\"entropy\", ccp_alpha=ccp_alpha)\n",
    "    classifier.fit(X_train, y_train)\n",
    "    classifiers.append(classifier)\n",
    "print(\n",
    "    \"Number of nodes in the last tree is: {} with ccp_alpha: {}\".format(\n",
    "        classifiers[-1].tree_.node_count, ccp_alphas[-1]\n",
    "    )\n",
    ")"
   ]
  },
  {
   "cell_type": "markdown",
   "id": "530fef07-cb31-446f-9a89-770ba6e1e409",
   "metadata": {},
   "source": [
    "For the remainder of this example, we remove the last element in clfs and ccp_alphas, because it is the trivial tree with only one node. Here we show that the number of nodes and tree depth decreases as alpha increases."
   ]
  },
  {
   "cell_type": "code",
   "execution_count": null,
   "id": "38b7f200-9db3-4fa5-b297-64884230a2ae",
   "metadata": {},
   "outputs": [],
   "source": [
    "#classifiers = classifiers[:-1]\n",
    "#ccp_alphas = ccp_alphas[:-1]\n",
    "\n",
    "node_counts = [classifier.tree_.node_count for classifier in classifiers]\n",
    "depth = [classifier.tree_.max_depth for classifier in classifiers]\n",
    "fig, ax = plt.subplots(2, 1)\n",
    "ax[0].plot(ccp_alphas, node_counts, marker=\"o\", drawstyle=\"steps-post\")\n",
    "ax[0].set_xlabel(\"alpha\")\n",
    "ax[0].set_ylabel(\"number of nodes\")\n",
    "ax[0].set_title(\"Number of nodes vs alpha\")\n",
    "ax[1].plot(ccp_alphas, depth, marker=\"o\", drawstyle=\"steps-post\")\n",
    "ax[1].set_xlabel(\"alpha\")\n",
    "ax[1].set_ylabel(\"depth of tree\")\n",
    "ax[1].set_title(\"Depth vs alpha\")\n",
    "#ax[1].set_yscale(\"log\")\n",
    "#ax[1].set_xscale(\"log\")\n",
    "fig.tight_layout()"
   ]
  },
  {
   "cell_type": "markdown",
   "id": "e8f510ae-3864-4b20-9a78-ad2f1982e626",
   "metadata": {},
   "source": [
    "Accuracy vs alpha for training and testing sets\n",
    "When ccp_alpha is set to zero and keeping the other default parameters of DecisionTreeClassifier, the tree overfits, leading to a 100% training accuracy and 88% testing accuracy. As alpha increases, more of the tree is pruned, thus creating a decision tree that generalizes better. In this example, setting ccp_alpha=0.015 maximizes the testing accuracy."
   ]
  },
  {
   "cell_type": "code",
   "execution_count": null,
   "id": "12fe336f-724f-4b27-93ac-b2c84aaaeba5",
   "metadata": {},
   "outputs": [],
   "source": [
    "train_scores = [classifier.score(X_train, y_train) for classifier in classifiers]\n",
    "test_scores = [classifier.score(X_test, y_test) for classifier in classifiers]\n",
    "\n",
    "fig, ax = plt.subplots()\n",
    "ax.set_xlabel(\"alpha\")\n",
    "ax.set_ylabel(\"accuracy\")\n",
    "ax.set_title(\"Accuracy vs alpha for training and testing sets\")\n",
    "ax.plot(ccp_alphas, train_scores, marker=\"o\", label=\"train\", drawstyle=\"steps-post\")\n",
    "ax.plot(ccp_alphas, test_scores, marker=\"o\", label=\"test\", drawstyle=\"steps-post\")\n",
    "ax.legend()\n",
    "plt.show()"
   ]
  },
  {
   "cell_type": "code",
   "execution_count": null,
   "id": "95390c17-ceae-4eeb-8e0d-3777f4b3bc10",
   "metadata": {},
   "outputs": [],
   "source": [
    "train_scores = [classifier.score(X_train, y_train) for classifier in classifiers]\n",
    "test_scores = [classifier.score(X_test, y_test) for classifier in classifiers]\n",
    "node_counts = [classifier.tree_.node_count for classifier in classifiers]\n",
    "fig, ax = plt.subplots()\n",
    "ax.set_xlabel(\"total no. of nodes\")\n",
    "ax.set_ylabel(\"accuracy\")\n",
    "ax.set_title(\"Accuracy vs Total no.of nodes for training and testing sets\")\n",
    "ax.plot(node_counts, train_scores, marker=\"o\", label=\"train\", drawstyle=\"steps-post\")\n",
    "ax.plot(node_counts, test_scores, marker=\"o\", label=\"test\", drawstyle=\"steps-post\")\n",
    "ax.legend()\n",
    "plt.show()"
   ]
  },
  {
   "cell_type": "code",
   "execution_count": null,
   "id": "62e26964-3188-4e0e-8a54-bf3582d00fbd",
   "metadata": {},
   "outputs": [],
   "source": [
    "train_scores = [classifier.score(X_train, y_train) for classifier in classifiers]\n",
    "test_scores = [classifier.score(X_test, y_test) for classifier in classifiers]\n",
    "depth = [classifier.tree_.max_depth for classifier in classifiers]\n",
    "fig, ax = plt.subplots()\n",
    "ax.set_xlabel(\"tree depth\")\n",
    "ax.set_ylabel(\"accuracy\")\n",
    "ax.set_title(\"Accuracy vs Tree depth for training and testing sets\")\n",
    "ax.plot(depth, train_scores, marker=\"o\", label=\"train\", drawstyle=\"steps-post\")\n",
    "ax.plot(depth, test_scores, marker=\"o\", label=\"test\", drawstyle=\"steps-post\")\n",
    "ax.legend()\n",
    "plt.show()"
   ]
  },
  {
   "cell_type": "code",
   "execution_count": null,
   "id": "66e6175a-ca3b-429e-add7-f4c832cbc6ba",
   "metadata": {},
   "outputs": [],
   "source": [
    "test_scores = np.asarray(test_scores)\n",
    "test_scores.shape"
   ]
  },
  {
   "cell_type": "code",
   "execution_count": null,
   "id": "e696afb0-22cc-44da-9fe3-b3d9c4142c24",
   "metadata": {},
   "outputs": [],
   "source": [
    "print(np.concatenate((ccp_alphas.reshape(len(ccp_alphas),1), test_scores.reshape(len(test_scores),1)),1))"
   ]
  },
  {
   "cell_type": "markdown",
   "id": "d646c1b4-f49d-4991-8a11-aacf21265cad",
   "metadata": {},
   "source": [
    "### Tuning for Best Pruning Parameters with randomized-search"
   ]
  },
  {
   "cell_type": "code",
   "execution_count": null,
   "id": "35296cf4-4814-4791-bb19-be2c1ead7fec",
   "metadata": {},
   "outputs": [],
   "source": [
    "from scipy.stats import loguniform\n",
    "\n",
    "\n",
    "class loguniform_int:\n",
    "    \"\"\"Integer valued version of the log-uniform distribution\"\"\"\n",
    "    def __init__(self, a, b):\n",
    "        self._distribution = loguniform(a, b)\n",
    "\n",
    "    def rvs(self, *args, **kwargs):\n",
    "        \"\"\"Random variable sample\"\"\"\n",
    "        return self._distribution.rvs(*args, **kwargs).astype(int)\n",
    "\n",
    "from scipy.stats import uniform\n",
    "class uniform_int:\n",
    "    \"\"\"Integer valued version of the log-uniform distribution\"\"\"\n",
    "    def __init__(self, a, b):\n",
    "        self._distribution = uniform(a, b)\n",
    "\n",
    "    def rvs(self, *args, **kwargs):\n",
    "        \"\"\"Random variable sample\"\"\"\n",
    "        return self._distribution.rvs(*args, **kwargs).astype(int)"
   ]
  },
  {
   "cell_type": "code",
   "execution_count": null,
   "id": "41882ab0-9071-4cdb-bedf-e4cee862ca55",
   "metadata": {},
   "outputs": [],
   "source": [
    "from sklearn.tree import DecisionTreeClassifier\n",
    "\n",
    "categorical_columns_selector = selector(dtype_include=object)\n",
    "categorical_columns = categorical_columns_selector(data)\n",
    "\n",
    "categorical_preprocessor = OrdinalEncoder(handle_unknown=\"use_encoded_value\",\n",
    "                                          unknown_value=-1)\n",
    "preprocessor = ColumnTransformer([\n",
    "    ('cat_preprocessor', categorical_preprocessor, categorical_columns)],\n",
    "    remainder='passthrough', sparse_threshold=0)"
   ]
  },
  {
   "cell_type": "code",
   "execution_count": null,
   "id": "ec60b8a1-b942-4855-95f5-80fbca528cfb",
   "metadata": {},
   "outputs": [],
   "source": [
    "from sklearn.pipeline import Pipeline\n",
    "\n",
    "model_dtpp = Pipeline([\n",
    "    (\"preprocessor\", preprocessor),\n",
    "    (\"classifier\", DecisionTreeClassifier(criterion= \"entropy\", random_state=0)),\n",
    "])\n"
   ]
  },
  {
   "cell_type": "code",
   "execution_count": null,
   "id": "10c7181a-5298-430a-b68a-0a8c5758080c",
   "metadata": {},
   "outputs": [],
   "source": [
    "from sklearn import set_config\n",
    "set_config(display='diagram')\n",
    "model_dtpp"
   ]
  },
  {
   "cell_type": "code",
   "execution_count": null,
   "id": "bfddae54-6ec2-4532-b199-40cf74835afd",
   "metadata": {
    "tags": []
   },
   "outputs": [],
   "source": [
    "%%time\n",
    "from sklearn.model_selection import RandomizedSearchCV\n",
    "\n",
    "param_distributions = {\n",
    "    'classifier__ccp_alpha': uniform(0.005, 0.02),\n",
    "    'classifier__max_depth': loguniform_int(5, 11),\n",
    "    'classifier__max_leaf_nodes': loguniform_int(34, 76),\n",
    "}\n",
    "\n",
    "model_random_search_dtpp = RandomizedSearchCV(\n",
    "    model_dtpp, param_distributions=param_distributions, n_iter=2000,\n",
    "    cv=5, verbose=1, random_state =0\n",
    ")\n",
    "model_random_search_dtpp.fit(X_train, y_train)"
   ]
  },
  {
   "cell_type": "code",
   "execution_count": null,
   "id": "db8cdd42-ffe4-443c-a86f-85402aa201c0",
   "metadata": {},
   "outputs": [],
   "source": [
    "accuracy = model_random_search_dtpp.score(X_test, y_test)\n",
    "\n",
    "print(f\"The test accuracy score of the best model is \"\n",
    "      f\"{accuracy:.2f}\")"
   ]
  },
  {
   "cell_type": "code",
   "execution_count": null,
   "id": "7be4bfdf-6a0b-4781-b547-a6bea31a6a5f",
   "metadata": {},
   "outputs": [],
   "source": [
    "from pprint import pprint\n",
    "\n",
    "print(\"The best parameters are:\")\n",
    "pprint(model_random_search_dtpp.best_params_)"
   ]
  },
  {
   "cell_type": "markdown",
   "id": "693fb2b6-2e7c-4cf6-b22e-a82da6fd1ee9",
   "metadata": {
    "lines_to_next_cell": 2
   },
   "source": [
    "\n",
    "We can inspect the results using the attributes `cv_results` as we did\n",
    "previously."
   ]
  },
  {
   "cell_type": "code",
   "execution_count": null,
   "id": "9b7bb54f-e03b-451f-98ec-51da1e2323c1",
   "metadata": {
    "tags": []
   },
   "outputs": [],
   "source": [
    "# get the parameter names\n",
    "column_results = [\n",
    "    f\"param_{name}\" for name in param_distributions.keys()]\n",
    "column_results += [\n",
    "    \"mean_test_score\", \"std_test_score\", \"rank_test_score\"]\n",
    "\n",
    "cv_results = pd.DataFrame(model_random_search_dtpp.cv_results_)\n",
    "cv_results = cv_results[column_results].sort_values(\n",
    "    \"mean_test_score\", ascending=False)\n",
    "\n",
    "def shorten_param(param_name):\n",
    "    if \"__\" in param_name:\n",
    "        return param_name.rsplit(\"__\", 1)[1]\n",
    "    return param_name\n",
    "\n",
    "cv_results = cv_results.rename(shorten_param, axis=1)\n",
    "cv_results.head(200)"
   ]
  },
  {
   "cell_type": "code",
   "execution_count": null,
   "id": "d8ff7d7a-95aa-481f-a8d0-64ee6c7e3fab",
   "metadata": {},
   "outputs": [],
   "source": [
    "def shorten_param(param_name):\n",
    "    if \"__\" in param_name:\n",
    "        return param_name.rsplit(\"__\", 1)[1]\n",
    "    return param_name\n",
    "\n",
    "cv_results = cv_results.rename(shorten_param, axis=1)\n",
    "cv_results"
   ]
  },
  {
   "cell_type": "code",
   "execution_count": null,
   "id": "fd9449c5-8506-4799-b49d-9247ccd8c11c",
   "metadata": {},
   "outputs": [],
   "source": [
    "import seaborn as sns\n",
    "\n",
    "df_tuning = pd.DataFrame(\n",
    "    {\n",
    "        \"max_leaf_nodes\": cv_results[\"max_leaf_nodes\"],\n",
    "        \"ccp_alpha\": cv_results[\"ccp_alpha\"],\n",
    "        \"score_bin\": pd.cut(\n",
    "            cv_results[\"mean_test_score\"], bins=np.linspace(0.832296, 0.847970, 7)\n",
    "        ),\n",
    "    }\n",
    ")\n",
    "sns.set_palette(\"YlGnBu_r\")\n",
    "ax = sns.scatterplot(\n",
    "    data=df_tuning,\n",
    "    x=\"ccp_alpha\",\n",
    "    y=\"max_leaf_nodes\",\n",
    "    hue=\"score_bin\",\n",
    "    s=28,\n",
    "    color=\"k\",\n",
    "    edgecolor=None,\n",
    ")\n",
    "#ax.set_xscale(\"log\")\n",
    "#ax.set_yscale(\"log\")\n",
    "\n",
    "_ = ax.legend(title=\"mean_test_score\", loc=\"center left\", bbox_to_anchor=(1, 0.5))"
   ]
  },
  {
   "cell_type": "code",
   "execution_count": null,
   "id": "9dff0902-e9fa-4ee0-ba2b-a26ec12b9011",
   "metadata": {},
   "outputs": [],
   "source": [
    "import seaborn as sns\n",
    "\n",
    "df_tuning = pd.DataFrame(\n",
    "    {\n",
    "        \"max_depth\": cv_results[\"max_depth\"],\n",
    "        \"ccp_alpha\": cv_results[\"ccp_alpha\"],\n",
    "        \"score_bin\": pd.cut(\n",
    "            cv_results[\"mean_test_score\"], bins=np.linspace(0.832296, 0.847970, 7)\n",
    "        ),\n",
    "    }\n",
    ")\n",
    "sns.set_palette(\"YlGnBu_r\")\n",
    "ax = sns.scatterplot(\n",
    "    data=df_tuning,\n",
    "    x=\"ccp_alpha\",\n",
    "    y=\"max_depth\",\n",
    "    hue=\"score_bin\",\n",
    "    s=15,\n",
    "    color=\"k\",\n",
    "    edgecolor=None,\n",
    ")\n",
    "#ax.set_xscale(\"log\")\n",
    "#ax.set_yscale(\"log\")\n",
    "\n",
    "_ = ax.legend(title=\"mean_test_score\", loc=\"center left\", bbox_to_anchor=(1, 0.5))"
   ]
  },
  {
   "cell_type": "code",
   "execution_count": null,
   "id": "e8a2c58b-ce7c-429a-b3ec-0248f3996451",
   "metadata": {},
   "outputs": [],
   "source": [
    "#pd.to_numeric(cv_results[\"max_depth\", \"ccp_alpha\", \"max_leaf_nodes\"]) \n",
    "cv_results[\"max_depth\"] = pd.to_numeric(cv_results[\"max_depth\"])\n",
    "cv_results[\"ccp_alpha\"] = pd.to_numeric(cv_results[\"ccp_alpha\"])\n",
    "cv_results[\"max_leaf_nodes\"] = pd.to_numeric(cv_results[\"max_leaf_nodes\"])\n",
    "cv_results.info()"
   ]
  },
  {
   "cell_type": "code",
   "execution_count": null,
   "id": "8f6cf6f4-c467-4048-9e08-6f2914092fdd",
   "metadata": {},
   "outputs": [],
   "source": [
    "cv_results_plot= cv_results.drop([\"std_test_score\"], axis=1)\n",
    "import plotly.express as px\n",
    "\n",
    "fig = px.parallel_coordinates(\n",
    "    cv_results_plot,\n",
    "    color=\"mean_test_score\",\n",
    "    color_continuous_scale=px.colors.sequential.Viridis,\n",
    ")\n",
    "fig.show()"
   ]
  },
  {
   "cell_type": "markdown",
   "id": "0c72abfa-d604-4194-a2a8-91fff3430874",
   "metadata": {},
   "source": [
    "### Final Decision Tree Model with Pruning"
   ]
  },
  {
   "cell_type": "code",
   "execution_count": null,
   "id": "3adde058-bc9a-4620-a3c9-00cd7ec19c4f",
   "metadata": {},
   "outputs": [],
   "source": [
    "model_dtp = make_pipeline(preprocessor, DecisionTreeClassifier(criterion='entropy', random_state=0, max_depth=8, max_leaf_nodes= 90, ccp_alpha=0.00667))"
   ]
  },
  {
   "cell_type": "code",
   "execution_count": null,
   "id": "47200636-f3af-4cdb-b751-88c22a135019",
   "metadata": {},
   "outputs": [],
   "source": [
    "from sklearn import set_config\n",
    "set_config(display='diagram')\n",
    "model_dtp"
   ]
  },
  {
   "cell_type": "code",
   "execution_count": null,
   "id": "ee7c0c51-0d09-4471-b079-eab5eb8a21e6",
   "metadata": {},
   "outputs": [],
   "source": [
    "%%time\n",
    "decision_tree_model_pruning = model_dtp.fit(X_train, y_train)"
   ]
  },
  {
   "cell_type": "code",
   "execution_count": null,
   "id": "d255e7d6-26b4-47cc-b04a-84a658d2f0a3",
   "metadata": {},
   "outputs": [],
   "source": [
    "decision_tree_model_pruning.score(X_test, y_test)"
   ]
  },
  {
   "cell_type": "code",
   "execution_count": null,
   "id": "817c13b2-050d-4509-ad96-39db5fc4d614",
   "metadata": {},
   "outputs": [],
   "source": [
    "start = time.process_time()\n",
    "cv_results_dtmp = cross_validate(decision_tree_model_pruning, X_train, y_train, cv=5)\n",
    "print(\"Test Scores for the Final Decision Tree Model (Pruning) with 5-Fold Cross-Validation:\")\n",
    "print(cv_results_dtmp[\"test_score\"])\n",
    "scores = cv_results_dtmp[\"test_score\"]\n",
    "print(\"The Mean Cross-Validation Accuracy is: \"f\"{scores.mean():.3f} with Standard Deviation of +/- {scores.std():.3f}\")\n",
    "print(\"Total time taken: {:}\".format(time.process_time() - start))"
   ]
  }
 ],
 "metadata": {
  "kernelspec": {
   "display_name": "Python 3 (ipykernel)",
   "language": "python",
   "name": "python3"
  },
  "language_info": {
   "codemirror_mode": {
    "name": "ipython",
    "version": 3
   },
   "file_extension": ".py",
   "mimetype": "text/x-python",
   "name": "python",
   "nbconvert_exporter": "python",
   "pygments_lexer": "ipython3",
   "version": "3.9.7"
  }
 },
 "nbformat": 4,
 "nbformat_minor": 5
}
